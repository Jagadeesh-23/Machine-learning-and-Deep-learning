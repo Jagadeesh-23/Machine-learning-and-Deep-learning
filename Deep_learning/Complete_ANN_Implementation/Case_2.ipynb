{
  "cells": [
    {
      "cell_type": "code",
      "execution_count": null,
      "metadata": {
        "id": "toZpD-QLL7pM"
      },
      "outputs": [],
      "source": [
        "import pandas as pd\n",
        "import numpy as np\n",
        "import matplotlib.pyplot as plt\n",
        "import seaborn as sns\n",
        "%matplotlib inline\n",
        "import plotly"
      ]
    },
    {
      "cell_type": "code",
      "execution_count": null,
      "metadata": {
        "id": "fNW0VvSVL7pP"
      },
      "outputs": [],
      "source": [
        "data= pd.read_excel(\"/content/Data_for_ANN_using_linspace_generalized_data.xlsx\")    # reading the dataset"
      ]
    },
    {
      "cell_type": "code",
      "execution_count": null,
      "metadata": {
        "id": "d-yauR-sL7pP"
      },
      "outputs": [],
      "source": [
        "data.columns=[\"x1\", \"x2\", \"x3\", \"x4\", \"Y\"]     # assigning of column names"
      ]
    },
    {
      "cell_type": "code",
      "execution_count": null,
      "metadata": {
        "id": "H6ige5OrL7pQ",
        "outputId": "0fdc82a1-7ca9-45b5-add1-617807dd036c",
        "colab": {
          "base_uri": "https://localhost:8080/",
          "height": 423
        }
      },
      "outputs": [
        {
          "output_type": "execute_result",
          "data": {
            "text/plain": [
              "            x1       x2       x3       x4              Y\n",
              "0     -20.0000 -19.9999 -19.9998 -19.9997 -124675.752602\n",
              "1     -19.9996 -19.9995 -19.9994 -19.9993 -124670.883061\n",
              "2     -19.9992 -19.9991 -19.9990 -19.9989 -124666.013615\n",
              "3     -19.9988 -19.9987 -19.9986 -19.9985 -124661.144264\n",
              "4     -19.9984 -19.9983 -19.9982 -19.9981 -124656.275008\n",
              "...        ...      ...      ...      ...            ...\n",
              "99995  19.9981  19.9982  19.9983  19.9984 -112896.116112\n",
              "99996  19.9985  19.9986  19.9987  19.9988 -112900.750143\n",
              "99997  19.9989  19.9990  19.9991  19.9992 -112905.384270\n",
              "99998  19.9993  19.9994  19.9995  19.9996 -112910.018491\n",
              "99999  19.9997  19.9998  19.9999  20.0000 -112914.652808\n",
              "\n",
              "[100000 rows x 5 columns]"
            ],
            "text/html": [
              "\n",
              "  <div id=\"df-3219a6bf-abf7-4125-9b68-29f72d7067e1\">\n",
              "    <div class=\"colab-df-container\">\n",
              "      <div>\n",
              "<style scoped>\n",
              "    .dataframe tbody tr th:only-of-type {\n",
              "        vertical-align: middle;\n",
              "    }\n",
              "\n",
              "    .dataframe tbody tr th {\n",
              "        vertical-align: top;\n",
              "    }\n",
              "\n",
              "    .dataframe thead th {\n",
              "        text-align: right;\n",
              "    }\n",
              "</style>\n",
              "<table border=\"1\" class=\"dataframe\">\n",
              "  <thead>\n",
              "    <tr style=\"text-align: right;\">\n",
              "      <th></th>\n",
              "      <th>x1</th>\n",
              "      <th>x2</th>\n",
              "      <th>x3</th>\n",
              "      <th>x4</th>\n",
              "      <th>Y</th>\n",
              "    </tr>\n",
              "  </thead>\n",
              "  <tbody>\n",
              "    <tr>\n",
              "      <th>0</th>\n",
              "      <td>-20.0000</td>\n",
              "      <td>-19.9999</td>\n",
              "      <td>-19.9998</td>\n",
              "      <td>-19.9997</td>\n",
              "      <td>-124675.752602</td>\n",
              "    </tr>\n",
              "    <tr>\n",
              "      <th>1</th>\n",
              "      <td>-19.9996</td>\n",
              "      <td>-19.9995</td>\n",
              "      <td>-19.9994</td>\n",
              "      <td>-19.9993</td>\n",
              "      <td>-124670.883061</td>\n",
              "    </tr>\n",
              "    <tr>\n",
              "      <th>2</th>\n",
              "      <td>-19.9992</td>\n",
              "      <td>-19.9991</td>\n",
              "      <td>-19.9990</td>\n",
              "      <td>-19.9989</td>\n",
              "      <td>-124666.013615</td>\n",
              "    </tr>\n",
              "    <tr>\n",
              "      <th>3</th>\n",
              "      <td>-19.9988</td>\n",
              "      <td>-19.9987</td>\n",
              "      <td>-19.9986</td>\n",
              "      <td>-19.9985</td>\n",
              "      <td>-124661.144264</td>\n",
              "    </tr>\n",
              "    <tr>\n",
              "      <th>4</th>\n",
              "      <td>-19.9984</td>\n",
              "      <td>-19.9983</td>\n",
              "      <td>-19.9982</td>\n",
              "      <td>-19.9981</td>\n",
              "      <td>-124656.275008</td>\n",
              "    </tr>\n",
              "    <tr>\n",
              "      <th>...</th>\n",
              "      <td>...</td>\n",
              "      <td>...</td>\n",
              "      <td>...</td>\n",
              "      <td>...</td>\n",
              "      <td>...</td>\n",
              "    </tr>\n",
              "    <tr>\n",
              "      <th>99995</th>\n",
              "      <td>19.9981</td>\n",
              "      <td>19.9982</td>\n",
              "      <td>19.9983</td>\n",
              "      <td>19.9984</td>\n",
              "      <td>-112896.116112</td>\n",
              "    </tr>\n",
              "    <tr>\n",
              "      <th>99996</th>\n",
              "      <td>19.9985</td>\n",
              "      <td>19.9986</td>\n",
              "      <td>19.9987</td>\n",
              "      <td>19.9988</td>\n",
              "      <td>-112900.750143</td>\n",
              "    </tr>\n",
              "    <tr>\n",
              "      <th>99997</th>\n",
              "      <td>19.9989</td>\n",
              "      <td>19.9990</td>\n",
              "      <td>19.9991</td>\n",
              "      <td>19.9992</td>\n",
              "      <td>-112905.384270</td>\n",
              "    </tr>\n",
              "    <tr>\n",
              "      <th>99998</th>\n",
              "      <td>19.9993</td>\n",
              "      <td>19.9994</td>\n",
              "      <td>19.9995</td>\n",
              "      <td>19.9996</td>\n",
              "      <td>-112910.018491</td>\n",
              "    </tr>\n",
              "    <tr>\n",
              "      <th>99999</th>\n",
              "      <td>19.9997</td>\n",
              "      <td>19.9998</td>\n",
              "      <td>19.9999</td>\n",
              "      <td>20.0000</td>\n",
              "      <td>-112914.652808</td>\n",
              "    </tr>\n",
              "  </tbody>\n",
              "</table>\n",
              "<p>100000 rows × 5 columns</p>\n",
              "</div>\n",
              "      <button class=\"colab-df-convert\" onclick=\"convertToInteractive('df-3219a6bf-abf7-4125-9b68-29f72d7067e1')\"\n",
              "              title=\"Convert this dataframe to an interactive table.\"\n",
              "              style=\"display:none;\">\n",
              "        \n",
              "  <svg xmlns=\"http://www.w3.org/2000/svg\" height=\"24px\"viewBox=\"0 0 24 24\"\n",
              "       width=\"24px\">\n",
              "    <path d=\"M0 0h24v24H0V0z\" fill=\"none\"/>\n",
              "    <path d=\"M18.56 5.44l.94 2.06.94-2.06 2.06-.94-2.06-.94-.94-2.06-.94 2.06-2.06.94zm-11 1L8.5 8.5l.94-2.06 2.06-.94-2.06-.94L8.5 2.5l-.94 2.06-2.06.94zm10 10l.94 2.06.94-2.06 2.06-.94-2.06-.94-.94-2.06-.94 2.06-2.06.94z\"/><path d=\"M17.41 7.96l-1.37-1.37c-.4-.4-.92-.59-1.43-.59-.52 0-1.04.2-1.43.59L10.3 9.45l-7.72 7.72c-.78.78-.78 2.05 0 2.83L4 21.41c.39.39.9.59 1.41.59.51 0 1.02-.2 1.41-.59l7.78-7.78 2.81-2.81c.8-.78.8-2.07 0-2.86zM5.41 20L4 18.59l7.72-7.72 1.47 1.35L5.41 20z\"/>\n",
              "  </svg>\n",
              "      </button>\n",
              "      \n",
              "  <style>\n",
              "    .colab-df-container {\n",
              "      display:flex;\n",
              "      flex-wrap:wrap;\n",
              "      gap: 12px;\n",
              "    }\n",
              "\n",
              "    .colab-df-convert {\n",
              "      background-color: #E8F0FE;\n",
              "      border: none;\n",
              "      border-radius: 50%;\n",
              "      cursor: pointer;\n",
              "      display: none;\n",
              "      fill: #1967D2;\n",
              "      height: 32px;\n",
              "      padding: 0 0 0 0;\n",
              "      width: 32px;\n",
              "    }\n",
              "\n",
              "    .colab-df-convert:hover {\n",
              "      background-color: #E2EBFA;\n",
              "      box-shadow: 0px 1px 2px rgba(60, 64, 67, 0.3), 0px 1px 3px 1px rgba(60, 64, 67, 0.15);\n",
              "      fill: #174EA6;\n",
              "    }\n",
              "\n",
              "    [theme=dark] .colab-df-convert {\n",
              "      background-color: #3B4455;\n",
              "      fill: #D2E3FC;\n",
              "    }\n",
              "\n",
              "    [theme=dark] .colab-df-convert:hover {\n",
              "      background-color: #434B5C;\n",
              "      box-shadow: 0px 1px 3px 1px rgba(0, 0, 0, 0.15);\n",
              "      filter: drop-shadow(0px 1px 2px rgba(0, 0, 0, 0.3));\n",
              "      fill: #FFFFFF;\n",
              "    }\n",
              "  </style>\n",
              "\n",
              "      <script>\n",
              "        const buttonEl =\n",
              "          document.querySelector('#df-3219a6bf-abf7-4125-9b68-29f72d7067e1 button.colab-df-convert');\n",
              "        buttonEl.style.display =\n",
              "          google.colab.kernel.accessAllowed ? 'block' : 'none';\n",
              "\n",
              "        async function convertToInteractive(key) {\n",
              "          const element = document.querySelector('#df-3219a6bf-abf7-4125-9b68-29f72d7067e1');\n",
              "          const dataTable =\n",
              "            await google.colab.kernel.invokeFunction('convertToInteractive',\n",
              "                                                     [key], {});\n",
              "          if (!dataTable) return;\n",
              "\n",
              "          const docLinkHtml = 'Like what you see? Visit the ' +\n",
              "            '<a target=\"_blank\" href=https://colab.research.google.com/notebooks/data_table.ipynb>data table notebook</a>'\n",
              "            + ' to learn more about interactive tables.';\n",
              "          element.innerHTML = '';\n",
              "          dataTable['output_type'] = 'display_data';\n",
              "          await google.colab.output.renderOutput(dataTable, element);\n",
              "          const docLink = document.createElement('div');\n",
              "          docLink.innerHTML = docLinkHtml;\n",
              "          element.appendChild(docLink);\n",
              "        }\n",
              "      </script>\n",
              "    </div>\n",
              "  </div>\n",
              "  "
            ]
          },
          "metadata": {},
          "execution_count": 4
        }
      ],
      "source": [
        "data"
      ]
    },
    {
      "cell_type": "code",
      "execution_count": null,
      "metadata": {
        "id": "gMwcE7q9L7pQ"
      },
      "outputs": [],
      "source": [
        "from sklearn.preprocessing import MinMaxScaler\n",
        "scaler= MinMaxScaler()        # Here minmaxscaler is one of technique which can be used for Normalizing the data to same scale\n",
        "scaled_data= scaler.fit_transform(data.values) # output form: array"
      ]
    },
    {
      "cell_type": "code",
      "execution_count": null,
      "metadata": {
        "id": "Bi-GLzEyL7pQ",
        "outputId": "2aa398e9-93e4-4ec8-f8d1-7b51adcf731b",
        "colab": {
          "base_uri": "https://localhost:8080/"
        }
      },
      "outputs": [
        {
          "output_type": "execute_result",
          "data": {
            "text/plain": [
              "array([[0.00000000e+00, 0.00000000e+00, 0.00000000e+00, 0.00000000e+00,\n",
              "        0.00000000e+00],\n",
              "       [1.00001000e-05, 1.00001000e-05, 1.00001000e-05, 1.00001000e-05,\n",
              "        3.90339140e-05],\n",
              "       [2.00002000e-05, 2.00002000e-05, 2.00002000e-05, 2.00002000e-05,\n",
              "        7.80670662e-05],\n",
              "       ...,\n",
              "       [9.99980000e-01, 9.99980000e-01, 9.99980000e-01, 9.99980000e-01,\n",
              "        9.43504851e-02],\n",
              "       [9.99990000e-01, 9.99990000e-01, 9.99990000e-01, 9.99990000e-01,\n",
              "        9.43133375e-02],\n",
              "       [1.00000000e+00, 1.00000000e+00, 1.00000000e+00, 1.00000000e+00,\n",
              "        9.42761891e-02]])"
            ]
          },
          "metadata": {},
          "execution_count": 6
        }
      ],
      "source": [
        "scaled_data"
      ]
    },
    {
      "cell_type": "code",
      "execution_count": null,
      "metadata": {
        "id": "6GBLCnpvL7pQ",
        "outputId": "11203694-3ee5-4774-db6d-4425d76e401e",
        "colab": {
          "base_uri": "https://localhost:8080/"
        }
      },
      "outputs": [
        {
          "output_type": "execute_result",
          "data": {
            "text/plain": [
              "(100000, 5)"
            ]
          },
          "metadata": {},
          "execution_count": 7
        }
      ],
      "source": [
        "scaled_data.shape"
      ]
    },
    {
      "cell_type": "code",
      "execution_count": null,
      "metadata": {
        "id": "uJfvj7kzL7pR"
      },
      "outputs": [],
      "source": [
        "X= scaled_data[:, 0:4]\n",
        "Y= scaled_data[:, 4]          # slicing of required input and output"
      ]
    },
    {
      "cell_type": "code",
      "execution_count": null,
      "metadata": {
        "id": "PE26nC40L7pR",
        "outputId": "05ece9b9-55d3-4111-cc08-c2d0e8ca70ce",
        "colab": {
          "base_uri": "https://localhost:8080/"
        }
      },
      "outputs": [
        {
          "output_type": "execute_result",
          "data": {
            "text/plain": [
              "array([[0.00000e+00, 0.00000e+00, 0.00000e+00, 0.00000e+00],\n",
              "       [1.00001e-05, 1.00001e-05, 1.00001e-05, 1.00001e-05],\n",
              "       [2.00002e-05, 2.00002e-05, 2.00002e-05, 2.00002e-05],\n",
              "       ...,\n",
              "       [9.99980e-01, 9.99980e-01, 9.99980e-01, 9.99980e-01],\n",
              "       [9.99990e-01, 9.99990e-01, 9.99990e-01, 9.99990e-01],\n",
              "       [1.00000e+00, 1.00000e+00, 1.00000e+00, 1.00000e+00]])"
            ]
          },
          "metadata": {},
          "execution_count": 9
        }
      ],
      "source": [
        "X"
      ]
    },
    {
      "cell_type": "code",
      "execution_count": null,
      "metadata": {
        "id": "BlZl8CGYL7pR",
        "outputId": "724c2f35-161e-4842-8649-1f7330a28240",
        "colab": {
          "base_uri": "https://localhost:8080/"
        }
      },
      "outputs": [
        {
          "output_type": "execute_result",
          "data": {
            "text/plain": [
              "array([0.00000000e+00, 3.90339140e-05, 7.80670662e-05, ...,\n",
              "       9.43504851e-02, 9.43133375e-02, 9.42761891e-02])"
            ]
          },
          "metadata": {},
          "execution_count": 10
        }
      ],
      "source": [
        "Y"
      ]
    },
    {
      "cell_type": "code",
      "execution_count": null,
      "metadata": {
        "id": "pk_G09WnL7pR"
      },
      "outputs": [],
      "source": [
        "from sklearn.model_selection import train_test_split    # import of train_test_split"
      ]
    },
    {
      "cell_type": "code",
      "execution_count": null,
      "metadata": {
        "id": "qpofZkm8L7pS"
      },
      "outputs": [],
      "source": [
        "# In the first step we will split the data in training and remaining dataset\n",
        "X_train, X_rem, y_train, y_rem = train_test_split(X,Y, train_size=0.5)     # train_size= 70%----->7000 training samples\n"
      ]
    },
    {
      "cell_type": "code",
      "execution_count": null,
      "metadata": {
        "id": "uZsQheJqL7pS"
      },
      "outputs": [],
      "source": [
        "X_valid, X_test, y_valid, y_test = train_test_split(X_rem,y_rem, test_size= 0.5)    # test_size==15% ----> 2550 training samples"
      ]
    },
    {
      "cell_type": "code",
      "execution_count": null,
      "metadata": {
        "id": "YMTNSDrdL7pS",
        "outputId": "a2ffd9bd-1af7-41c1-fb74-6c94d1ef326e",
        "colab": {
          "base_uri": "https://localhost:8080/"
        }
      },
      "outputs": [
        {
          "output_type": "stream",
          "name": "stdout",
          "text": [
            "(50000, 4)\n",
            "(50000,)\n",
            "(25000, 4)\n",
            "(25000,)\n",
            "(25000, 4)\n",
            "(25000,)\n"
          ]
        },
        {
          "output_type": "execute_result",
          "data": {
            "text/plain": [
              "(None, None)"
            ]
          },
          "metadata": {},
          "execution_count": 14
        }
      ],
      "source": [
        "print(X_train.shape), print(y_train.shape)\n",
        "print(X_valid.shape), print(y_valid.shape)          # shapes of each set of splitted data\n",
        "print(X_test.shape), print(y_test.shape)"
      ]
    },
    {
      "cell_type": "markdown",
      "metadata": {
        "id": "gR893t1jL7pa"
      },
      "source": [
        "# Adam Model case 2"
      ]
    },
    {
      "cell_type": "code",
      "execution_count": null,
      "metadata": {
        "id": "ulZ-1Tg_L7pa"
      },
      "outputs": [],
      "source": [
        "from tensorflow import keras    \n",
        "\n",
        "def create_nn():     #function of NN model creation\n",
        "    # Input layer\n",
        "    inputs = keras.Input(shape=(X.shape[1],), name='input')      # Since n= 4,  in input layer shape= 4--->X.shape[1]\n",
        "\n",
        "    # Dense layers                                              # hidden layers\n",
        "    layers_dense = keras.layers.Dense(64, 'linear')(inputs)          # here 20(nodes) --->units    # Activation_function -->sigmoid\n",
        "    layers_dense = keras.layers.Dense(128, 'relu')(layers_dense)  \n",
        "    layers_dense = keras.layers.Dense(128, 'relu')(layers_dense)\n",
        "    layers_dense = keras.layers.Dense(1, 'linear')(layers_dense)    \n",
        "    \n",
        "    # Output layer\n",
        "    outputs = keras.layers.Dense(1)(layers_dense)              # only one node for output layer\n",
        "\n",
        "    return keras.Model(inputs=inputs, outputs=outputs, name=\"Prediction\")\n",
        "\n",
        "model = create_nn()"
      ]
    },
    {
      "cell_type": "code",
      "execution_count": null,
      "metadata": {
        "id": "G_3xrLumL7pa",
        "outputId": "33fb1ded-8eba-43a0-98e0-f0be0df87988",
        "colab": {
          "base_uri": "https://localhost:8080/"
        }
      },
      "outputs": [
        {
          "output_type": "stream",
          "name": "stdout",
          "text": [
            "Model: \"Prediction\"\n",
            "_________________________________________________________________\n",
            " Layer (type)                Output Shape              Param #   \n",
            "=================================================================\n",
            " input (InputLayer)          [(None, 4)]               0         \n",
            "                                                                 \n",
            " dense (Dense)               (None, 64)                320       \n",
            "                                                                 \n",
            " dense_1 (Dense)             (None, 128)               8320      \n",
            "                                                                 \n",
            " dense_2 (Dense)             (None, 128)               16512     \n",
            "                                                                 \n",
            " dense_3 (Dense)             (None, 1)                 129       \n",
            "                                                                 \n",
            " dense_4 (Dense)             (None, 1)                 2         \n",
            "                                                                 \n",
            "=================================================================\n",
            "Total params: 25,283\n",
            "Trainable params: 25,283\n",
            "Non-trainable params: 0\n",
            "_________________________________________________________________\n"
          ]
        }
      ],
      "source": [
        "model.summary()      # return the summary of all layers of model"
      ]
    },
    {
      "cell_type": "code",
      "execution_count": null,
      "metadata": {
        "id": "Gp4PJQEQL7pa"
      },
      "outputs": [],
      "source": [
        "def compile_model(model):\n",
        "    model.compile(optimizer='adam',\n",
        "                  loss='mse',      #mse---> mean square error\n",
        "                  metrics=[keras.metrics.RootMeanSquaredError()])\n",
        "compile_model(model)"
      ]
    },
    {
      "cell_type": "code",
      "execution_count": null,
      "metadata": {
        "id": "YLHP-HU4L7pb",
        "outputId": "3980589b-d9b0-4516-e042-bb823db3a9f7",
        "colab": {
          "base_uri": "https://localhost:8080/"
        }
      },
      "outputs": [
        {
          "output_type": "stream",
          "name": "stdout",
          "text": [
            "Epoch 1/150\n",
            "1563/1563 [==============================] - 4s 2ms/step - loss: 0.0123 - root_mean_squared_error: 0.1111\n",
            "Epoch 2/150\n",
            "1563/1563 [==============================] - 3s 2ms/step - loss: 3.2795e-05 - root_mean_squared_error: 0.0057\n",
            "Epoch 3/150\n",
            "1563/1563 [==============================] - 3s 2ms/step - loss: 4.8349e-05 - root_mean_squared_error: 0.0070\n",
            "Epoch 4/150\n",
            "1563/1563 [==============================] - 3s 2ms/step - loss: 5.6135e-05 - root_mean_squared_error: 0.0075\n",
            "Epoch 5/150\n",
            "1563/1563 [==============================] - 4s 2ms/step - loss: 1.1506e-05 - root_mean_squared_error: 0.0034\n",
            "Epoch 6/150\n",
            "1563/1563 [==============================] - 6s 4ms/step - loss: 2.9822e-05 - root_mean_squared_error: 0.0055\n",
            "Epoch 7/150\n",
            "1563/1563 [==============================] - 3s 2ms/step - loss: 3.6138e-05 - root_mean_squared_error: 0.0060\n",
            "Epoch 8/150\n",
            "1563/1563 [==============================] - 3s 2ms/step - loss: 2.4596e-05 - root_mean_squared_error: 0.0050\n",
            "Epoch 9/150\n",
            "1563/1563 [==============================] - 3s 2ms/step - loss: 2.8618e-05 - root_mean_squared_error: 0.0053\n",
            "Epoch 10/150\n",
            "1563/1563 [==============================] - 3s 2ms/step - loss: 2.0217e-05 - root_mean_squared_error: 0.0045\n",
            "Epoch 11/150\n",
            "1563/1563 [==============================] - 3s 2ms/step - loss: 3.8362e-05 - root_mean_squared_error: 0.0062\n",
            "Epoch 12/150\n",
            "1563/1563 [==============================] - 3s 2ms/step - loss: 2.4540e-05 - root_mean_squared_error: 0.0050\n",
            "Epoch 13/150\n",
            "1563/1563 [==============================] - 3s 2ms/step - loss: 2.1000e-05 - root_mean_squared_error: 0.0046\n",
            "Epoch 14/150\n",
            "1563/1563 [==============================] - 3s 2ms/step - loss: 2.9595e-05 - root_mean_squared_error: 0.0054\n",
            "Epoch 15/150\n",
            "1563/1563 [==============================] - 3s 2ms/step - loss: 1.7448e-05 - root_mean_squared_error: 0.0042\n",
            "Epoch 16/150\n",
            "1563/1563 [==============================] - 3s 2ms/step - loss: 2.1980e-05 - root_mean_squared_error: 0.0047\n",
            "Epoch 17/150\n",
            "1563/1563 [==============================] - 3s 2ms/step - loss: 1.2853e-05 - root_mean_squared_error: 0.0036\n",
            "Epoch 18/150\n",
            "1563/1563 [==============================] - 3s 2ms/step - loss: 2.1551e-05 - root_mean_squared_error: 0.0046\n",
            "Epoch 19/150\n",
            "1563/1563 [==============================] - 5s 3ms/step - loss: 1.7997e-05 - root_mean_squared_error: 0.0042\n",
            "Epoch 20/150\n",
            "1563/1563 [==============================] - 7s 5ms/step - loss: 1.6531e-05 - root_mean_squared_error: 0.0041\n",
            "Epoch 21/150\n",
            "1563/1563 [==============================] - 5s 3ms/step - loss: 1.6669e-05 - root_mean_squared_error: 0.0041\n",
            "Epoch 22/150\n",
            "1563/1563 [==============================] - 3s 2ms/step - loss: 2.2362e-05 - root_mean_squared_error: 0.0047\n",
            "Epoch 23/150\n",
            "1563/1563 [==============================] - 3s 2ms/step - loss: 9.0604e-06 - root_mean_squared_error: 0.0030\n",
            "Epoch 24/150\n",
            "1563/1563 [==============================] - 3s 2ms/step - loss: 1.5500e-05 - root_mean_squared_error: 0.0039\n",
            "Epoch 25/150\n",
            "1563/1563 [==============================] - 3s 2ms/step - loss: 9.5192e-06 - root_mean_squared_error: 0.0031\n",
            "Epoch 26/150\n",
            "1563/1563 [==============================] - 3s 2ms/step - loss: 1.7118e-05 - root_mean_squared_error: 0.0041\n",
            "Epoch 27/150\n",
            "1563/1563 [==============================] - 3s 2ms/step - loss: 1.0375e-05 - root_mean_squared_error: 0.0032\n",
            "Epoch 28/150\n",
            "1563/1563 [==============================] - 3s 2ms/step - loss: 2.2106e-05 - root_mean_squared_error: 0.0047\n",
            "Epoch 29/150\n",
            "1563/1563 [==============================] - 3s 2ms/step - loss: 7.8571e-06 - root_mean_squared_error: 0.0028\n",
            "Epoch 30/150\n",
            "1563/1563 [==============================] - 3s 2ms/step - loss: 1.6461e-05 - root_mean_squared_error: 0.0041\n",
            "Epoch 31/150\n",
            "1563/1563 [==============================] - 3s 2ms/step - loss: 8.4147e-06 - root_mean_squared_error: 0.0029\n",
            "Epoch 32/150\n",
            "1563/1563 [==============================] - 3s 2ms/step - loss: 1.7802e-05 - root_mean_squared_error: 0.0042\n",
            "Epoch 33/150\n",
            "1563/1563 [==============================] - 3s 2ms/step - loss: 6.4670e-06 - root_mean_squared_error: 0.0025\n",
            "Epoch 34/150\n",
            "1563/1563 [==============================] - 3s 2ms/step - loss: 2.1996e-05 - root_mean_squared_error: 0.0047\n",
            "Epoch 35/150\n",
            "1563/1563 [==============================] - 3s 2ms/step - loss: 5.1017e-06 - root_mean_squared_error: 0.0023\n",
            "Epoch 36/150\n",
            "1563/1563 [==============================] - 3s 2ms/step - loss: 1.0280e-05 - root_mean_squared_error: 0.0032\n",
            "Epoch 37/150\n",
            "1563/1563 [==============================] - 3s 2ms/step - loss: 6.5596e-06 - root_mean_squared_error: 0.0026\n",
            "Epoch 38/150\n",
            "1563/1563 [==============================] - 3s 2ms/step - loss: 1.5154e-05 - root_mean_squared_error: 0.0039\n",
            "Epoch 39/150\n",
            "1563/1563 [==============================] - 3s 2ms/step - loss: 9.0002e-06 - root_mean_squared_error: 0.0030\n",
            "Epoch 40/150\n",
            "1563/1563 [==============================] - 3s 2ms/step - loss: 1.4834e-05 - root_mean_squared_error: 0.0039\n",
            "Epoch 41/150\n",
            "1563/1563 [==============================] - 3s 2ms/step - loss: 9.1626e-06 - root_mean_squared_error: 0.0030\n",
            "Epoch 42/150\n",
            "1563/1563 [==============================] - 3s 2ms/step - loss: 1.7568e-05 - root_mean_squared_error: 0.0042\n",
            "Epoch 43/150\n",
            "1563/1563 [==============================] - 3s 2ms/step - loss: 6.3871e-06 - root_mean_squared_error: 0.0025\n",
            "Epoch 44/150\n",
            "1563/1563 [==============================] - 3s 2ms/step - loss: 1.6348e-05 - root_mean_squared_error: 0.0040\n",
            "Epoch 45/150\n",
            "1563/1563 [==============================] - 3s 2ms/step - loss: 8.4983e-06 - root_mean_squared_error: 0.0029\n",
            "Epoch 46/150\n",
            "1563/1563 [==============================] - 5s 3ms/step - loss: 8.3255e-06 - root_mean_squared_error: 0.0029\n",
            "Epoch 47/150\n",
            "1563/1563 [==============================] - 3s 2ms/step - loss: 8.2217e-06 - root_mean_squared_error: 0.0029\n",
            "Epoch 48/150\n",
            "1563/1563 [==============================] - 3s 2ms/step - loss: 8.3697e-06 - root_mean_squared_error: 0.0029\n",
            "Epoch 49/150\n",
            "1563/1563 [==============================] - 3s 2ms/step - loss: 1.0348e-05 - root_mean_squared_error: 0.0032\n",
            "Epoch 50/150\n",
            "1563/1563 [==============================] - 3s 2ms/step - loss: 7.4059e-06 - root_mean_squared_error: 0.0027\n",
            "Epoch 51/150\n",
            "1563/1563 [==============================] - 3s 2ms/step - loss: 7.0516e-06 - root_mean_squared_error: 0.0027\n",
            "Epoch 52/150\n",
            "1563/1563 [==============================] - 3s 2ms/step - loss: 9.3154e-06 - root_mean_squared_error: 0.0031\n",
            "Epoch 53/150\n",
            "1563/1563 [==============================] - 3s 2ms/step - loss: 7.2555e-06 - root_mean_squared_error: 0.0027\n",
            "Epoch 54/150\n",
            "1563/1563 [==============================] - 3s 2ms/step - loss: 5.4029e-06 - root_mean_squared_error: 0.0023\n",
            "Epoch 55/150\n",
            "1563/1563 [==============================] - 3s 2ms/step - loss: 8.5828e-06 - root_mean_squared_error: 0.0029\n",
            "Epoch 56/150\n",
            "1563/1563 [==============================] - 3s 2ms/step - loss: 8.7808e-06 - root_mean_squared_error: 0.0030\n",
            "Epoch 57/150\n",
            "1563/1563 [==============================] - 3s 2ms/step - loss: 5.2959e-06 - root_mean_squared_error: 0.0023\n",
            "Epoch 58/150\n",
            "1563/1563 [==============================] - 3s 2ms/step - loss: 6.4539e-06 - root_mean_squared_error: 0.0025\n",
            "Epoch 59/150\n",
            "1563/1563 [==============================] - 3s 2ms/step - loss: 8.7705e-06 - root_mean_squared_error: 0.0030\n",
            "Epoch 60/150\n",
            "1563/1563 [==============================] - 3s 2ms/step - loss: 6.6797e-06 - root_mean_squared_error: 0.0026\n",
            "Epoch 61/150\n",
            "1563/1563 [==============================] - 3s 2ms/step - loss: 7.0215e-06 - root_mean_squared_error: 0.0026\n",
            "Epoch 62/150\n",
            "1563/1563 [==============================] - 3s 2ms/step - loss: 7.1847e-06 - root_mean_squared_error: 0.0027\n",
            "Epoch 63/150\n",
            "1563/1563 [==============================] - 3s 2ms/step - loss: 1.1883e-05 - root_mean_squared_error: 0.0034\n",
            "Epoch 64/150\n",
            "1563/1563 [==============================] - 3s 2ms/step - loss: 3.9290e-06 - root_mean_squared_error: 0.0020\n",
            "Epoch 65/150\n",
            "1563/1563 [==============================] - 3s 2ms/step - loss: 8.6658e-06 - root_mean_squared_error: 0.0029\n",
            "Epoch 66/150\n",
            "1563/1563 [==============================] - 3s 2ms/step - loss: 4.6524e-06 - root_mean_squared_error: 0.0022\n",
            "Epoch 67/150\n",
            "1563/1563 [==============================] - 3s 2ms/step - loss: 6.7706e-06 - root_mean_squared_error: 0.0026\n",
            "Epoch 68/150\n",
            "1563/1563 [==============================] - 3s 2ms/step - loss: 1.0154e-05 - root_mean_squared_error: 0.0032\n",
            "Epoch 69/150\n",
            "1563/1563 [==============================] - 3s 2ms/step - loss: 8.8347e-06 - root_mean_squared_error: 0.0030\n",
            "Epoch 70/150\n",
            "1563/1563 [==============================] - 3s 2ms/step - loss: 4.7157e-06 - root_mean_squared_error: 0.0022\n",
            "Epoch 71/150\n",
            "1563/1563 [==============================] - 3s 2ms/step - loss: 5.4705e-06 - root_mean_squared_error: 0.0023\n",
            "Epoch 72/150\n",
            "1563/1563 [==============================] - 3s 2ms/step - loss: 6.2308e-06 - root_mean_squared_error: 0.0025\n",
            "Epoch 73/150\n",
            "1563/1563 [==============================] - 3s 2ms/step - loss: 5.1446e-06 - root_mean_squared_error: 0.0023\n",
            "Epoch 74/150\n",
            "1563/1563 [==============================] - 3s 2ms/step - loss: 7.0500e-06 - root_mean_squared_error: 0.0027\n",
            "Epoch 75/150\n",
            "1563/1563 [==============================] - 3s 2ms/step - loss: 5.7652e-06 - root_mean_squared_error: 0.0024\n",
            "Epoch 76/150\n",
            "1563/1563 [==============================] - 3s 2ms/step - loss: 1.2444e-05 - root_mean_squared_error: 0.0035\n",
            "Epoch 77/150\n",
            "1563/1563 [==============================] - 3s 2ms/step - loss: 8.3064e-06 - root_mean_squared_error: 0.0029\n",
            "Epoch 78/150\n",
            "1563/1563 [==============================] - 3s 2ms/step - loss: 6.9841e-06 - root_mean_squared_error: 0.0026\n",
            "Epoch 79/150\n",
            "1563/1563 [==============================] - 3s 2ms/step - loss: 4.7838e-06 - root_mean_squared_error: 0.0022\n",
            "Epoch 80/150\n",
            "1563/1563 [==============================] - 3s 2ms/step - loss: 6.3226e-06 - root_mean_squared_error: 0.0025\n",
            "Epoch 81/150\n",
            "1563/1563 [==============================] - 3s 2ms/step - loss: 3.1440e-06 - root_mean_squared_error: 0.0018\n",
            "Epoch 82/150\n",
            "1563/1563 [==============================] - 3s 2ms/step - loss: 5.0606e-06 - root_mean_squared_error: 0.0022\n",
            "Epoch 83/150\n",
            "1563/1563 [==============================] - 3s 2ms/step - loss: 7.0097e-06 - root_mean_squared_error: 0.0026\n",
            "Epoch 84/150\n",
            "1563/1563 [==============================] - 3s 2ms/step - loss: 6.2223e-06 - root_mean_squared_error: 0.0025\n",
            "Epoch 85/150\n",
            "1563/1563 [==============================] - 3s 2ms/step - loss: 4.2610e-06 - root_mean_squared_error: 0.0021\n",
            "Epoch 86/150\n",
            "1563/1563 [==============================] - 3s 2ms/step - loss: 5.3312e-06 - root_mean_squared_error: 0.0023\n",
            "Epoch 87/150\n",
            "1563/1563 [==============================] - 3s 2ms/step - loss: 5.2601e-06 - root_mean_squared_error: 0.0023\n",
            "Epoch 88/150\n",
            "1563/1563 [==============================] - 3s 2ms/step - loss: 7.1326e-06 - root_mean_squared_error: 0.0027\n",
            "Epoch 89/150\n",
            "1563/1563 [==============================] - 3s 2ms/step - loss: 5.2188e-06 - root_mean_squared_error: 0.0023\n",
            "Epoch 90/150\n",
            "1563/1563 [==============================] - 3s 2ms/step - loss: 8.2302e-06 - root_mean_squared_error: 0.0029\n",
            "Epoch 91/150\n",
            "1563/1563 [==============================] - 3s 2ms/step - loss: 2.8051e-06 - root_mean_squared_error: 0.0017\n",
            "Epoch 92/150\n",
            "1563/1563 [==============================] - 4s 2ms/step - loss: 8.4346e-06 - root_mean_squared_error: 0.0029\n",
            "Epoch 93/150\n",
            "1563/1563 [==============================] - 4s 3ms/step - loss: 3.7307e-06 - root_mean_squared_error: 0.0019\n",
            "Epoch 94/150\n",
            "1563/1563 [==============================] - 3s 2ms/step - loss: 6.0718e-06 - root_mean_squared_error: 0.0025\n",
            "Epoch 95/150\n",
            "1563/1563 [==============================] - 3s 2ms/step - loss: 4.9910e-06 - root_mean_squared_error: 0.0022\n",
            "Epoch 96/150\n",
            "1563/1563 [==============================] - 3s 2ms/step - loss: 4.9646e-06 - root_mean_squared_error: 0.0022\n",
            "Epoch 97/150\n",
            "1563/1563 [==============================] - 3s 2ms/step - loss: 4.2567e-06 - root_mean_squared_error: 0.0021\n",
            "Epoch 98/150\n",
            "1563/1563 [==============================] - 3s 2ms/step - loss: 3.5082e-06 - root_mean_squared_error: 0.0019\n",
            "Epoch 99/150\n",
            "1563/1563 [==============================] - 3s 2ms/step - loss: 6.0459e-06 - root_mean_squared_error: 0.0025\n",
            "Epoch 100/150\n",
            "1563/1563 [==============================] - 3s 2ms/step - loss: 4.8817e-06 - root_mean_squared_error: 0.0022\n",
            "Epoch 101/150\n",
            "1563/1563 [==============================] - 3s 2ms/step - loss: 4.5707e-06 - root_mean_squared_error: 0.0021\n",
            "Epoch 102/150\n",
            "1563/1563 [==============================] - 3s 2ms/step - loss: 4.2167e-06 - root_mean_squared_error: 0.0021\n",
            "Epoch 103/150\n",
            "1563/1563 [==============================] - 3s 2ms/step - loss: 5.3033e-06 - root_mean_squared_error: 0.0023\n",
            "Epoch 104/150\n",
            "1563/1563 [==============================] - 3s 2ms/step - loss: 4.7703e-06 - root_mean_squared_error: 0.0022\n",
            "Epoch 105/150\n",
            "1563/1563 [==============================] - 3s 2ms/step - loss: 3.2098e-06 - root_mean_squared_error: 0.0018\n",
            "Epoch 106/150\n",
            "1563/1563 [==============================] - 3s 2ms/step - loss: 5.8719e-06 - root_mean_squared_error: 0.0024\n",
            "Epoch 107/150\n",
            "1563/1563 [==============================] - 3s 2ms/step - loss: 5.0070e-06 - root_mean_squared_error: 0.0022\n",
            "Epoch 108/150\n",
            "1563/1563 [==============================] - 3s 2ms/step - loss: 3.4891e-06 - root_mean_squared_error: 0.0019\n",
            "Epoch 109/150\n",
            "1563/1563 [==============================] - 3s 2ms/step - loss: 4.6799e-06 - root_mean_squared_error: 0.0022\n",
            "Epoch 110/150\n",
            "1563/1563 [==============================] - 3s 2ms/step - loss: 4.5736e-06 - root_mean_squared_error: 0.0021\n",
            "Epoch 111/150\n",
            "1563/1563 [==============================] - 3s 2ms/step - loss: 4.4285e-06 - root_mean_squared_error: 0.0021\n",
            "Epoch 112/150\n",
            "1563/1563 [==============================] - 3s 2ms/step - loss: 3.3511e-06 - root_mean_squared_error: 0.0018\n",
            "Epoch 113/150\n",
            "1563/1563 [==============================] - 3s 2ms/step - loss: 5.6070e-06 - root_mean_squared_error: 0.0024\n",
            "Epoch 114/150\n",
            "1563/1563 [==============================] - 3s 2ms/step - loss: 3.7058e-06 - root_mean_squared_error: 0.0019\n",
            "Epoch 115/150\n",
            "1563/1563 [==============================] - 3s 2ms/step - loss: 4.4324e-06 - root_mean_squared_error: 0.0021\n",
            "Epoch 116/150\n",
            "1563/1563 [==============================] - 3s 2ms/step - loss: 4.6782e-06 - root_mean_squared_error: 0.0022\n",
            "Epoch 117/150\n",
            "1563/1563 [==============================] - 3s 2ms/step - loss: 4.1776e-06 - root_mean_squared_error: 0.0020\n",
            "Epoch 118/150\n",
            "1563/1563 [==============================] - 3s 2ms/step - loss: 4.2084e-06 - root_mean_squared_error: 0.0021\n",
            "Epoch 119/150\n",
            "1563/1563 [==============================] - 3s 2ms/step - loss: 7.1383e-06 - root_mean_squared_error: 0.0027\n",
            "Epoch 120/150\n",
            "1563/1563 [==============================] - 3s 2ms/step - loss: 3.7796e-06 - root_mean_squared_error: 0.0019\n",
            "Epoch 121/150\n",
            "1563/1563 [==============================] - 3s 2ms/step - loss: 2.2733e-06 - root_mean_squared_error: 0.0015\n",
            "Epoch 122/150\n",
            "1563/1563 [==============================] - 3s 2ms/step - loss: 3.7410e-06 - root_mean_squared_error: 0.0019\n",
            "Epoch 123/150\n",
            "1563/1563 [==============================] - 3s 2ms/step - loss: 4.6841e-06 - root_mean_squared_error: 0.0022\n",
            "Epoch 124/150\n",
            "1563/1563 [==============================] - 3s 2ms/step - loss: 3.1077e-06 - root_mean_squared_error: 0.0018\n",
            "Epoch 125/150\n",
            "1563/1563 [==============================] - 3s 2ms/step - loss: 3.9908e-06 - root_mean_squared_error: 0.0020\n",
            "Epoch 126/150\n",
            "1563/1563 [==============================] - 3s 2ms/step - loss: 5.3353e-06 - root_mean_squared_error: 0.0023\n",
            "Epoch 127/150\n",
            "1563/1563 [==============================] - 3s 2ms/step - loss: 2.9808e-06 - root_mean_squared_error: 0.0017\n",
            "Epoch 128/150\n",
            "1563/1563 [==============================] - 3s 2ms/step - loss: 4.7075e-06 - root_mean_squared_error: 0.0022\n",
            "Epoch 129/150\n",
            "1563/1563 [==============================] - 3s 2ms/step - loss: 4.1025e-06 - root_mean_squared_error: 0.0020\n",
            "Epoch 130/150\n",
            "1563/1563 [==============================] - 3s 2ms/step - loss: 3.2504e-06 - root_mean_squared_error: 0.0018\n",
            "Epoch 131/150\n",
            "1563/1563 [==============================] - 3s 2ms/step - loss: 3.5995e-06 - root_mean_squared_error: 0.0019\n",
            "Epoch 132/150\n",
            "1563/1563 [==============================] - 3s 2ms/step - loss: 3.8820e-06 - root_mean_squared_error: 0.0020\n",
            "Epoch 133/150\n",
            "1563/1563 [==============================] - 3s 2ms/step - loss: 4.3582e-06 - root_mean_squared_error: 0.0021\n",
            "Epoch 134/150\n",
            "1563/1563 [==============================] - 3s 2ms/step - loss: 5.6321e-06 - root_mean_squared_error: 0.0024\n",
            "Epoch 135/150\n",
            "1563/1563 [==============================] - 3s 2ms/step - loss: 2.2477e-06 - root_mean_squared_error: 0.0015\n",
            "Epoch 136/150\n",
            "1563/1563 [==============================] - 3s 2ms/step - loss: 3.5824e-06 - root_mean_squared_error: 0.0019\n",
            "Epoch 137/150\n",
            "1563/1563 [==============================] - 3s 2ms/step - loss: 2.8629e-06 - root_mean_squared_error: 0.0017\n",
            "Epoch 138/150\n",
            "1563/1563 [==============================] - 3s 2ms/step - loss: 4.2840e-06 - root_mean_squared_error: 0.0021\n",
            "Epoch 139/150\n",
            "1563/1563 [==============================] - 3s 2ms/step - loss: 5.4935e-06 - root_mean_squared_error: 0.0023\n",
            "Epoch 140/150\n",
            "1563/1563 [==============================] - 3s 2ms/step - loss: 3.0284e-06 - root_mean_squared_error: 0.0017\n",
            "Epoch 141/150\n",
            "1563/1563 [==============================] - 3s 2ms/step - loss: 3.8458e-06 - root_mean_squared_error: 0.0020\n",
            "Epoch 142/150\n",
            "1563/1563 [==============================] - 3s 2ms/step - loss: 3.1706e-06 - root_mean_squared_error: 0.0018\n",
            "Epoch 143/150\n",
            "1563/1563 [==============================] - 3s 2ms/step - loss: 3.7415e-06 - root_mean_squared_error: 0.0019\n",
            "Epoch 144/150\n",
            "1563/1563 [==============================] - 3s 2ms/step - loss: 5.6262e-06 - root_mean_squared_error: 0.0024\n",
            "Epoch 145/150\n",
            "1563/1563 [==============================] - 3s 2ms/step - loss: 3.5934e-06 - root_mean_squared_error: 0.0019\n",
            "Epoch 146/150\n",
            "1563/1563 [==============================] - 3s 2ms/step - loss: 4.3151e-06 - root_mean_squared_error: 0.0021\n",
            "Epoch 147/150\n",
            "1563/1563 [==============================] - 3s 2ms/step - loss: 2.6019e-06 - root_mean_squared_error: 0.0016\n",
            "Epoch 148/150\n",
            "1563/1563 [==============================] - 3s 2ms/step - loss: 3.7820e-06 - root_mean_squared_error: 0.0019\n",
            "Epoch 149/150\n",
            "1563/1563 [==============================] - 3s 2ms/step - loss: 2.5073e-06 - root_mean_squared_error: 0.0016\n",
            "Epoch 150/150\n",
            "1563/1563 [==============================] - 3s 2ms/step - loss: 3.9372e-06 - root_mean_squared_error: 0.0020\n"
          ]
        }
      ],
      "source": [
        "history = model.fit(X_train, y_train, batch_size=32, epochs=150)    # epochs--->iteration"
      ]
    },
    {
      "cell_type": "code",
      "execution_count": null,
      "metadata": {
        "id": "v76hMwcqL7pb",
        "outputId": "6cc5826b-df74-4e35-b332-87c676bcb154",
        "colab": {
          "base_uri": "https://localhost:8080/",
          "height": 279
        }
      },
      "outputs": [
        {
          "output_type": "display_data",
          "data": {
            "text/plain": [
              "<Figure size 432x288 with 1 Axes>"
            ],
            "image/png": "[encoded data removed]"
          },
          "metadata": {
            "needs_background": "light"
          }
        }
      ],
      "source": [
        "def plot_history(metrics):\n",
        "    history_df = pd.DataFrame.from_dict(history.history)\n",
        "    sns.lineplot(data=history_df[metrics], color= \"r\")\n",
        "    plt.xlabel(\"epochs\")\n",
        "    plt.ylabel(\"RMSE\")\n",
        "plot_history('root_mean_squared_error')"
      ]
    },
    {
      "cell_type": "code",
      "execution_count": null,
      "metadata": {
        "id": "yYJjhyu6L7pb",
        "outputId": "37b3e0fc-ee71-4ab3-ae92-e8461853ad14",
        "colab": {
          "base_uri": "https://localhost:8080/"
        }
      },
      "outputs": [
        {
          "output_type": "stream",
          "name": "stdout",
          "text": [
            "1563/1563 [==============================] - 2s 1ms/step\n",
            "782/782 [==============================] - 1s 1ms/step\n"
          ]
        }
      ],
      "source": [
        "y_train_predicted = model.predict(X_train)     # y_train predicted\n",
        "y_test_predicted = model.predict(X_test)      #  y_test_predicted"
      ]
    },
    {
      "cell_type": "code",
      "execution_count": null,
      "metadata": {
        "id": "WawNUAo1L7pb",
        "outputId": "0fd93795-0562-40f2-c46f-faac642a0626",
        "colab": {
          "base_uri": "https://localhost:8080/",
          "height": 299
        }
      },
      "outputs": [
        {
          "output_type": "display_data",
          "data": {
            "text/plain": [
              "<Figure size 432x288 with 1 Axes>"
            ],
            "image/png": "[encoded data removed]"
          },
          "metadata": {}
        }
      ],
      "source": [
        "def plot_predictions(y_pred, y_true, title):\n",
        "    plt.style.use('ggplot') \n",
        "    plt.scatter(y_pred, y_true, s=10, alpha=0.5)\n",
        "    plt.xlabel(\"Y_predicted\")\n",
        "    plt.ylabel(\"Y_train\")                          # sactter plot for Y_train_predicted and True_Y_train\n",
        "    plt.title(title)\n",
        "\n",
        "plot_predictions(y_train_predicted, y_train, title='Predictions on the training set')"
      ]
    },
    {
      "cell_type": "code",
      "execution_count": null,
      "metadata": {
        "id": "MQA9RAm0L7pb",
        "outputId": "3bda12ab-2070-427c-ed37-0e233cf3f901",
        "colab": {
          "base_uri": "https://localhost:8080/",
          "height": 299
        }
      },
      "outputs": [
        {
          "output_type": "display_data",
          "data": {
            "text/plain": [
              "<Figure size 432x288 with 1 Axes>"
            ],
            "image/png": "[encoded data removed]"
          },
          "metadata": {}
        }
      ],
      "source": [
        "plot_predictions(y_test_predicted, y_test, title='Predictions on the test set')    # Plot between Y_test_predicted and True_Y_test_predicted"
      ]
    },
    {
      "cell_type": "code",
      "execution_count": null,
      "metadata": {
        "id": "r5cS0JKNL7pf",
        "outputId": "ddaa2d5d-de7f-4178-a30a-bca5808700cd",
        "colab": {
          "base_uri": "https://localhost:8080/"
        }
      },
      "outputs": [
        {
          "output_type": "stream",
          "name": "stdout",
          "text": [
            "1563/1563 [==============================] - 2s 1ms/step - loss: 8.2268e-07 - root_mean_squared_error: 9.0702e-04\n",
            "782/782 [==============================] - 1s 2ms/step - loss: 8.1377e-07 - root_mean_squared_error: 9.0209e-04\n",
            "Train RMSE: 0.00, Test RMSE: 0.00\n"
          ]
        }
      ],
      "source": [
        "train_metrics = model.evaluate(X_train, y_train, return_dict=True)\n",
        "test_metrics = model.evaluate(X_test, y_test, return_dict=True)\n",
        "print('Train RMSE: {:.2f}, Test RMSE: {:.2f}'.format(train_metrics['root_mean_squared_error'], test_metrics['root_mean_squared_error']))"
      ]
    },
    {
      "cell_type": "code",
      "execution_count": null,
      "metadata": {
        "id": "_Cyk7APLL7pf",
        "outputId": "8171b7f2-79e7-4a0b-de84-a3ff9c4880ff",
        "colab": {
          "base_uri": "https://localhost:8080/"
        }
      },
      "outputs": [
        {
          "output_type": "stream",
          "name": "stdout",
          "text": [
            "Epoch 1/150\n",
            "1563/1563 [==============================] - 4s 3ms/step - loss: 4.9196e-06 - root_mean_squared_error: 0.0022 - val_loss: 2.7997e-07 - val_root_mean_squared_error: 5.2912e-04\n",
            "Epoch 2/150\n",
            "1563/1563 [==============================] - 7s 4ms/step - loss: 4.1150e-06 - root_mean_squared_error: 0.0020 - val_loss: 2.4961e-06 - val_root_mean_squared_error: 0.0016\n",
            "Epoch 3/150\n",
            "1563/1563 [==============================] - 8s 5ms/step - loss: 3.6922e-06 - root_mean_squared_error: 0.0019 - val_loss: 2.5927e-07 - val_root_mean_squared_error: 5.0919e-04\n",
            "Epoch 4/150\n",
            "1563/1563 [==============================] - 8s 5ms/step - loss: 2.6142e-06 - root_mean_squared_error: 0.0016 - val_loss: 2.4010e-06 - val_root_mean_squared_error: 0.0015\n",
            "Epoch 5/150\n",
            "1563/1563 [==============================] - 8s 5ms/step - loss: 3.9675e-06 - root_mean_squared_error: 0.0020 - val_loss: 2.7771e-06 - val_root_mean_squared_error: 0.0017\n",
            "Epoch 6/150\n",
            "1563/1563 [==============================] - 5s 3ms/step - loss: 4.6017e-06 - root_mean_squared_error: 0.0021 - val_loss: 4.2606e-06 - val_root_mean_squared_error: 0.0021\n",
            "Epoch 7/150\n",
            "1563/1563 [==============================] - 6s 4ms/step - loss: 3.7158e-06 - root_mean_squared_error: 0.0019 - val_loss: 2.5513e-06 - val_root_mean_squared_error: 0.0016\n",
            "Epoch 8/150\n",
            "1563/1563 [==============================] - 7s 4ms/step - loss: 3.4337e-06 - root_mean_squared_error: 0.0019 - val_loss: 5.6266e-06 - val_root_mean_squared_error: 0.0024\n",
            "Epoch 9/150\n",
            "1563/1563 [==============================] - 8s 5ms/step - loss: 3.7464e-06 - root_mean_squared_error: 0.0019 - val_loss: 5.6628e-07 - val_root_mean_squared_error: 7.5252e-04\n",
            "Epoch 10/150\n",
            "1563/1563 [==============================] - 5s 3ms/step - loss: 3.8215e-06 - root_mean_squared_error: 0.0020 - val_loss: 2.6379e-07 - val_root_mean_squared_error: 5.1361e-04\n",
            "Epoch 11/150\n",
            "1563/1563 [==============================] - 5s 3ms/step - loss: 3.1964e-06 - root_mean_squared_error: 0.0018 - val_loss: 7.2176e-07 - val_root_mean_squared_error: 8.4956e-04\n",
            "Epoch 12/150\n",
            "1563/1563 [==============================] - 5s 3ms/step - loss: 4.7063e-06 - root_mean_squared_error: 0.0022 - val_loss: 3.1704e-07 - val_root_mean_squared_error: 5.6306e-04\n",
            "Epoch 13/150\n",
            "1563/1563 [==============================] - 5s 3ms/step - loss: 5.5139e-06 - root_mean_squared_error: 0.0023 - val_loss: 1.4756e-06 - val_root_mean_squared_error: 0.0012\n",
            "Epoch 14/150\n",
            "1563/1563 [==============================] - 5s 3ms/step - loss: 1.7124e-06 - root_mean_squared_error: 0.0013 - val_loss: 1.2327e-06 - val_root_mean_squared_error: 0.0011\n",
            "Epoch 15/150\n",
            "1563/1563 [==============================] - 4s 3ms/step - loss: 5.9555e-06 - root_mean_squared_error: 0.0024 - val_loss: 4.0102e-07 - val_root_mean_squared_error: 6.3326e-04\n",
            "Epoch 16/150\n",
            "1563/1563 [==============================] - 4s 3ms/step - loss: 2.1236e-06 - root_mean_squared_error: 0.0015 - val_loss: 2.3461e-07 - val_root_mean_squared_error: 4.8436e-04\n",
            "Epoch 17/150\n",
            "1563/1563 [==============================] - 5s 3ms/step - loss: 3.0279e-06 - root_mean_squared_error: 0.0017 - val_loss: 4.6131e-07 - val_root_mean_squared_error: 6.7920e-04\n",
            "Epoch 18/150\n",
            "1563/1563 [==============================] - 4s 3ms/step - loss: 3.9162e-06 - root_mean_squared_error: 0.0020 - val_loss: 3.7655e-07 - val_root_mean_squared_error: 6.1364e-04\n",
            "Epoch 19/150\n",
            "1563/1563 [==============================] - 4s 3ms/step - loss: 3.9117e-06 - root_mean_squared_error: 0.0020 - val_loss: 6.3316e-07 - val_root_mean_squared_error: 7.9572e-04\n",
            "Epoch 20/150\n",
            "1563/1563 [==============================] - 4s 3ms/step - loss: 2.5969e-06 - root_mean_squared_error: 0.0016 - val_loss: 1.9274e-06 - val_root_mean_squared_error: 0.0014\n",
            "Epoch 21/150\n",
            "1563/1563 [==============================] - 4s 3ms/step - loss: 3.9948e-06 - root_mean_squared_error: 0.0020 - val_loss: 7.0565e-06 - val_root_mean_squared_error: 0.0027\n",
            "Epoch 22/150\n",
            "1563/1563 [==============================] - 5s 3ms/step - loss: 2.7781e-06 - root_mean_squared_error: 0.0017 - val_loss: 2.2963e-07 - val_root_mean_squared_error: 4.7919e-04\n",
            "Epoch 23/150\n",
            "1563/1563 [==============================] - 7s 5ms/step - loss: 2.8569e-06 - root_mean_squared_error: 0.0017 - val_loss: 7.9000e-07 - val_root_mean_squared_error: 8.8882e-04\n",
            "Epoch 24/150\n",
            "1563/1563 [==============================] - 7s 5ms/step - loss: 2.9707e-06 - root_mean_squared_error: 0.0017 - val_loss: 3.5979e-06 - val_root_mean_squared_error: 0.0019\n",
            "Epoch 25/150\n",
            "1563/1563 [==============================] - 6s 4ms/step - loss: 3.7750e-06 - root_mean_squared_error: 0.0019 - val_loss: 6.5367e-06 - val_root_mean_squared_error: 0.0026\n",
            "Epoch 26/150\n",
            "1563/1563 [==============================] - 8s 5ms/step - loss: 1.7511e-06 - root_mean_squared_error: 0.0013 - val_loss: 1.8618e-06 - val_root_mean_squared_error: 0.0014\n",
            "Epoch 27/150\n",
            "1563/1563 [==============================] - 5s 3ms/step - loss: 3.4821e-06 - root_mean_squared_error: 0.0019 - val_loss: 1.7148e-06 - val_root_mean_squared_error: 0.0013\n",
            "Epoch 28/150\n",
            "1563/1563 [==============================] - 6s 4ms/step - loss: 3.0769e-06 - root_mean_squared_error: 0.0018 - val_loss: 1.3544e-06 - val_root_mean_squared_error: 0.0012\n",
            "Epoch 29/150\n",
            "1563/1563 [==============================] - 5s 3ms/step - loss: 3.8944e-06 - root_mean_squared_error: 0.0020 - val_loss: 8.0055e-07 - val_root_mean_squared_error: 8.9474e-04\n",
            "Epoch 30/150\n",
            "1563/1563 [==============================] - 4s 3ms/step - loss: 5.7507e-06 - root_mean_squared_error: 0.0024 - val_loss: 2.2238e-06 - val_root_mean_squared_error: 0.0015\n",
            "Epoch 31/150\n",
            "1563/1563 [==============================] - 5s 3ms/step - loss: 2.0220e-06 - root_mean_squared_error: 0.0014 - val_loss: 3.3361e-06 - val_root_mean_squared_error: 0.0018\n",
            "Epoch 32/150\n",
            "1563/1563 [==============================] - 4s 3ms/step - loss: 5.1079e-06 - root_mean_squared_error: 0.0023 - val_loss: 2.2670e-07 - val_root_mean_squared_error: 4.7613e-04\n",
            "Epoch 33/150\n",
            "1563/1563 [==============================] - 5s 3ms/step - loss: 1.9648e-06 - root_mean_squared_error: 0.0014 - val_loss: 1.5926e-04 - val_root_mean_squared_error: 0.0126\n",
            "Epoch 34/150\n",
            "1563/1563 [==============================] - 4s 3ms/step - loss: 3.4086e-06 - root_mean_squared_error: 0.0018 - val_loss: 2.9921e-06 - val_root_mean_squared_error: 0.0017\n",
            "Epoch 35/150\n",
            "1563/1563 [==============================] - 4s 3ms/step - loss: 3.4922e-06 - root_mean_squared_error: 0.0019 - val_loss: 8.5650e-07 - val_root_mean_squared_error: 9.2547e-04\n",
            "Epoch 36/150\n",
            "1563/1563 [==============================] - 5s 3ms/step - loss: 3.2561e-06 - root_mean_squared_error: 0.0018 - val_loss: 9.2351e-07 - val_root_mean_squared_error: 9.6100e-04\n",
            "Epoch 37/150\n",
            "1563/1563 [==============================] - 4s 3ms/step - loss: 3.0051e-06 - root_mean_squared_error: 0.0017 - val_loss: 5.1454e-07 - val_root_mean_squared_error: 7.1731e-04\n",
            "Epoch 38/150\n",
            "1563/1563 [==============================] - 4s 3ms/step - loss: 3.7504e-06 - root_mean_squared_error: 0.0019 - val_loss: 1.4469e-06 - val_root_mean_squared_error: 0.0012\n",
            "Epoch 39/150\n",
            "1563/1563 [==============================] - 5s 3ms/step - loss: 3.4556e-06 - root_mean_squared_error: 0.0019 - val_loss: 6.8826e-07 - val_root_mean_squared_error: 8.2962e-04\n",
            "Epoch 40/150\n",
            "1563/1563 [==============================] - 5s 3ms/step - loss: 2.9920e-06 - root_mean_squared_error: 0.0017 - val_loss: 5.1312e-07 - val_root_mean_squared_error: 7.1632e-04\n",
            "Epoch 41/150\n",
            "1563/1563 [==============================] - 5s 3ms/step - loss: 2.5864e-06 - root_mean_squared_error: 0.0016 - val_loss: 1.6446e-06 - val_root_mean_squared_error: 0.0013\n",
            "Epoch 42/150\n",
            "1563/1563 [==============================] - 4s 3ms/step - loss: 3.7976e-06 - root_mean_squared_error: 0.0019 - val_loss: 1.0796e-06 - val_root_mean_squared_error: 0.0010\n",
            "Epoch 43/150\n",
            "1563/1563 [==============================] - 5s 3ms/step - loss: 6.2882e-06 - root_mean_squared_error: 0.0025 - val_loss: 6.9295e-07 - val_root_mean_squared_error: 8.3244e-04\n",
            "Epoch 44/150\n",
            "1563/1563 [==============================] - 4s 3ms/step - loss: 1.9344e-06 - root_mean_squared_error: 0.0014 - val_loss: 1.1458e-06 - val_root_mean_squared_error: 0.0011\n",
            "Epoch 45/150\n",
            "1563/1563 [==============================] - 6s 4ms/step - loss: 3.7950e-06 - root_mean_squared_error: 0.0019 - val_loss: 1.2148e-06 - val_root_mean_squared_error: 0.0011\n",
            "Epoch 46/150\n",
            "1563/1563 [==============================] - 8s 5ms/step - loss: 2.4363e-06 - root_mean_squared_error: 0.0016 - val_loss: 3.2057e-07 - val_root_mean_squared_error: 5.6619e-04\n",
            "Epoch 47/150\n",
            "1563/1563 [==============================] - 7s 5ms/step - loss: 3.5097e-06 - root_mean_squared_error: 0.0019 - val_loss: 1.4524e-06 - val_root_mean_squared_error: 0.0012\n",
            "Epoch 48/150\n",
            "1563/1563 [==============================] - 6s 4ms/step - loss: 2.9420e-06 - root_mean_squared_error: 0.0017 - val_loss: 1.2787e-06 - val_root_mean_squared_error: 0.0011\n",
            "Epoch 49/150\n",
            "1563/1563 [==============================] - 6s 4ms/step - loss: 3.0394e-06 - root_mean_squared_error: 0.0017 - val_loss: 2.4670e-05 - val_root_mean_squared_error: 0.0050\n",
            "Epoch 50/150\n",
            "1563/1563 [==============================] - 6s 4ms/step - loss: 3.4803e-06 - root_mean_squared_error: 0.0019 - val_loss: 2.2883e-05 - val_root_mean_squared_error: 0.0048\n",
            "Epoch 51/150\n",
            "1563/1563 [==============================] - 4s 3ms/step - loss: 1.9569e-06 - root_mean_squared_error: 0.0014 - val_loss: 5.8212e-06 - val_root_mean_squared_error: 0.0024\n",
            "Epoch 52/150\n",
            "1563/1563 [==============================] - 5s 3ms/step - loss: 2.8178e-06 - root_mean_squared_error: 0.0017 - val_loss: 3.2621e-07 - val_root_mean_squared_error: 5.7115e-04\n",
            "Epoch 53/150\n",
            "1563/1563 [==============================] - 4s 3ms/step - loss: 3.8768e-06 - root_mean_squared_error: 0.0020 - val_loss: 9.7895e-07 - val_root_mean_squared_error: 9.8942e-04\n",
            "Epoch 54/150\n",
            "1563/1563 [==============================] - 5s 3ms/step - loss: 2.6238e-06 - root_mean_squared_error: 0.0016 - val_loss: 6.5520e-07 - val_root_mean_squared_error: 8.0944e-04\n",
            "Epoch 55/150\n",
            "1563/1563 [==============================] - 6s 4ms/step - loss: 5.4386e-06 - root_mean_squared_error: 0.0023 - val_loss: 6.4015e-07 - val_root_mean_squared_error: 8.0009e-04\n",
            "Epoch 56/150\n",
            "1563/1563 [==============================] - 5s 3ms/step - loss: 2.0955e-06 - root_mean_squared_error: 0.0014 - val_loss: 5.0718e-06 - val_root_mean_squared_error: 0.0023\n",
            "Epoch 57/150\n",
            "1563/1563 [==============================] - 5s 3ms/step - loss: 2.5551e-06 - root_mean_squared_error: 0.0016 - val_loss: 2.3587e-06 - val_root_mean_squared_error: 0.0015\n",
            "Epoch 58/150\n",
            "1563/1563 [==============================] - 5s 3ms/step - loss: 2.9313e-06 - root_mean_squared_error: 0.0017 - val_loss: 1.1829e-06 - val_root_mean_squared_error: 0.0011\n",
            "Epoch 59/150\n",
            "1563/1563 [==============================] - 4s 3ms/step - loss: 5.1868e-06 - root_mean_squared_error: 0.0023 - val_loss: 1.9789e-06 - val_root_mean_squared_error: 0.0014\n",
            "Epoch 60/150\n",
            "1563/1563 [==============================] - 5s 3ms/step - loss: 1.6032e-06 - root_mean_squared_error: 0.0013 - val_loss: 3.9198e-07 - val_root_mean_squared_error: 6.2608e-04\n",
            "Epoch 61/150\n",
            "1563/1563 [==============================] - 5s 3ms/step - loss: 3.4356e-06 - root_mean_squared_error: 0.0019 - val_loss: 2.1954e-06 - val_root_mean_squared_error: 0.0015\n",
            "Epoch 62/150\n",
            "1563/1563 [==============================] - 4s 3ms/step - loss: 3.0211e-06 - root_mean_squared_error: 0.0017 - val_loss: 4.5090e-07 - val_root_mean_squared_error: 6.7149e-04\n",
            "Epoch 63/150\n",
            "1563/1563 [==============================] - 6s 4ms/step - loss: 2.6794e-06 - root_mean_squared_error: 0.0016 - val_loss: 9.8455e-07 - val_root_mean_squared_error: 9.9225e-04\n",
            "Epoch 64/150\n",
            "1563/1563 [==============================] - 5s 3ms/step - loss: 1.8075e-06 - root_mean_squared_error: 0.0013 - val_loss: 5.6400e-07 - val_root_mean_squared_error: 7.5100e-04\n",
            "Epoch 65/150\n",
            "1563/1563 [==============================] - 5s 3ms/step - loss: 4.2915e-06 - root_mean_squared_error: 0.0021 - val_loss: 3.4708e-07 - val_root_mean_squared_error: 5.8914e-04\n",
            "Epoch 66/150\n",
            "1563/1563 [==============================] - 5s 3ms/step - loss: 1.2662e-06 - root_mean_squared_error: 0.0011 - val_loss: 4.2700e-07 - val_root_mean_squared_error: 6.5345e-04\n",
            "Epoch 67/150\n",
            "1563/1563 [==============================] - 4s 3ms/step - loss: 2.5854e-06 - root_mean_squared_error: 0.0016 - val_loss: 1.0156e-06 - val_root_mean_squared_error: 0.0010\n",
            "Epoch 68/150\n",
            "1563/1563 [==============================] - 4s 3ms/step - loss: 3.6285e-06 - root_mean_squared_error: 0.0019 - val_loss: 4.3809e-07 - val_root_mean_squared_error: 6.6188e-04\n",
            "Epoch 69/150\n",
            "1563/1563 [==============================] - 5s 3ms/step - loss: 2.8096e-06 - root_mean_squared_error: 0.0017 - val_loss: 5.7935e-07 - val_root_mean_squared_error: 7.6115e-04\n",
            "Epoch 70/150\n",
            "1563/1563 [==============================] - 4s 3ms/step - loss: 3.2099e-06 - root_mean_squared_error: 0.0018 - val_loss: 5.3570e-07 - val_root_mean_squared_error: 7.3191e-04\n",
            "Epoch 71/150\n",
            "1563/1563 [==============================] - 5s 3ms/step - loss: 2.0483e-06 - root_mean_squared_error: 0.0014 - val_loss: 7.6279e-07 - val_root_mean_squared_error: 8.7338e-04\n",
            "Epoch 72/150\n",
            "1563/1563 [==============================] - 4s 3ms/step - loss: 3.1947e-06 - root_mean_squared_error: 0.0018 - val_loss: 6.9546e-07 - val_root_mean_squared_error: 8.3394e-04\n",
            "Epoch 73/150\n",
            "1563/1563 [==============================] - 5s 3ms/step - loss: 2.1089e-06 - root_mean_squared_error: 0.0015 - val_loss: 1.4895e-06 - val_root_mean_squared_error: 0.0012\n",
            "Epoch 74/150\n",
            "1563/1563 [==============================] - 4s 3ms/step - loss: 3.0538e-06 - root_mean_squared_error: 0.0017 - val_loss: 1.2600e-06 - val_root_mean_squared_error: 0.0011\n",
            "Epoch 75/150\n",
            "1563/1563 [==============================] - 4s 3ms/step - loss: 3.9225e-06 - root_mean_squared_error: 0.0020 - val_loss: 2.6601e-04 - val_root_mean_squared_error: 0.0163\n",
            "Epoch 76/150\n",
            "1563/1563 [==============================] - 5s 3ms/step - loss: 2.7345e-06 - root_mean_squared_error: 0.0017 - val_loss: 3.9046e-07 - val_root_mean_squared_error: 6.2487e-04\n",
            "Epoch 77/150\n",
            "1563/1563 [==============================] - 6s 4ms/step - loss: 3.5299e-06 - root_mean_squared_error: 0.0019 - val_loss: 1.3703e-06 - val_root_mean_squared_error: 0.0012\n",
            "Epoch 78/150\n",
            "1563/1563 [==============================] - 6s 4ms/step - loss: 2.8354e-06 - root_mean_squared_error: 0.0017 - val_loss: 1.5726e-06 - val_root_mean_squared_error: 0.0013\n",
            "Epoch 79/150\n",
            "1563/1563 [==============================] - 4s 3ms/step - loss: 2.5711e-06 - root_mean_squared_error: 0.0016 - val_loss: 2.9001e-06 - val_root_mean_squared_error: 0.0017\n",
            "Epoch 80/150\n",
            "1563/1563 [==============================] - 4s 3ms/step - loss: 2.6249e-06 - root_mean_squared_error: 0.0016 - val_loss: 1.0383e-06 - val_root_mean_squared_error: 0.0010\n",
            "Epoch 81/150\n",
            "1563/1563 [==============================] - 5s 3ms/step - loss: 2.8693e-06 - root_mean_squared_error: 0.0017 - val_loss: 6.5306e-07 - val_root_mean_squared_error: 8.0812e-04\n",
            "Epoch 82/150\n",
            "1563/1563 [==============================] - 5s 3ms/step - loss: 3.2033e-06 - root_mean_squared_error: 0.0018 - val_loss: 1.7721e-05 - val_root_mean_squared_error: 0.0042\n",
            "Epoch 83/150\n",
            "1563/1563 [==============================] - 5s 3ms/step - loss: 2.0906e-06 - root_mean_squared_error: 0.0014 - val_loss: 4.3136e-06 - val_root_mean_squared_error: 0.0021\n",
            "Epoch 84/150\n",
            "1563/1563 [==============================] - 4s 3ms/step - loss: 2.4573e-06 - root_mean_squared_error: 0.0016 - val_loss: 6.1835e-07 - val_root_mean_squared_error: 7.8635e-04\n",
            "Epoch 85/150\n",
            "1563/1563 [==============================] - 5s 3ms/step - loss: 4.8064e-06 - root_mean_squared_error: 0.0022 - val_loss: 3.6982e-05 - val_root_mean_squared_error: 0.0061\n",
            "Epoch 86/150\n",
            "1563/1563 [==============================] - 4s 3ms/step - loss: 1.5740e-06 - root_mean_squared_error: 0.0013 - val_loss: 4.6659e-07 - val_root_mean_squared_error: 6.8307e-04\n",
            "Epoch 87/150\n",
            "1563/1563 [==============================] - 5s 3ms/step - loss: 2.8308e-06 - root_mean_squared_error: 0.0017 - val_loss: 2.9749e-07 - val_root_mean_squared_error: 5.4542e-04\n",
            "Epoch 88/150\n",
            "1563/1563 [==============================] - 5s 3ms/step - loss: 2.4621e-06 - root_mean_squared_error: 0.0016 - val_loss: 4.1121e-07 - val_root_mean_squared_error: 6.4126e-04\n",
            "Epoch 89/150\n",
            "1563/1563 [==============================] - 5s 3ms/step - loss: 3.9043e-06 - root_mean_squared_error: 0.0020 - val_loss: 5.9380e-07 - val_root_mean_squared_error: 7.7058e-04\n",
            "Epoch 90/150\n",
            "1563/1563 [==============================] - 5s 3ms/step - loss: 1.6442e-06 - root_mean_squared_error: 0.0013 - val_loss: 5.6031e-07 - val_root_mean_squared_error: 7.4854e-04\n",
            "Epoch 91/150\n",
            "1563/1563 [==============================] - 5s 3ms/step - loss: 2.4825e-06 - root_mean_squared_error: 0.0016 - val_loss: 2.6340e-06 - val_root_mean_squared_error: 0.0016\n",
            "Epoch 92/150\n",
            "1563/1563 [==============================] - 5s 3ms/step - loss: 2.2813e-06 - root_mean_squared_error: 0.0015 - val_loss: 1.1928e-05 - val_root_mean_squared_error: 0.0035\n",
            "Epoch 93/150\n",
            "1563/1563 [==============================] - 4s 3ms/step - loss: 2.3830e-06 - root_mean_squared_error: 0.0015 - val_loss: 2.1780e-06 - val_root_mean_squared_error: 0.0015\n",
            "Epoch 94/150\n",
            "1563/1563 [==============================] - 4s 3ms/step - loss: 2.8457e-06 - root_mean_squared_error: 0.0017 - val_loss: 4.3885e-06 - val_root_mean_squared_error: 0.0021\n",
            "Epoch 95/150\n",
            "1563/1563 [==============================] - 4s 3ms/step - loss: 3.7458e-06 - root_mean_squared_error: 0.0019 - val_loss: 4.9083e-07 - val_root_mean_squared_error: 7.0059e-04\n",
            "Epoch 96/150\n",
            "1563/1563 [==============================] - 4s 3ms/step - loss: 1.8684e-06 - root_mean_squared_error: 0.0014 - val_loss: 5.3851e-07 - val_root_mean_squared_error: 7.3383e-04\n",
            "Epoch 97/150\n",
            "1563/1563 [==============================] - 5s 3ms/step - loss: 4.0478e-06 - root_mean_squared_error: 0.0020 - val_loss: 3.5910e-07 - val_root_mean_squared_error: 5.9925e-04\n",
            "Epoch 98/150\n",
            "1563/1563 [==============================] - 4s 3ms/step - loss: 2.3480e-06 - root_mean_squared_error: 0.0015 - val_loss: 6.9159e-06 - val_root_mean_squared_error: 0.0026\n",
            "Epoch 99/150\n",
            "1563/1563 [==============================] - 4s 3ms/step - loss: 3.2282e-06 - root_mean_squared_error: 0.0018 - val_loss: 4.1598e-07 - val_root_mean_squared_error: 6.4497e-04\n",
            "Epoch 100/150\n",
            "1563/1563 [==============================] - 5s 3ms/step - loss: 2.6026e-06 - root_mean_squared_error: 0.0016 - val_loss: 4.5219e-07 - val_root_mean_squared_error: 6.7245e-04\n",
            "Epoch 101/150\n",
            "1563/1563 [==============================] - 4s 3ms/step - loss: 1.7055e-06 - root_mean_squared_error: 0.0013 - val_loss: 4.2666e-06 - val_root_mean_squared_error: 0.0021\n",
            "Epoch 102/150\n",
            "1563/1563 [==============================] - 5s 3ms/step - loss: 2.6286e-06 - root_mean_squared_error: 0.0016 - val_loss: 1.3568e-06 - val_root_mean_squared_error: 0.0012\n",
            "Epoch 103/150\n",
            "1563/1563 [==============================] - 5s 3ms/step - loss: 2.3685e-06 - root_mean_squared_error: 0.0015 - val_loss: 4.8588e-07 - val_root_mean_squared_error: 6.9705e-04\n",
            "Epoch 104/150\n",
            "1563/1563 [==============================] - 4s 3ms/step - loss: 2.8831e-06 - root_mean_squared_error: 0.0017 - val_loss: 3.0430e-07 - val_root_mean_squared_error: 5.5163e-04\n",
            "Epoch 105/150\n",
            "1563/1563 [==============================] - 5s 3ms/step - loss: 1.9464e-06 - root_mean_squared_error: 0.0014 - val_loss: 1.3941e-06 - val_root_mean_squared_error: 0.0012\n",
            "Epoch 106/150\n",
            "1563/1563 [==============================] - 5s 3ms/step - loss: 2.8554e-06 - root_mean_squared_error: 0.0017 - val_loss: 1.2850e-06 - val_root_mean_squared_error: 0.0011\n",
            "Epoch 107/150\n",
            "1563/1563 [==============================] - 5s 3ms/step - loss: 1.9177e-06 - root_mean_squared_error: 0.0014 - val_loss: 1.6329e-06 - val_root_mean_squared_error: 0.0013\n",
            "Epoch 108/150\n",
            "1563/1563 [==============================] - 5s 3ms/step - loss: 2.4198e-06 - root_mean_squared_error: 0.0016 - val_loss: 2.2770e-06 - val_root_mean_squared_error: 0.0015\n",
            "Epoch 109/150\n",
            "1563/1563 [==============================] - 4s 3ms/step - loss: 2.3959e-06 - root_mean_squared_error: 0.0015 - val_loss: 1.7601e-06 - val_root_mean_squared_error: 0.0013\n",
            "Epoch 110/150\n",
            "1563/1563 [==============================] - 5s 3ms/step - loss: 2.4534e-06 - root_mean_squared_error: 0.0016 - val_loss: 5.3684e-07 - val_root_mean_squared_error: 7.3270e-04\n",
            "Epoch 111/150\n",
            "1563/1563 [==============================] - 5s 3ms/step - loss: 2.0920e-06 - root_mean_squared_error: 0.0014 - val_loss: 3.6638e-06 - val_root_mean_squared_error: 0.0019\n",
            "Epoch 112/150\n",
            "1563/1563 [==============================] - 5s 3ms/step - loss: 4.3383e-06 - root_mean_squared_error: 0.0021 - val_loss: 1.0491e-06 - val_root_mean_squared_error: 0.0010\n",
            "Epoch 113/150\n",
            "1563/1563 [==============================] - 5s 3ms/step - loss: 1.9841e-06 - root_mean_squared_error: 0.0014 - val_loss: 9.2338e-07 - val_root_mean_squared_error: 9.6093e-04\n",
            "Epoch 114/150\n",
            "1563/1563 [==============================] - 4s 3ms/step - loss: 3.2054e-06 - root_mean_squared_error: 0.0018 - val_loss: 2.5729e-06 - val_root_mean_squared_error: 0.0016\n",
            "Epoch 115/150\n",
            "1563/1563 [==============================] - 4s 3ms/step - loss: 1.8227e-06 - root_mean_squared_error: 0.0014 - val_loss: 2.1620e-05 - val_root_mean_squared_error: 0.0046\n",
            "Epoch 116/150\n",
            "1563/1563 [==============================] - 4s 3ms/step - loss: 2.0404e-06 - root_mean_squared_error: 0.0014 - val_loss: 1.5170e-05 - val_root_mean_squared_error: 0.0039\n",
            "Epoch 117/150\n",
            "1563/1563 [==============================] - 4s 3ms/step - loss: 4.5631e-06 - root_mean_squared_error: 0.0021 - val_loss: 8.0865e-07 - val_root_mean_squared_error: 8.9925e-04\n",
            "Epoch 118/150\n",
            "1563/1563 [==============================] - 4s 3ms/step - loss: 1.5396e-06 - root_mean_squared_error: 0.0012 - val_loss: 1.7469e-06 - val_root_mean_squared_error: 0.0013\n",
            "Epoch 119/150\n",
            "1563/1563 [==============================] - 4s 3ms/step - loss: 2.2757e-06 - root_mean_squared_error: 0.0015 - val_loss: 3.2009e-06 - val_root_mean_squared_error: 0.0018\n",
            "Epoch 120/150\n",
            "1563/1563 [==============================] - 5s 3ms/step - loss: 3.1859e-06 - root_mean_squared_error: 0.0018 - val_loss: 7.4709e-07 - val_root_mean_squared_error: 8.6435e-04\n",
            "Epoch 121/150\n",
            "1563/1563 [==============================] - 5s 3ms/step - loss: 2.4658e-06 - root_mean_squared_error: 0.0016 - val_loss: 1.3467e-06 - val_root_mean_squared_error: 0.0012\n",
            "Epoch 122/150\n",
            "1563/1563 [==============================] - 5s 3ms/step - loss: 2.9327e-06 - root_mean_squared_error: 0.0017 - val_loss: 3.6964e-07 - val_root_mean_squared_error: 6.0798e-04\n",
            "Epoch 123/150\n",
            "1563/1563 [==============================] - 5s 3ms/step - loss: 2.4998e-06 - root_mean_squared_error: 0.0016 - val_loss: 4.6485e-07 - val_root_mean_squared_error: 6.8180e-04\n",
            "Epoch 124/150\n",
            "1563/1563 [==============================] - 5s 3ms/step - loss: 3.4777e-06 - root_mean_squared_error: 0.0019 - val_loss: 9.7123e-07 - val_root_mean_squared_error: 9.8551e-04\n",
            "Epoch 125/150\n",
            "1563/1563 [==============================] - 4s 3ms/step - loss: 1.2508e-06 - root_mean_squared_error: 0.0011 - val_loss: 4.3336e-07 - val_root_mean_squared_error: 6.5830e-04\n",
            "Epoch 126/150\n",
            "1563/1563 [==============================] - 5s 3ms/step - loss: 2.5580e-06 - root_mean_squared_error: 0.0016 - val_loss: 4.2236e-06 - val_root_mean_squared_error: 0.0021\n",
            "Epoch 127/150\n",
            "1563/1563 [==============================] - 4s 3ms/step - loss: 3.1481e-06 - root_mean_squared_error: 0.0018 - val_loss: 4.3366e-07 - val_root_mean_squared_error: 6.5853e-04\n",
            "Epoch 128/150\n",
            "1563/1563 [==============================] - 4s 3ms/step - loss: 2.1764e-06 - root_mean_squared_error: 0.0015 - val_loss: 4.9677e-07 - val_root_mean_squared_error: 7.0482e-04\n",
            "Epoch 129/150\n",
            "1563/1563 [==============================] - 5s 3ms/step - loss: 2.3077e-06 - root_mean_squared_error: 0.0015 - val_loss: 4.4822e-07 - val_root_mean_squared_error: 6.6949e-04\n",
            "Epoch 130/150\n",
            "1563/1563 [==============================] - 5s 3ms/step - loss: 4.0837e-06 - root_mean_squared_error: 0.0020 - val_loss: 2.6711e-06 - val_root_mean_squared_error: 0.0016\n",
            "Epoch 131/150\n",
            "1563/1563 [==============================] - 5s 3ms/step - loss: 1.8186e-06 - root_mean_squared_error: 0.0013 - val_loss: 1.0351e-06 - val_root_mean_squared_error: 0.0010\n",
            "Epoch 132/150\n",
            "1563/1563 [==============================] - 4s 3ms/step - loss: 2.2462e-06 - root_mean_squared_error: 0.0015 - val_loss: 2.3062e-06 - val_root_mean_squared_error: 0.0015\n",
            "Epoch 133/150\n",
            "1563/1563 [==============================] - 5s 3ms/step - loss: 2.5106e-06 - root_mean_squared_error: 0.0016 - val_loss: 2.8279e-07 - val_root_mean_squared_error: 5.3178e-04\n",
            "Epoch 134/150\n",
            "1563/1563 [==============================] - 4s 3ms/step - loss: 2.5742e-06 - root_mean_squared_error: 0.0016 - val_loss: 2.4576e-06 - val_root_mean_squared_error: 0.0016\n",
            "Epoch 135/150\n",
            "1563/1563 [==============================] - 4s 3ms/step - loss: 2.9681e-06 - root_mean_squared_error: 0.0017 - val_loss: 2.3069e-06 - val_root_mean_squared_error: 0.0015\n",
            "Epoch 136/150\n",
            "1563/1563 [==============================] - 4s 3ms/step - loss: 2.2554e-06 - root_mean_squared_error: 0.0015 - val_loss: 3.3767e-07 - val_root_mean_squared_error: 5.8109e-04\n",
            "Epoch 137/150\n",
            "1563/1563 [==============================] - 4s 3ms/step - loss: 2.1852e-06 - root_mean_squared_error: 0.0015 - val_loss: 6.7610e-07 - val_root_mean_squared_error: 8.2226e-04\n",
            "Epoch 138/150\n",
            "1563/1563 [==============================] - 5s 3ms/step - loss: 6.0417e-06 - root_mean_squared_error: 0.0025 - val_loss: 4.2246e-07 - val_root_mean_squared_error: 6.4997e-04\n",
            "Epoch 139/150\n",
            "1563/1563 [==============================] - 5s 3ms/step - loss: 1.0065e-06 - root_mean_squared_error: 0.0010 - val_loss: 3.0147e-07 - val_root_mean_squared_error: 5.4907e-04\n",
            "Epoch 140/150\n",
            "1563/1563 [==============================] - 4s 3ms/step - loss: 1.6902e-06 - root_mean_squared_error: 0.0013 - val_loss: 4.1254e-07 - val_root_mean_squared_error: 6.4230e-04\n",
            "Epoch 141/150\n",
            "1563/1563 [==============================] - 5s 3ms/step - loss: 2.7211e-06 - root_mean_squared_error: 0.0016 - val_loss: 4.3036e-07 - val_root_mean_squared_error: 6.5602e-04\n",
            "Epoch 142/150\n",
            "1563/1563 [==============================] - 4s 3ms/step - loss: 2.7191e-06 - root_mean_squared_error: 0.0016 - val_loss: 4.3896e-06 - val_root_mean_squared_error: 0.0021\n",
            "Epoch 143/150\n",
            "1563/1563 [==============================] - 5s 3ms/step - loss: 2.3965e-06 - root_mean_squared_error: 0.0015 - val_loss: 5.3365e-07 - val_root_mean_squared_error: 7.3051e-04\n",
            "Epoch 144/150\n",
            "1563/1563 [==============================] - 4s 3ms/step - loss: 4.5463e-06 - root_mean_squared_error: 0.0021 - val_loss: 5.4777e-07 - val_root_mean_squared_error: 7.4012e-04\n",
            "Epoch 145/150\n",
            "1563/1563 [==============================] - 4s 3ms/step - loss: 1.3940e-06 - root_mean_squared_error: 0.0012 - val_loss: 1.3685e-06 - val_root_mean_squared_error: 0.0012\n",
            "Epoch 146/150\n",
            "1563/1563 [==============================] - 4s 3ms/step - loss: 1.6888e-06 - root_mean_squared_error: 0.0013 - val_loss: 1.2960e-06 - val_root_mean_squared_error: 0.0011\n",
            "Epoch 147/150\n",
            "1563/1563 [==============================] - 4s 3ms/step - loss: 2.2653e-06 - root_mean_squared_error: 0.0015 - val_loss: 9.1883e-06 - val_root_mean_squared_error: 0.0030\n",
            "Epoch 148/150\n",
            "1563/1563 [==============================] - 5s 3ms/step - loss: 1.8569e-06 - root_mean_squared_error: 0.0014 - val_loss: 5.9626e-07 - val_root_mean_squared_error: 7.7218e-04\n",
            "Epoch 149/150\n",
            "1563/1563 [==============================] - 4s 3ms/step - loss: 1.9952e-06 - root_mean_squared_error: 0.0014 - val_loss: 5.1561e-07 - val_root_mean_squared_error: 7.1806e-04\n",
            "Epoch 150/150\n",
            "1563/1563 [==============================] - 5s 3ms/step - loss: 2.3943e-06 - root_mean_squared_error: 0.0015 - val_loss: 6.6901e-07 - val_root_mean_squared_error: 8.1793e-04\n"
          ]
        }
      ],
      "source": [
        "history = model.fit(X_train, y_train,\n",
        "                    batch_size=32,                # Training of Model along with Validation data\n",
        "                    epochs=150,\n",
        "                    validation_data=(X_valid, y_valid))"
      ]
    },
    {
      "cell_type": "code",
      "execution_count": null,
      "metadata": {
        "id": "sqyA-7xnL7pf",
        "outputId": "13c008a3-9889-48d7-9053-3f84501bcd88",
        "colab": {
          "base_uri": "https://localhost:8080/",
          "height": 282
        }
      },
      "outputs": [
        {
          "output_type": "display_data",
          "data": {
            "text/plain": [
              "<Figure size 432x288 with 1 Axes>"
            ],
            "image/png": "[encoded data removed]"
          },
          "metadata": {}
        }
      ],
      "source": [
        "plot_history(['root_mean_squared_error', 'val_root_mean_squared_error'])   "
      ]
    },
    {
      "cell_type": "code",
      "execution_count": null,
      "metadata": {
        "id": "bT-rIqaFL7pf",
        "outputId": "4308d439-9073-41e2-cf12-09c7019c4582",
        "colab": {
          "base_uri": "https://localhost:8080/"
        }
      },
      "outputs": [
        {
          "output_type": "stream",
          "name": "stdout",
          "text": [
            "the R2 score for training set of the adam model case 2 is : 0.9999899099903802\n"
          ]
        }
      ],
      "source": [
        "from sklearn.metrics import r2_score\n",
        "r2_score_training_set_for_adam_model_case_2= r2_score(y_train, y_train_predicted)\n",
        "print(\"the R2 score for training set of the adam model case 2 is :\", r2_score_training_set_for_adam_model_case_2)"
      ]
    },
    {
      "cell_type": "code",
      "execution_count": null,
      "metadata": {
        "id": "MqE9bVyUL7pf",
        "outputId": "3e199b79-985d-4e0e-a6db-097348d84b6b",
        "colab": {
          "base_uri": "https://localhost:8080/"
        }
      },
      "outputs": [
        {
          "output_type": "stream",
          "name": "stdout",
          "text": [
            "the r2 score for testing set of adam model case 2 is: 0.9999899916180602\n"
          ]
        }
      ],
      "source": [
        "r2_score_testing_set_adam_model_case_2= r2_score(y_test, y_test_predicted)\n",
        "print(\"the r2 score for testing set of adam model case 2 is:\", r2_score_testing_set_adam_model_case_2)"
      ]
    },
    {
      "cell_type": "markdown",
      "metadata": {
        "id": "8SD7d0BdXfPG"
      },
      "source": [
        "# RMSprop Model case 2"
      ]
    },
    {
      "cell_type": "code",
      "execution_count": null,
      "metadata": {
        "id": "BUtOtC-SXfPG"
      },
      "outputs": [],
      "source": [
        "from tensorflow import keras    \n",
        "\n",
        "def create_nn():     #function of NN model creation\n",
        "    # Input layer\n",
        "    inputs = keras.Input(shape=(X.shape[1],), name='input')      # Since n= 4,  in input layer shape= 4--->X.shape[1]\n",
        "\n",
        "    # Dense layers                                              # hidden layers\n",
        "    layers_dense = keras.layers.Dense(64, 'linear')(inputs)          # here 20(nodes) --->units    # Activation_function -->sigmoid\n",
        "    layers_dense = keras.layers.Dense(128, 'relu')(layers_dense)  \n",
        "    layers_dense = keras.layers.Dense(128, 'relu')(layers_dense)  \n",
        "    layers_dense = keras.layers.Dense(1, 'linear')(layers_dense)  \n",
        "    # Output layer\n",
        "    outputs = keras.layers.Dense(1)(layers_dense)              # only one node for output layer\n",
        "\n",
        "    return keras.Model(inputs=inputs, outputs=outputs, name=\"Prediction\")\n",
        "\n",
        "model = create_nn()"
      ]
    },
    {
      "cell_type": "code",
      "execution_count": null,
      "metadata": {
        "outputId": "13c9b8e2-b9e2-4a4d-f28c-e276eab6e132",
        "colab": {
          "base_uri": "https://localhost:8080/"
        },
        "id": "qqr3nigkXfPH"
      },
      "outputs": [
        {
          "output_type": "stream",
          "name": "stdout",
          "text": [
            "Model: \"Prediction\"\n",
            "_________________________________________________________________\n",
            " Layer (type)                Output Shape              Param #   \n",
            "=================================================================\n",
            " input (InputLayer)          [(None, 4)]               0         \n",
            "                                                                 \n",
            " dense_5 (Dense)             (None, 64)                320       \n",
            "                                                                 \n",
            " dense_6 (Dense)             (None, 128)               8320      \n",
            "                                                                 \n",
            " dense_7 (Dense)             (None, 128)               16512     \n",
            "                                                                 \n",
            " dense_8 (Dense)             (None, 1)                 129       \n",
            "                                                                 \n",
            " dense_9 (Dense)             (None, 1)                 2         \n",
            "                                                                 \n",
            "=================================================================\n",
            "Total params: 25,283\n",
            "Trainable params: 25,283\n",
            "Non-trainable params: 0\n",
            "_________________________________________________________________\n"
          ]
        }
      ],
      "source": [
        "model.summary()      # return the summary of all layers of model"
      ]
    },
    {
      "cell_type": "code",
      "execution_count": null,
      "metadata": {
        "id": "suPZ8jrpXfPH"
      },
      "outputs": [],
      "source": [
        "def compile_model(model):\n",
        "    model.compile(optimizer='RMSprop',\n",
        "                  loss='mse',      #mse---> mean square error\n",
        "                  metrics=[keras.metrics.RootMeanSquaredError()])\n",
        "compile_model(model)"
      ]
    },
    {
      "cell_type": "code",
      "execution_count": null,
      "metadata": {
        "outputId": "6a15ad89-dcc2-4618-d1c2-ec49fa8e9d16",
        "colab": {
          "base_uri": "https://localhost:8080/"
        },
        "id": "6Tm4fCt3XfPH"
      },
      "outputs": [
        {
          "output_type": "stream",
          "name": "stdout",
          "text": [
            "Epoch 1/150\n",
            "1563/1563 [==============================] - 4s 2ms/step - loss: 0.0094 - root_mean_squared_error: 0.0969\n",
            "Epoch 2/150\n",
            "1563/1563 [==============================] - 3s 2ms/step - loss: 0.0012 - root_mean_squared_error: 0.0347\n",
            "Epoch 3/150\n",
            "1563/1563 [==============================] - 3s 2ms/step - loss: 7.1971e-04 - root_mean_squared_error: 0.0268\n",
            "Epoch 4/150\n",
            "1563/1563 [==============================] - 3s 2ms/step - loss: 5.5927e-04 - root_mean_squared_error: 0.0236\n",
            "Epoch 5/150\n",
            "1563/1563 [==============================] - 3s 2ms/step - loss: 4.5539e-04 - root_mean_squared_error: 0.0213\n",
            "Epoch 6/150\n",
            "1563/1563 [==============================] - 3s 2ms/step - loss: 3.8815e-04 - root_mean_squared_error: 0.0197\n",
            "Epoch 7/150\n",
            "1563/1563 [==============================] - 3s 2ms/step - loss: 3.4685e-04 - root_mean_squared_error: 0.0186\n",
            "Epoch 8/150\n",
            "1563/1563 [==============================] - 3s 2ms/step - loss: 3.1578e-04 - root_mean_squared_error: 0.0178\n",
            "Epoch 9/150\n",
            "1563/1563 [==============================] - 4s 2ms/step - loss: 2.8928e-04 - root_mean_squared_error: 0.0170\n",
            "Epoch 10/150\n",
            "1563/1563 [==============================] - 3s 2ms/step - loss: 2.6761e-04 - root_mean_squared_error: 0.0164\n",
            "Epoch 11/150\n",
            "1563/1563 [==============================] - 3s 2ms/step - loss: 2.4813e-04 - root_mean_squared_error: 0.0158\n",
            "Epoch 12/150\n",
            "1563/1563 [==============================] - 3s 2ms/step - loss: 2.3252e-04 - root_mean_squared_error: 0.0152\n",
            "Epoch 13/150\n",
            "1563/1563 [==============================] - 3s 2ms/step - loss: 2.2148e-04 - root_mean_squared_error: 0.0149\n",
            "Epoch 14/150\n",
            "1563/1563 [==============================] - 3s 2ms/step - loss: 2.0648e-04 - root_mean_squared_error: 0.0144\n",
            "Epoch 15/150\n",
            "1563/1563 [==============================] - 3s 2ms/step - loss: 1.9894e-04 - root_mean_squared_error: 0.0141\n",
            "Epoch 16/150\n",
            "1563/1563 [==============================] - 3s 2ms/step - loss: 1.8997e-04 - root_mean_squared_error: 0.0138\n",
            "Epoch 17/150\n",
            "1563/1563 [==============================] - 3s 2ms/step - loss: 1.8038e-04 - root_mean_squared_error: 0.0134\n",
            "Epoch 18/150\n",
            "1563/1563 [==============================] - 3s 2ms/step - loss: 1.7179e-04 - root_mean_squared_error: 0.0131\n",
            "Epoch 19/150\n",
            "1563/1563 [==============================] - 3s 2ms/step - loss: 1.6600e-04 - root_mean_squared_error: 0.0129\n",
            "Epoch 20/150\n",
            "1563/1563 [==============================] - 3s 2ms/step - loss: 1.5882e-04 - root_mean_squared_error: 0.0126\n",
            "Epoch 21/150\n",
            "1563/1563 [==============================] - 3s 2ms/step - loss: 1.5302e-04 - root_mean_squared_error: 0.0124\n",
            "Epoch 22/150\n",
            "1563/1563 [==============================] - 3s 2ms/step - loss: 1.4784e-04 - root_mean_squared_error: 0.0122\n",
            "Epoch 23/150\n",
            "1563/1563 [==============================] - 3s 2ms/step - loss: 1.4191e-04 - root_mean_squared_error: 0.0119\n",
            "Epoch 24/150\n",
            "1563/1563 [==============================] - 3s 2ms/step - loss: 1.3898e-04 - root_mean_squared_error: 0.0118\n",
            "Epoch 25/150\n",
            "1563/1563 [==============================] - 3s 2ms/step - loss: 1.3181e-04 - root_mean_squared_error: 0.0115\n",
            "Epoch 26/150\n",
            "1563/1563 [==============================] - 3s 2ms/step - loss: 1.3010e-04 - root_mean_squared_error: 0.0114\n",
            "Epoch 27/150\n",
            "1563/1563 [==============================] - 3s 2ms/step - loss: 1.2472e-04 - root_mean_squared_error: 0.0112\n",
            "Epoch 28/150\n",
            "1563/1563 [==============================] - 3s 2ms/step - loss: 1.1998e-04 - root_mean_squared_error: 0.0110\n",
            "Epoch 29/150\n",
            "1563/1563 [==============================] - 3s 2ms/step - loss: 1.1879e-04 - root_mean_squared_error: 0.0109\n",
            "Epoch 30/150\n",
            "1563/1563 [==============================] - 3s 2ms/step - loss: 1.1530e-04 - root_mean_squared_error: 0.0107\n",
            "Epoch 31/150\n",
            "1563/1563 [==============================] - 3s 2ms/step - loss: 1.0895e-04 - root_mean_squared_error: 0.0104\n",
            "Epoch 32/150\n",
            "1563/1563 [==============================] - 3s 2ms/step - loss: 1.0777e-04 - root_mean_squared_error: 0.0104\n",
            "Epoch 33/150\n",
            "1563/1563 [==============================] - 3s 2ms/step - loss: 1.0426e-04 - root_mean_squared_error: 0.0102\n",
            "Epoch 34/150\n",
            "1563/1563 [==============================] - 3s 2ms/step - loss: 1.0259e-04 - root_mean_squared_error: 0.0101\n",
            "Epoch 35/150\n",
            "1563/1563 [==============================] - 3s 2ms/step - loss: 9.8536e-05 - root_mean_squared_error: 0.0099\n",
            "Epoch 36/150\n",
            "1563/1563 [==============================] - 3s 2ms/step - loss: 9.7474e-05 - root_mean_squared_error: 0.0099\n",
            "Epoch 37/150\n",
            "1563/1563 [==============================] - 3s 2ms/step - loss: 9.4662e-05 - root_mean_squared_error: 0.0097\n",
            "Epoch 38/150\n",
            "1563/1563 [==============================] - 3s 2ms/step - loss: 9.4313e-05 - root_mean_squared_error: 0.0097\n",
            "Epoch 39/150\n",
            "1563/1563 [==============================] - 3s 2ms/step - loss: 9.1482e-05 - root_mean_squared_error: 0.0096\n",
            "Epoch 40/150\n",
            "1563/1563 [==============================] - 3s 2ms/step - loss: 8.9446e-05 - root_mean_squared_error: 0.0095\n",
            "Epoch 41/150\n",
            "1563/1563 [==============================] - 3s 2ms/step - loss: 8.7266e-05 - root_mean_squared_error: 0.0093\n",
            "Epoch 42/150\n",
            "1563/1563 [==============================] - 3s 2ms/step - loss: 8.5641e-05 - root_mean_squared_error: 0.0093\n",
            "Epoch 43/150\n",
            "1563/1563 [==============================] - 3s 2ms/step - loss: 8.4775e-05 - root_mean_squared_error: 0.0092\n",
            "Epoch 44/150\n",
            "1563/1563 [==============================] - 3s 2ms/step - loss: 8.3493e-05 - root_mean_squared_error: 0.0091\n",
            "Epoch 45/150\n",
            "1563/1563 [==============================] - 3s 2ms/step - loss: 8.2084e-05 - root_mean_squared_error: 0.0091\n",
            "Epoch 46/150\n",
            "1563/1563 [==============================] - 3s 2ms/step - loss: 8.0936e-05 - root_mean_squared_error: 0.0090\n",
            "Epoch 47/150\n",
            "1563/1563 [==============================] - 3s 2ms/step - loss: 7.9947e-05 - root_mean_squared_error: 0.0089\n",
            "Epoch 48/150\n",
            "1563/1563 [==============================] - 3s 2ms/step - loss: 7.8958e-05 - root_mean_squared_error: 0.0089\n",
            "Epoch 49/150\n",
            "1563/1563 [==============================] - 3s 2ms/step - loss: 7.6005e-05 - root_mean_squared_error: 0.0087\n",
            "Epoch 50/150\n",
            "1563/1563 [==============================] - 3s 2ms/step - loss: 7.5036e-05 - root_mean_squared_error: 0.0087\n",
            "Epoch 51/150\n",
            "1563/1563 [==============================] - 3s 2ms/step - loss: 7.4409e-05 - root_mean_squared_error: 0.0086\n",
            "Epoch 52/150\n",
            "1563/1563 [==============================] - 3s 2ms/step - loss: 7.2264e-05 - root_mean_squared_error: 0.0085\n",
            "Epoch 53/150\n",
            "1563/1563 [==============================] - 3s 2ms/step - loss: 7.2260e-05 - root_mean_squared_error: 0.0085\n",
            "Epoch 54/150\n",
            "1563/1563 [==============================] - 3s 2ms/step - loss: 6.9321e-05 - root_mean_squared_error: 0.0083\n",
            "Epoch 55/150\n",
            "1563/1563 [==============================] - 3s 2ms/step - loss: 6.9772e-05 - root_mean_squared_error: 0.0084\n",
            "Epoch 56/150\n",
            "1563/1563 [==============================] - 3s 2ms/step - loss: 6.8955e-05 - root_mean_squared_error: 0.0083\n",
            "Epoch 57/150\n",
            "1563/1563 [==============================] - 3s 2ms/step - loss: 6.7347e-05 - root_mean_squared_error: 0.0082\n",
            "Epoch 58/150\n",
            "1563/1563 [==============================] - 3s 2ms/step - loss: 6.6196e-05 - root_mean_squared_error: 0.0081\n",
            "Epoch 59/150\n",
            "1563/1563 [==============================] - 3s 2ms/step - loss: 6.5425e-05 - root_mean_squared_error: 0.0081\n",
            "Epoch 60/150\n",
            "1563/1563 [==============================] - 3s 2ms/step - loss: 6.3834e-05 - root_mean_squared_error: 0.0080\n",
            "Epoch 61/150\n",
            "1563/1563 [==============================] - 3s 2ms/step - loss: 6.3017e-05 - root_mean_squared_error: 0.0079\n",
            "Epoch 62/150\n",
            "1563/1563 [==============================] - 3s 2ms/step - loss: 6.1814e-05 - root_mean_squared_error: 0.0079\n",
            "Epoch 63/150\n",
            "1563/1563 [==============================] - 3s 2ms/step - loss: 6.1554e-05 - root_mean_squared_error: 0.0078\n",
            "Epoch 64/150\n",
            "1563/1563 [==============================] - 3s 2ms/step - loss: 6.0959e-05 - root_mean_squared_error: 0.0078\n",
            "Epoch 65/150\n",
            "1563/1563 [==============================] - 3s 2ms/step - loss: 6.0688e-05 - root_mean_squared_error: 0.0078\n",
            "Epoch 66/150\n",
            "1563/1563 [==============================] - 3s 2ms/step - loss: 6.1468e-05 - root_mean_squared_error: 0.0078\n",
            "Epoch 67/150\n",
            "1563/1563 [==============================] - 3s 2ms/step - loss: 5.8399e-05 - root_mean_squared_error: 0.0076\n",
            "Epoch 68/150\n",
            "1563/1563 [==============================] - 3s 2ms/step - loss: 5.8069e-05 - root_mean_squared_error: 0.0076\n",
            "Epoch 69/150\n",
            "1563/1563 [==============================] - 3s 2ms/step - loss: 5.7788e-05 - root_mean_squared_error: 0.0076\n",
            "Epoch 70/150\n",
            "1563/1563 [==============================] - 3s 2ms/step - loss: 5.7866e-05 - root_mean_squared_error: 0.0076\n",
            "Epoch 71/150\n",
            "1563/1563 [==============================] - 3s 2ms/step - loss: 5.5920e-05 - root_mean_squared_error: 0.0075\n",
            "Epoch 72/150\n",
            "1563/1563 [==============================] - 3s 2ms/step - loss: 5.6123e-05 - root_mean_squared_error: 0.0075\n",
            "Epoch 73/150\n",
            "1563/1563 [==============================] - 3s 2ms/step - loss: 5.5874e-05 - root_mean_squared_error: 0.0075\n",
            "Epoch 74/150\n",
            "1563/1563 [==============================] - 3s 2ms/step - loss: 5.3990e-05 - root_mean_squared_error: 0.0073\n",
            "Epoch 75/150\n",
            "1563/1563 [==============================] - 3s 2ms/step - loss: 5.4604e-05 - root_mean_squared_error: 0.0074\n",
            "Epoch 76/150\n",
            "1563/1563 [==============================] - 3s 2ms/step - loss: 5.4150e-05 - root_mean_squared_error: 0.0074\n",
            "Epoch 77/150\n",
            "1563/1563 [==============================] - 3s 2ms/step - loss: 5.2189e-05 - root_mean_squared_error: 0.0072\n",
            "Epoch 78/150\n",
            "1563/1563 [==============================] - 3s 2ms/step - loss: 5.2354e-05 - root_mean_squared_error: 0.0072\n",
            "Epoch 79/150\n",
            "1563/1563 [==============================] - 3s 2ms/step - loss: 5.1771e-05 - root_mean_squared_error: 0.0072\n",
            "Epoch 80/150\n",
            "1563/1563 [==============================] - 3s 2ms/step - loss: 5.1302e-05 - root_mean_squared_error: 0.0072\n",
            "Epoch 81/150\n",
            "1563/1563 [==============================] - 3s 2ms/step - loss: 5.0217e-05 - root_mean_squared_error: 0.0071\n",
            "Epoch 82/150\n",
            "1563/1563 [==============================] - 3s 2ms/step - loss: 5.0015e-05 - root_mean_squared_error: 0.0071\n",
            "Epoch 83/150\n",
            "1563/1563 [==============================] - 3s 2ms/step - loss: 5.0126e-05 - root_mean_squared_error: 0.0071\n",
            "Epoch 84/150\n",
            "1563/1563 [==============================] - 3s 2ms/step - loss: 4.8861e-05 - root_mean_squared_error: 0.0070\n",
            "Epoch 85/150\n",
            "1563/1563 [==============================] - 3s 2ms/step - loss: 4.8167e-05 - root_mean_squared_error: 0.0069\n",
            "Epoch 86/150\n",
            "1563/1563 [==============================] - 3s 2ms/step - loss: 4.8229e-05 - root_mean_squared_error: 0.0069\n",
            "Epoch 87/150\n",
            "1563/1563 [==============================] - 3s 2ms/step - loss: 4.7575e-05 - root_mean_squared_error: 0.0069\n",
            "Epoch 88/150\n",
            "1563/1563 [==============================] - 3s 2ms/step - loss: 4.7122e-05 - root_mean_squared_error: 0.0069\n",
            "Epoch 89/150\n",
            "1563/1563 [==============================] - 3s 2ms/step - loss: 4.6861e-05 - root_mean_squared_error: 0.0068\n",
            "Epoch 90/150\n",
            "1563/1563 [==============================] - 3s 2ms/step - loss: 4.5694e-05 - root_mean_squared_error: 0.0068\n",
            "Epoch 91/150\n",
            "1563/1563 [==============================] - 3s 2ms/step - loss: 4.6050e-05 - root_mean_squared_error: 0.0068\n",
            "Epoch 92/150\n",
            "1563/1563 [==============================] - 3s 2ms/step - loss: 4.5106e-05 - root_mean_squared_error: 0.0067\n",
            "Epoch 93/150\n",
            "1563/1563 [==============================] - 3s 2ms/step - loss: 4.4961e-05 - root_mean_squared_error: 0.0067\n",
            "Epoch 94/150\n",
            "1563/1563 [==============================] - 3s 2ms/step - loss: 4.5165e-05 - root_mean_squared_error: 0.0067\n",
            "Epoch 95/150\n",
            "1563/1563 [==============================] - 3s 2ms/step - loss: 4.3761e-05 - root_mean_squared_error: 0.0066\n",
            "Epoch 96/150\n",
            "1563/1563 [==============================] - 3s 2ms/step - loss: 4.3434e-05 - root_mean_squared_error: 0.0066\n",
            "Epoch 97/150\n",
            "1563/1563 [==============================] - 3s 2ms/step - loss: 4.3048e-05 - root_mean_squared_error: 0.0066\n",
            "Epoch 98/150\n",
            "1563/1563 [==============================] - 3s 2ms/step - loss: 4.2789e-05 - root_mean_squared_error: 0.0065\n",
            "Epoch 99/150\n",
            "1563/1563 [==============================] - 3s 2ms/step - loss: 4.1950e-05 - root_mean_squared_error: 0.0065\n",
            "Epoch 100/150\n",
            "1563/1563 [==============================] - 3s 2ms/step - loss: 4.1960e-05 - root_mean_squared_error: 0.0065\n",
            "Epoch 101/150\n",
            "1563/1563 [==============================] - 3s 2ms/step - loss: 4.1762e-05 - root_mean_squared_error: 0.0065\n",
            "Epoch 102/150\n",
            "1563/1563 [==============================] - 3s 2ms/step - loss: 4.0547e-05 - root_mean_squared_error: 0.0064\n",
            "Epoch 103/150\n",
            "1563/1563 [==============================] - 3s 2ms/step - loss: 4.0624e-05 - root_mean_squared_error: 0.0064\n",
            "Epoch 104/150\n",
            "1563/1563 [==============================] - 3s 2ms/step - loss: 4.1518e-05 - root_mean_squared_error: 0.0064\n",
            "Epoch 105/150\n",
            "1563/1563 [==============================] - 3s 2ms/step - loss: 4.0518e-05 - root_mean_squared_error: 0.0064\n",
            "Epoch 106/150\n",
            "1563/1563 [==============================] - 3s 2ms/step - loss: 4.0098e-05 - root_mean_squared_error: 0.0063\n",
            "Epoch 107/150\n",
            "1563/1563 [==============================] - 4s 3ms/step - loss: 3.9357e-05 - root_mean_squared_error: 0.0063\n",
            "Epoch 108/150\n",
            "1563/1563 [==============================] - 3s 2ms/step - loss: 3.8936e-05 - root_mean_squared_error: 0.0062\n",
            "Epoch 109/150\n",
            "1563/1563 [==============================] - 3s 2ms/step - loss: 3.9060e-05 - root_mean_squared_error: 0.0062\n",
            "Epoch 110/150\n",
            "1563/1563 [==============================] - 3s 2ms/step - loss: 3.8786e-05 - root_mean_squared_error: 0.0062\n",
            "Epoch 111/150\n",
            "1563/1563 [==============================] - 3s 2ms/step - loss: 3.8054e-05 - root_mean_squared_error: 0.0062\n",
            "Epoch 112/150\n",
            "1563/1563 [==============================] - 3s 2ms/step - loss: 3.8165e-05 - root_mean_squared_error: 0.0062\n",
            "Epoch 113/150\n",
            "1563/1563 [==============================] - 3s 2ms/step - loss: 3.7591e-05 - root_mean_squared_error: 0.0061\n",
            "Epoch 114/150\n",
            "1563/1563 [==============================] - 3s 2ms/step - loss: 3.7460e-05 - root_mean_squared_error: 0.0061\n",
            "Epoch 115/150\n",
            "1563/1563 [==============================] - 3s 2ms/step - loss: 3.7481e-05 - root_mean_squared_error: 0.0061\n",
            "Epoch 116/150\n",
            "1563/1563 [==============================] - 3s 2ms/step - loss: 3.6447e-05 - root_mean_squared_error: 0.0060\n",
            "Epoch 117/150\n",
            "1563/1563 [==============================] - 3s 2ms/step - loss: 3.6494e-05 - root_mean_squared_error: 0.0060\n",
            "Epoch 118/150\n",
            "1563/1563 [==============================] - 3s 2ms/step - loss: 3.6039e-05 - root_mean_squared_error: 0.0060\n",
            "Epoch 119/150\n",
            "1563/1563 [==============================] - 3s 2ms/step - loss: 3.6139e-05 - root_mean_squared_error: 0.0060\n",
            "Epoch 120/150\n",
            "1563/1563 [==============================] - 3s 2ms/step - loss: 3.5393e-05 - root_mean_squared_error: 0.0059\n",
            "Epoch 121/150\n",
            "1563/1563 [==============================] - 3s 2ms/step - loss: 3.5144e-05 - root_mean_squared_error: 0.0059\n",
            "Epoch 122/150\n",
            "1563/1563 [==============================] - 3s 2ms/step - loss: 3.4946e-05 - root_mean_squared_error: 0.0059\n",
            "Epoch 123/150\n",
            "1563/1563 [==============================] - 3s 2ms/step - loss: 3.4602e-05 - root_mean_squared_error: 0.0059\n",
            "Epoch 124/150\n",
            "1563/1563 [==============================] - 3s 2ms/step - loss: 3.4999e-05 - root_mean_squared_error: 0.0059\n",
            "Epoch 125/150\n",
            "1563/1563 [==============================] - 3s 2ms/step - loss: 3.3474e-05 - root_mean_squared_error: 0.0058\n",
            "Epoch 126/150\n",
            "1563/1563 [==============================] - 3s 2ms/step - loss: 3.4427e-05 - root_mean_squared_error: 0.0059\n",
            "Epoch 127/150\n",
            "1563/1563 [==============================] - 3s 2ms/step - loss: 3.3442e-05 - root_mean_squared_error: 0.0058\n",
            "Epoch 128/150\n",
            "1563/1563 [==============================] - 3s 2ms/step - loss: 3.3302e-05 - root_mean_squared_error: 0.0058\n",
            "Epoch 129/150\n",
            "1563/1563 [==============================] - 3s 2ms/step - loss: 3.3148e-05 - root_mean_squared_error: 0.0058\n",
            "Epoch 130/150\n",
            "1563/1563 [==============================] - 3s 2ms/step - loss: 3.2582e-05 - root_mean_squared_error: 0.0057\n",
            "Epoch 131/150\n",
            "1563/1563 [==============================] - 3s 2ms/step - loss: 3.2407e-05 - root_mean_squared_error: 0.0057\n",
            "Epoch 132/150\n",
            "1563/1563 [==============================] - 3s 2ms/step - loss: 3.2240e-05 - root_mean_squared_error: 0.0057\n",
            "Epoch 133/150\n",
            "1563/1563 [==============================] - 3s 2ms/step - loss: 3.1981e-05 - root_mean_squared_error: 0.0057\n",
            "Epoch 134/150\n",
            "1563/1563 [==============================] - 3s 2ms/step - loss: 3.1572e-05 - root_mean_squared_error: 0.0056\n",
            "Epoch 135/150\n",
            "1563/1563 [==============================] - 3s 2ms/step - loss: 3.0863e-05 - root_mean_squared_error: 0.0056\n",
            "Epoch 136/150\n",
            "1563/1563 [==============================] - 3s 2ms/step - loss: 3.1122e-05 - root_mean_squared_error: 0.0056\n",
            "Epoch 137/150\n",
            "1563/1563 [==============================] - 3s 2ms/step - loss: 3.1529e-05 - root_mean_squared_error: 0.0056\n",
            "Epoch 138/150\n",
            "1563/1563 [==============================] - 3s 2ms/step - loss: 3.0293e-05 - root_mean_squared_error: 0.0055\n",
            "Epoch 139/150\n",
            "1563/1563 [==============================] - 3s 2ms/step - loss: 3.0535e-05 - root_mean_squared_error: 0.0055\n",
            "Epoch 140/150\n",
            "1563/1563 [==============================] - 3s 2ms/step - loss: 3.0443e-05 - root_mean_squared_error: 0.0055\n",
            "Epoch 141/150\n",
            "1563/1563 [==============================] - 3s 2ms/step - loss: 2.9954e-05 - root_mean_squared_error: 0.0055\n",
            "Epoch 142/150\n",
            "1563/1563 [==============================] - 3s 2ms/step - loss: 2.9850e-05 - root_mean_squared_error: 0.0055\n",
            "Epoch 143/150\n",
            "1563/1563 [==============================] - 3s 2ms/step - loss: 3.0474e-05 - root_mean_squared_error: 0.0055\n",
            "Epoch 144/150\n",
            "1563/1563 [==============================] - 3s 2ms/step - loss: 2.9447e-05 - root_mean_squared_error: 0.0054\n",
            "Epoch 145/150\n",
            "1563/1563 [==============================] - 3s 2ms/step - loss: 2.9048e-05 - root_mean_squared_error: 0.0054\n",
            "Epoch 146/150\n",
            "1563/1563 [==============================] - 3s 2ms/step - loss: 2.9020e-05 - root_mean_squared_error: 0.0054\n",
            "Epoch 147/150\n",
            "1563/1563 [==============================] - 3s 2ms/step - loss: 2.8893e-05 - root_mean_squared_error: 0.0054\n",
            "Epoch 148/150\n",
            "1563/1563 [==============================] - 3s 2ms/step - loss: 2.8744e-05 - root_mean_squared_error: 0.0054\n",
            "Epoch 149/150\n",
            "1563/1563 [==============================] - 3s 2ms/step - loss: 2.8566e-05 - root_mean_squared_error: 0.0053\n",
            "Epoch 150/150\n",
            "1563/1563 [==============================] - 3s 2ms/step - loss: 2.8575e-05 - root_mean_squared_error: 0.0053\n"
          ]
        }
      ],
      "source": [
        "history = model.fit(X_train, y_train, batch_size=32, epochs=150)    # epochs--->iteration"
      ]
    },
    {
      "cell_type": "code",
      "execution_count": null,
      "metadata": {
        "outputId": "a4dfe57c-4360-4f28-dd43-cffdcc2b53b0",
        "colab": {
          "base_uri": "https://localhost:8080/",
          "height": 283
        },
        "id": "VA-9tEgXXfPH"
      },
      "outputs": [
        {
          "output_type": "display_data",
          "data": {
            "text/plain": [
              "<Figure size 432x288 with 1 Axes>"
            ],
            "image/png": "[encoded data removed]"
          },
          "metadata": {}
        }
      ],
      "source": [
        "def plot_history(metrics):\n",
        "    history_df = pd.DataFrame.from_dict(history.history)\n",
        "    sns.lineplot(data=history_df[metrics], color= \"r\")\n",
        "    plt.xlabel(\"epochs\")\n",
        "    plt.ylabel(\"RMSE\")\n",
        "plot_history('root_mean_squared_error')"
      ]
    },
    {
      "cell_type": "code",
      "execution_count": null,
      "metadata": {
        "outputId": "7eaba16c-9529-4b47-81d8-1e7a14c4e40c",
        "colab": {
          "base_uri": "https://localhost:8080/"
        },
        "id": "umusR8f0XfPH"
      },
      "outputs": [
        {
          "output_type": "stream",
          "name": "stdout",
          "text": [
            "1563/1563 [==============================] - 2s 1ms/step\n",
            "782/782 [==============================] - 1s 1ms/step\n"
          ]
        }
      ],
      "source": [
        "y_train_predicted = model.predict(X_train)     # y_train predicted\n",
        "y_test_predicted = model.predict(X_test)      #  y_test_predicted"
      ]
    },
    {
      "cell_type": "code",
      "execution_count": null,
      "metadata": {
        "outputId": "d6595cbb-2fb9-4a29-b5ac-0d8b659c52ee",
        "colab": {
          "base_uri": "https://localhost:8080/",
          "height": 299
        },
        "id": "KAu4-Tz4XfPI"
      },
      "outputs": [
        {
          "output_type": "display_data",
          "data": {
            "text/plain": [
              "<Figure size 432x288 with 1 Axes>"
            ],
            "image/png": "[encoded data removed]"
          },
          "metadata": {}
        }
      ],
      "source": [
        "def plot_predictions(y_pred, y_true, title):\n",
        "    plt.style.use('ggplot') \n",
        "    plt.scatter(y_pred, y_true, s=10, alpha=0.5)\n",
        "    plt.xlabel(\"Y_predicted\")\n",
        "    plt.ylabel(\"Y_train\")                          # sactter plot for Y_train_predicted and True_Y_train\n",
        "    plt.title(title)\n",
        "\n",
        "plot_predictions(y_train_predicted, y_train, title='Predictions on the training set')"
      ]
    },
    {
      "cell_type": "code",
      "execution_count": null,
      "metadata": {
        "outputId": "8718fcf0-25fa-460d-a89f-d176a5890dc2",
        "colab": {
          "base_uri": "https://localhost:8080/",
          "height": 299
        },
        "id": "r-nWVXsJXfPI"
      },
      "outputs": [
        {
          "output_type": "display_data",
          "data": {
            "text/plain": [
              "<Figure size 432x288 with 1 Axes>"
            ],
            "image/png": "[encoded data removed]"
          },
          "metadata": {}
        }
      ],
      "source": [
        "plot_predictions(y_test_predicted, y_test, title='Predictions on the test set')    # Plot between Y_test_predicted and True_Y_test_predicted"
      ]
    },
    {
      "cell_type": "code",
      "execution_count": null,
      "metadata": {
        "outputId": "ab7dfb9a-4e54-4803-d090-8f6f69d60ce1",
        "colab": {
          "base_uri": "https://localhost:8080/"
        },
        "id": "Z-EpDw9pXfPI"
      },
      "outputs": [
        {
          "output_type": "stream",
          "name": "stdout",
          "text": [
            "1563/1563 [==============================] - 2s 1ms/step - loss: 8.5888e-06 - root_mean_squared_error: 0.0029\n",
            "782/782 [==============================] - 1s 1ms/step - loss: 8.6477e-06 - root_mean_squared_error: 0.0029\n",
            "Train RMSE: 0.00, Test RMSE: 0.00\n"
          ]
        }
      ],
      "source": [
        "train_metrics = model.evaluate(X_train, y_train, return_dict=True)\n",
        "test_metrics = model.evaluate(X_test, y_test, return_dict=True)\n",
        "print('Train RMSE: {:.2f}, Test RMSE: {:.2f}'.format(train_metrics['root_mean_squared_error'], test_metrics['root_mean_squared_error']))"
      ]
    },
    {
      "cell_type": "code",
      "execution_count": null,
      "metadata": {
        "outputId": "e0ddc780-528d-456d-cc51-30473f18ba42",
        "colab": {
          "base_uri": "https://localhost:8080/"
        },
        "id": "CVeSf1YzXfPI"
      },
      "outputs": [
        {
          "output_type": "stream",
          "name": "stdout",
          "text": [
            "Epoch 1/150\n",
            "1563/1563 [==============================] - 4s 3ms/step - loss: 2.8498e-05 - root_mean_squared_error: 0.0053 - val_loss: 1.6963e-06 - val_root_mean_squared_error: 0.0013\n",
            "Epoch 2/150\n",
            "1563/1563 [==============================] - 4s 3ms/step - loss: 2.8284e-05 - root_mean_squared_error: 0.0053 - val_loss: 2.5826e-05 - val_root_mean_squared_error: 0.0051\n",
            "Epoch 3/150\n",
            "1563/1563 [==============================] - 4s 3ms/step - loss: 2.7523e-05 - root_mean_squared_error: 0.0052 - val_loss: 1.4408e-06 - val_root_mean_squared_error: 0.0012\n",
            "Epoch 4/150\n",
            "1563/1563 [==============================] - 4s 3ms/step - loss: 2.7762e-05 - root_mean_squared_error: 0.0053 - val_loss: 5.4598e-06 - val_root_mean_squared_error: 0.0023\n",
            "Epoch 5/150\n",
            "1563/1563 [==============================] - 4s 3ms/step - loss: 2.7581e-05 - root_mean_squared_error: 0.0053 - val_loss: 1.4192e-06 - val_root_mean_squared_error: 0.0012\n",
            "Epoch 6/150\n",
            "1563/1563 [==============================] - 4s 3ms/step - loss: 2.7667e-05 - root_mean_squared_error: 0.0053 - val_loss: 2.3400e-04 - val_root_mean_squared_error: 0.0153\n",
            "Epoch 7/150\n",
            "1563/1563 [==============================] - 4s 3ms/step - loss: 2.7162e-05 - root_mean_squared_error: 0.0052 - val_loss: 8.2985e-06 - val_root_mean_squared_error: 0.0029\n",
            "Epoch 8/150\n",
            "1563/1563 [==============================] - 4s 3ms/step - loss: 2.7444e-05 - root_mean_squared_error: 0.0052 - val_loss: 1.9841e-05 - val_root_mean_squared_error: 0.0045\n",
            "Epoch 9/150\n",
            "1563/1563 [==============================] - 4s 3ms/step - loss: 2.7063e-05 - root_mean_squared_error: 0.0052 - val_loss: 4.3871e-06 - val_root_mean_squared_error: 0.0021\n",
            "Epoch 10/150\n",
            "1563/1563 [==============================] - 4s 3ms/step - loss: 2.7105e-05 - root_mean_squared_error: 0.0052 - val_loss: 2.3664e-05 - val_root_mean_squared_error: 0.0049\n",
            "Epoch 11/150\n",
            "1563/1563 [==============================] - 6s 4ms/step - loss: 2.6720e-05 - root_mean_squared_error: 0.0052 - val_loss: 2.1050e-05 - val_root_mean_squared_error: 0.0046\n",
            "Epoch 12/150\n",
            "1563/1563 [==============================] - 4s 3ms/step - loss: 2.6460e-05 - root_mean_squared_error: 0.0051 - val_loss: 3.0179e-05 - val_root_mean_squared_error: 0.0055\n",
            "Epoch 13/150\n",
            "1563/1563 [==============================] - 4s 3ms/step - loss: 2.6548e-05 - root_mean_squared_error: 0.0052 - val_loss: 1.9991e-06 - val_root_mean_squared_error: 0.0014\n",
            "Epoch 14/150\n",
            "1563/1563 [==============================] - 4s 3ms/step - loss: 2.5799e-05 - root_mean_squared_error: 0.0051 - val_loss: 7.9108e-05 - val_root_mean_squared_error: 0.0089\n",
            "Epoch 15/150\n",
            "1563/1563 [==============================] - 4s 3ms/step - loss: 2.5877e-05 - root_mean_squared_error: 0.0051 - val_loss: 4.9423e-06 - val_root_mean_squared_error: 0.0022\n",
            "Epoch 16/150\n",
            "1563/1563 [==============================] - 4s 3ms/step - loss: 2.6357e-05 - root_mean_squared_error: 0.0051 - val_loss: 1.4794e-06 - val_root_mean_squared_error: 0.0012\n",
            "Epoch 17/150\n",
            "1563/1563 [==============================] - 4s 3ms/step - loss: 2.5764e-05 - root_mean_squared_error: 0.0051 - val_loss: 1.4418e-06 - val_root_mean_squared_error: 0.0012\n",
            "Epoch 18/150\n",
            "1563/1563 [==============================] - 4s 3ms/step - loss: 2.5361e-05 - root_mean_squared_error: 0.0050 - val_loss: 6.3634e-06 - val_root_mean_squared_error: 0.0025\n",
            "Epoch 19/150\n",
            "1563/1563 [==============================] - 4s 3ms/step - loss: 2.5714e-05 - root_mean_squared_error: 0.0051 - val_loss: 2.3306e-06 - val_root_mean_squared_error: 0.0015\n",
            "Epoch 20/150\n",
            "1563/1563 [==============================] - 4s 3ms/step - loss: 2.5220e-05 - root_mean_squared_error: 0.0050 - val_loss: 2.1315e-04 - val_root_mean_squared_error: 0.0146\n",
            "Epoch 21/150\n",
            "1563/1563 [==============================] - 4s 3ms/step - loss: 2.5166e-05 - root_mean_squared_error: 0.0050 - val_loss: 3.2729e-05 - val_root_mean_squared_error: 0.0057\n",
            "Epoch 22/150\n",
            "1563/1563 [==============================] - 4s 3ms/step - loss: 2.4839e-05 - root_mean_squared_error: 0.0050 - val_loss: 7.2713e-05 - val_root_mean_squared_error: 0.0085\n",
            "Epoch 23/150\n",
            "1563/1563 [==============================] - 4s 3ms/step - loss: 2.4830e-05 - root_mean_squared_error: 0.0050 - val_loss: 2.1360e-05 - val_root_mean_squared_error: 0.0046\n",
            "Epoch 24/150\n",
            "1563/1563 [==============================] - 4s 3ms/step - loss: 2.4860e-05 - root_mean_squared_error: 0.0050 - val_loss: 8.3502e-06 - val_root_mean_squared_error: 0.0029\n",
            "Epoch 25/150\n",
            "1563/1563 [==============================] - 4s 2ms/step - loss: 2.4473e-05 - root_mean_squared_error: 0.0049 - val_loss: 2.6102e-06 - val_root_mean_squared_error: 0.0016\n",
            "Epoch 26/150\n",
            "1563/1563 [==============================] - 4s 3ms/step - loss: 2.4471e-05 - root_mean_squared_error: 0.0049 - val_loss: 1.2737e-05 - val_root_mean_squared_error: 0.0036\n",
            "Epoch 27/150\n",
            "1563/1563 [==============================] - 4s 3ms/step - loss: 2.3896e-05 - root_mean_squared_error: 0.0049 - val_loss: 2.1306e-05 - val_root_mean_squared_error: 0.0046\n",
            "Epoch 28/150\n",
            "1563/1563 [==============================] - 4s 3ms/step - loss: 2.4396e-05 - root_mean_squared_error: 0.0049 - val_loss: 1.2961e-05 - val_root_mean_squared_error: 0.0036\n",
            "Epoch 29/150\n",
            "1563/1563 [==============================] - 4s 3ms/step - loss: 2.4151e-05 - root_mean_squared_error: 0.0049 - val_loss: 9.4338e-05 - val_root_mean_squared_error: 0.0097\n",
            "Epoch 30/150\n",
            "1563/1563 [==============================] - 4s 3ms/step - loss: 2.4110e-05 - root_mean_squared_error: 0.0049 - val_loss: 1.0387e-05 - val_root_mean_squared_error: 0.0032\n",
            "Epoch 31/150\n",
            "1563/1563 [==============================] - 4s 2ms/step - loss: 2.3896e-05 - root_mean_squared_error: 0.0049 - val_loss: 2.7885e-05 - val_root_mean_squared_error: 0.0053\n",
            "Epoch 32/150\n",
            "1563/1563 [==============================] - 4s 2ms/step - loss: 2.3941e-05 - root_mean_squared_error: 0.0049 - val_loss: 4.0103e-05 - val_root_mean_squared_error: 0.0063\n",
            "Epoch 33/150\n",
            "1563/1563 [==============================] - 4s 3ms/step - loss: 2.3678e-05 - root_mean_squared_error: 0.0049 - val_loss: 3.1385e-05 - val_root_mean_squared_error: 0.0056\n",
            "Epoch 34/150\n",
            "1563/1563 [==============================] - 4s 3ms/step - loss: 2.3305e-05 - root_mean_squared_error: 0.0048 - val_loss: 5.7666e-07 - val_root_mean_squared_error: 7.5938e-04\n",
            "Epoch 35/150\n",
            "1563/1563 [==============================] - 4s 3ms/step - loss: 2.3214e-05 - root_mean_squared_error: 0.0048 - val_loss: 1.9411e-05 - val_root_mean_squared_error: 0.0044\n",
            "Epoch 36/150\n",
            "1563/1563 [==============================] - 4s 3ms/step - loss: 2.3442e-05 - root_mean_squared_error: 0.0048 - val_loss: 1.4010e-05 - val_root_mean_squared_error: 0.0037\n",
            "Epoch 37/150\n",
            "1563/1563 [==============================] - 4s 3ms/step - loss: 2.3314e-05 - root_mean_squared_error: 0.0048 - val_loss: 6.3026e-07 - val_root_mean_squared_error: 7.9389e-04\n",
            "Epoch 38/150\n",
            "1563/1563 [==============================] - 4s 3ms/step - loss: 2.3061e-05 - root_mean_squared_error: 0.0048 - val_loss: 1.0425e-05 - val_root_mean_squared_error: 0.0032\n",
            "Epoch 39/150\n",
            "1563/1563 [==============================] - 4s 3ms/step - loss: 2.2878e-05 - root_mean_squared_error: 0.0048 - val_loss: 2.6870e-05 - val_root_mean_squared_error: 0.0052\n",
            "Epoch 40/150\n",
            "1563/1563 [==============================] - 4s 3ms/step - loss: 2.3070e-05 - root_mean_squared_error: 0.0048 - val_loss: 2.0606e-04 - val_root_mean_squared_error: 0.0144\n",
            "Epoch 41/150\n",
            "1563/1563 [==============================] - 4s 3ms/step - loss: 2.2853e-05 - root_mean_squared_error: 0.0048 - val_loss: 1.2363e-05 - val_root_mean_squared_error: 0.0035\n",
            "Epoch 42/150\n",
            "1563/1563 [==============================] - 4s 3ms/step - loss: 2.3003e-05 - root_mean_squared_error: 0.0048 - val_loss: 3.1224e-05 - val_root_mean_squared_error: 0.0056\n",
            "Epoch 43/150\n",
            "1563/1563 [==============================] - 4s 3ms/step - loss: 2.2785e-05 - root_mean_squared_error: 0.0048 - val_loss: 1.0929e-04 - val_root_mean_squared_error: 0.0105\n",
            "Epoch 44/150\n",
            "1563/1563 [==============================] - 4s 3ms/step - loss: 2.2921e-05 - root_mean_squared_error: 0.0048 - val_loss: 2.6559e-06 - val_root_mean_squared_error: 0.0016\n",
            "Epoch 45/150\n",
            "1563/1563 [==============================] - 4s 3ms/step - loss: 2.2736e-05 - root_mean_squared_error: 0.0048 - val_loss: 3.7734e-06 - val_root_mean_squared_error: 0.0019\n",
            "Epoch 46/150\n",
            "1563/1563 [==============================] - 4s 3ms/step - loss: 2.2687e-05 - root_mean_squared_error: 0.0048 - val_loss: 8.0010e-07 - val_root_mean_squared_error: 8.9448e-04\n",
            "Epoch 47/150\n",
            "1563/1563 [==============================] - 4s 3ms/step - loss: 2.2580e-05 - root_mean_squared_error: 0.0048 - val_loss: 1.0658e-06 - val_root_mean_squared_error: 0.0010\n",
            "Epoch 48/150\n",
            "1563/1563 [==============================] - 4s 3ms/step - loss: 2.2602e-05 - root_mean_squared_error: 0.0048 - val_loss: 2.9269e-05 - val_root_mean_squared_error: 0.0054\n",
            "Epoch 49/150\n",
            "1563/1563 [==============================] - 4s 3ms/step - loss: 2.2276e-05 - root_mean_squared_error: 0.0047 - val_loss: 4.3128e-06 - val_root_mean_squared_error: 0.0021\n",
            "Epoch 50/150\n",
            "1563/1563 [==============================] - 4s 3ms/step - loss: 2.2271e-05 - root_mean_squared_error: 0.0047 - val_loss: 2.7751e-06 - val_root_mean_squared_error: 0.0017\n",
            "Epoch 51/150\n",
            "1563/1563 [==============================] - 4s 3ms/step - loss: 2.2215e-05 - root_mean_squared_error: 0.0047 - val_loss: 3.3243e-05 - val_root_mean_squared_error: 0.0058\n",
            "Epoch 52/150\n",
            "1563/1563 [==============================] - 4s 3ms/step - loss: 2.2010e-05 - root_mean_squared_error: 0.0047 - val_loss: 2.7752e-05 - val_root_mean_squared_error: 0.0053\n",
            "Epoch 53/150\n",
            "1563/1563 [==============================] - 4s 3ms/step - loss: 2.2071e-05 - root_mean_squared_error: 0.0047 - val_loss: 4.1453e-06 - val_root_mean_squared_error: 0.0020\n",
            "Epoch 54/150\n",
            "1563/1563 [==============================] - 4s 3ms/step - loss: 2.2018e-05 - root_mean_squared_error: 0.0047 - val_loss: 1.4079e-05 - val_root_mean_squared_error: 0.0038\n",
            "Epoch 55/150\n",
            "1563/1563 [==============================] - 4s 3ms/step - loss: 2.1892e-05 - root_mean_squared_error: 0.0047 - val_loss: 5.4363e-05 - val_root_mean_squared_error: 0.0074\n",
            "Epoch 56/150\n",
            "1563/1563 [==============================] - 5s 3ms/step - loss: 2.1462e-05 - root_mean_squared_error: 0.0046 - val_loss: 1.5229e-06 - val_root_mean_squared_error: 0.0012\n",
            "Epoch 57/150\n",
            "1563/1563 [==============================] - 4s 3ms/step - loss: 2.1996e-05 - root_mean_squared_error: 0.0047 - val_loss: 7.0370e-07 - val_root_mean_squared_error: 8.3887e-04\n",
            "Epoch 58/150\n",
            "1563/1563 [==============================] - 4s 3ms/step - loss: 2.1222e-05 - root_mean_squared_error: 0.0046 - val_loss: 1.4074e-05 - val_root_mean_squared_error: 0.0038\n",
            "Epoch 59/150\n",
            "1563/1563 [==============================] - 4s 3ms/step - loss: 2.1345e-05 - root_mean_squared_error: 0.0046 - val_loss: 8.7837e-05 - val_root_mean_squared_error: 0.0094\n",
            "Epoch 60/150\n",
            "1563/1563 [==============================] - 4s 3ms/step - loss: 2.1554e-05 - root_mean_squared_error: 0.0046 - val_loss: 7.2198e-07 - val_root_mean_squared_error: 8.4970e-04\n",
            "Epoch 61/150\n",
            "1563/1563 [==============================] - 5s 3ms/step - loss: 2.1575e-05 - root_mean_squared_error: 0.0046 - val_loss: 2.7918e-06 - val_root_mean_squared_error: 0.0017\n",
            "Epoch 62/150\n",
            "1563/1563 [==============================] - 4s 3ms/step - loss: 2.1633e-05 - root_mean_squared_error: 0.0047 - val_loss: 3.1970e-06 - val_root_mean_squared_error: 0.0018\n",
            "Epoch 63/150\n",
            "1563/1563 [==============================] - 4s 3ms/step - loss: 2.1087e-05 - root_mean_squared_error: 0.0046 - val_loss: 6.1930e-06 - val_root_mean_squared_error: 0.0025\n",
            "Epoch 64/150\n",
            "1563/1563 [==============================] - 4s 3ms/step - loss: 2.1153e-05 - root_mean_squared_error: 0.0046 - val_loss: 1.4340e-05 - val_root_mean_squared_error: 0.0038\n",
            "Epoch 65/150\n",
            "1563/1563 [==============================] - 4s 3ms/step - loss: 2.0919e-05 - root_mean_squared_error: 0.0046 - val_loss: 1.2862e-05 - val_root_mean_squared_error: 0.0036\n",
            "Epoch 66/150\n",
            "1563/1563 [==============================] - 4s 3ms/step - loss: 2.1059e-05 - root_mean_squared_error: 0.0046 - val_loss: 6.3782e-05 - val_root_mean_squared_error: 0.0080\n",
            "Epoch 67/150\n",
            "1563/1563 [==============================] - 4s 3ms/step - loss: 2.1097e-05 - root_mean_squared_error: 0.0046 - val_loss: 5.2131e-06 - val_root_mean_squared_error: 0.0023\n",
            "Epoch 68/150\n",
            "1563/1563 [==============================] - 4s 3ms/step - loss: 2.0739e-05 - root_mean_squared_error: 0.0046 - val_loss: 7.1654e-06 - val_root_mean_squared_error: 0.0027\n",
            "Epoch 69/150\n",
            "1563/1563 [==============================] - 4s 2ms/step - loss: 2.0575e-05 - root_mean_squared_error: 0.0045 - val_loss: 9.1627e-06 - val_root_mean_squared_error: 0.0030\n",
            "Epoch 70/150\n",
            "1563/1563 [==============================] - 4s 3ms/step - loss: 2.0944e-05 - root_mean_squared_error: 0.0046 - val_loss: 1.8862e-06 - val_root_mean_squared_error: 0.0014\n",
            "Epoch 71/150\n",
            "1563/1563 [==============================] - 4s 3ms/step - loss: 2.0948e-05 - root_mean_squared_error: 0.0046 - val_loss: 6.6468e-06 - val_root_mean_squared_error: 0.0026\n",
            "Epoch 72/150\n",
            "1563/1563 [==============================] - 4s 3ms/step - loss: 2.0800e-05 - root_mean_squared_error: 0.0046 - val_loss: 7.9402e-06 - val_root_mean_squared_error: 0.0028\n",
            "Epoch 73/150\n",
            "1563/1563 [==============================] - 4s 3ms/step - loss: 2.0902e-05 - root_mean_squared_error: 0.0046 - val_loss: 7.2227e-07 - val_root_mean_squared_error: 8.4986e-04\n",
            "Epoch 74/150\n",
            "1563/1563 [==============================] - 4s 2ms/step - loss: 2.0210e-05 - root_mean_squared_error: 0.0045 - val_loss: 1.3064e-04 - val_root_mean_squared_error: 0.0114\n",
            "Epoch 75/150\n",
            "1563/1563 [==============================] - 4s 3ms/step - loss: 2.0326e-05 - root_mean_squared_error: 0.0045 - val_loss: 3.0721e-05 - val_root_mean_squared_error: 0.0055\n",
            "Epoch 76/150\n",
            "1563/1563 [==============================] - 4s 3ms/step - loss: 2.0045e-05 - root_mean_squared_error: 0.0045 - val_loss: 1.0155e-05 - val_root_mean_squared_error: 0.0032\n",
            "Epoch 77/150\n",
            "1563/1563 [==============================] - 4s 3ms/step - loss: 2.0143e-05 - root_mean_squared_error: 0.0045 - val_loss: 2.4812e-06 - val_root_mean_squared_error: 0.0016\n",
            "Epoch 78/150\n",
            "1563/1563 [==============================] - 4s 3ms/step - loss: 2.0273e-05 - root_mean_squared_error: 0.0045 - val_loss: 2.4597e-05 - val_root_mean_squared_error: 0.0050\n",
            "Epoch 79/150\n",
            "1563/1563 [==============================] - 4s 3ms/step - loss: 2.0465e-05 - root_mean_squared_error: 0.0045 - val_loss: 4.9686e-07 - val_root_mean_squared_error: 7.0488e-04\n",
            "Epoch 80/150\n",
            "1563/1563 [==============================] - 4s 3ms/step - loss: 1.9746e-05 - root_mean_squared_error: 0.0044 - val_loss: 1.6940e-06 - val_root_mean_squared_error: 0.0013\n",
            "Epoch 81/150\n",
            "1563/1563 [==============================] - 4s 3ms/step - loss: 2.0123e-05 - root_mean_squared_error: 0.0045 - val_loss: 1.0941e-06 - val_root_mean_squared_error: 0.0010\n",
            "Epoch 82/150\n",
            "1563/1563 [==============================] - 6s 4ms/step - loss: 2.0012e-05 - root_mean_squared_error: 0.0045 - val_loss: 2.4096e-06 - val_root_mean_squared_error: 0.0016\n",
            "Epoch 83/150\n",
            "1563/1563 [==============================] - 4s 2ms/step - loss: 1.9974e-05 - root_mean_squared_error: 0.0045 - val_loss: 7.7349e-06 - val_root_mean_squared_error: 0.0028\n",
            "Epoch 84/150\n",
            "1563/1563 [==============================] - 4s 3ms/step - loss: 1.9806e-05 - root_mean_squared_error: 0.0045 - val_loss: 1.5568e-05 - val_root_mean_squared_error: 0.0039\n",
            "Epoch 85/150\n",
            "1563/1563 [==============================] - 4s 3ms/step - loss: 1.9795e-05 - root_mean_squared_error: 0.0044 - val_loss: 1.4586e-06 - val_root_mean_squared_error: 0.0012\n",
            "Epoch 86/150\n",
            "1563/1563 [==============================] - 4s 3ms/step - loss: 1.9655e-05 - root_mean_squared_error: 0.0044 - val_loss: 5.6842e-06 - val_root_mean_squared_error: 0.0024\n",
            "Epoch 87/150\n",
            "1563/1563 [==============================] - 4s 3ms/step - loss: 1.9760e-05 - root_mean_squared_error: 0.0044 - val_loss: 1.5555e-05 - val_root_mean_squared_error: 0.0039\n",
            "Epoch 88/150\n",
            "1563/1563 [==============================] - 4s 3ms/step - loss: 1.9711e-05 - root_mean_squared_error: 0.0044 - val_loss: 2.2090e-04 - val_root_mean_squared_error: 0.0149\n",
            "Epoch 89/150\n",
            "1563/1563 [==============================] - 4s 3ms/step - loss: 1.9517e-05 - root_mean_squared_error: 0.0044 - val_loss: 1.3198e-06 - val_root_mean_squared_error: 0.0011\n",
            "Epoch 90/150\n",
            "1563/1563 [==============================] - 4s 2ms/step - loss: 1.9550e-05 - root_mean_squared_error: 0.0044 - val_loss: 1.8911e-04 - val_root_mean_squared_error: 0.0138\n",
            "Epoch 91/150\n",
            "1563/1563 [==============================] - 4s 3ms/step - loss: 1.9760e-05 - root_mean_squared_error: 0.0044 - val_loss: 1.0612e-05 - val_root_mean_squared_error: 0.0033\n",
            "Epoch 92/150\n",
            "1563/1563 [==============================] - 4s 3ms/step - loss: 1.9370e-05 - root_mean_squared_error: 0.0044 - val_loss: 3.1128e-05 - val_root_mean_squared_error: 0.0056\n",
            "Epoch 93/150\n",
            "1563/1563 [==============================] - 4s 3ms/step - loss: 1.9314e-05 - root_mean_squared_error: 0.0044 - val_loss: 7.7026e-05 - val_root_mean_squared_error: 0.0088\n",
            "Epoch 94/150\n",
            "1563/1563 [==============================] - 4s 3ms/step - loss: 1.9395e-05 - root_mean_squared_error: 0.0044 - val_loss: 4.6401e-05 - val_root_mean_squared_error: 0.0068\n",
            "Epoch 95/150\n",
            "1563/1563 [==============================] - 4s 3ms/step - loss: 1.8964e-05 - root_mean_squared_error: 0.0044 - val_loss: 9.1345e-06 - val_root_mean_squared_error: 0.0030\n",
            "Epoch 96/150\n",
            "1563/1563 [==============================] - 4s 3ms/step - loss: 1.8839e-05 - root_mean_squared_error: 0.0043 - val_loss: 7.7636e-05 - val_root_mean_squared_error: 0.0088\n",
            "Epoch 97/150\n",
            "1563/1563 [==============================] - 4s 3ms/step - loss: 1.9035e-05 - root_mean_squared_error: 0.0044 - val_loss: 3.4811e-05 - val_root_mean_squared_error: 0.0059\n",
            "Epoch 98/150\n",
            "1563/1563 [==============================] - 4s 2ms/step - loss: 1.9199e-05 - root_mean_squared_error: 0.0044 - val_loss: 1.9295e-06 - val_root_mean_squared_error: 0.0014\n",
            "Epoch 99/150\n",
            "1563/1563 [==============================] - 4s 2ms/step - loss: 1.9258e-05 - root_mean_squared_error: 0.0044 - val_loss: 1.2035e-05 - val_root_mean_squared_error: 0.0035\n",
            "Epoch 100/150\n",
            "1563/1563 [==============================] - 4s 3ms/step - loss: 1.9112e-05 - root_mean_squared_error: 0.0044 - val_loss: 1.6205e-06 - val_root_mean_squared_error: 0.0013\n",
            "Epoch 101/150\n",
            "1563/1563 [==============================] - 4s 3ms/step - loss: 1.8604e-05 - root_mean_squared_error: 0.0043 - val_loss: 5.2018e-06 - val_root_mean_squared_error: 0.0023\n",
            "Epoch 102/150\n",
            "1563/1563 [==============================] - 4s 3ms/step - loss: 1.8952e-05 - root_mean_squared_error: 0.0044 - val_loss: 2.7186e-05 - val_root_mean_squared_error: 0.0052\n",
            "Epoch 103/150\n",
            "1563/1563 [==============================] - 4s 3ms/step - loss: 1.8901e-05 - root_mean_squared_error: 0.0043 - val_loss: 7.5000e-06 - val_root_mean_squared_error: 0.0027\n",
            "Epoch 104/150\n",
            "1563/1563 [==============================] - 4s 3ms/step - loss: 1.8919e-05 - root_mean_squared_error: 0.0043 - val_loss: 7.2866e-07 - val_root_mean_squared_error: 8.5361e-04\n",
            "Epoch 105/150\n",
            "1563/1563 [==============================] - 4s 3ms/step - loss: 1.8892e-05 - root_mean_squared_error: 0.0043 - val_loss: 2.3852e-06 - val_root_mean_squared_error: 0.0015\n",
            "Epoch 106/150\n",
            "1563/1563 [==============================] - 4s 3ms/step - loss: 1.8670e-05 - root_mean_squared_error: 0.0043 - val_loss: 1.4391e-05 - val_root_mean_squared_error: 0.0038\n",
            "Epoch 107/150\n",
            "1563/1563 [==============================] - 4s 3ms/step - loss: 1.8600e-05 - root_mean_squared_error: 0.0043 - val_loss: 1.0567e-06 - val_root_mean_squared_error: 0.0010\n",
            "Epoch 108/150\n",
            "1563/1563 [==============================] - 4s 3ms/step - loss: 1.8316e-05 - root_mean_squared_error: 0.0043 - val_loss: 1.2273e-05 - val_root_mean_squared_error: 0.0035\n",
            "Epoch 109/150\n",
            "1563/1563 [==============================] - 5s 3ms/step - loss: 1.8479e-05 - root_mean_squared_error: 0.0043 - val_loss: 2.4379e-06 - val_root_mean_squared_error: 0.0016\n",
            "Epoch 110/150\n",
            "1563/1563 [==============================] - 4s 3ms/step - loss: 1.8317e-05 - root_mean_squared_error: 0.0043 - val_loss: 6.7729e-05 - val_root_mean_squared_error: 0.0082\n",
            "Epoch 111/150\n",
            "1563/1563 [==============================] - 4s 3ms/step - loss: 1.8336e-05 - root_mean_squared_error: 0.0043 - val_loss: 4.5698e-05 - val_root_mean_squared_error: 0.0068\n",
            "Epoch 112/150\n",
            "1563/1563 [==============================] - 4s 3ms/step - loss: 1.8405e-05 - root_mean_squared_error: 0.0043 - val_loss: 6.8917e-06 - val_root_mean_squared_error: 0.0026\n",
            "Epoch 113/150\n",
            "1563/1563 [==============================] - 4s 3ms/step - loss: 1.8419e-05 - root_mean_squared_error: 0.0043 - val_loss: 8.7901e-05 - val_root_mean_squared_error: 0.0094\n",
            "Epoch 114/150\n",
            "1563/1563 [==============================] - 4s 3ms/step - loss: 1.8489e-05 - root_mean_squared_error: 0.0043 - val_loss: 1.2426e-05 - val_root_mean_squared_error: 0.0035\n",
            "Epoch 115/150\n",
            "1563/1563 [==============================] - 4s 3ms/step - loss: 1.8385e-05 - root_mean_squared_error: 0.0043 - val_loss: 3.7310e-06 - val_root_mean_squared_error: 0.0019\n",
            "Epoch 116/150\n",
            "1563/1563 [==============================] - 4s 3ms/step - loss: 1.8406e-05 - root_mean_squared_error: 0.0043 - val_loss: 1.4546e-06 - val_root_mean_squared_error: 0.0012\n",
            "Epoch 117/150\n",
            "1563/1563 [==============================] - 4s 3ms/step - loss: 1.8021e-05 - root_mean_squared_error: 0.0042 - val_loss: 1.2932e-05 - val_root_mean_squared_error: 0.0036\n",
            "Epoch 118/150\n",
            "1563/1563 [==============================] - 4s 3ms/step - loss: 1.7881e-05 - root_mean_squared_error: 0.0042 - val_loss: 7.9004e-06 - val_root_mean_squared_error: 0.0028\n",
            "Epoch 119/150\n",
            "1563/1563 [==============================] - 4s 3ms/step - loss: 1.8210e-05 - root_mean_squared_error: 0.0043 - val_loss: 1.6820e-05 - val_root_mean_squared_error: 0.0041\n",
            "Epoch 120/150\n",
            "1563/1563 [==============================] - 4s 3ms/step - loss: 1.8046e-05 - root_mean_squared_error: 0.0042 - val_loss: 3.6780e-06 - val_root_mean_squared_error: 0.0019\n",
            "Epoch 121/150\n",
            "1563/1563 [==============================] - 4s 3ms/step - loss: 1.7888e-05 - root_mean_squared_error: 0.0042 - val_loss: 2.9056e-05 - val_root_mean_squared_error: 0.0054\n",
            "Epoch 122/150\n",
            "1563/1563 [==============================] - 5s 3ms/step - loss: 1.8393e-05 - root_mean_squared_error: 0.0043 - val_loss: 1.0040e-04 - val_root_mean_squared_error: 0.0100\n",
            "Epoch 123/150\n",
            "1563/1563 [==============================] - 4s 3ms/step - loss: 1.7731e-05 - root_mean_squared_error: 0.0042 - val_loss: 5.4699e-06 - val_root_mean_squared_error: 0.0023\n",
            "Epoch 124/150\n",
            "1563/1563 [==============================] - 4s 3ms/step - loss: 1.7892e-05 - root_mean_squared_error: 0.0042 - val_loss: 1.8831e-06 - val_root_mean_squared_error: 0.0014\n",
            "Epoch 125/150\n",
            "1563/1563 [==============================] - 4s 3ms/step - loss: 1.7833e-05 - root_mean_squared_error: 0.0042 - val_loss: 1.0663e-05 - val_root_mean_squared_error: 0.0033\n",
            "Epoch 126/150\n",
            "1563/1563 [==============================] - 4s 3ms/step - loss: 1.7819e-05 - root_mean_squared_error: 0.0042 - val_loss: 4.5527e-05 - val_root_mean_squared_error: 0.0067\n",
            "Epoch 127/150\n",
            "1563/1563 [==============================] - 4s 3ms/step - loss: 1.7988e-05 - root_mean_squared_error: 0.0042 - val_loss: 1.9360e-06 - val_root_mean_squared_error: 0.0014\n",
            "Epoch 128/150\n",
            "1563/1563 [==============================] - 4s 3ms/step - loss: 1.7802e-05 - root_mean_squared_error: 0.0042 - val_loss: 1.3680e-06 - val_root_mean_squared_error: 0.0012\n",
            "Epoch 129/150\n",
            "1563/1563 [==============================] - 5s 3ms/step - loss: 1.7915e-05 - root_mean_squared_error: 0.0042 - val_loss: 6.8490e-06 - val_root_mean_squared_error: 0.0026\n",
            "Epoch 130/150\n",
            "1563/1563 [==============================] - 4s 3ms/step - loss: 1.7818e-05 - root_mean_squared_error: 0.0042 - val_loss: 6.0969e-06 - val_root_mean_squared_error: 0.0025\n",
            "Epoch 131/150\n",
            "1563/1563 [==============================] - 4s 3ms/step - loss: 1.7749e-05 - root_mean_squared_error: 0.0042 - val_loss: 2.1419e-05 - val_root_mean_squared_error: 0.0046\n",
            "Epoch 132/150\n",
            "1563/1563 [==============================] - 4s 3ms/step - loss: 1.7479e-05 - root_mean_squared_error: 0.0042 - val_loss: 4.3715e-06 - val_root_mean_squared_error: 0.0021\n",
            "Epoch 133/150\n",
            "1563/1563 [==============================] - 4s 3ms/step - loss: 1.7708e-05 - root_mean_squared_error: 0.0042 - val_loss: 5.5481e-05 - val_root_mean_squared_error: 0.0074\n",
            "Epoch 134/150\n",
            "1563/1563 [==============================] - 4s 3ms/step - loss: 1.7662e-05 - root_mean_squared_error: 0.0042 - val_loss: 6.3338e-07 - val_root_mean_squared_error: 7.9585e-04\n",
            "Epoch 135/150\n",
            "1563/1563 [==============================] - 4s 3ms/step - loss: 1.7527e-05 - root_mean_squared_error: 0.0042 - val_loss: 4.1537e-06 - val_root_mean_squared_error: 0.0020\n",
            "Epoch 136/150\n",
            "1563/1563 [==============================] - 5s 3ms/step - loss: 1.7437e-05 - root_mean_squared_error: 0.0042 - val_loss: 2.7098e-05 - val_root_mean_squared_error: 0.0052\n",
            "Epoch 137/150\n",
            "1563/1563 [==============================] - 4s 3ms/step - loss: 1.7480e-05 - root_mean_squared_error: 0.0042 - val_loss: 5.0979e-06 - val_root_mean_squared_error: 0.0023\n",
            "Epoch 138/150\n",
            "1563/1563 [==============================] - 5s 3ms/step - loss: 1.7273e-05 - root_mean_squared_error: 0.0042 - val_loss: 7.6983e-05 - val_root_mean_squared_error: 0.0088\n",
            "Epoch 139/150\n",
            "1563/1563 [==============================] - 5s 3ms/step - loss: 1.7550e-05 - root_mean_squared_error: 0.0042 - val_loss: 4.6279e-06 - val_root_mean_squared_error: 0.0022\n",
            "Epoch 140/150\n",
            "1563/1563 [==============================] - 5s 3ms/step - loss: 1.7320e-05 - root_mean_squared_error: 0.0042 - val_loss: 5.4374e-05 - val_root_mean_squared_error: 0.0074\n",
            "Epoch 141/150\n",
            "1563/1563 [==============================] - 4s 3ms/step - loss: 1.7527e-05 - root_mean_squared_error: 0.0042 - val_loss: 1.0067e-06 - val_root_mean_squared_error: 0.0010\n",
            "Epoch 142/150\n",
            "1563/1563 [==============================] - 4s 3ms/step - loss: 1.6939e-05 - root_mean_squared_error: 0.0041 - val_loss: 6.8998e-05 - val_root_mean_squared_error: 0.0083\n",
            "Epoch 143/150\n",
            "1563/1563 [==============================] - 4s 3ms/step - loss: 1.7433e-05 - root_mean_squared_error: 0.0042 - val_loss: 7.2590e-07 - val_root_mean_squared_error: 8.5200e-04\n",
            "Epoch 144/150\n",
            "1563/1563 [==============================] - 4s 3ms/step - loss: 1.6937e-05 - root_mean_squared_error: 0.0041 - val_loss: 2.0238e-06 - val_root_mean_squared_error: 0.0014\n",
            "Epoch 145/150\n",
            "1563/1563 [==============================] - 5s 3ms/step - loss: 1.6976e-05 - root_mean_squared_error: 0.0041 - val_loss: 2.1284e-06 - val_root_mean_squared_error: 0.0015\n",
            "Epoch 146/150\n",
            "1563/1563 [==============================] - 4s 3ms/step - loss: 1.7191e-05 - root_mean_squared_error: 0.0041 - val_loss: 5.7056e-05 - val_root_mean_squared_error: 0.0076\n",
            "Epoch 147/150\n",
            "1563/1563 [==============================] - 4s 3ms/step - loss: 1.7019e-05 - root_mean_squared_error: 0.0041 - val_loss: 1.0280e-05 - val_root_mean_squared_error: 0.0032\n",
            "Epoch 148/150\n",
            "1563/1563 [==============================] - 4s 3ms/step - loss: 1.6930e-05 - root_mean_squared_error: 0.0041 - val_loss: 6.2591e-06 - val_root_mean_squared_error: 0.0025\n",
            "Epoch 149/150\n",
            "1563/1563 [==============================] - 4s 3ms/step - loss: 1.7029e-05 - root_mean_squared_error: 0.0041 - val_loss: 9.7219e-07 - val_root_mean_squared_error: 9.8600e-04\n",
            "Epoch 150/150\n",
            "1563/1563 [==============================] - 4s 3ms/step - loss: 1.6905e-05 - root_mean_squared_error: 0.0041 - val_loss: 5.9250e-05 - val_root_mean_squared_error: 0.0077\n"
          ]
        }
      ],
      "source": [
        "history = model.fit(X_train, y_train,\n",
        "                    batch_size=32,                # Training of Model along with Validation data\n",
        "                    epochs=150,\n",
        "                    validation_data=(X_valid, y_valid))"
      ]
    },
    {
      "cell_type": "code",
      "execution_count": null,
      "metadata": {
        "outputId": "e6614041-5b3a-4d96-ed9d-080c34af51c8",
        "colab": {
          "base_uri": "https://localhost:8080/",
          "height": 286
        },
        "id": "V-UibL1rXfPI"
      },
      "outputs": [
        {
          "output_type": "display_data",
          "data": {
            "text/plain": [
              "<Figure size 432x288 with 1 Axes>"
            ],
            "image/png": "[encoded data removed]"
          },
          "metadata": {}
        }
      ],
      "source": [
        "plot_history(['root_mean_squared_error', 'val_root_mean_squared_error'])   "
      ]
    },
    {
      "cell_type": "code",
      "execution_count": null,
      "metadata": {
        "outputId": "1b9ca221-9890-4919-e0b3-5fab4d7dc2df",
        "colab": {
          "base_uri": "https://localhost:8080/"
        },
        "id": "_VaYWSDUXfPI"
      },
      "outputs": [
        {
          "output_type": "stream",
          "name": "stdout",
          "text": [
            "the R2 score for training set of the RMSprop model case 2 is : 0.9998946604833345\n"
          ]
        }
      ],
      "source": [
        "from sklearn.metrics import r2_score\n",
        "r2_score_training_set_for_RMSprop_model_case_2= r2_score(y_train, y_train_predicted)\n",
        "print(\"the R2 score for training set of the RMSprop model case 2 is :\", r2_score_training_set_for_RMSprop_model_case_2)"
      ]
    },
    {
      "cell_type": "code",
      "execution_count": null,
      "metadata": {
        "outputId": "71f278d4-f76e-4176-97c2-3f8e28d5f037",
        "colab": {
          "base_uri": "https://localhost:8080/"
        },
        "id": "c4U6fUdUXfPJ"
      },
      "outputs": [
        {
          "output_type": "stream",
          "name": "stdout",
          "text": [
            "the r2 score for testing set of RMSprop model case 2 is: 0.9998936441479\n"
          ]
        }
      ],
      "source": [
        "r2_score_testing_set_RMSprop_model_case_2= r2_score(y_test, y_test_predicted)\n",
        "print(\"the r2 score for testing set of RMSprop model case 2 is:\", r2_score_testing_set_RMSprop_model_case_2)"
      ]
    },
    {
      "cell_type": "code",
      "source": [],
      "metadata": {
        "id": "zcDSl_bX0TWe"
      },
      "execution_count": null,
      "outputs": []
    }
  ],
  "metadata": {
    "kernelspec": {
      "display_name": "base",
      "language": "python",
      "name": "python3"
    },
    "language_info": {
      "codemirror_mode": {
        "name": "ipython",
        "version": 3
      },
      "file_extension": ".py",
      "mimetype": "text/x-python",
      "name": "python",
      "nbconvert_exporter": "python",
      "pygments_lexer": "ipython3",
      "version": "3.9.13"
    },
    "orig_nbformat": 4,
    "vscode": {
      "interpreter": {
        "hash": "7758e92e9a61d7a3490898707f7eeb937c85e9d1e8d4e877cc6c187218f226d5"
      }
    },
    "colab": {
      "provenance": []
    },
    "accelerator": "GPU",
    "gpuClass": "standard"
  },
  "nbformat": 4,
  "nbformat_minor": 0
}