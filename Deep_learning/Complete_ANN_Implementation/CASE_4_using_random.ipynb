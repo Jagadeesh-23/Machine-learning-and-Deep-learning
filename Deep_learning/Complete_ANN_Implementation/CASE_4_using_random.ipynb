{
  "cells": [
    {
      "cell_type": "code",
      "execution_count": null,
      "metadata": {
        "id": "toZpD-QLL7pM"
      },
      "outputs": [],
      "source": [
        "import pandas as pd\n",
        "import numpy as np\n",
        "import matplotlib.pyplot as plt\n",
        "import seaborn as sns\n",
        "%matplotlib inline\n",
        "import plotly"
      ]
    },
    {
      "cell_type": "code",
      "execution_count": null,
      "metadata": {
        "id": "0YGHwmpBL7pN"
      },
      "outputs": [],
      "source": [
        "import random\n",
        "samples_number = 100000           # no of training samples\n",
        "\n",
        "inputs_number = 4             # input number (n=4)\n",
        "\n",
        "inputs = np.random.uniform(-20, 20, size = (samples_number, inputs_number))      \n",
        "\"\"\"\"\n",
        "    np.random.uniform gives the values in between -20 to 20 with size of (100000, 4)\n",
        "\"\"\"\n",
        "rosenbrock = []     # list created to append the values from the function below\n",
        "\n",
        "for j in range (samples_number):     #range(0, 10000)-----> j from  0 to 9999\n",
        "    \n",
        "    r = 0      # intilization of function value\n",
        "    for i in range(inputs_number-1):         #range(3)----->   i from 0 to 2\n",
        "        \n",
        "        r += (1.0 - inputs[j][i])**2+100.0*((inputs[j][i+1]-((inputs[j][i])**2)))\n",
        "        \n",
        "    rosenbrock.append(r)    # append the value of r for each iteration to the above empty list created\n"
      ]
    },
    {
      "cell_type": "code",
      "execution_count": null,
      "metadata": {
        "id": "5Ndzsw0ML7pO"
      },
      "outputs": [],
      "source": [
        "rosenbrock"
      ]
    },
    {
      "cell_type": "code",
      "execution_count": null,
      "metadata": {
        "id": "5o__5oL7L7pP"
      },
      "outputs": [],
      "source": [
        "data = pd.concat([pd.DataFrame(inputs),pd.DataFrame(rosenbrock)], axis=1)     # concat is used to concat two dataframe into one ....axis= 1---> row wise\n",
        "data.to_excel(\"/content/sample_data/Data_for_ANN_by_random.xlsx\",index = False)       # saving the dataframe to csv format      "
      ]
    },
    {
      "cell_type": "code",
      "execution_count": null,
      "metadata": {
        "id": "fNW0VvSVL7pP"
      },
      "outputs": [],
      "source": [
        "data= pd.read_excel(\"/content/Data_for_ANN_by_random.xlsx\")    # reading the dataset"
      ]
    },
    {
      "cell_type": "code",
      "execution_count": null,
      "metadata": {
        "id": "d-yauR-sL7pP"
      },
      "outputs": [],
      "source": [
        "data.columns=[\"x1\", \"x2\", \"x3\", \"x4\", \"Y\"]     # assigning of column names"
      ]
    },
    {
      "cell_type": "code",
      "execution_count": null,
      "metadata": {
        "id": "H6ige5OrL7pQ",
        "outputId": "0ae6f6b2-7f7f-4057-e400-15f80f8ed807",
        "colab": {
          "base_uri": "https://localhost:8080/",
          "height": 423
        }
      },
      "outputs": [
        {
          "output_type": "execute_result",
          "data": {
            "text/plain": [
              "              x1         x2         x3         x4             Y\n",
              "0       4.397782 -17.507953  -4.209644 -19.352454 -38084.776451\n",
              "1      16.014409  14.391434 -14.784123 -19.602269 -69560.091696\n",
              "2       3.809905  -9.825230   2.435376 -18.981374 -14208.138412\n",
              "3     -15.174677  11.729827  -1.598872  -4.003253 -36045.332512\n",
              "4     -19.482884  12.012411  14.239277 -18.478627 -71170.374898\n",
              "...          ...        ...        ...        ...           ...\n",
              "99995  -2.506507  -2.817178 -10.403350  17.360081 -11674.017691\n",
              "99996  -3.809192  12.348792  17.324509 -17.881405 -45116.520390\n",
              "99997   1.466390  -6.425318 -13.627236  15.891155 -23060.487272\n",
              "99998 -14.226082 -15.599733 -16.634710 -14.131892 -76062.930549\n",
              "99999  15.604694  -8.103452   1.556189   4.965269 -31021.133196\n",
              "\n",
              "[100000 rows x 5 columns]"
            ],
            "text/html": [
              "\n",
              "  <div id=\"df-b13a43f9-f768-4bbb-9531-1208d12adf2b\">\n",
              "    <div class=\"colab-df-container\">\n",
              "      <div>\n",
              "<style scoped>\n",
              "    .dataframe tbody tr th:only-of-type {\n",
              "        vertical-align: middle;\n",
              "    }\n",
              "\n",
              "    .dataframe tbody tr th {\n",
              "        vertical-align: top;\n",
              "    }\n",
              "\n",
              "    .dataframe thead th {\n",
              "        text-align: right;\n",
              "    }\n",
              "</style>\n",
              "<table border=\"1\" class=\"dataframe\">\n",
              "  <thead>\n",
              "    <tr style=\"text-align: right;\">\n",
              "      <th></th>\n",
              "      <th>x1</th>\n",
              "      <th>x2</th>\n",
              "      <th>x3</th>\n",
              "      <th>x4</th>\n",
              "      <th>Y</th>\n",
              "    </tr>\n",
              "  </thead>\n",
              "  <tbody>\n",
              "    <tr>\n",
              "      <th>0</th>\n",
              "      <td>4.397782</td>\n",
              "      <td>-17.507953</td>\n",
              "      <td>-4.209644</td>\n",
              "      <td>-19.352454</td>\n",
              "      <td>-38084.776451</td>\n",
              "    </tr>\n",
              "    <tr>\n",
              "      <th>1</th>\n",
              "      <td>16.014409</td>\n",
              "      <td>14.391434</td>\n",
              "      <td>-14.784123</td>\n",
              "      <td>-19.602269</td>\n",
              "      <td>-69560.091696</td>\n",
              "    </tr>\n",
              "    <tr>\n",
              "      <th>2</th>\n",
              "      <td>3.809905</td>\n",
              "      <td>-9.825230</td>\n",
              "      <td>2.435376</td>\n",
              "      <td>-18.981374</td>\n",
              "      <td>-14208.138412</td>\n",
              "    </tr>\n",
              "    <tr>\n",
              "      <th>3</th>\n",
              "      <td>-15.174677</td>\n",
              "      <td>11.729827</td>\n",
              "      <td>-1.598872</td>\n",
              "      <td>-4.003253</td>\n",
              "      <td>-36045.332512</td>\n",
              "    </tr>\n",
              "    <tr>\n",
              "      <th>4</th>\n",
              "      <td>-19.482884</td>\n",
              "      <td>12.012411</td>\n",
              "      <td>14.239277</td>\n",
              "      <td>-18.478627</td>\n",
              "      <td>-71170.374898</td>\n",
              "    </tr>\n",
              "    <tr>\n",
              "      <th>...</th>\n",
              "      <td>...</td>\n",
              "      <td>...</td>\n",
              "      <td>...</td>\n",
              "      <td>...</td>\n",
              "      <td>...</td>\n",
              "    </tr>\n",
              "    <tr>\n",
              "      <th>99995</th>\n",
              "      <td>-2.506507</td>\n",
              "      <td>-2.817178</td>\n",
              "      <td>-10.403350</td>\n",
              "      <td>17.360081</td>\n",
              "      <td>-11674.017691</td>\n",
              "    </tr>\n",
              "    <tr>\n",
              "      <th>99996</th>\n",
              "      <td>-3.809192</td>\n",
              "      <td>12.348792</td>\n",
              "      <td>17.324509</td>\n",
              "      <td>-17.881405</td>\n",
              "      <td>-45116.520390</td>\n",
              "    </tr>\n",
              "    <tr>\n",
              "      <th>99997</th>\n",
              "      <td>1.466390</td>\n",
              "      <td>-6.425318</td>\n",
              "      <td>-13.627236</td>\n",
              "      <td>15.891155</td>\n",
              "      <td>-23060.487272</td>\n",
              "    </tr>\n",
              "    <tr>\n",
              "      <th>99998</th>\n",
              "      <td>-14.226082</td>\n",
              "      <td>-15.599733</td>\n",
              "      <td>-16.634710</td>\n",
              "      <td>-14.131892</td>\n",
              "      <td>-76062.930549</td>\n",
              "    </tr>\n",
              "    <tr>\n",
              "      <th>99999</th>\n",
              "      <td>15.604694</td>\n",
              "      <td>-8.103452</td>\n",
              "      <td>1.556189</td>\n",
              "      <td>4.965269</td>\n",
              "      <td>-31021.133196</td>\n",
              "    </tr>\n",
              "  </tbody>\n",
              "</table>\n",
              "<p>100000 rows × 5 columns</p>\n",
              "</div>\n",
              "      <button class=\"colab-df-convert\" onclick=\"convertToInteractive('df-b13a43f9-f768-4bbb-9531-1208d12adf2b')\"\n",
              "              title=\"Convert this dataframe to an interactive table.\"\n",
              "              style=\"display:none;\">\n",
              "        \n",
              "  <svg xmlns=\"http://www.w3.org/2000/svg\" height=\"24px\"viewBox=\"0 0 24 24\"\n",
              "       width=\"24px\">\n",
              "    <path d=\"M0 0h24v24H0V0z\" fill=\"none\"/>\n",
              "    <path d=\"M18.56 5.44l.94 2.06.94-2.06 2.06-.94-2.06-.94-.94-2.06-.94 2.06-2.06.94zm-11 1L8.5 8.5l.94-2.06 2.06-.94-2.06-.94L8.5 2.5l-.94 2.06-2.06.94zm10 10l.94 2.06.94-2.06 2.06-.94-2.06-.94-.94-2.06-.94 2.06-2.06.94z\"/><path d=\"M17.41 7.96l-1.37-1.37c-.4-.4-.92-.59-1.43-.59-.52 0-1.04.2-1.43.59L10.3 9.45l-7.72 7.72c-.78.78-.78 2.05 0 2.83L4 21.41c.39.39.9.59 1.41.59.51 0 1.02-.2 1.41-.59l7.78-7.78 2.81-2.81c.8-.78.8-2.07 0-2.86zM5.41 20L4 18.59l7.72-7.72 1.47 1.35L5.41 20z\"/>\n",
              "  </svg>\n",
              "      </button>\n",
              "      \n",
              "  <style>\n",
              "    .colab-df-container {\n",
              "      display:flex;\n",
              "      flex-wrap:wrap;\n",
              "      gap: 12px;\n",
              "    }\n",
              "\n",
              "    .colab-df-convert {\n",
              "      background-color: #E8F0FE;\n",
              "      border: none;\n",
              "      border-radius: 50%;\n",
              "      cursor: pointer;\n",
              "      display: none;\n",
              "      fill: #1967D2;\n",
              "      height: 32px;\n",
              "      padding: 0 0 0 0;\n",
              "      width: 32px;\n",
              "    }\n",
              "\n",
              "    .colab-df-convert:hover {\n",
              "      background-color: #E2EBFA;\n",
              "      box-shadow: 0px 1px 2px rgba(60, 64, 67, 0.3), 0px 1px 3px 1px rgba(60, 64, 67, 0.15);\n",
              "      fill: #174EA6;\n",
              "    }\n",
              "\n",
              "    [theme=dark] .colab-df-convert {\n",
              "      background-color: #3B4455;\n",
              "      fill: #D2E3FC;\n",
              "    }\n",
              "\n",
              "    [theme=dark] .colab-df-convert:hover {\n",
              "      background-color: #434B5C;\n",
              "      box-shadow: 0px 1px 3px 1px rgba(0, 0, 0, 0.15);\n",
              "      filter: drop-shadow(0px 1px 2px rgba(0, 0, 0, 0.3));\n",
              "      fill: #FFFFFF;\n",
              "    }\n",
              "  </style>\n",
              "\n",
              "      <script>\n",
              "        const buttonEl =\n",
              "          document.querySelector('#df-b13a43f9-f768-4bbb-9531-1208d12adf2b button.colab-df-convert');\n",
              "        buttonEl.style.display =\n",
              "          google.colab.kernel.accessAllowed ? 'block' : 'none';\n",
              "\n",
              "        async function convertToInteractive(key) {\n",
              "          const element = document.querySelector('#df-b13a43f9-f768-4bbb-9531-1208d12adf2b');\n",
              "          const dataTable =\n",
              "            await google.colab.kernel.invokeFunction('convertToInteractive',\n",
              "                                                     [key], {});\n",
              "          if (!dataTable) return;\n",
              "\n",
              "          const docLinkHtml = 'Like what you see? Visit the ' +\n",
              "            '<a target=\"_blank\" href=https://colab.research.google.com/notebooks/data_table.ipynb>data table notebook</a>'\n",
              "            + ' to learn more about interactive tables.';\n",
              "          element.innerHTML = '';\n",
              "          dataTable['output_type'] = 'display_data';\n",
              "          await google.colab.output.renderOutput(dataTable, element);\n",
              "          const docLink = document.createElement('div');\n",
              "          docLink.innerHTML = docLinkHtml;\n",
              "          element.appendChild(docLink);\n",
              "        }\n",
              "      </script>\n",
              "    </div>\n",
              "  </div>\n",
              "  "
            ]
          },
          "metadata": {},
          "execution_count": 5
        }
      ],
      "source": [
        "data"
      ]
    },
    {
      "cell_type": "code",
      "execution_count": null,
      "metadata": {
        "id": "gMwcE7q9L7pQ"
      },
      "outputs": [],
      "source": [
        "from sklearn.preprocessing import MinMaxScaler\n",
        "scaler= MinMaxScaler()        # Here minmaxscaler is one of technique which can be used for Normalizing the data to same scale\n",
        "scaled_data= scaler.fit_transform(data.values) # output form: array"
      ]
    },
    {
      "cell_type": "code",
      "execution_count": null,
      "metadata": {
        "id": "Bi-GLzEyL7pQ",
        "outputId": "1e98a864-cd8e-4523-d06c-3bb10950c6ed",
        "colab": {
          "base_uri": "https://localhost:8080/"
        }
      },
      "outputs": [
        {
          "output_type": "execute_result",
          "data": {
            "text/plain": [
              "array([[0.60994908, 0.06229366, 0.39475919, 0.01618833, 0.6734073 ],\n",
              "       [0.90037018, 0.85979597, 0.13039296, 0.00994293, 0.41414529],\n",
              "       [0.59525188, 0.25436599, 0.56088736, 0.02546539, 0.87007904],\n",
              "       ...,\n",
              "       [0.53666291, 0.33936566, 0.1593156 , 0.89728423, 0.79716229],\n",
              "       [0.14434381, 0.11000022, 0.08412752, 0.14670323, 0.36058144],\n",
              "       [0.8901271 , 0.29741139, 0.53890734, 0.62413534, 0.73159049]])"
            ]
          },
          "metadata": {},
          "execution_count": 7
        }
      ],
      "source": [
        "scaled_data"
      ]
    },
    {
      "cell_type": "code",
      "execution_count": null,
      "metadata": {
        "id": "6GBLCnpvL7pQ",
        "outputId": "db7da590-b142-4157-e1eb-62fd5a4188d9",
        "colab": {
          "base_uri": "https://localhost:8080/"
        }
      },
      "outputs": [
        {
          "output_type": "execute_result",
          "data": {
            "text/plain": [
              "(100000, 5)"
            ]
          },
          "metadata": {},
          "execution_count": 8
        }
      ],
      "source": [
        "scaled_data.shape"
      ]
    },
    {
      "cell_type": "code",
      "execution_count": null,
      "metadata": {
        "id": "uJfvj7kzL7pR"
      },
      "outputs": [],
      "source": [
        "X= scaled_data[:, 0:4]\n",
        "Y= scaled_data[:, 4]          # slicing of required input and output"
      ]
    },
    {
      "cell_type": "code",
      "execution_count": null,
      "metadata": {
        "id": "PE26nC40L7pR",
        "outputId": "ce985c48-912a-4285-e05d-6bafbf4c196c",
        "colab": {
          "base_uri": "https://localhost:8080/"
        }
      },
      "outputs": [
        {
          "output_type": "execute_result",
          "data": {
            "text/plain": [
              "array([[0.60994908, 0.06229366, 0.39475919, 0.01618833],\n",
              "       [0.90037018, 0.85979597, 0.13039296, 0.00994293],\n",
              "       [0.59525188, 0.25436599, 0.56088736, 0.02546539],\n",
              "       ...,\n",
              "       [0.53666291, 0.33936566, 0.1593156 , 0.89728423],\n",
              "       [0.14434381, 0.11000022, 0.08412752, 0.14670323],\n",
              "       [0.8901271 , 0.29741139, 0.53890734, 0.62413534]])"
            ]
          },
          "metadata": {},
          "execution_count": 10
        }
      ],
      "source": [
        "X"
      ]
    },
    {
      "cell_type": "code",
      "execution_count": null,
      "metadata": {
        "id": "BlZl8CGYL7pR",
        "outputId": "5cb3207f-d796-45d4-a631-cccf43edec33",
        "colab": {
          "base_uri": "https://localhost:8080/"
        }
      },
      "outputs": [
        {
          "output_type": "execute_result",
          "data": {
            "text/plain": [
              "array([0.6734073 , 0.41414529, 0.87007904, ..., 0.79716229, 0.36058144,\n",
              "       0.73159049])"
            ]
          },
          "metadata": {},
          "execution_count": 11
        }
      ],
      "source": [
        "Y"
      ]
    },
    {
      "cell_type": "code",
      "execution_count": null,
      "metadata": {
        "id": "pk_G09WnL7pR"
      },
      "outputs": [],
      "source": [
        "from sklearn.model_selection import train_test_split    # import of train_test_split"
      ]
    },
    {
      "cell_type": "code",
      "execution_count": null,
      "metadata": {
        "id": "qpofZkm8L7pS"
      },
      "outputs": [],
      "source": [
        "# In the first step we will split the data in training and remaining dataset\n",
        "X_train, X_rem, y_train, y_rem = train_test_split(X,Y, train_size=0.7)     # train_size= 70%----->7000 training samples\n"
      ]
    },
    {
      "cell_type": "code",
      "execution_count": null,
      "metadata": {
        "id": "uZsQheJqL7pS"
      },
      "outputs": [],
      "source": [
        "X_valid, X_test, y_valid, y_test = train_test_split(X_rem,y_rem, test_size= 0.5)    # test_size==15% ----> 2550 training samples"
      ]
    },
    {
      "cell_type": "code",
      "execution_count": null,
      "metadata": {
        "id": "YMTNSDrdL7pS",
        "outputId": "510fb636-6294-4fb9-c3ba-7a5563aff0df",
        "colab": {
          "base_uri": "https://localhost:8080/"
        }
      },
      "outputs": [
        {
          "output_type": "stream",
          "name": "stdout",
          "text": [
            "(70000, 4)\n",
            "(70000,)\n",
            "(15000, 4)\n",
            "(15000,)\n",
            "(15000, 4)\n",
            "(15000,)\n"
          ]
        },
        {
          "output_type": "execute_result",
          "data": {
            "text/plain": [
              "(None, None)"
            ]
          },
          "metadata": {},
          "execution_count": 15
        }
      ],
      "source": [
        "print(X_train.shape), print(y_train.shape)\n",
        "print(X_valid.shape), print(y_valid.shape)          # shapes of each set of splitted data\n",
        "print(X_test.shape), print(y_test.shape)"
      ]
    },
    {
      "cell_type": "markdown",
      "metadata": {
        "id": "gR893t1jL7pa"
      },
      "source": [
        "# Adam with case 4 random Samples of 70000"
      ]
    },
    {
      "cell_type": "code",
      "execution_count": null,
      "metadata": {
        "id": "ulZ-1Tg_L7pa"
      },
      "outputs": [],
      "source": [
        "from tensorflow import keras    \n",
        "\n",
        "def create_nn():     #function of NN model creation\n",
        "    # Input layer\n",
        "    inputs = keras.Input(shape=(X.shape[1],), name='input')      # Since n= 4,  in input layer shape= 4--->X.shape[1]\n",
        "\n",
        "    # Dense layers                                              # hidden layers\n",
        "    layers_dense = keras.layers.Dense(1000, 'relu')(inputs)          # here 20(nodes) --->units    # Activation_function -->sigmoid\n",
        "    layers_dense = keras.layers.Dense(2000, 'relu')(layers_dense)  \n",
        "    layers_dense = keras.layers.Dense(2000, 'relu')(layers_dense)\n",
        "    layers_dense = keras.layers.Dense(1, 'linear')(layers_dense)\n",
        "    # Output layer\n",
        "    outputs = keras.layers.Dense(1)(layers_dense)              # only one node for output layer\n",
        "\n",
        "    return keras.Model(inputs=inputs, outputs=outputs, name=\"Prediction\")\n",
        "\n",
        "model = create_nn()"
      ]
    },
    {
      "cell_type": "code",
      "execution_count": null,
      "metadata": {
        "id": "G_3xrLumL7pa",
        "outputId": "df5c9ee6-d2ef-4304-d211-b797750704b5",
        "colab": {
          "base_uri": "https://localhost:8080/"
        }
      },
      "outputs": [
        {
          "output_type": "stream",
          "name": "stdout",
          "text": [
            "Model: \"Prediction\"\n",
            "_________________________________________________________________\n",
            " Layer (type)                Output Shape              Param #   \n",
            "=================================================================\n",
            " input (InputLayer)          [(None, 4)]               0         \n",
            "                                                                 \n",
            " dense (Dense)               (None, 1000)              5000      \n",
            "                                                                 \n",
            " dense_1 (Dense)             (None, 2000)              2002000   \n",
            "                                                                 \n",
            " dense_2 (Dense)             (None, 2000)              4002000   \n",
            "                                                                 \n",
            " dense_3 (Dense)             (None, 1)                 2001      \n",
            "                                                                 \n",
            " dense_4 (Dense)             (None, 1)                 2         \n",
            "                                                                 \n",
            "=================================================================\n",
            "Total params: 6,011,003\n",
            "Trainable params: 6,011,003\n",
            "Non-trainable params: 0\n",
            "_________________________________________________________________\n"
          ]
        }
      ],
      "source": [
        "model.summary()      # return the summary of all layers of model"
      ]
    },
    {
      "cell_type": "code",
      "execution_count": null,
      "metadata": {
        "id": "Gp4PJQEQL7pa"
      },
      "outputs": [],
      "source": [
        "def compile_model(model):\n",
        "    model.compile(optimizer='adam',\n",
        "                  loss='mse',      #mse---> mean square error\n",
        "                  metrics=[keras.metrics.RootMeanSquaredError()])\n",
        "compile_model(model)"
      ]
    },
    {
      "cell_type": "code",
      "execution_count": null,
      "metadata": {
        "id": "YLHP-HU4L7pb",
        "outputId": "5936e637-13ae-43e0-de44-27c3ebf11e70",
        "colab": {
          "base_uri": "https://localhost:8080/"
        }
      },
      "outputs": [
        {
          "output_type": "stream",
          "name": "stdout",
          "text": [
            "Epoch 1/100\n",
            "2188/2188 [==============================] - 11s 4ms/step - loss: 0.0020 - root_mean_squared_error: 0.0452\n",
            "Epoch 2/100\n",
            "2188/2188 [==============================] - 8s 4ms/step - loss: 1.5256e-04 - root_mean_squared_error: 0.0124\n",
            "Epoch 3/100\n",
            "2188/2188 [==============================] - 9s 4ms/step - loss: 1.1422e-04 - root_mean_squared_error: 0.0107\n",
            "Epoch 4/100\n",
            "2188/2188 [==============================] - 10s 5ms/step - loss: 1.0865e-04 - root_mean_squared_error: 0.0104\n",
            "Epoch 5/100\n",
            "2188/2188 [==============================] - 8s 4ms/step - loss: 8.7303e-05 - root_mean_squared_error: 0.0093\n",
            "Epoch 6/100\n",
            "2188/2188 [==============================] - 8s 4ms/step - loss: 6.5629e-05 - root_mean_squared_error: 0.0081\n",
            "Epoch 7/100\n",
            "2188/2188 [==============================] - 8s 4ms/step - loss: 6.1498e-05 - root_mean_squared_error: 0.0078\n",
            "Epoch 8/100\n",
            "2188/2188 [==============================] - 8s 4ms/step - loss: 6.1013e-05 - root_mean_squared_error: 0.0078\n",
            "Epoch 9/100\n",
            "2188/2188 [==============================] - 8s 4ms/step - loss: 4.5138e-05 - root_mean_squared_error: 0.0067\n",
            "Epoch 10/100\n",
            "2188/2188 [==============================] - 8s 4ms/step - loss: 4.2066e-05 - root_mean_squared_error: 0.0065\n",
            "Epoch 11/100\n",
            "2188/2188 [==============================] - 8s 4ms/step - loss: 4.5239e-05 - root_mean_squared_error: 0.0067\n",
            "Epoch 12/100\n",
            "2188/2188 [==============================] - 8s 4ms/step - loss: 3.1207e-05 - root_mean_squared_error: 0.0056\n",
            "Epoch 13/100\n",
            "2188/2188 [==============================] - 8s 4ms/step - loss: 3.4838e-05 - root_mean_squared_error: 0.0059\n",
            "Epoch 14/100\n",
            "2188/2188 [==============================] - 9s 4ms/step - loss: 3.2767e-05 - root_mean_squared_error: 0.0057\n",
            "Epoch 15/100\n",
            "2188/2188 [==============================] - 10s 5ms/step - loss: 3.0353e-05 - root_mean_squared_error: 0.0055\n",
            "Epoch 16/100\n",
            "2188/2188 [==============================] - 9s 4ms/step - loss: 3.4346e-05 - root_mean_squared_error: 0.0059\n",
            "Epoch 17/100\n",
            "2188/2188 [==============================] - 8s 4ms/step - loss: 2.7044e-05 - root_mean_squared_error: 0.0052\n",
            "Epoch 18/100\n",
            "2188/2188 [==============================] - 9s 4ms/step - loss: 2.6158e-05 - root_mean_squared_error: 0.0051\n",
            "Epoch 19/100\n",
            "2188/2188 [==============================] - 8s 4ms/step - loss: 2.6355e-05 - root_mean_squared_error: 0.0051\n",
            "Epoch 20/100\n",
            "2188/2188 [==============================] - 8s 4ms/step - loss: 2.3339e-05 - root_mean_squared_error: 0.0048\n",
            "Epoch 21/100\n",
            "2188/2188 [==============================] - 12s 5ms/step - loss: 2.5302e-05 - root_mean_squared_error: 0.0050\n",
            "Epoch 22/100\n",
            "2188/2188 [==============================] - 8s 4ms/step - loss: 2.1323e-05 - root_mean_squared_error: 0.0046\n",
            "Epoch 23/100\n",
            "2188/2188 [==============================] - 8s 4ms/step - loss: 2.3326e-05 - root_mean_squared_error: 0.0048\n",
            "Epoch 24/100\n",
            "2188/2188 [==============================] - 8s 4ms/step - loss: 1.8962e-05 - root_mean_squared_error: 0.0044\n",
            "Epoch 25/100\n",
            "2188/2188 [==============================] - 8s 4ms/step - loss: 2.1072e-05 - root_mean_squared_error: 0.0046\n",
            "Epoch 26/100\n",
            "2188/2188 [==============================] - 8s 4ms/step - loss: 2.1662e-05 - root_mean_squared_error: 0.0047\n",
            "Epoch 27/100\n",
            "2188/2188 [==============================] - 8s 4ms/step - loss: 1.6677e-05 - root_mean_squared_error: 0.0041\n",
            "Epoch 28/100\n",
            "2188/2188 [==============================] - 9s 4ms/step - loss: 2.1930e-05 - root_mean_squared_error: 0.0047\n",
            "Epoch 29/100\n",
            "2188/2188 [==============================] - 8s 4ms/step - loss: 1.9030e-05 - root_mean_squared_error: 0.0044\n",
            "Epoch 30/100\n",
            "2188/2188 [==============================] - 8s 4ms/step - loss: 2.0167e-05 - root_mean_squared_error: 0.0045\n",
            "Epoch 31/100\n",
            "2188/2188 [==============================] - 8s 4ms/step - loss: 1.7912e-05 - root_mean_squared_error: 0.0042\n",
            "Epoch 32/100\n",
            "2188/2188 [==============================] - 8s 4ms/step - loss: 1.5826e-05 - root_mean_squared_error: 0.0040\n",
            "Epoch 33/100\n",
            "2188/2188 [==============================] - 9s 4ms/step - loss: 1.9194e-05 - root_mean_squared_error: 0.0044\n",
            "Epoch 34/100\n",
            "2188/2188 [==============================] - 8s 4ms/step - loss: 1.6651e-05 - root_mean_squared_error: 0.0041\n",
            "Epoch 35/100\n",
            "2188/2188 [==============================] - 8s 4ms/step - loss: 1.5291e-05 - root_mean_squared_error: 0.0039\n",
            "Epoch 36/100\n",
            "2188/2188 [==============================] - 8s 4ms/step - loss: 1.6723e-05 - root_mean_squared_error: 0.0041\n",
            "Epoch 37/100\n",
            "2188/2188 [==============================] - 8s 4ms/step - loss: 1.4493e-05 - root_mean_squared_error: 0.0038\n",
            "Epoch 38/100\n",
            "2188/2188 [==============================] - 8s 4ms/step - loss: 1.6199e-05 - root_mean_squared_error: 0.0040\n",
            "Epoch 39/100\n",
            "2188/2188 [==============================] - 9s 4ms/step - loss: 1.2896e-05 - root_mean_squared_error: 0.0036\n",
            "Epoch 40/100\n",
            "2188/2188 [==============================] - 8s 4ms/step - loss: 1.6096e-05 - root_mean_squared_error: 0.0040\n",
            "Epoch 41/100\n",
            "2188/2188 [==============================] - 8s 4ms/step - loss: 1.3521e-05 - root_mean_squared_error: 0.0037\n",
            "Epoch 42/100\n",
            "2188/2188 [==============================] - 8s 4ms/step - loss: 1.5123e-05 - root_mean_squared_error: 0.0039\n",
            "Epoch 43/100\n",
            "2188/2188 [==============================] - 8s 4ms/step - loss: 1.2714e-05 - root_mean_squared_error: 0.0036\n",
            "Epoch 44/100\n",
            "2188/2188 [==============================] - 8s 4ms/step - loss: 1.3868e-05 - root_mean_squared_error: 0.0037\n",
            "Epoch 45/100\n",
            "2188/2188 [==============================] - 8s 4ms/step - loss: 1.5644e-05 - root_mean_squared_error: 0.0040\n",
            "Epoch 46/100\n",
            "2188/2188 [==============================] - 8s 4ms/step - loss: 1.1235e-05 - root_mean_squared_error: 0.0034\n",
            "Epoch 47/100\n",
            "2188/2188 [==============================] - 8s 4ms/step - loss: 1.3315e-05 - root_mean_squared_error: 0.0036\n",
            "Epoch 48/100\n",
            "2188/2188 [==============================] - 8s 4ms/step - loss: 1.2435e-05 - root_mean_squared_error: 0.0035\n",
            "Epoch 49/100\n",
            "2188/2188 [==============================] - 8s 4ms/step - loss: 1.2639e-05 - root_mean_squared_error: 0.0036\n",
            "Epoch 50/100\n",
            "2188/2188 [==============================] - 8s 4ms/step - loss: 1.2108e-05 - root_mean_squared_error: 0.0035\n",
            "Epoch 51/100\n",
            "2188/2188 [==============================] - 8s 4ms/step - loss: 1.2718e-05 - root_mean_squared_error: 0.0036\n",
            "Epoch 52/100\n",
            "2188/2188 [==============================] - 8s 4ms/step - loss: 1.1833e-05 - root_mean_squared_error: 0.0034\n",
            "Epoch 53/100\n",
            "2188/2188 [==============================] - 8s 4ms/step - loss: 1.0822e-05 - root_mean_squared_error: 0.0033\n",
            "Epoch 54/100\n",
            "2188/2188 [==============================] - 9s 4ms/step - loss: 1.2113e-05 - root_mean_squared_error: 0.0035\n",
            "Epoch 55/100\n",
            "2188/2188 [==============================] - 8s 4ms/step - loss: 1.3229e-05 - root_mean_squared_error: 0.0036\n",
            "Epoch 56/100\n",
            "2188/2188 [==============================] - 8s 4ms/step - loss: 1.1083e-05 - root_mean_squared_error: 0.0033\n",
            "Epoch 57/100\n",
            "2188/2188 [==============================] - 8s 4ms/step - loss: 1.1373e-05 - root_mean_squared_error: 0.0034\n",
            "Epoch 58/100\n",
            "2188/2188 [==============================] - 8s 4ms/step - loss: 1.0201e-05 - root_mean_squared_error: 0.0032\n",
            "Epoch 59/100\n",
            "2188/2188 [==============================] - 8s 4ms/step - loss: 1.1452e-05 - root_mean_squared_error: 0.0034\n",
            "Epoch 60/100\n",
            "2188/2188 [==============================] - 8s 4ms/step - loss: 1.0453e-05 - root_mean_squared_error: 0.0032\n",
            "Epoch 61/100\n",
            "2188/2188 [==============================] - 8s 4ms/step - loss: 1.0410e-05 - root_mean_squared_error: 0.0032\n",
            "Epoch 62/100\n",
            "2188/2188 [==============================] - 9s 4ms/step - loss: 1.1397e-05 - root_mean_squared_error: 0.0034\n",
            "Epoch 63/100\n",
            "2188/2188 [==============================] - 8s 4ms/step - loss: 1.0364e-05 - root_mean_squared_error: 0.0032\n",
            "Epoch 64/100\n",
            "2188/2188 [==============================] - 8s 4ms/step - loss: 8.8145e-06 - root_mean_squared_error: 0.0030\n",
            "Epoch 65/100\n",
            "2188/2188 [==============================] - 8s 4ms/step - loss: 9.9549e-06 - root_mean_squared_error: 0.0032\n",
            "Epoch 66/100\n",
            "2188/2188 [==============================] - 8s 4ms/step - loss: 9.4350e-06 - root_mean_squared_error: 0.0031\n",
            "Epoch 67/100\n",
            "2188/2188 [==============================] - 8s 4ms/step - loss: 1.0915e-05 - root_mean_squared_error: 0.0033\n",
            "Epoch 68/100\n",
            "2188/2188 [==============================] - 8s 4ms/step - loss: 8.8229e-06 - root_mean_squared_error: 0.0030\n",
            "Epoch 69/100\n",
            "2188/2188 [==============================] - 8s 4ms/step - loss: 9.5829e-06 - root_mean_squared_error: 0.0031\n",
            "Epoch 70/100\n",
            "2188/2188 [==============================] - 8s 4ms/step - loss: 8.8960e-06 - root_mean_squared_error: 0.0030\n",
            "Epoch 71/100\n",
            "2188/2188 [==============================] - 8s 4ms/step - loss: 8.1893e-06 - root_mean_squared_error: 0.0029\n",
            "Epoch 72/100\n",
            "2188/2188 [==============================] - 8s 4ms/step - loss: 9.6401e-06 - root_mean_squared_error: 0.0031\n",
            "Epoch 73/100\n",
            "2188/2188 [==============================] - 8s 4ms/step - loss: 9.0084e-06 - root_mean_squared_error: 0.0030\n",
            "Epoch 74/100\n",
            "2188/2188 [==============================] - 8s 4ms/step - loss: 8.1474e-06 - root_mean_squared_error: 0.0029\n",
            "Epoch 75/100\n",
            "2188/2188 [==============================] - 8s 4ms/step - loss: 9.9469e-06 - root_mean_squared_error: 0.0032\n",
            "Epoch 76/100\n",
            "2188/2188 [==============================] - 8s 4ms/step - loss: 7.7985e-06 - root_mean_squared_error: 0.0028\n",
            "Epoch 77/100\n",
            "2188/2188 [==============================] - 8s 4ms/step - loss: 7.8283e-06 - root_mean_squared_error: 0.0028\n",
            "Epoch 78/100\n",
            "2188/2188 [==============================] - 8s 4ms/step - loss: 9.0140e-06 - root_mean_squared_error: 0.0030\n",
            "Epoch 79/100\n",
            "2188/2188 [==============================] - 8s 4ms/step - loss: 7.3632e-06 - root_mean_squared_error: 0.0027\n",
            "Epoch 80/100\n",
            "2188/2188 [==============================] - 8s 4ms/step - loss: 8.8025e-06 - root_mean_squared_error: 0.0030\n",
            "Epoch 81/100\n",
            "2188/2188 [==============================] - 8s 4ms/step - loss: 6.9678e-06 - root_mean_squared_error: 0.0026\n",
            "Epoch 82/100\n",
            "2188/2188 [==============================] - 8s 4ms/step - loss: 8.9814e-06 - root_mean_squared_error: 0.0030\n",
            "Epoch 83/100\n",
            "2188/2188 [==============================] - 8s 4ms/step - loss: 7.1059e-06 - root_mean_squared_error: 0.0027\n",
            "Epoch 84/100\n",
            "2188/2188 [==============================] - 8s 4ms/step - loss: 7.5986e-06 - root_mean_squared_error: 0.0028\n",
            "Epoch 85/100\n",
            "2188/2188 [==============================] - 8s 4ms/step - loss: 7.3163e-06 - root_mean_squared_error: 0.0027\n",
            "Epoch 86/100\n",
            "2188/2188 [==============================] - 8s 4ms/step - loss: 7.3064e-06 - root_mean_squared_error: 0.0027\n",
            "Epoch 87/100\n",
            "2188/2188 [==============================] - 8s 4ms/step - loss: 7.6928e-06 - root_mean_squared_error: 0.0028\n",
            "Epoch 88/100\n",
            "2188/2188 [==============================] - 8s 4ms/step - loss: 7.5574e-06 - root_mean_squared_error: 0.0027\n",
            "Epoch 89/100\n",
            "2188/2188 [==============================] - 8s 4ms/step - loss: 7.8631e-06 - root_mean_squared_error: 0.0028\n",
            "Epoch 90/100\n",
            "2188/2188 [==============================] - 8s 4ms/step - loss: 6.3728e-06 - root_mean_squared_error: 0.0025\n",
            "Epoch 91/100\n",
            "2188/2188 [==============================] - 8s 4ms/step - loss: 6.7719e-06 - root_mean_squared_error: 0.0026\n",
            "Epoch 92/100\n",
            "2188/2188 [==============================] - 8s 4ms/step - loss: 6.7993e-06 - root_mean_squared_error: 0.0026\n",
            "Epoch 93/100\n",
            "2188/2188 [==============================] - 8s 4ms/step - loss: 7.6950e-06 - root_mean_squared_error: 0.0028\n",
            "Epoch 94/100\n",
            "2188/2188 [==============================] - 8s 4ms/step - loss: 6.2487e-06 - root_mean_squared_error: 0.0025\n",
            "Epoch 95/100\n",
            "2188/2188 [==============================] - 8s 4ms/step - loss: 6.3032e-06 - root_mean_squared_error: 0.0025\n",
            "Epoch 96/100\n",
            "2188/2188 [==============================] - 8s 4ms/step - loss: 6.5393e-06 - root_mean_squared_error: 0.0026\n",
            "Epoch 97/100\n",
            "2188/2188 [==============================] - 9s 4ms/step - loss: 6.3704e-06 - root_mean_squared_error: 0.0025\n",
            "Epoch 98/100\n",
            "2188/2188 [==============================] - 8s 4ms/step - loss: 6.3434e-06 - root_mean_squared_error: 0.0025\n",
            "Epoch 99/100\n",
            "2188/2188 [==============================] - 8s 4ms/step - loss: 6.2519e-06 - root_mean_squared_error: 0.0025\n",
            "Epoch 100/100\n",
            "2188/2188 [==============================] - 8s 4ms/step - loss: 6.2549e-06 - root_mean_squared_error: 0.0025\n"
          ]
        }
      ],
      "source": [
        "history = model.fit(X_train, y_train, batch_size=32, epochs=100)    # epochs--->iteration"
      ]
    },
    {
      "cell_type": "code",
      "execution_count": null,
      "metadata": {
        "id": "v76hMwcqL7pb",
        "outputId": "0d97303d-f5dd-4b79-933b-9cd43a9c6f67",
        "colab": {
          "base_uri": "https://localhost:8080/",
          "height": 279
        }
      },
      "outputs": [
        {
          "output_type": "display_data",
          "data": {
            "text/plain": [
              "<Figure size 432x288 with 1 Axes>"
            ],
            "image/png": "[encoded data removed]"
          },
          "metadata": {
            "needs_background": "light"
          }
        }
      ],
      "source": [
        "def plot_history(metrics):\n",
        "    history_df = pd.DataFrame.from_dict(history.history)\n",
        "    sns.lineplot(data=history_df[metrics], color= \"r\")\n",
        "    plt.xlabel(\"epochs\")\n",
        "    plt.ylabel(\"RMSE\")\n",
        "plot_history('root_mean_squared_error')"
      ]
    },
    {
      "cell_type": "code",
      "execution_count": null,
      "metadata": {
        "id": "yYJjhyu6L7pb",
        "outputId": "c9284694-22ca-42f1-912f-eab068817e1c",
        "colab": {
          "base_uri": "https://localhost:8080/"
        }
      },
      "outputs": [
        {
          "output_type": "stream",
          "name": "stdout",
          "text": [
            "2188/2188 [==============================] - 3s 1ms/step\n",
            "469/469 [==============================] - 1s 1ms/step\n"
          ]
        }
      ],
      "source": [
        "y_train_predicted = model.predict(X_train)     # y_train predicted\n",
        "y_test_predicted = model.predict(X_test)      #  y_test_predicted"
      ]
    },
    {
      "cell_type": "code",
      "execution_count": null,
      "metadata": {
        "id": "WawNUAo1L7pb",
        "outputId": "9f440c49-b7ee-453a-de8e-be3fc3228412",
        "colab": {
          "base_uri": "https://localhost:8080/",
          "height": 299
        }
      },
      "outputs": [
        {
          "output_type": "display_data",
          "data": {
            "text/plain": [
              "<Figure size 432x288 with 1 Axes>"
            ],
            "image/png": "[encoded data removed]"
          },
          "metadata": {}
        }
      ],
      "source": [
        "def plot_predictions(y_pred, y_true, title):\n",
        "    plt.style.use('ggplot') \n",
        "    plt.scatter(y_pred, y_true, s=10, alpha=0.5)\n",
        "    plt.xlabel(\"Y_predicted\")\n",
        "    plt.ylabel(\"Y_train\")                          # sactter plot for Y_train_predicted and True_Y_train\n",
        "    plt.title(title)\n",
        "\n",
        "plot_predictions(y_train_predicted, y_train, title='Predictions on the training set')"
      ]
    },
    {
      "cell_type": "code",
      "execution_count": null,
      "metadata": {
        "id": "MQA9RAm0L7pb",
        "outputId": "05f3103b-c0b1-410b-d0f8-5b13dae87837",
        "colab": {
          "base_uri": "https://localhost:8080/",
          "height": 299
        }
      },
      "outputs": [
        {
          "output_type": "display_data",
          "data": {
            "text/plain": [
              "<Figure size 432x288 with 1 Axes>"
            ],
            "image/png": "[encoded data removed]"
          },
          "metadata": {}
        }
      ],
      "source": [
        "plot_predictions(y_test_predicted, y_test, title='Predictions on the test set')    # Plot between Y_test_predicted and True_Y_test_predicted"
      ]
    },
    {
      "cell_type": "code",
      "execution_count": null,
      "metadata": {
        "id": "r5cS0JKNL7pf",
        "outputId": "370ffc25-499d-4837-f712-99e8e079a555",
        "colab": {
          "base_uri": "https://localhost:8080/"
        }
      },
      "outputs": [
        {
          "output_type": "stream",
          "name": "stdout",
          "text": [
            "2188/2188 [==============================] - 5s 2ms/step - loss: 3.6680e-06 - root_mean_squared_error: 0.0019\n",
            "469/469 [==============================] - 1s 2ms/step - loss: 3.7020e-06 - root_mean_squared_error: 0.0019\n",
            "Train RMSE: 0.00, Test RMSE: 0.00\n"
          ]
        }
      ],
      "source": [
        "train_metrics = model.evaluate(X_train, y_train, return_dict=True)\n",
        "test_metrics = model.evaluate(X_test, y_test, return_dict=True)\n",
        "print('Train RMSE: {:.2f}, Test RMSE: {:.2f}'.format(train_metrics['root_mean_squared_error'], test_metrics['root_mean_squared_error']))"
      ]
    },
    {
      "cell_type": "code",
      "execution_count": null,
      "metadata": {
        "id": "_Cyk7APLL7pf",
        "outputId": "b72c7eda-ff67-4579-e058-d899e42142dd",
        "colab": {
          "base_uri": "https://localhost:8080/"
        }
      },
      "outputs": [
        {
          "output_type": "stream",
          "name": "stdout",
          "text": [
            "Epoch 1/150\n",
            "2188/2188 [==============================] - 9s 4ms/step - loss: 6.2198e-06 - root_mean_squared_error: 0.0025 - val_loss: 2.5361e-06 - val_root_mean_squared_error: 0.0016\n",
            "Epoch 2/150\n",
            "2188/2188 [==============================] - 9s 4ms/step - loss: 5.5561e-06 - root_mean_squared_error: 0.0024 - val_loss: 1.1546e-05 - val_root_mean_squared_error: 0.0034\n",
            "Epoch 3/150\n",
            "2188/2188 [==============================] - 9s 4ms/step - loss: 6.1673e-06 - root_mean_squared_error: 0.0025 - val_loss: 8.9853e-06 - val_root_mean_squared_error: 0.0030\n",
            "Epoch 4/150\n",
            "2188/2188 [==============================] - 9s 4ms/step - loss: 6.3624e-06 - root_mean_squared_error: 0.0025 - val_loss: 7.2779e-06 - val_root_mean_squared_error: 0.0027\n",
            "Epoch 5/150\n",
            "2188/2188 [==============================] - 9s 4ms/step - loss: 5.6686e-06 - root_mean_squared_error: 0.0024 - val_loss: 1.7703e-06 - val_root_mean_squared_error: 0.0013\n",
            "Epoch 6/150\n",
            "2188/2188 [==============================] - 9s 4ms/step - loss: 5.6243e-06 - root_mean_squared_error: 0.0024 - val_loss: 3.3884e-06 - val_root_mean_squared_error: 0.0018\n",
            "Epoch 7/150\n",
            "2188/2188 [==============================] - 9s 4ms/step - loss: 6.0371e-06 - root_mean_squared_error: 0.0025 - val_loss: 2.9982e-06 - val_root_mean_squared_error: 0.0017\n",
            "Epoch 8/150\n",
            "2188/2188 [==============================] - 9s 4ms/step - loss: 5.8220e-06 - root_mean_squared_error: 0.0024 - val_loss: 7.3524e-06 - val_root_mean_squared_error: 0.0027\n",
            "Epoch 9/150\n",
            "2188/2188 [==============================] - 9s 4ms/step - loss: 5.6674e-06 - root_mean_squared_error: 0.0024 - val_loss: 7.0706e-06 - val_root_mean_squared_error: 0.0027\n",
            "Epoch 10/150\n",
            "2188/2188 [==============================] - 9s 4ms/step - loss: 5.9485e-06 - root_mean_squared_error: 0.0024 - val_loss: 2.1685e-05 - val_root_mean_squared_error: 0.0047\n",
            "Epoch 11/150\n",
            "2188/2188 [==============================] - 9s 4ms/step - loss: 5.4437e-06 - root_mean_squared_error: 0.0023 - val_loss: 2.9896e-06 - val_root_mean_squared_error: 0.0017\n",
            "Epoch 12/150\n",
            "2188/2188 [==============================] - 9s 4ms/step - loss: 5.6232e-06 - root_mean_squared_error: 0.0024 - val_loss: 3.2913e-06 - val_root_mean_squared_error: 0.0018\n",
            "Epoch 13/150\n",
            "2188/2188 [==============================] - 9s 4ms/step - loss: 5.2276e-06 - root_mean_squared_error: 0.0023 - val_loss: 5.8453e-06 - val_root_mean_squared_error: 0.0024\n",
            "Epoch 14/150\n",
            "2188/2188 [==============================] - 9s 4ms/step - loss: 5.3026e-06 - root_mean_squared_error: 0.0023 - val_loss: 4.0561e-06 - val_root_mean_squared_error: 0.0020\n",
            "Epoch 15/150\n",
            "2188/2188 [==============================] - 9s 4ms/step - loss: 5.6902e-06 - root_mean_squared_error: 0.0024 - val_loss: 2.3696e-06 - val_root_mean_squared_error: 0.0015\n",
            "Epoch 16/150\n",
            "2188/2188 [==============================] - 9s 4ms/step - loss: 5.2150e-06 - root_mean_squared_error: 0.0023 - val_loss: 2.7105e-06 - val_root_mean_squared_error: 0.0016\n",
            "Epoch 17/150\n",
            "2188/2188 [==============================] - 9s 4ms/step - loss: 5.7722e-06 - root_mean_squared_error: 0.0024 - val_loss: 1.5365e-05 - val_root_mean_squared_error: 0.0039\n",
            "Epoch 18/150\n",
            "2188/2188 [==============================] - 9s 4ms/step - loss: 5.2490e-06 - root_mean_squared_error: 0.0023 - val_loss: 2.1587e-06 - val_root_mean_squared_error: 0.0015\n",
            "Epoch 19/150\n",
            "2188/2188 [==============================] - 9s 4ms/step - loss: 5.5342e-06 - root_mean_squared_error: 0.0024 - val_loss: 4.5114e-06 - val_root_mean_squared_error: 0.0021\n",
            "Epoch 20/150\n",
            "2188/2188 [==============================] - 9s 4ms/step - loss: 5.0459e-06 - root_mean_squared_error: 0.0022 - val_loss: 2.1884e-06 - val_root_mean_squared_error: 0.0015\n",
            "Epoch 21/150\n",
            "2188/2188 [==============================] - 9s 4ms/step - loss: 5.1389e-06 - root_mean_squared_error: 0.0023 - val_loss: 3.1949e-06 - val_root_mean_squared_error: 0.0018\n",
            "Epoch 22/150\n",
            "2188/2188 [==============================] - 10s 4ms/step - loss: 4.9644e-06 - root_mean_squared_error: 0.0022 - val_loss: 2.4506e-06 - val_root_mean_squared_error: 0.0016\n",
            "Epoch 23/150\n",
            "2188/2188 [==============================] - 9s 4ms/step - loss: 5.1261e-06 - root_mean_squared_error: 0.0023 - val_loss: 7.8472e-06 - val_root_mean_squared_error: 0.0028\n",
            "Epoch 24/150\n",
            "2188/2188 [==============================] - 10s 4ms/step - loss: 4.9925e-06 - root_mean_squared_error: 0.0022 - val_loss: 1.4748e-05 - val_root_mean_squared_error: 0.0038\n",
            "Epoch 25/150\n",
            "2188/2188 [==============================] - 9s 4ms/step - loss: 4.9789e-06 - root_mean_squared_error: 0.0022 - val_loss: 3.0121e-06 - val_root_mean_squared_error: 0.0017\n",
            "Epoch 26/150\n",
            "2188/2188 [==============================] - 9s 4ms/step - loss: 4.7003e-06 - root_mean_squared_error: 0.0022 - val_loss: 3.6446e-06 - val_root_mean_squared_error: 0.0019\n",
            "Epoch 27/150\n",
            "2188/2188 [==============================] - 10s 4ms/step - loss: 5.3065e-06 - root_mean_squared_error: 0.0023 - val_loss: 5.0764e-05 - val_root_mean_squared_error: 0.0071\n",
            "Epoch 28/150\n",
            "2188/2188 [==============================] - 9s 4ms/step - loss: 4.9262e-06 - root_mean_squared_error: 0.0022 - val_loss: 2.8275e-06 - val_root_mean_squared_error: 0.0017\n",
            "Epoch 29/150\n",
            "2188/2188 [==============================] - 9s 4ms/step - loss: 4.9767e-06 - root_mean_squared_error: 0.0022 - val_loss: 5.1728e-06 - val_root_mean_squared_error: 0.0023\n",
            "Epoch 30/150\n",
            "2188/2188 [==============================] - 9s 4ms/step - loss: 4.8690e-06 - root_mean_squared_error: 0.0022 - val_loss: 8.2543e-06 - val_root_mean_squared_error: 0.0029\n",
            "Epoch 31/150\n",
            "2188/2188 [==============================] - 9s 4ms/step - loss: 4.4494e-06 - root_mean_squared_error: 0.0021 - val_loss: 3.3338e-06 - val_root_mean_squared_error: 0.0018\n",
            "Epoch 32/150\n",
            "2188/2188 [==============================] - 9s 4ms/step - loss: 4.5275e-06 - root_mean_squared_error: 0.0021 - val_loss: 4.6443e-06 - val_root_mean_squared_error: 0.0022\n",
            "Epoch 33/150\n",
            "2188/2188 [==============================] - 9s 4ms/step - loss: 4.8441e-06 - root_mean_squared_error: 0.0022 - val_loss: 2.5894e-06 - val_root_mean_squared_error: 0.0016\n",
            "Epoch 34/150\n",
            "2188/2188 [==============================] - 9s 4ms/step - loss: 4.9017e-06 - root_mean_squared_error: 0.0022 - val_loss: 9.7284e-06 - val_root_mean_squared_error: 0.0031\n",
            "Epoch 35/150\n",
            "2188/2188 [==============================] - 9s 4ms/step - loss: 4.5164e-06 - root_mean_squared_error: 0.0021 - val_loss: 4.6797e-06 - val_root_mean_squared_error: 0.0022\n",
            "Epoch 36/150\n",
            "2188/2188 [==============================] - 9s 4ms/step - loss: 4.7366e-06 - root_mean_squared_error: 0.0022 - val_loss: 4.4873e-06 - val_root_mean_squared_error: 0.0021\n",
            "Epoch 37/150\n",
            "2188/2188 [==============================] - 9s 4ms/step - loss: 5.3655e-06 - root_mean_squared_error: 0.0023 - val_loss: 8.4255e-06 - val_root_mean_squared_error: 0.0029\n",
            "Epoch 38/150\n",
            "2188/2188 [==============================] - 9s 4ms/step - loss: 3.6245e-06 - root_mean_squared_error: 0.0019 - val_loss: 2.1708e-06 - val_root_mean_squared_error: 0.0015\n",
            "Epoch 39/150\n",
            "2188/2188 [==============================] - 9s 4ms/step - loss: 4.4774e-06 - root_mean_squared_error: 0.0021 - val_loss: 3.1735e-06 - val_root_mean_squared_error: 0.0018\n",
            "Epoch 40/150\n",
            "2188/2188 [==============================] - 9s 4ms/step - loss: 4.1520e-06 - root_mean_squared_error: 0.0020 - val_loss: 4.0761e-06 - val_root_mean_squared_error: 0.0020\n",
            "Epoch 41/150\n",
            "2188/2188 [==============================] - 9s 4ms/step - loss: 4.8005e-06 - root_mean_squared_error: 0.0022 - val_loss: 4.3749e-06 - val_root_mean_squared_error: 0.0021\n",
            "Epoch 42/150\n",
            "2188/2188 [==============================] - 9s 4ms/step - loss: 4.7344e-06 - root_mean_squared_error: 0.0022 - val_loss: 3.6047e-06 - val_root_mean_squared_error: 0.0019\n",
            "Epoch 43/150\n",
            "2188/2188 [==============================] - 9s 4ms/step - loss: 4.2743e-06 - root_mean_squared_error: 0.0021 - val_loss: 2.9297e-06 - val_root_mean_squared_error: 0.0017\n",
            "Epoch 44/150\n",
            "2188/2188 [==============================] - 9s 4ms/step - loss: 5.1232e-06 - root_mean_squared_error: 0.0023 - val_loss: 6.2835e-06 - val_root_mean_squared_error: 0.0025\n",
            "Epoch 45/150\n",
            "2188/2188 [==============================] - 9s 4ms/step - loss: 3.9025e-06 - root_mean_squared_error: 0.0020 - val_loss: 4.1030e-06 - val_root_mean_squared_error: 0.0020\n",
            "Epoch 46/150\n",
            "2188/2188 [==============================] - 9s 4ms/step - loss: 4.4270e-06 - root_mean_squared_error: 0.0021 - val_loss: 3.2932e-06 - val_root_mean_squared_error: 0.0018\n",
            "Epoch 47/150\n",
            "2188/2188 [==============================] - 9s 4ms/step - loss: 4.5789e-06 - root_mean_squared_error: 0.0021 - val_loss: 3.0571e-06 - val_root_mean_squared_error: 0.0017\n",
            "Epoch 48/150\n",
            "2188/2188 [==============================] - 9s 4ms/step - loss: 4.0524e-06 - root_mean_squared_error: 0.0020 - val_loss: 4.8430e-06 - val_root_mean_squared_error: 0.0022\n",
            "Epoch 49/150\n",
            "2188/2188 [==============================] - 9s 4ms/step - loss: 4.3761e-06 - root_mean_squared_error: 0.0021 - val_loss: 3.8486e-06 - val_root_mean_squared_error: 0.0020\n",
            "Epoch 50/150\n",
            "2188/2188 [==============================] - 9s 4ms/step - loss: 4.5790e-06 - root_mean_squared_error: 0.0021 - val_loss: 5.0872e-06 - val_root_mean_squared_error: 0.0023\n",
            "Epoch 51/150\n",
            "2188/2188 [==============================] - 9s 4ms/step - loss: 3.9153e-06 - root_mean_squared_error: 0.0020 - val_loss: 6.6913e-06 - val_root_mean_squared_error: 0.0026\n",
            "Epoch 52/150\n",
            "2188/2188 [==============================] - 9s 4ms/step - loss: 4.1662e-06 - root_mean_squared_error: 0.0020 - val_loss: 1.2181e-05 - val_root_mean_squared_error: 0.0035\n",
            "Epoch 53/150\n",
            "2188/2188 [==============================] - 9s 4ms/step - loss: 3.9022e-06 - root_mean_squared_error: 0.0020 - val_loss: 3.7654e-06 - val_root_mean_squared_error: 0.0019\n",
            "Epoch 54/150\n",
            "2188/2188 [==============================] - 9s 4ms/step - loss: 4.4132e-06 - root_mean_squared_error: 0.0021 - val_loss: 7.9227e-06 - val_root_mean_squared_error: 0.0028\n",
            "Epoch 55/150\n",
            "2188/2188 [==============================] - 9s 4ms/step - loss: 4.1125e-06 - root_mean_squared_error: 0.0020 - val_loss: 3.9235e-06 - val_root_mean_squared_error: 0.0020\n",
            "Epoch 56/150\n",
            "2188/2188 [==============================] - 9s 4ms/step - loss: 4.4319e-06 - root_mean_squared_error: 0.0021 - val_loss: 1.5770e-05 - val_root_mean_squared_error: 0.0040\n",
            "Epoch 57/150\n",
            "2188/2188 [==============================] - 9s 4ms/step - loss: 3.6916e-06 - root_mean_squared_error: 0.0019 - val_loss: 1.9083e-06 - val_root_mean_squared_error: 0.0014\n",
            "Epoch 58/150\n",
            "2188/2188 [==============================] - 9s 4ms/step - loss: 3.7970e-06 - root_mean_squared_error: 0.0019 - val_loss: 5.1874e-06 - val_root_mean_squared_error: 0.0023\n",
            "Epoch 59/150\n",
            "2188/2188 [==============================] - 9s 4ms/step - loss: 4.4172e-06 - root_mean_squared_error: 0.0021 - val_loss: 1.8238e-06 - val_root_mean_squared_error: 0.0014\n",
            "Epoch 60/150\n",
            "2188/2188 [==============================] - 9s 4ms/step - loss: 4.1208e-06 - root_mean_squared_error: 0.0020 - val_loss: 1.7764e-06 - val_root_mean_squared_error: 0.0013\n",
            "Epoch 61/150\n",
            "2188/2188 [==============================] - 9s 4ms/step - loss: 3.8473e-06 - root_mean_squared_error: 0.0020 - val_loss: 1.5620e-06 - val_root_mean_squared_error: 0.0012\n",
            "Epoch 62/150\n",
            "2188/2188 [==============================] - 9s 4ms/step - loss: 3.7181e-06 - root_mean_squared_error: 0.0019 - val_loss: 2.3170e-06 - val_root_mean_squared_error: 0.0015\n",
            "Epoch 63/150\n",
            "2188/2188 [==============================] - 9s 4ms/step - loss: 3.9738e-06 - root_mean_squared_error: 0.0020 - val_loss: 7.3293e-06 - val_root_mean_squared_error: 0.0027\n",
            "Epoch 64/150\n",
            "2188/2188 [==============================] - 9s 4ms/step - loss: 3.9926e-06 - root_mean_squared_error: 0.0020 - val_loss: 8.8486e-06 - val_root_mean_squared_error: 0.0030\n",
            "Epoch 65/150\n",
            "2188/2188 [==============================] - 9s 4ms/step - loss: 3.8677e-06 - root_mean_squared_error: 0.0020 - val_loss: 2.1402e-06 - val_root_mean_squared_error: 0.0015\n",
            "Epoch 66/150\n",
            "2188/2188 [==============================] - 9s 4ms/step - loss: 4.2991e-06 - root_mean_squared_error: 0.0021 - val_loss: 2.1197e-05 - val_root_mean_squared_error: 0.0046\n",
            "Epoch 67/150\n",
            "2188/2188 [==============================] - 9s 4ms/step - loss: 4.2819e-06 - root_mean_squared_error: 0.0021 - val_loss: 6.4303e-06 - val_root_mean_squared_error: 0.0025\n",
            "Epoch 68/150\n",
            "2188/2188 [==============================] - 9s 4ms/step - loss: 3.3154e-06 - root_mean_squared_error: 0.0018 - val_loss: 3.4983e-06 - val_root_mean_squared_error: 0.0019\n",
            "Epoch 69/150\n",
            "2188/2188 [==============================] - 9s 4ms/step - loss: 4.1066e-06 - root_mean_squared_error: 0.0020 - val_loss: 2.7766e-06 - val_root_mean_squared_error: 0.0017\n",
            "Epoch 70/150\n",
            "2188/2188 [==============================] - 9s 4ms/step - loss: 4.2545e-06 - root_mean_squared_error: 0.0021 - val_loss: 1.7498e-06 - val_root_mean_squared_error: 0.0013\n",
            "Epoch 71/150\n",
            "2188/2188 [==============================] - 9s 4ms/step - loss: 3.8711e-06 - root_mean_squared_error: 0.0020 - val_loss: 9.1412e-06 - val_root_mean_squared_error: 0.0030\n",
            "Epoch 72/150\n",
            "2188/2188 [==============================] - 9s 4ms/step - loss: 3.7124e-06 - root_mean_squared_error: 0.0019 - val_loss: 3.1017e-06 - val_root_mean_squared_error: 0.0018\n",
            "Epoch 73/150\n",
            "2188/2188 [==============================] - 9s 4ms/step - loss: 3.9960e-06 - root_mean_squared_error: 0.0020 - val_loss: 1.9009e-06 - val_root_mean_squared_error: 0.0014\n",
            "Epoch 74/150\n",
            "2188/2188 [==============================] - 9s 4ms/step - loss: 3.4407e-06 - root_mean_squared_error: 0.0019 - val_loss: 4.4530e-06 - val_root_mean_squared_error: 0.0021\n",
            "Epoch 75/150\n",
            "2188/2188 [==============================] - 9s 4ms/step - loss: 3.5987e-06 - root_mean_squared_error: 0.0019 - val_loss: 5.7016e-06 - val_root_mean_squared_error: 0.0024\n",
            "Epoch 76/150\n",
            "2188/2188 [==============================] - 9s 4ms/step - loss: 3.7906e-06 - root_mean_squared_error: 0.0019 - val_loss: 3.3674e-06 - val_root_mean_squared_error: 0.0018\n",
            "Epoch 77/150\n",
            "2188/2188 [==============================] - 10s 4ms/step - loss: 3.7316e-06 - root_mean_squared_error: 0.0019 - val_loss: 1.8579e-06 - val_root_mean_squared_error: 0.0014\n",
            "Epoch 78/150\n",
            "2188/2188 [==============================] - 9s 4ms/step - loss: 4.2136e-06 - root_mean_squared_error: 0.0021 - val_loss: 7.9985e-06 - val_root_mean_squared_error: 0.0028\n",
            "Epoch 79/150\n",
            "2188/2188 [==============================] - 9s 4ms/step - loss: 3.2962e-06 - root_mean_squared_error: 0.0018 - val_loss: 1.8424e-06 - val_root_mean_squared_error: 0.0014\n",
            "Epoch 80/150\n",
            "2188/2188 [==============================] - 9s 4ms/step - loss: 3.7569e-06 - root_mean_squared_error: 0.0019 - val_loss: 2.1368e-06 - val_root_mean_squared_error: 0.0015\n",
            "Epoch 81/150\n",
            "2188/2188 [==============================] - 9s 4ms/step - loss: 3.6992e-06 - root_mean_squared_error: 0.0019 - val_loss: 1.7748e-06 - val_root_mean_squared_error: 0.0013\n",
            "Epoch 82/150\n",
            "2188/2188 [==============================] - 9s 4ms/step - loss: 3.0666e-06 - root_mean_squared_error: 0.0018 - val_loss: 1.6289e-06 - val_root_mean_squared_error: 0.0013\n",
            "Epoch 83/150\n",
            "2188/2188 [==============================] - 9s 4ms/step - loss: 3.5464e-06 - root_mean_squared_error: 0.0019 - val_loss: 5.7355e-06 - val_root_mean_squared_error: 0.0024\n",
            "Epoch 84/150\n",
            "2188/2188 [==============================] - 9s 4ms/step - loss: 3.3737e-06 - root_mean_squared_error: 0.0018 - val_loss: 3.1990e-06 - val_root_mean_squared_error: 0.0018\n",
            "Epoch 85/150\n",
            "2188/2188 [==============================] - 9s 4ms/step - loss: 3.4739e-06 - root_mean_squared_error: 0.0019 - val_loss: 2.7148e-06 - val_root_mean_squared_error: 0.0016\n",
            "Epoch 86/150\n",
            "2188/2188 [==============================] - 9s 4ms/step - loss: 3.7040e-06 - root_mean_squared_error: 0.0019 - val_loss: 6.9375e-06 - val_root_mean_squared_error: 0.0026\n",
            "Epoch 87/150\n",
            "2188/2188 [==============================] - 9s 4ms/step - loss: 3.2457e-06 - root_mean_squared_error: 0.0018 - val_loss: 2.1747e-06 - val_root_mean_squared_error: 0.0015\n",
            "Epoch 88/150\n",
            "2188/2188 [==============================] - 9s 4ms/step - loss: 3.7853e-06 - root_mean_squared_error: 0.0019 - val_loss: 1.3168e-06 - val_root_mean_squared_error: 0.0011\n",
            "Epoch 89/150\n",
            "2188/2188 [==============================] - 9s 4ms/step - loss: 3.5502e-06 - root_mean_squared_error: 0.0019 - val_loss: 4.3167e-06 - val_root_mean_squared_error: 0.0021\n",
            "Epoch 90/150\n",
            "2188/2188 [==============================] - 9s 4ms/step - loss: 3.3224e-06 - root_mean_squared_error: 0.0018 - val_loss: 6.3528e-06 - val_root_mean_squared_error: 0.0025\n",
            "Epoch 91/150\n",
            "2188/2188 [==============================] - 9s 4ms/step - loss: 3.2443e-06 - root_mean_squared_error: 0.0018 - val_loss: 2.2193e-06 - val_root_mean_squared_error: 0.0015\n",
            "Epoch 92/150\n",
            "2188/2188 [==============================] - 9s 4ms/step - loss: 3.2260e-06 - root_mean_squared_error: 0.0018 - val_loss: 2.5106e-06 - val_root_mean_squared_error: 0.0016\n",
            "Epoch 93/150\n",
            "2188/2188 [==============================] - 9s 4ms/step - loss: 3.5594e-06 - root_mean_squared_error: 0.0019 - val_loss: 4.5748e-06 - val_root_mean_squared_error: 0.0021\n",
            "Epoch 94/150\n",
            "2188/2188 [==============================] - 9s 4ms/step - loss: 3.2124e-06 - root_mean_squared_error: 0.0018 - val_loss: 3.3342e-06 - val_root_mean_squared_error: 0.0018\n",
            "Epoch 95/150\n",
            "2188/2188 [==============================] - 9s 4ms/step - loss: 3.3815e-06 - root_mean_squared_error: 0.0018 - val_loss: 1.6132e-06 - val_root_mean_squared_error: 0.0013\n",
            "Epoch 96/150\n",
            "2188/2188 [==============================] - 9s 4ms/step - loss: 3.5602e-06 - root_mean_squared_error: 0.0019 - val_loss: 7.2949e-06 - val_root_mean_squared_error: 0.0027\n",
            "Epoch 97/150\n",
            "2188/2188 [==============================] - 9s 4ms/step - loss: 3.1801e-06 - root_mean_squared_error: 0.0018 - val_loss: 1.6852e-06 - val_root_mean_squared_error: 0.0013\n",
            "Epoch 98/150\n",
            "2188/2188 [==============================] - 9s 4ms/step - loss: 3.0275e-06 - root_mean_squared_error: 0.0017 - val_loss: 3.8118e-06 - val_root_mean_squared_error: 0.0020\n",
            "Epoch 99/150\n",
            "2188/2188 [==============================] - 9s 4ms/step - loss: 3.3285e-06 - root_mean_squared_error: 0.0018 - val_loss: 1.5907e-06 - val_root_mean_squared_error: 0.0013\n",
            "Epoch 100/150\n",
            "2188/2188 [==============================] - 9s 4ms/step - loss: 3.0107e-06 - root_mean_squared_error: 0.0017 - val_loss: 1.2212e-06 - val_root_mean_squared_error: 0.0011\n",
            "Epoch 101/150\n",
            "2188/2188 [==============================] - 9s 4ms/step - loss: 3.3349e-06 - root_mean_squared_error: 0.0018 - val_loss: 2.9903e-06 - val_root_mean_squared_error: 0.0017\n",
            "Epoch 102/150\n",
            "2188/2188 [==============================] - 9s 4ms/step - loss: 3.1169e-06 - root_mean_squared_error: 0.0018 - val_loss: 5.0631e-06 - val_root_mean_squared_error: 0.0023\n",
            "Epoch 103/150\n",
            "2188/2188 [==============================] - 9s 4ms/step - loss: 3.7498e-06 - root_mean_squared_error: 0.0019 - val_loss: 2.0948e-06 - val_root_mean_squared_error: 0.0014\n",
            "Epoch 104/150\n",
            "2188/2188 [==============================] - 9s 4ms/step - loss: 2.7829e-06 - root_mean_squared_error: 0.0017 - val_loss: 1.7503e-06 - val_root_mean_squared_error: 0.0013\n",
            "Epoch 105/150\n",
            "2188/2188 [==============================] - 9s 4ms/step - loss: 2.6739e-06 - root_mean_squared_error: 0.0016 - val_loss: 1.7834e-06 - val_root_mean_squared_error: 0.0013\n",
            "Epoch 106/150\n",
            "2188/2188 [==============================] - 9s 4ms/step - loss: 3.1030e-06 - root_mean_squared_error: 0.0018 - val_loss: 9.2863e-06 - val_root_mean_squared_error: 0.0030\n",
            "Epoch 107/150\n",
            "2188/2188 [==============================] - 9s 4ms/step - loss: 3.1606e-06 - root_mean_squared_error: 0.0018 - val_loss: 3.7386e-06 - val_root_mean_squared_error: 0.0019\n",
            "Epoch 108/150\n",
            "2188/2188 [==============================] - 9s 4ms/step - loss: 3.0427e-06 - root_mean_squared_error: 0.0017 - val_loss: 2.4906e-06 - val_root_mean_squared_error: 0.0016\n",
            "Epoch 109/150\n",
            "2188/2188 [==============================] - 9s 4ms/step - loss: 3.6066e-06 - root_mean_squared_error: 0.0019 - val_loss: 1.4771e-06 - val_root_mean_squared_error: 0.0012\n",
            "Epoch 110/150\n",
            "2188/2188 [==============================] - 9s 4ms/step - loss: 2.7324e-06 - root_mean_squared_error: 0.0017 - val_loss: 1.3054e-06 - val_root_mean_squared_error: 0.0011\n",
            "Epoch 111/150\n",
            "2188/2188 [==============================] - 9s 4ms/step - loss: 2.8005e-06 - root_mean_squared_error: 0.0017 - val_loss: 2.1631e-06 - val_root_mean_squared_error: 0.0015\n",
            "Epoch 112/150\n",
            "2188/2188 [==============================] - 9s 4ms/step - loss: 3.2829e-06 - root_mean_squared_error: 0.0018 - val_loss: 3.3426e-06 - val_root_mean_squared_error: 0.0018\n",
            "Epoch 113/150\n",
            "2188/2188 [==============================] - 9s 4ms/step - loss: 2.7761e-06 - root_mean_squared_error: 0.0017 - val_loss: 4.1327e-06 - val_root_mean_squared_error: 0.0020\n",
            "Epoch 114/150\n",
            "2188/2188 [==============================] - 9s 4ms/step - loss: 3.1772e-06 - root_mean_squared_error: 0.0018 - val_loss: 3.8749e-06 - val_root_mean_squared_error: 0.0020\n",
            "Epoch 115/150\n",
            "2188/2188 [==============================] - 9s 4ms/step - loss: 2.9424e-06 - root_mean_squared_error: 0.0017 - val_loss: 3.7176e-06 - val_root_mean_squared_error: 0.0019\n",
            "Epoch 116/150\n",
            "2188/2188 [==============================] - 9s 4ms/step - loss: 2.8694e-06 - root_mean_squared_error: 0.0017 - val_loss: 1.2697e-06 - val_root_mean_squared_error: 0.0011\n",
            "Epoch 117/150\n",
            "2188/2188 [==============================] - 9s 4ms/step - loss: 3.2080e-06 - root_mean_squared_error: 0.0018 - val_loss: 2.3973e-06 - val_root_mean_squared_error: 0.0015\n",
            "Epoch 118/150\n",
            "2188/2188 [==============================] - 9s 4ms/step - loss: 3.1020e-06 - root_mean_squared_error: 0.0018 - val_loss: 3.4033e-06 - val_root_mean_squared_error: 0.0018\n",
            "Epoch 119/150\n",
            "2188/2188 [==============================] - 12s 6ms/step - loss: 2.8586e-06 - root_mean_squared_error: 0.0017 - val_loss: 4.1048e-06 - val_root_mean_squared_error: 0.0020\n",
            "Epoch 120/150\n",
            "2188/2188 [==============================] - 9s 4ms/step - loss: 3.2029e-06 - root_mean_squared_error: 0.0018 - val_loss: 2.2019e-06 - val_root_mean_squared_error: 0.0015\n",
            "Epoch 121/150\n",
            "2188/2188 [==============================] - 10s 5ms/step - loss: 2.8267e-06 - root_mean_squared_error: 0.0017 - val_loss: 3.5856e-06 - val_root_mean_squared_error: 0.0019\n",
            "Epoch 122/150\n",
            "2188/2188 [==============================] - 11s 5ms/step - loss: 2.8884e-06 - root_mean_squared_error: 0.0017 - val_loss: 1.0745e-06 - val_root_mean_squared_error: 0.0010\n",
            "Epoch 123/150\n",
            "2188/2188 [==============================] - 11s 5ms/step - loss: 2.9182e-06 - root_mean_squared_error: 0.0017 - val_loss: 1.0367e-06 - val_root_mean_squared_error: 0.0010\n",
            "Epoch 124/150\n",
            "2188/2188 [==============================] - 9s 4ms/step - loss: 2.9058e-06 - root_mean_squared_error: 0.0017 - val_loss: 1.6404e-06 - val_root_mean_squared_error: 0.0013\n",
            "Epoch 125/150\n",
            "2188/2188 [==============================] - 9s 4ms/step - loss: 3.0724e-06 - root_mean_squared_error: 0.0018 - val_loss: 4.7003e-06 - val_root_mean_squared_error: 0.0022\n",
            "Epoch 126/150\n",
            "2188/2188 [==============================] - 9s 4ms/step - loss: 2.8382e-06 - root_mean_squared_error: 0.0017 - val_loss: 1.6763e-06 - val_root_mean_squared_error: 0.0013\n",
            "Epoch 127/150\n",
            "2188/2188 [==============================] - 11s 5ms/step - loss: 2.5647e-06 - root_mean_squared_error: 0.0016 - val_loss: 3.8201e-06 - val_root_mean_squared_error: 0.0020\n",
            "Epoch 128/150\n",
            "2188/2188 [==============================] - 11s 5ms/step - loss: 2.8233e-06 - root_mean_squared_error: 0.0017 - val_loss: 1.5099e-06 - val_root_mean_squared_error: 0.0012\n",
            "Epoch 129/150\n",
            "2188/2188 [==============================] - 12s 5ms/step - loss: 2.4528e-06 - root_mean_squared_error: 0.0016 - val_loss: 1.5634e-06 - val_root_mean_squared_error: 0.0013\n",
            "Epoch 130/150\n",
            "2188/2188 [==============================] - 9s 4ms/step - loss: 2.8842e-06 - root_mean_squared_error: 0.0017 - val_loss: 1.5710e-06 - val_root_mean_squared_error: 0.0013\n",
            "Epoch 131/150\n",
            "2188/2188 [==============================] - 10s 4ms/step - loss: 2.9561e-06 - root_mean_squared_error: 0.0017 - val_loss: 2.1659e-06 - val_root_mean_squared_error: 0.0015\n",
            "Epoch 132/150\n",
            "2188/2188 [==============================] - 10s 4ms/step - loss: 2.6635e-06 - root_mean_squared_error: 0.0016 - val_loss: 2.1878e-06 - val_root_mean_squared_error: 0.0015\n",
            "Epoch 133/150\n",
            "2188/2188 [==============================] - 9s 4ms/step - loss: 2.8462e-06 - root_mean_squared_error: 0.0017 - val_loss: 3.0523e-06 - val_root_mean_squared_error: 0.0017\n",
            "Epoch 134/150\n",
            "2188/2188 [==============================] - 9s 4ms/step - loss: 2.7937e-06 - root_mean_squared_error: 0.0017 - val_loss: 1.8363e-06 - val_root_mean_squared_error: 0.0014\n",
            "Epoch 135/150\n",
            "2188/2188 [==============================] - 9s 4ms/step - loss: 2.8613e-06 - root_mean_squared_error: 0.0017 - val_loss: 1.9944e-06 - val_root_mean_squared_error: 0.0014\n",
            "Epoch 136/150\n",
            "2188/2188 [==============================] - 10s 4ms/step - loss: 2.6971e-06 - root_mean_squared_error: 0.0016 - val_loss: 2.9546e-06 - val_root_mean_squared_error: 0.0017\n",
            "Epoch 137/150\n",
            "2188/2188 [==============================] - 10s 5ms/step - loss: 2.5290e-06 - root_mean_squared_error: 0.0016 - val_loss: 1.0288e-06 - val_root_mean_squared_error: 0.0010\n",
            "Epoch 138/150\n",
            "2188/2188 [==============================] - 9s 4ms/step - loss: 2.7578e-06 - root_mean_squared_error: 0.0017 - val_loss: 1.5420e-06 - val_root_mean_squared_error: 0.0012\n",
            "Epoch 139/150\n",
            "2188/2188 [==============================] - 9s 4ms/step - loss: 2.9168e-06 - root_mean_squared_error: 0.0017 - val_loss: 2.6191e-06 - val_root_mean_squared_error: 0.0016\n",
            "Epoch 140/150\n",
            "2188/2188 [==============================] - 12s 5ms/step - loss: 2.7633e-06 - root_mean_squared_error: 0.0017 - val_loss: 1.2618e-06 - val_root_mean_squared_error: 0.0011\n",
            "Epoch 141/150\n",
            "2188/2188 [==============================] - 11s 5ms/step - loss: 2.7431e-06 - root_mean_squared_error: 0.0017 - val_loss: 1.3145e-06 - val_root_mean_squared_error: 0.0011\n",
            "Epoch 142/150\n",
            "2188/2188 [==============================] - 10s 5ms/step - loss: 2.5047e-06 - root_mean_squared_error: 0.0016 - val_loss: 1.2882e-06 - val_root_mean_squared_error: 0.0011\n",
            "Epoch 143/150\n",
            "2188/2188 [==============================] - 10s 5ms/step - loss: 2.9561e-06 - root_mean_squared_error: 0.0017 - val_loss: 2.7176e-06 - val_root_mean_squared_error: 0.0016\n",
            "Epoch 144/150\n",
            "2188/2188 [==============================] - 9s 4ms/step - loss: 2.7455e-06 - root_mean_squared_error: 0.0017 - val_loss: 1.1665e-06 - val_root_mean_squared_error: 0.0011\n",
            "Epoch 145/150\n",
            "2188/2188 [==============================] - 9s 4ms/step - loss: 2.8460e-06 - root_mean_squared_error: 0.0017 - val_loss: 8.6745e-06 - val_root_mean_squared_error: 0.0029\n",
            "Epoch 146/150\n",
            "2188/2188 [==============================] - 9s 4ms/step - loss: 2.4339e-06 - root_mean_squared_error: 0.0016 - val_loss: 3.8938e-06 - val_root_mean_squared_error: 0.0020\n",
            "Epoch 147/150\n",
            "2188/2188 [==============================] - 9s 4ms/step - loss: 2.7724e-06 - root_mean_squared_error: 0.0017 - val_loss: 1.9851e-06 - val_root_mean_squared_error: 0.0014\n",
            "Epoch 148/150\n",
            "2188/2188 [==============================] - 9s 4ms/step - loss: 2.7013e-06 - root_mean_squared_error: 0.0016 - val_loss: 5.8620e-06 - val_root_mean_squared_error: 0.0024\n",
            "Epoch 149/150\n",
            "2188/2188 [==============================] - 9s 4ms/step - loss: 2.8082e-06 - root_mean_squared_error: 0.0017 - val_loss: 1.6738e-06 - val_root_mean_squared_error: 0.0013\n",
            "Epoch 150/150\n",
            "2188/2188 [==============================] - 9s 4ms/step - loss: 2.5729e-06 - root_mean_squared_error: 0.0016 - val_loss: 6.2505e-06 - val_root_mean_squared_error: 0.0025\n"
          ]
        }
      ],
      "source": [
        "history = model.fit(X_train, y_train,\n",
        "                    batch_size=32,                # Training of Model along with Validation data\n",
        "                    epochs=150,\n",
        "                    validation_data=(X_valid, y_valid))"
      ]
    },
    {
      "cell_type": "code",
      "execution_count": null,
      "metadata": {
        "id": "sqyA-7xnL7pf",
        "outputId": "8eaa066a-41eb-4bf5-e101-368fa8d59412",
        "colab": {
          "base_uri": "https://localhost:8080/",
          "height": 282
        }
      },
      "outputs": [
        {
          "output_type": "display_data",
          "data": {
            "text/plain": [
              "<Figure size 432x288 with 1 Axes>"
            ],
            "image/png": "[encoded data removed]"
          },
          "metadata": {}
        }
      ],
      "source": [
        "plot_history(['root_mean_squared_error', 'val_root_mean_squared_error'])   "
      ]
    },
    {
      "cell_type": "code",
      "execution_count": null,
      "metadata": {
        "id": "bT-rIqaFL7pf",
        "outputId": "a1618ba7-5465-4e28-dd19-d320a6303643",
        "colab": {
          "base_uri": "https://localhost:8080/"
        }
      },
      "outputs": [
        {
          "output_type": "stream",
          "name": "stdout",
          "text": [
            "the R2 score for training set of the adam model case 4 is : 0.9998714616998684\n"
          ]
        }
      ],
      "source": [
        "from sklearn.metrics import r2_score\n",
        "r2_score_training_set_for_adam_model_case_4= r2_score(y_train, y_train_predicted)\n",
        "print(\"the R2 score for training set of the adam model case 4 is :\", r2_score_training_set_for_adam_model_case_4)"
      ]
    },
    {
      "cell_type": "code",
      "execution_count": null,
      "metadata": {
        "id": "MqE9bVyUL7pf",
        "outputId": "2b13e6d5-28ae-4971-c6d8-b7d0a43d6fe4",
        "colab": {
          "base_uri": "https://localhost:8080/"
        }
      },
      "outputs": [
        {
          "output_type": "stream",
          "name": "stdout",
          "text": [
            "the r2 score for testing set of adam model case 4 is: 0.999870500182059\n"
          ]
        }
      ],
      "source": [
        "r2_score_testing_set_adam_model_case_4= r2_score(y_test, y_test_predicted)\n",
        "print(\"the r2 score for testing set of adam model case 4 is:\", r2_score_testing_set_adam_model_case_4)"
      ]
    },
    {
      "cell_type": "markdown",
      "metadata": {
        "id": "8SD7d0BdXfPG"
      },
      "source": [
        "# RMSprop Model case 4 with random 70000 samples"
      ]
    },
    {
      "cell_type": "code",
      "execution_count": null,
      "metadata": {
        "id": "BUtOtC-SXfPG"
      },
      "outputs": [],
      "source": [
        "from tensorflow import keras    \n",
        "\n",
        "def create_nn():     #function of NN model creation\n",
        "    # Input layer\n",
        "    inputs = keras.Input(shape=(X.shape[1],), name='input')      # Since n= 4,  in input layer shape= 4--->X.shape[1]\n",
        "\n",
        "    # Dense layers                                              # hidden layers\n",
        "    layers_dense = keras.layers.Dense(1000, 'relu')(inputs)          # here 20(nodes) --->units    # Activation_function -->sigmoid\n",
        "    layers_dense = keras.layers.Dense(2000, 'relu')(layers_dense)  \n",
        "    layers_dense = keras.layers.Dense(2000, 'relu')(layers_dense)\n",
        "    layers_dense = keras.layers.Dense(1, 'linear')(layers_dense)                                                               # here 50(nodes) --->units    # Activation_function---->linear\n",
        "\n",
        "    # Output layer\n",
        "    outputs = keras.layers.Dense(1)(layers_dense)              # only one node for output layer\n",
        "\n",
        "    return keras.Model(inputs=inputs, outputs=outputs, name=\"Prediction\")\n",
        "\n",
        "model = create_nn()"
      ]
    },
    {
      "cell_type": "code",
      "execution_count": null,
      "metadata": {
        "outputId": "386cc4ba-c43f-40b2-df78-47c13b142fd8",
        "colab": {
          "base_uri": "https://localhost:8080/"
        },
        "id": "qqr3nigkXfPH"
      },
      "outputs": [
        {
          "output_type": "stream",
          "name": "stdout",
          "text": [
            "Model: \"Prediction\"\n",
            "_________________________________________________________________\n",
            " Layer (type)                Output Shape              Param #   \n",
            "=================================================================\n",
            " input (InputLayer)          [(None, 4)]               0         \n",
            "                                                                 \n",
            " dense_10 (Dense)            (None, 1000)              5000      \n",
            "                                                                 \n",
            " dense_11 (Dense)            (None, 2000)              2002000   \n",
            "                                                                 \n",
            " dense_12 (Dense)            (None, 2000)              4002000   \n",
            "                                                                 \n",
            " dense_13 (Dense)            (None, 1)                 2001      \n",
            "                                                                 \n",
            " dense_14 (Dense)            (None, 1)                 2         \n",
            "                                                                 \n",
            "=================================================================\n",
            "Total params: 6,011,003\n",
            "Trainable params: 6,011,003\n",
            "Non-trainable params: 0\n",
            "_________________________________________________________________\n"
          ]
        }
      ],
      "source": [
        "model.summary()      # return the summary of all layers of model"
      ]
    },
    {
      "cell_type": "code",
      "execution_count": null,
      "metadata": {
        "id": "suPZ8jrpXfPH"
      },
      "outputs": [],
      "source": [
        "def compile_model(model):\n",
        "    model.compile(optimizer='RMSprop',\n",
        "                  loss='mse',      #mse---> mean square error\n",
        "                  metrics=[keras.metrics.RootMeanSquaredError()])\n",
        "compile_model(model)"
      ]
    },
    {
      "cell_type": "code",
      "execution_count": null,
      "metadata": {
        "outputId": "3462a853-fd21-4bc2-de3f-fee27f562022",
        "colab": {
          "base_uri": "https://localhost:8080/"
        },
        "id": "6Tm4fCt3XfPH"
      },
      "outputs": [
        {
          "output_type": "stream",
          "name": "stdout",
          "text": [
            "Epoch 1/100\n",
            "2188/2188 [==============================] - 13s 5ms/step - loss: 0.0075 - root_mean_squared_error: 0.0865\n",
            "Epoch 2/100\n",
            "2188/2188 [==============================] - 11s 5ms/step - loss: 0.0012 - root_mean_squared_error: 0.0348\n",
            "Epoch 3/100\n",
            "2188/2188 [==============================] - 11s 5ms/step - loss: 8.4758e-04 - root_mean_squared_error: 0.0291\n",
            "Epoch 4/100\n",
            "2188/2188 [==============================] - 11s 5ms/step - loss: 6.5938e-04 - root_mean_squared_error: 0.0257\n",
            "Epoch 5/100\n",
            "2188/2188 [==============================] - 11s 5ms/step - loss: 5.4639e-04 - root_mean_squared_error: 0.0234\n",
            "Epoch 6/100\n",
            "2188/2188 [==============================] - 11s 5ms/step - loss: 4.6050e-04 - root_mean_squared_error: 0.0215\n",
            "Epoch 7/100\n",
            "2188/2188 [==============================] - 11s 5ms/step - loss: 3.9957e-04 - root_mean_squared_error: 0.0200\n",
            "Epoch 8/100\n",
            "2188/2188 [==============================] - 11s 5ms/step - loss: 3.5080e-04 - root_mean_squared_error: 0.0187\n",
            "Epoch 9/100\n",
            "2188/2188 [==============================] - 11s 5ms/step - loss: 3.0568e-04 - root_mean_squared_error: 0.0175\n",
            "Epoch 10/100\n",
            "2188/2188 [==============================] - 11s 5ms/step - loss: 2.7799e-04 - root_mean_squared_error: 0.0167\n",
            "Epoch 11/100\n",
            "2188/2188 [==============================] - 11s 5ms/step - loss: 2.5104e-04 - root_mean_squared_error: 0.0158\n",
            "Epoch 12/100\n",
            "2188/2188 [==============================] - 11s 5ms/step - loss: 2.2521e-04 - root_mean_squared_error: 0.0150\n",
            "Epoch 13/100\n",
            "2188/2188 [==============================] - 11s 5ms/step - loss: 2.0532e-04 - root_mean_squared_error: 0.0143\n",
            "Epoch 14/100\n",
            "2188/2188 [==============================] - 11s 5ms/step - loss: 1.8892e-04 - root_mean_squared_error: 0.0137\n",
            "Epoch 15/100\n",
            "2188/2188 [==============================] - 11s 5ms/step - loss: 1.7359e-04 - root_mean_squared_error: 0.0132\n",
            "Epoch 16/100\n",
            "2188/2188 [==============================] - 11s 5ms/step - loss: 1.5977e-04 - root_mean_squared_error: 0.0126\n",
            "Epoch 17/100\n",
            "2188/2188 [==============================] - 11s 5ms/step - loss: 1.4729e-04 - root_mean_squared_error: 0.0121\n",
            "Epoch 18/100\n",
            "2188/2188 [==============================] - 11s 5ms/step - loss: 1.3904e-04 - root_mean_squared_error: 0.0118\n",
            "Epoch 19/100\n",
            "2188/2188 [==============================] - 11s 5ms/step - loss: 1.2894e-04 - root_mean_squared_error: 0.0114\n",
            "Epoch 20/100\n",
            "2188/2188 [==============================] - 11s 5ms/step - loss: 1.2164e-04 - root_mean_squared_error: 0.0110\n",
            "Epoch 21/100\n",
            "2188/2188 [==============================] - 11s 5ms/step - loss: 1.1370e-04 - root_mean_squared_error: 0.0107\n",
            "Epoch 22/100\n",
            "2188/2188 [==============================] - 11s 5ms/step - loss: 1.0654e-04 - root_mean_squared_error: 0.0103\n",
            "Epoch 23/100\n",
            "2188/2188 [==============================] - 11s 5ms/step - loss: 1.0174e-04 - root_mean_squared_error: 0.0101\n",
            "Epoch 24/100\n",
            "2188/2188 [==============================] - 11s 5ms/step - loss: 9.6199e-05 - root_mean_squared_error: 0.0098\n",
            "Epoch 25/100\n",
            "2188/2188 [==============================] - 11s 5ms/step - loss: 9.1286e-05 - root_mean_squared_error: 0.0096\n",
            "Epoch 26/100\n",
            "2188/2188 [==============================] - 11s 5ms/step - loss: 8.7516e-05 - root_mean_squared_error: 0.0094\n",
            "Epoch 27/100\n",
            "2188/2188 [==============================] - 11s 5ms/step - loss: 8.2307e-05 - root_mean_squared_error: 0.0091\n",
            "Epoch 28/100\n",
            "2188/2188 [==============================] - 11s 5ms/step - loss: 7.9384e-05 - root_mean_squared_error: 0.0089\n",
            "Epoch 29/100\n",
            "2188/2188 [==============================] - 11s 5ms/step - loss: 7.6011e-05 - root_mean_squared_error: 0.0087\n",
            "Epoch 30/100\n",
            "2188/2188 [==============================] - 11s 5ms/step - loss: 7.2618e-05 - root_mean_squared_error: 0.0085\n",
            "Epoch 31/100\n",
            "2188/2188 [==============================] - 11s 5ms/step - loss: 6.9859e-05 - root_mean_squared_error: 0.0084\n",
            "Epoch 32/100\n",
            "2188/2188 [==============================] - 11s 5ms/step - loss: 6.7121e-05 - root_mean_squared_error: 0.0082\n",
            "Epoch 33/100\n",
            "2188/2188 [==============================] - 11s 5ms/step - loss: 6.4527e-05 - root_mean_squared_error: 0.0080\n",
            "Epoch 34/100\n",
            "2188/2188 [==============================] - 12s 5ms/step - loss: 6.2266e-05 - root_mean_squared_error: 0.0079\n",
            "Epoch 35/100\n",
            "2188/2188 [==============================] - 11s 5ms/step - loss: 6.0263e-05 - root_mean_squared_error: 0.0078\n",
            "Epoch 36/100\n",
            "2188/2188 [==============================] - 11s 5ms/step - loss: 5.8635e-05 - root_mean_squared_error: 0.0077\n",
            "Epoch 37/100\n",
            "2188/2188 [==============================] - 11s 5ms/step - loss: 5.6543e-05 - root_mean_squared_error: 0.0075\n",
            "Epoch 38/100\n",
            "2188/2188 [==============================] - 11s 5ms/step - loss: 5.4764e-05 - root_mean_squared_error: 0.0074\n",
            "Epoch 39/100\n",
            "2188/2188 [==============================] - 11s 5ms/step - loss: 5.2856e-05 - root_mean_squared_error: 0.0073\n",
            "Epoch 40/100\n",
            "2188/2188 [==============================] - 11s 5ms/step - loss: 5.1457e-05 - root_mean_squared_error: 0.0072\n",
            "Epoch 41/100\n",
            "2188/2188 [==============================] - 11s 5ms/step - loss: 4.9942e-05 - root_mean_squared_error: 0.0071\n",
            "Epoch 42/100\n",
            "2188/2188 [==============================] - 11s 5ms/step - loss: 4.8124e-05 - root_mean_squared_error: 0.0069\n",
            "Epoch 43/100\n",
            "2188/2188 [==============================] - 11s 5ms/step - loss: 4.7308e-05 - root_mean_squared_error: 0.0069\n",
            "Epoch 44/100\n",
            "2188/2188 [==============================] - 11s 5ms/step - loss: 4.5506e-05 - root_mean_squared_error: 0.0067\n",
            "Epoch 45/100\n",
            "2188/2188 [==============================] - 11s 5ms/step - loss: 4.5239e-05 - root_mean_squared_error: 0.0067\n",
            "Epoch 46/100\n",
            "2188/2188 [==============================] - 11s 5ms/step - loss: 4.3821e-05 - root_mean_squared_error: 0.0066\n",
            "Epoch 47/100\n",
            "2188/2188 [==============================] - 11s 5ms/step - loss: 4.3436e-05 - root_mean_squared_error: 0.0066\n",
            "Epoch 48/100\n",
            "2188/2188 [==============================] - 11s 5ms/step - loss: 4.2324e-05 - root_mean_squared_error: 0.0065\n",
            "Epoch 49/100\n",
            "2188/2188 [==============================] - 11s 5ms/step - loss: 4.2133e-05 - root_mean_squared_error: 0.0065\n",
            "Epoch 50/100\n",
            "2188/2188 [==============================] - 11s 5ms/step - loss: 4.0884e-05 - root_mean_squared_error: 0.0064\n",
            "Epoch 51/100\n",
            "2188/2188 [==============================] - 11s 5ms/step - loss: 4.0339e-05 - root_mean_squared_error: 0.0064\n",
            "Epoch 52/100\n",
            "2188/2188 [==============================] - 11s 5ms/step - loss: 3.9564e-05 - root_mean_squared_error: 0.0063\n",
            "Epoch 53/100\n",
            "2188/2188 [==============================] - 11s 5ms/step - loss: 3.9196e-05 - root_mean_squared_error: 0.0063\n",
            "Epoch 54/100\n",
            "2188/2188 [==============================] - 11s 5ms/step - loss: 3.9260e-05 - root_mean_squared_error: 0.0063\n",
            "Epoch 55/100\n",
            "2188/2188 [==============================] - 11s 5ms/step - loss: 3.8483e-05 - root_mean_squared_error: 0.0062\n",
            "Epoch 56/100\n",
            "2188/2188 [==============================] - 11s 5ms/step - loss: 3.8016e-05 - root_mean_squared_error: 0.0062\n",
            "Epoch 57/100\n",
            "2188/2188 [==============================] - 11s 5ms/step - loss: 3.7458e-05 - root_mean_squared_error: 0.0061\n",
            "Epoch 58/100\n",
            "2188/2188 [==============================] - 11s 5ms/step - loss: 3.7304e-05 - root_mean_squared_error: 0.0061\n",
            "Epoch 59/100\n",
            "2188/2188 [==============================] - 11s 5ms/step - loss: 3.6841e-05 - root_mean_squared_error: 0.0061\n",
            "Epoch 60/100\n",
            "2188/2188 [==============================] - 11s 5ms/step - loss: 3.6065e-05 - root_mean_squared_error: 0.0060\n",
            "Epoch 61/100\n",
            "2188/2188 [==============================] - 11s 5ms/step - loss: 3.6069e-05 - root_mean_squared_error: 0.0060\n",
            "Epoch 62/100\n",
            "2188/2188 [==============================] - 11s 5ms/step - loss: 3.5618e-05 - root_mean_squared_error: 0.0060\n",
            "Epoch 63/100\n",
            "2188/2188 [==============================] - 11s 5ms/step - loss: 3.5112e-05 - root_mean_squared_error: 0.0059\n",
            "Epoch 64/100\n",
            "2188/2188 [==============================] - 11s 5ms/step - loss: 3.5153e-05 - root_mean_squared_error: 0.0059\n",
            "Epoch 65/100\n",
            "2188/2188 [==============================] - 11s 5ms/step - loss: 3.4675e-05 - root_mean_squared_error: 0.0059\n",
            "Epoch 66/100\n",
            "2188/2188 [==============================] - 11s 5ms/step - loss: 3.4504e-05 - root_mean_squared_error: 0.0059\n",
            "Epoch 67/100\n",
            "2188/2188 [==============================] - 11s 5ms/step - loss: 3.4266e-05 - root_mean_squared_error: 0.0059\n",
            "Epoch 68/100\n",
            "2188/2188 [==============================] - 11s 5ms/step - loss: 3.3690e-05 - root_mean_squared_error: 0.0058\n",
            "Epoch 69/100\n",
            "2188/2188 [==============================] - 11s 5ms/step - loss: 3.3332e-05 - root_mean_squared_error: 0.0058\n",
            "Epoch 70/100\n",
            "2188/2188 [==============================] - 11s 5ms/step - loss: 3.3247e-05 - root_mean_squared_error: 0.0058\n",
            "Epoch 71/100\n",
            "2188/2188 [==============================] - 11s 5ms/step - loss: 3.2853e-05 - root_mean_squared_error: 0.0057\n",
            "Epoch 72/100\n",
            "2188/2188 [==============================] - 11s 5ms/step - loss: 3.2660e-05 - root_mean_squared_error: 0.0057\n",
            "Epoch 73/100\n",
            "2188/2188 [==============================] - 11s 5ms/step - loss: 3.2098e-05 - root_mean_squared_error: 0.0057\n",
            "Epoch 74/100\n",
            "2188/2188 [==============================] - 11s 5ms/step - loss: 3.1834e-05 - root_mean_squared_error: 0.0056\n",
            "Epoch 75/100\n",
            "2188/2188 [==============================] - 11s 5ms/step - loss: 3.1706e-05 - root_mean_squared_error: 0.0056\n",
            "Epoch 76/100\n",
            "2188/2188 [==============================] - 11s 5ms/step - loss: 3.1354e-05 - root_mean_squared_error: 0.0056\n",
            "Epoch 77/100\n",
            "2188/2188 [==============================] - 11s 5ms/step - loss: 3.1590e-05 - root_mean_squared_error: 0.0056\n",
            "Epoch 78/100\n",
            "2188/2188 [==============================] - 12s 5ms/step - loss: 3.0912e-05 - root_mean_squared_error: 0.0056\n",
            "Epoch 79/100\n",
            "2188/2188 [==============================] - 11s 5ms/step - loss: 3.0616e-05 - root_mean_squared_error: 0.0055\n",
            "Epoch 80/100\n",
            "2188/2188 [==============================] - 11s 5ms/step - loss: 3.0518e-05 - root_mean_squared_error: 0.0055\n",
            "Epoch 81/100\n",
            "2188/2188 [==============================] - 11s 5ms/step - loss: 3.0535e-05 - root_mean_squared_error: 0.0055\n",
            "Epoch 82/100\n",
            "2188/2188 [==============================] - 12s 5ms/step - loss: 3.0068e-05 - root_mean_squared_error: 0.0055\n",
            "Epoch 83/100\n",
            "2188/2188 [==============================] - 11s 5ms/step - loss: 3.0115e-05 - root_mean_squared_error: 0.0055\n",
            "Epoch 84/100\n",
            "2188/2188 [==============================] - 11s 5ms/step - loss: 2.9763e-05 - root_mean_squared_error: 0.0055\n",
            "Epoch 85/100\n",
            "2188/2188 [==============================] - 11s 5ms/step - loss: 2.9426e-05 - root_mean_squared_error: 0.0054\n",
            "Epoch 86/100\n",
            "2188/2188 [==============================] - 11s 5ms/step - loss: 2.9310e-05 - root_mean_squared_error: 0.0054\n",
            "Epoch 87/100\n",
            "2188/2188 [==============================] - 11s 5ms/step - loss: 2.9285e-05 - root_mean_squared_error: 0.0054\n",
            "Epoch 88/100\n",
            "2188/2188 [==============================] - 11s 5ms/step - loss: 2.9099e-05 - root_mean_squared_error: 0.0054\n",
            "Epoch 89/100\n",
            "2188/2188 [==============================] - 11s 5ms/step - loss: 2.9018e-05 - root_mean_squared_error: 0.0054\n",
            "Epoch 90/100\n",
            "2188/2188 [==============================] - 11s 5ms/step - loss: 2.8642e-05 - root_mean_squared_error: 0.0054\n",
            "Epoch 91/100\n",
            "2188/2188 [==============================] - 11s 5ms/step - loss: 2.8395e-05 - root_mean_squared_error: 0.0053\n",
            "Epoch 92/100\n",
            "2188/2188 [==============================] - 11s 5ms/step - loss: 2.8311e-05 - root_mean_squared_error: 0.0053\n",
            "Epoch 93/100\n",
            "2188/2188 [==============================] - 11s 5ms/step - loss: 2.7885e-05 - root_mean_squared_error: 0.0053\n",
            "Epoch 94/100\n",
            "2188/2188 [==============================] - 11s 5ms/step - loss: 2.7727e-05 - root_mean_squared_error: 0.0053\n",
            "Epoch 95/100\n",
            "2188/2188 [==============================] - 11s 5ms/step - loss: 2.7384e-05 - root_mean_squared_error: 0.0052\n",
            "Epoch 96/100\n",
            "2188/2188 [==============================] - 11s 5ms/step - loss: 2.7527e-05 - root_mean_squared_error: 0.0052\n",
            "Epoch 97/100\n",
            "2188/2188 [==============================] - 11s 5ms/step - loss: 2.7037e-05 - root_mean_squared_error: 0.0052\n",
            "Epoch 98/100\n",
            "2188/2188 [==============================] - 11s 5ms/step - loss: 2.6887e-05 - root_mean_squared_error: 0.0052\n",
            "Epoch 99/100\n",
            "2188/2188 [==============================] - 11s 5ms/step - loss: 2.6762e-05 - root_mean_squared_error: 0.0052\n",
            "Epoch 100/100\n",
            "2188/2188 [==============================] - 11s 5ms/step - loss: 2.6705e-05 - root_mean_squared_error: 0.0052\n"
          ]
        }
      ],
      "source": [
        "history = model.fit(X_train, y_train, batch_size=32, epochs=100)    # epochs--->iteration"
      ]
    },
    {
      "cell_type": "code",
      "execution_count": null,
      "metadata": {
        "outputId": "c65b3794-f086-44d7-f583-34f6b254c775",
        "colab": {
          "base_uri": "https://localhost:8080/",
          "height": 285
        },
        "id": "VA-9tEgXXfPH"
      },
      "outputs": [
        {
          "output_type": "display_data",
          "data": {
            "text/plain": [
              "<Figure size 432x288 with 1 Axes>"
            ],
            "image/png": "[encoded data removed]"
          },
          "metadata": {}
        }
      ],
      "source": [
        "def plot_history(metrics):\n",
        "    history_df = pd.DataFrame.from_dict(history.history)\n",
        "    sns.lineplot(data=history_df[metrics], color= \"r\")\n",
        "    plt.xlabel(\"epochs\")\n",
        "    plt.ylabel(\"RMSE\")\n",
        "plot_history('root_mean_squared_error')"
      ]
    },
    {
      "cell_type": "code",
      "execution_count": null,
      "metadata": {
        "outputId": "41b32bd7-9919-432f-d954-f4f2f6355dcb",
        "colab": {
          "base_uri": "https://localhost:8080/"
        },
        "id": "umusR8f0XfPH"
      },
      "outputs": [
        {
          "output_type": "stream",
          "name": "stdout",
          "text": [
            "2188/2188 [==============================] - 3s 1ms/step\n",
            "469/469 [==============================] - 1s 1ms/step\n"
          ]
        }
      ],
      "source": [
        "y_train_predicted = model.predict(X_train)     # y_train predicted\n",
        "y_test_predicted = model.predict(X_test)      #  y_test_predicted"
      ]
    },
    {
      "cell_type": "code",
      "execution_count": null,
      "metadata": {
        "outputId": "3fe76e74-70e7-4bcb-942f-95fa5a1450b0",
        "colab": {
          "base_uri": "https://localhost:8080/",
          "height": 299
        },
        "id": "KAu4-Tz4XfPI"
      },
      "outputs": [
        {
          "output_type": "display_data",
          "data": {
            "text/plain": [
              "<Figure size 432x288 with 1 Axes>"
            ],
            "image/png": "[encoded data removed]"
          },
          "metadata": {}
        }
      ],
      "source": [
        "def plot_predictions(y_pred, y_true, title):\n",
        "    plt.style.use('ggplot') \n",
        "    plt.scatter(y_pred, y_true, s=10, alpha=0.5)\n",
        "    plt.xlabel(\"Y_predicted\")\n",
        "    plt.ylabel(\"Y_train\")                          # sactter plot for Y_train_predicted and True_Y_train\n",
        "    plt.title(title)\n",
        "\n",
        "plot_predictions(y_train_predicted, y_train, title='Predictions on the training set')"
      ]
    },
    {
      "cell_type": "code",
      "execution_count": null,
      "metadata": {
        "outputId": "85a632da-beb1-47b8-f69d-c40f8dd1373c",
        "colab": {
          "base_uri": "https://localhost:8080/",
          "height": 299
        },
        "id": "r-nWVXsJXfPI"
      },
      "outputs": [
        {
          "output_type": "display_data",
          "data": {
            "text/plain": [
              "<Figure size 432x288 with 1 Axes>"
            ],
            "image/png": "[encoded data removed]"
          },
          "metadata": {}
        }
      ],
      "source": [
        "plot_predictions(y_test_predicted, y_test, title='Predictions on the test set')    # Plot between Y_test_predicted and True_Y_test_predicted"
      ]
    },
    {
      "cell_type": "code",
      "execution_count": null,
      "metadata": {
        "outputId": "4c829a51-09fb-467f-8a3a-b3bbde4f01d5",
        "colab": {
          "base_uri": "https://localhost:8080/"
        },
        "id": "Z-EpDw9pXfPI"
      },
      "outputs": [
        {
          "output_type": "stream",
          "name": "stdout",
          "text": [
            "2188/2188 [==============================] - 5s 2ms/step - loss: 8.1699e-05 - root_mean_squared_error: 0.0090\n",
            "469/469 [==============================] - 1s 2ms/step - loss: 7.9339e-05 - root_mean_squared_error: 0.0089\n",
            "Train RMSE: 0.01, Test RMSE: 0.01\n"
          ]
        }
      ],
      "source": [
        "train_metrics = model.evaluate(X_train, y_train, return_dict=True)\n",
        "test_metrics = model.evaluate(X_test, y_test, return_dict=True)\n",
        "print('Train RMSE: {:.2f}, Test RMSE: {:.2f}'.format(train_metrics['root_mean_squared_error'], test_metrics['root_mean_squared_error']))"
      ]
    },
    {
      "cell_type": "code",
      "execution_count": null,
      "metadata": {
        "outputId": "17ab6467-aa63-4b11-fa4e-0cfff84ff34b",
        "colab": {
          "base_uri": "https://localhost:8080/"
        },
        "id": "CVeSf1YzXfPI"
      },
      "outputs": [
        {
          "output_type": "stream",
          "name": "stdout",
          "text": [
            "Epoch 1/150\n",
            "2188/2188 [==============================] - 12s 5ms/step - loss: 2.6457e-05 - root_mean_squared_error: 0.0051 - val_loss: 2.6622e-05 - val_root_mean_squared_error: 0.0052\n",
            "Epoch 2/150\n",
            "2188/2188 [==============================] - 12s 6ms/step - loss: 2.6404e-05 - root_mean_squared_error: 0.0051 - val_loss: 3.7178e-05 - val_root_mean_squared_error: 0.0061\n",
            "Epoch 3/150\n",
            "2188/2188 [==============================] - 12s 6ms/step - loss: 2.5977e-05 - root_mean_squared_error: 0.0051 - val_loss: 1.7474e-05 - val_root_mean_squared_error: 0.0042\n",
            "Epoch 4/150\n",
            "2188/2188 [==============================] - 12s 5ms/step - loss: 2.6325e-05 - root_mean_squared_error: 0.0051 - val_loss: 1.9657e-05 - val_root_mean_squared_error: 0.0044\n",
            "Epoch 5/150\n",
            "2188/2188 [==============================] - 12s 6ms/step - loss: 2.5820e-05 - root_mean_squared_error: 0.0051 - val_loss: 4.0663e-05 - val_root_mean_squared_error: 0.0064\n",
            "Epoch 6/150\n",
            "2188/2188 [==============================] - 12s 5ms/step - loss: 2.6092e-05 - root_mean_squared_error: 0.0051 - val_loss: 2.7126e-05 - val_root_mean_squared_error: 0.0052\n",
            "Epoch 7/150\n",
            "2188/2188 [==============================] - 12s 5ms/step - loss: 2.5927e-05 - root_mean_squared_error: 0.0051 - val_loss: 1.6782e-05 - val_root_mean_squared_error: 0.0041\n",
            "Epoch 8/150\n",
            "2188/2188 [==============================] - 12s 6ms/step - loss: 2.5805e-05 - root_mean_squared_error: 0.0051 - val_loss: 5.4818e-05 - val_root_mean_squared_error: 0.0074\n",
            "Epoch 9/150\n",
            "2188/2188 [==============================] - 13s 6ms/step - loss: 2.5663e-05 - root_mean_squared_error: 0.0051 - val_loss: 1.0977e-05 - val_root_mean_squared_error: 0.0033\n",
            "Epoch 10/150\n",
            "2188/2188 [==============================] - 12s 6ms/step - loss: 2.5062e-05 - root_mean_squared_error: 0.0050 - val_loss: 5.5361e-05 - val_root_mean_squared_error: 0.0074\n",
            "Epoch 11/150\n",
            "2188/2188 [==============================] - 12s 6ms/step - loss: 2.4836e-05 - root_mean_squared_error: 0.0050 - val_loss: 7.8364e-05 - val_root_mean_squared_error: 0.0089\n",
            "Epoch 12/150\n",
            "2188/2188 [==============================] - 12s 5ms/step - loss: 2.4703e-05 - root_mean_squared_error: 0.0050 - val_loss: 2.3750e-05 - val_root_mean_squared_error: 0.0049\n",
            "Epoch 13/150\n",
            "2188/2188 [==============================] - 12s 5ms/step - loss: 2.4554e-05 - root_mean_squared_error: 0.0050 - val_loss: 6.3390e-05 - val_root_mean_squared_error: 0.0080\n",
            "Epoch 14/150\n",
            "2188/2188 [==============================] - 12s 5ms/step - loss: 2.4469e-05 - root_mean_squared_error: 0.0049 - val_loss: 9.0828e-05 - val_root_mean_squared_error: 0.0095\n",
            "Epoch 15/150\n",
            "2188/2188 [==============================] - 12s 6ms/step - loss: 2.4584e-05 - root_mean_squared_error: 0.0050 - val_loss: 3.7232e-05 - val_root_mean_squared_error: 0.0061\n",
            "Epoch 16/150\n",
            "2188/2188 [==============================] - 12s 5ms/step - loss: 2.4415e-05 - root_mean_squared_error: 0.0049 - val_loss: 4.6376e-06 - val_root_mean_squared_error: 0.0022\n",
            "Epoch 17/150\n",
            "2188/2188 [==============================] - 12s 6ms/step - loss: 2.4188e-05 - root_mean_squared_error: 0.0049 - val_loss: 1.4628e-05 - val_root_mean_squared_error: 0.0038\n",
            "Epoch 18/150\n",
            "2188/2188 [==============================] - 12s 5ms/step - loss: 2.3883e-05 - root_mean_squared_error: 0.0049 - val_loss: 1.9091e-05 - val_root_mean_squared_error: 0.0044\n",
            "Epoch 19/150\n",
            "2188/2188 [==============================] - 12s 5ms/step - loss: 2.4054e-05 - root_mean_squared_error: 0.0049 - val_loss: 3.0591e-06 - val_root_mean_squared_error: 0.0017\n",
            "Epoch 20/150\n",
            "2188/2188 [==============================] - 12s 5ms/step - loss: 2.4002e-05 - root_mean_squared_error: 0.0049 - val_loss: 7.0286e-06 - val_root_mean_squared_error: 0.0027\n",
            "Epoch 21/150\n",
            "2188/2188 [==============================] - 12s 6ms/step - loss: 2.3524e-05 - root_mean_squared_error: 0.0049 - val_loss: 2.5160e-05 - val_root_mean_squared_error: 0.0050\n",
            "Epoch 22/150\n",
            "2188/2188 [==============================] - 12s 5ms/step - loss: 2.3527e-05 - root_mean_squared_error: 0.0049 - val_loss: 1.5247e-05 - val_root_mean_squared_error: 0.0039\n",
            "Epoch 23/150\n",
            "2188/2188 [==============================] - 12s 5ms/step - loss: 2.3449e-05 - root_mean_squared_error: 0.0048 - val_loss: 1.1677e-05 - val_root_mean_squared_error: 0.0034\n",
            "Epoch 24/150\n",
            "2188/2188 [==============================] - 12s 5ms/step - loss: 2.3453e-05 - root_mean_squared_error: 0.0048 - val_loss: 1.5307e-05 - val_root_mean_squared_error: 0.0039\n",
            "Epoch 25/150\n",
            "2188/2188 [==============================] - 12s 6ms/step - loss: 2.3235e-05 - root_mean_squared_error: 0.0048 - val_loss: 3.9803e-06 - val_root_mean_squared_error: 0.0020\n",
            "Epoch 26/150\n",
            "2188/2188 [==============================] - 12s 6ms/step - loss: 2.3012e-05 - root_mean_squared_error: 0.0048 - val_loss: 8.2988e-05 - val_root_mean_squared_error: 0.0091\n",
            "Epoch 27/150\n",
            "2188/2188 [==============================] - 12s 5ms/step - loss: 2.2921e-05 - root_mean_squared_error: 0.0048 - val_loss: 1.2707e-05 - val_root_mean_squared_error: 0.0036\n",
            "Epoch 28/150\n",
            "2188/2188 [==============================] - 12s 5ms/step - loss: 2.2881e-05 - root_mean_squared_error: 0.0048 - val_loss: 5.2810e-06 - val_root_mean_squared_error: 0.0023\n",
            "Epoch 29/150\n",
            "2188/2188 [==============================] - 12s 5ms/step - loss: 2.2505e-05 - root_mean_squared_error: 0.0047 - val_loss: 7.9875e-06 - val_root_mean_squared_error: 0.0028\n",
            "Epoch 30/150\n",
            "2188/2188 [==============================] - 12s 6ms/step - loss: 2.2498e-05 - root_mean_squared_error: 0.0047 - val_loss: 1.1169e-05 - val_root_mean_squared_error: 0.0033\n",
            "Epoch 31/150\n",
            "2188/2188 [==============================] - 12s 6ms/step - loss: 2.2523e-05 - root_mean_squared_error: 0.0047 - val_loss: 1.9608e-05 - val_root_mean_squared_error: 0.0044\n",
            "Epoch 32/150\n",
            "2188/2188 [==============================] - 12s 5ms/step - loss: 2.2404e-05 - root_mean_squared_error: 0.0047 - val_loss: 1.4161e-05 - val_root_mean_squared_error: 0.0038\n",
            "Epoch 33/150\n",
            "2188/2188 [==============================] - 12s 6ms/step - loss: 2.2137e-05 - root_mean_squared_error: 0.0047 - val_loss: 8.3573e-06 - val_root_mean_squared_error: 0.0029\n",
            "Epoch 34/150\n",
            "2188/2188 [==============================] - 13s 6ms/step - loss: 2.1970e-05 - root_mean_squared_error: 0.0047 - val_loss: 1.3541e-05 - val_root_mean_squared_error: 0.0037\n",
            "Epoch 35/150\n",
            "2188/2188 [==============================] - 13s 6ms/step - loss: 2.1792e-05 - root_mean_squared_error: 0.0047 - val_loss: 4.8916e-05 - val_root_mean_squared_error: 0.0070\n",
            "Epoch 36/150\n",
            "2188/2188 [==============================] - 12s 5ms/step - loss: 2.1600e-05 - root_mean_squared_error: 0.0046 - val_loss: 3.7150e-05 - val_root_mean_squared_error: 0.0061\n",
            "Epoch 37/150\n",
            "2188/2188 [==============================] - 12s 6ms/step - loss: 2.1664e-05 - root_mean_squared_error: 0.0047 - val_loss: 2.1873e-05 - val_root_mean_squared_error: 0.0047\n",
            "Epoch 38/150\n",
            "2188/2188 [==============================] - 12s 6ms/step - loss: 2.1715e-05 - root_mean_squared_error: 0.0047 - val_loss: 1.1016e-05 - val_root_mean_squared_error: 0.0033\n",
            "Epoch 39/150\n",
            "2188/2188 [==============================] - 13s 6ms/step - loss: 2.1583e-05 - root_mean_squared_error: 0.0046 - val_loss: 5.7356e-06 - val_root_mean_squared_error: 0.0024\n",
            "Epoch 40/150\n",
            "2188/2188 [==============================] - 13s 6ms/step - loss: 2.1763e-05 - root_mean_squared_error: 0.0047 - val_loss: 8.3554e-06 - val_root_mean_squared_error: 0.0029\n",
            "Epoch 41/150\n",
            "2188/2188 [==============================] - 12s 6ms/step - loss: 2.1605e-05 - root_mean_squared_error: 0.0046 - val_loss: 8.9364e-06 - val_root_mean_squared_error: 0.0030\n",
            "Epoch 42/150\n",
            "2188/2188 [==============================] - 12s 6ms/step - loss: 2.1348e-05 - root_mean_squared_error: 0.0046 - val_loss: 3.4550e-05 - val_root_mean_squared_error: 0.0059\n",
            "Epoch 43/150\n",
            "2188/2188 [==============================] - 12s 6ms/step - loss: 2.1364e-05 - root_mean_squared_error: 0.0046 - val_loss: 2.1992e-05 - val_root_mean_squared_error: 0.0047\n",
            "Epoch 44/150\n",
            "2188/2188 [==============================] - 12s 6ms/step - loss: 2.1018e-05 - root_mean_squared_error: 0.0046 - val_loss: 3.8401e-05 - val_root_mean_squared_error: 0.0062\n",
            "Epoch 45/150\n",
            "2188/2188 [==============================] - 12s 5ms/step - loss: 2.1209e-05 - root_mean_squared_error: 0.0046 - val_loss: 5.1467e-05 - val_root_mean_squared_error: 0.0072\n",
            "Epoch 46/150\n",
            "2188/2188 [==============================] - 12s 6ms/step - loss: 2.0885e-05 - root_mean_squared_error: 0.0046 - val_loss: 9.1690e-06 - val_root_mean_squared_error: 0.0030\n",
            "Epoch 47/150\n",
            "2188/2188 [==============================] - 12s 5ms/step - loss: 2.1053e-05 - root_mean_squared_error: 0.0046 - val_loss: 6.4928e-06 - val_root_mean_squared_error: 0.0025\n",
            "Epoch 48/150\n",
            "2188/2188 [==============================] - 12s 6ms/step - loss: 2.1091e-05 - root_mean_squared_error: 0.0046 - val_loss: 5.1700e-05 - val_root_mean_squared_error: 0.0072\n",
            "Epoch 49/150\n",
            "2188/2188 [==============================] - 12s 5ms/step - loss: 2.0684e-05 - root_mean_squared_error: 0.0045 - val_loss: 5.1706e-06 - val_root_mean_squared_error: 0.0023\n",
            "Epoch 50/150\n",
            "2188/2188 [==============================] - 12s 6ms/step - loss: 2.0685e-05 - root_mean_squared_error: 0.0045 - val_loss: 5.1810e-05 - val_root_mean_squared_error: 0.0072\n",
            "Epoch 51/150\n",
            "2188/2188 [==============================] - 12s 6ms/step - loss: 2.0535e-05 - root_mean_squared_error: 0.0045 - val_loss: 2.9927e-05 - val_root_mean_squared_error: 0.0055\n",
            "Epoch 52/150\n",
            "2188/2188 [==============================] - 12s 6ms/step - loss: 2.0444e-05 - root_mean_squared_error: 0.0045 - val_loss: 9.7495e-06 - val_root_mean_squared_error: 0.0031\n",
            "Epoch 53/150\n",
            "2188/2188 [==============================] - 12s 6ms/step - loss: 2.0409e-05 - root_mean_squared_error: 0.0045 - val_loss: 1.1082e-05 - val_root_mean_squared_error: 0.0033\n",
            "Epoch 54/150\n",
            "2188/2188 [==============================] - 12s 5ms/step - loss: 2.0343e-05 - root_mean_squared_error: 0.0045 - val_loss: 7.6092e-06 - val_root_mean_squared_error: 0.0028\n",
            "Epoch 55/150\n",
            "2188/2188 [==============================] - 12s 5ms/step - loss: 2.0443e-05 - root_mean_squared_error: 0.0045 - val_loss: 1.3181e-05 - val_root_mean_squared_error: 0.0036\n",
            "Epoch 56/150\n",
            "2188/2188 [==============================] - 12s 6ms/step - loss: 2.0075e-05 - root_mean_squared_error: 0.0045 - val_loss: 4.5156e-06 - val_root_mean_squared_error: 0.0021\n",
            "Epoch 57/150\n",
            "2188/2188 [==============================] - 12s 6ms/step - loss: 2.0146e-05 - root_mean_squared_error: 0.0045 - val_loss: 1.2581e-05 - val_root_mean_squared_error: 0.0035\n",
            "Epoch 58/150\n",
            "2188/2188 [==============================] - 12s 6ms/step - loss: 1.9911e-05 - root_mean_squared_error: 0.0045 - val_loss: 3.7500e-05 - val_root_mean_squared_error: 0.0061\n",
            "Epoch 59/150\n",
            "2188/2188 [==============================] - 13s 6ms/step - loss: 2.0032e-05 - root_mean_squared_error: 0.0045 - val_loss: 3.5700e-05 - val_root_mean_squared_error: 0.0060\n",
            "Epoch 60/150\n",
            "2188/2188 [==============================] - 12s 6ms/step - loss: 1.9823e-05 - root_mean_squared_error: 0.0045 - val_loss: 4.4589e-05 - val_root_mean_squared_error: 0.0067\n",
            "Epoch 61/150\n",
            "2188/2188 [==============================] - 12s 5ms/step - loss: 1.9743e-05 - root_mean_squared_error: 0.0044 - val_loss: 1.7069e-05 - val_root_mean_squared_error: 0.0041\n",
            "Epoch 62/150\n",
            "2188/2188 [==============================] - 12s 5ms/step - loss: 1.9769e-05 - root_mean_squared_error: 0.0044 - val_loss: 2.7917e-05 - val_root_mean_squared_error: 0.0053\n",
            "Epoch 63/150\n",
            "2188/2188 [==============================] - 12s 6ms/step - loss: 1.9562e-05 - root_mean_squared_error: 0.0044 - val_loss: 2.4111e-05 - val_root_mean_squared_error: 0.0049\n",
            "Epoch 64/150\n",
            "2188/2188 [==============================] - 12s 5ms/step - loss: 1.9577e-05 - root_mean_squared_error: 0.0044 - val_loss: 5.7017e-05 - val_root_mean_squared_error: 0.0076\n",
            "Epoch 65/150\n",
            "2188/2188 [==============================] - 12s 5ms/step - loss: 1.9626e-05 - root_mean_squared_error: 0.0044 - val_loss: 2.5256e-05 - val_root_mean_squared_error: 0.0050\n",
            "Epoch 66/150\n",
            "2188/2188 [==============================] - 13s 6ms/step - loss: 1.9594e-05 - root_mean_squared_error: 0.0044 - val_loss: 1.1678e-05 - val_root_mean_squared_error: 0.0034\n",
            "Epoch 67/150\n",
            "2188/2188 [==============================] - 13s 6ms/step - loss: 1.9500e-05 - root_mean_squared_error: 0.0044 - val_loss: 4.3161e-05 - val_root_mean_squared_error: 0.0066\n",
            "Epoch 68/150\n",
            "2188/2188 [==============================] - 13s 6ms/step - loss: 1.9146e-05 - root_mean_squared_error: 0.0044 - val_loss: 4.3883e-05 - val_root_mean_squared_error: 0.0066\n",
            "Epoch 69/150\n",
            "2188/2188 [==============================] - 12s 5ms/step - loss: 1.9241e-05 - root_mean_squared_error: 0.0044 - val_loss: 4.4692e-05 - val_root_mean_squared_error: 0.0067\n",
            "Epoch 70/150\n",
            "2188/2188 [==============================] - 12s 5ms/step - loss: 1.9163e-05 - root_mean_squared_error: 0.0044 - val_loss: 1.5925e-05 - val_root_mean_squared_error: 0.0040\n",
            "Epoch 71/150\n",
            "2188/2188 [==============================] - 13s 6ms/step - loss: 1.9242e-05 - root_mean_squared_error: 0.0044 - val_loss: 4.0552e-06 - val_root_mean_squared_error: 0.0020\n",
            "Epoch 72/150\n",
            "2188/2188 [==============================] - 12s 5ms/step - loss: 1.9240e-05 - root_mean_squared_error: 0.0044 - val_loss: 4.6810e-06 - val_root_mean_squared_error: 0.0022\n",
            "Epoch 73/150\n",
            "2188/2188 [==============================] - 12s 5ms/step - loss: 1.9059e-05 - root_mean_squared_error: 0.0044 - val_loss: 9.6824e-06 - val_root_mean_squared_error: 0.0031\n",
            "Epoch 74/150\n",
            "2188/2188 [==============================] - 12s 5ms/step - loss: 1.8939e-05 - root_mean_squared_error: 0.0044 - val_loss: 4.9761e-05 - val_root_mean_squared_error: 0.0071\n",
            "Epoch 75/150\n",
            "2188/2188 [==============================] - 12s 5ms/step - loss: 1.8843e-05 - root_mean_squared_error: 0.0043 - val_loss: 1.5242e-05 - val_root_mean_squared_error: 0.0039\n",
            "Epoch 76/150\n",
            "2188/2188 [==============================] - 13s 6ms/step - loss: 1.8964e-05 - root_mean_squared_error: 0.0044 - val_loss: 9.2233e-06 - val_root_mean_squared_error: 0.0030\n",
            "Epoch 77/150\n",
            "2188/2188 [==============================] - 12s 5ms/step - loss: 1.8854e-05 - root_mean_squared_error: 0.0043 - val_loss: 1.0849e-05 - val_root_mean_squared_error: 0.0033\n",
            "Epoch 78/150\n",
            "2188/2188 [==============================] - 12s 6ms/step - loss: 1.8796e-05 - root_mean_squared_error: 0.0043 - val_loss: 3.6370e-05 - val_root_mean_squared_error: 0.0060\n",
            "Epoch 79/150\n",
            "2188/2188 [==============================] - 13s 6ms/step - loss: 1.8758e-05 - root_mean_squared_error: 0.0043 - val_loss: 2.8428e-05 - val_root_mean_squared_error: 0.0053\n",
            "Epoch 80/150\n",
            "2188/2188 [==============================] - 12s 5ms/step - loss: 1.8594e-05 - root_mean_squared_error: 0.0043 - val_loss: 1.2052e-05 - val_root_mean_squared_error: 0.0035\n",
            "Epoch 81/150\n",
            "2188/2188 [==============================] - 13s 6ms/step - loss: 1.8532e-05 - root_mean_squared_error: 0.0043 - val_loss: 2.0644e-05 - val_root_mean_squared_error: 0.0045\n",
            "Epoch 82/150\n",
            "2188/2188 [==============================] - 13s 6ms/step - loss: 1.8691e-05 - root_mean_squared_error: 0.0043 - val_loss: 1.2793e-05 - val_root_mean_squared_error: 0.0036\n",
            "Epoch 83/150\n",
            "2188/2188 [==============================] - 12s 5ms/step - loss: 1.8143e-05 - root_mean_squared_error: 0.0043 - val_loss: 6.9019e-06 - val_root_mean_squared_error: 0.0026\n",
            "Epoch 84/150\n",
            "2188/2188 [==============================] - 13s 6ms/step - loss: 1.8354e-05 - root_mean_squared_error: 0.0043 - val_loss: 1.0350e-05 - val_root_mean_squared_error: 0.0032\n",
            "Epoch 85/150\n",
            "2188/2188 [==============================] - 12s 6ms/step - loss: 1.8251e-05 - root_mean_squared_error: 0.0043 - val_loss: 1.6904e-05 - val_root_mean_squared_error: 0.0041\n",
            "Epoch 86/150\n",
            "2188/2188 [==============================] - 13s 6ms/step - loss: 1.8071e-05 - root_mean_squared_error: 0.0043 - val_loss: 1.4552e-05 - val_root_mean_squared_error: 0.0038\n",
            "Epoch 87/150\n",
            "2188/2188 [==============================] - 12s 6ms/step - loss: 1.8227e-05 - root_mean_squared_error: 0.0043 - val_loss: 1.8191e-05 - val_root_mean_squared_error: 0.0043\n",
            "Epoch 88/150\n",
            "2188/2188 [==============================] - 12s 6ms/step - loss: 1.8238e-05 - root_mean_squared_error: 0.0043 - val_loss: 6.5681e-05 - val_root_mean_squared_error: 0.0081\n",
            "Epoch 89/150\n",
            "2188/2188 [==============================] - 13s 6ms/step - loss: 1.8141e-05 - root_mean_squared_error: 0.0043 - val_loss: 1.5243e-05 - val_root_mean_squared_error: 0.0039\n",
            "Epoch 90/150\n",
            "2188/2188 [==============================] - 12s 5ms/step - loss: 1.7987e-05 - root_mean_squared_error: 0.0042 - val_loss: 9.4186e-06 - val_root_mean_squared_error: 0.0031\n",
            "Epoch 91/150\n",
            "2188/2188 [==============================] - 12s 6ms/step - loss: 1.7854e-05 - root_mean_squared_error: 0.0042 - val_loss: 2.2794e-05 - val_root_mean_squared_error: 0.0048\n",
            "Epoch 92/150\n",
            "2188/2188 [==============================] - 12s 6ms/step - loss: 1.7759e-05 - root_mean_squared_error: 0.0042 - val_loss: 1.7805e-05 - val_root_mean_squared_error: 0.0042\n",
            "Epoch 93/150\n",
            "2188/2188 [==============================] - 12s 5ms/step - loss: 1.7896e-05 - root_mean_squared_error: 0.0042 - val_loss: 2.9518e-06 - val_root_mean_squared_error: 0.0017\n",
            "Epoch 94/150\n",
            "2188/2188 [==============================] - 12s 6ms/step - loss: 1.7812e-05 - root_mean_squared_error: 0.0042 - val_loss: 2.3566e-05 - val_root_mean_squared_error: 0.0049\n",
            "Epoch 95/150\n",
            "2188/2188 [==============================] - 12s 6ms/step - loss: 1.7582e-05 - root_mean_squared_error: 0.0042 - val_loss: 7.1818e-06 - val_root_mean_squared_error: 0.0027\n",
            "Epoch 96/150\n",
            "2188/2188 [==============================] - 12s 6ms/step - loss: 1.7558e-05 - root_mean_squared_error: 0.0042 - val_loss: 1.1361e-05 - val_root_mean_squared_error: 0.0034\n",
            "Epoch 97/150\n",
            "2188/2188 [==============================] - 13s 6ms/step - loss: 1.7451e-05 - root_mean_squared_error: 0.0042 - val_loss: 7.7892e-06 - val_root_mean_squared_error: 0.0028\n",
            "Epoch 98/150\n",
            "2188/2188 [==============================] - 13s 6ms/step - loss: 1.7399e-05 - root_mean_squared_error: 0.0042 - val_loss: 7.2079e-05 - val_root_mean_squared_error: 0.0085\n",
            "Epoch 99/150\n",
            "2188/2188 [==============================] - 12s 6ms/step - loss: 1.7252e-05 - root_mean_squared_error: 0.0042 - val_loss: 2.9071e-05 - val_root_mean_squared_error: 0.0054\n",
            "Epoch 100/150\n",
            "2188/2188 [==============================] - 12s 6ms/step - loss: 1.7234e-05 - root_mean_squared_error: 0.0042 - val_loss: 2.1225e-05 - val_root_mean_squared_error: 0.0046\n",
            "Epoch 101/150\n",
            "2188/2188 [==============================] - 12s 6ms/step - loss: 1.7258e-05 - root_mean_squared_error: 0.0042 - val_loss: 4.4092e-05 - val_root_mean_squared_error: 0.0066\n",
            "Epoch 102/150\n",
            "2188/2188 [==============================] - 12s 6ms/step - loss: 1.7209e-05 - root_mean_squared_error: 0.0041 - val_loss: 2.0624e-05 - val_root_mean_squared_error: 0.0045\n",
            "Epoch 103/150\n",
            "2188/2188 [==============================] - 13s 6ms/step - loss: 1.7162e-05 - root_mean_squared_error: 0.0041 - val_loss: 1.0295e-05 - val_root_mean_squared_error: 0.0032\n",
            "Epoch 104/150\n",
            "2188/2188 [==============================] - 12s 6ms/step - loss: 1.6953e-05 - root_mean_squared_error: 0.0041 - val_loss: 2.4731e-05 - val_root_mean_squared_error: 0.0050\n",
            "Epoch 105/150\n",
            "2188/2188 [==============================] - 13s 6ms/step - loss: 1.6987e-05 - root_mean_squared_error: 0.0041 - val_loss: 3.0356e-06 - val_root_mean_squared_error: 0.0017\n",
            "Epoch 106/150\n",
            "2188/2188 [==============================] - 12s 6ms/step - loss: 1.6821e-05 - root_mean_squared_error: 0.0041 - val_loss: 4.4252e-05 - val_root_mean_squared_error: 0.0067\n",
            "Epoch 107/150\n",
            "2188/2188 [==============================] - 13s 6ms/step - loss: 1.6964e-05 - root_mean_squared_error: 0.0041 - val_loss: 7.0270e-06 - val_root_mean_squared_error: 0.0027\n",
            "Epoch 108/150\n",
            "2188/2188 [==============================] - 12s 5ms/step - loss: 1.6610e-05 - root_mean_squared_error: 0.0041 - val_loss: 3.9668e-05 - val_root_mean_squared_error: 0.0063\n",
            "Epoch 109/150\n",
            "2188/2188 [==============================] - 12s 6ms/step - loss: 1.6525e-05 - root_mean_squared_error: 0.0041 - val_loss: 3.2041e-05 - val_root_mean_squared_error: 0.0057\n",
            "Epoch 110/150\n",
            "2188/2188 [==============================] - 13s 6ms/step - loss: 1.6790e-05 - root_mean_squared_error: 0.0041 - val_loss: 7.7114e-06 - val_root_mean_squared_error: 0.0028\n",
            "Epoch 111/150\n",
            "2188/2188 [==============================] - 12s 6ms/step - loss: 1.6517e-05 - root_mean_squared_error: 0.0041 - val_loss: 4.0076e-05 - val_root_mean_squared_error: 0.0063\n",
            "Epoch 112/150\n",
            "2188/2188 [==============================] - 12s 5ms/step - loss: 1.6499e-05 - root_mean_squared_error: 0.0041 - val_loss: 4.4775e-06 - val_root_mean_squared_error: 0.0021\n",
            "Epoch 113/150\n",
            "2188/2188 [==============================] - 13s 6ms/step - loss: 1.6422e-05 - root_mean_squared_error: 0.0041 - val_loss: 1.1143e-05 - val_root_mean_squared_error: 0.0033\n",
            "Epoch 114/150\n",
            "2188/2188 [==============================] - 12s 6ms/step - loss: 1.6502e-05 - root_mean_squared_error: 0.0041 - val_loss: 2.5531e-05 - val_root_mean_squared_error: 0.0051\n",
            "Epoch 115/150\n",
            "2188/2188 [==============================] - 13s 6ms/step - loss: 1.6527e-05 - root_mean_squared_error: 0.0041 - val_loss: 8.6688e-06 - val_root_mean_squared_error: 0.0029\n",
            "Epoch 116/150\n",
            "2188/2188 [==============================] - 13s 6ms/step - loss: 1.6508e-05 - root_mean_squared_error: 0.0041 - val_loss: 3.3940e-05 - val_root_mean_squared_error: 0.0058\n",
            "Epoch 117/150\n",
            "2188/2188 [==============================] - 13s 6ms/step - loss: 1.6372e-05 - root_mean_squared_error: 0.0040 - val_loss: 1.4275e-05 - val_root_mean_squared_error: 0.0038\n",
            "Epoch 118/150\n",
            "2188/2188 [==============================] - 13s 6ms/step - loss: 1.6105e-05 - root_mean_squared_error: 0.0040 - val_loss: 3.8803e-06 - val_root_mean_squared_error: 0.0020\n",
            "Epoch 119/150\n",
            "2188/2188 [==============================] - 12s 6ms/step - loss: 1.6334e-05 - root_mean_squared_error: 0.0040 - val_loss: 1.2757e-05 - val_root_mean_squared_error: 0.0036\n",
            "Epoch 120/150\n",
            "2188/2188 [==============================] - 13s 6ms/step - loss: 1.6257e-05 - root_mean_squared_error: 0.0040 - val_loss: 1.3325e-05 - val_root_mean_squared_error: 0.0037\n",
            "Epoch 121/150\n",
            "2188/2188 [==============================] - 13s 6ms/step - loss: 1.5967e-05 - root_mean_squared_error: 0.0040 - val_loss: 2.2610e-05 - val_root_mean_squared_error: 0.0048\n",
            "Epoch 122/150\n",
            "2188/2188 [==============================] - 13s 6ms/step - loss: 1.5966e-05 - root_mean_squared_error: 0.0040 - val_loss: 3.0633e-05 - val_root_mean_squared_error: 0.0055\n",
            "Epoch 123/150\n",
            "2188/2188 [==============================] - 13s 6ms/step - loss: 1.6044e-05 - root_mean_squared_error: 0.0040 - val_loss: 3.0959e-06 - val_root_mean_squared_error: 0.0018\n",
            "Epoch 124/150\n",
            "2188/2188 [==============================] - 13s 6ms/step - loss: 1.5891e-05 - root_mean_squared_error: 0.0040 - val_loss: 6.8923e-05 - val_root_mean_squared_error: 0.0083\n",
            "Epoch 125/150\n",
            "2188/2188 [==============================] - 12s 6ms/step - loss: 1.6008e-05 - root_mean_squared_error: 0.0040 - val_loss: 9.3875e-06 - val_root_mean_squared_error: 0.0031\n",
            "Epoch 126/150\n",
            "2188/2188 [==============================] - 12s 6ms/step - loss: 1.5714e-05 - root_mean_squared_error: 0.0040 - val_loss: 1.6443e-05 - val_root_mean_squared_error: 0.0041\n",
            "Epoch 127/150\n",
            "2188/2188 [==============================] - 13s 6ms/step - loss: 1.5789e-05 - root_mean_squared_error: 0.0040 - val_loss: 1.3594e-05 - val_root_mean_squared_error: 0.0037\n",
            "Epoch 128/150\n",
            "2188/2188 [==============================] - 12s 6ms/step - loss: 1.5666e-05 - root_mean_squared_error: 0.0040 - val_loss: 1.0746e-05 - val_root_mean_squared_error: 0.0033\n",
            "Epoch 129/150\n",
            "2188/2188 [==============================] - 13s 6ms/step - loss: 1.5642e-05 - root_mean_squared_error: 0.0040 - val_loss: 4.6746e-06 - val_root_mean_squared_error: 0.0022\n",
            "Epoch 130/150\n",
            "2188/2188 [==============================] - 13s 6ms/step - loss: 1.5497e-05 - root_mean_squared_error: 0.0039 - val_loss: 7.1561e-06 - val_root_mean_squared_error: 0.0027\n",
            "Epoch 131/150\n",
            "2188/2188 [==============================] - 12s 6ms/step - loss: 1.5630e-05 - root_mean_squared_error: 0.0040 - val_loss: 7.2964e-06 - val_root_mean_squared_error: 0.0027\n",
            "Epoch 132/150\n",
            "2188/2188 [==============================] - 13s 6ms/step - loss: 1.5509e-05 - root_mean_squared_error: 0.0039 - val_loss: 1.1862e-05 - val_root_mean_squared_error: 0.0034\n",
            "Epoch 133/150\n",
            "2188/2188 [==============================] - 13s 6ms/step - loss: 1.5476e-05 - root_mean_squared_error: 0.0039 - val_loss: 5.1446e-06 - val_root_mean_squared_error: 0.0023\n",
            "Epoch 134/150\n",
            "2188/2188 [==============================] - 13s 6ms/step - loss: 1.5481e-05 - root_mean_squared_error: 0.0039 - val_loss: 8.0884e-06 - val_root_mean_squared_error: 0.0028\n",
            "Epoch 135/150\n",
            "2188/2188 [==============================] - 12s 6ms/step - loss: 1.5274e-05 - root_mean_squared_error: 0.0039 - val_loss: 2.2709e-05 - val_root_mean_squared_error: 0.0048\n",
            "Epoch 136/150\n",
            "2188/2188 [==============================] - 12s 6ms/step - loss: 1.5163e-05 - root_mean_squared_error: 0.0039 - val_loss: 1.2164e-05 - val_root_mean_squared_error: 0.0035\n",
            "Epoch 137/150\n",
            "2188/2188 [==============================] - 12s 6ms/step - loss: 1.5318e-05 - root_mean_squared_error: 0.0039 - val_loss: 1.6261e-05 - val_root_mean_squared_error: 0.0040\n",
            "Epoch 138/150\n",
            "2188/2188 [==============================] - 13s 6ms/step - loss: 1.5152e-05 - root_mean_squared_error: 0.0039 - val_loss: 1.2740e-05 - val_root_mean_squared_error: 0.0036\n",
            "Epoch 139/150\n",
            "2188/2188 [==============================] - 13s 6ms/step - loss: 1.4934e-05 - root_mean_squared_error: 0.0039 - val_loss: 2.6173e-05 - val_root_mean_squared_error: 0.0051\n",
            "Epoch 140/150\n",
            "2188/2188 [==============================] - 12s 6ms/step - loss: 1.4939e-05 - root_mean_squared_error: 0.0039 - val_loss: 4.1019e-05 - val_root_mean_squared_error: 0.0064\n",
            "Epoch 141/150\n",
            "2188/2188 [==============================] - 13s 6ms/step - loss: 1.5078e-05 - root_mean_squared_error: 0.0039 - val_loss: 3.8581e-06 - val_root_mean_squared_error: 0.0020\n",
            "Epoch 142/150\n",
            "2188/2188 [==============================] - 13s 6ms/step - loss: 1.4883e-05 - root_mean_squared_error: 0.0039 - val_loss: 6.7704e-05 - val_root_mean_squared_error: 0.0082\n",
            "Epoch 143/150\n",
            "2188/2188 [==============================] - 12s 6ms/step - loss: 1.4719e-05 - root_mean_squared_error: 0.0038 - val_loss: 5.0627e-06 - val_root_mean_squared_error: 0.0023\n",
            "Epoch 144/150\n",
            "2188/2188 [==============================] - 13s 6ms/step - loss: 1.4869e-05 - root_mean_squared_error: 0.0039 - val_loss: 1.8464e-05 - val_root_mean_squared_error: 0.0043\n",
            "Epoch 145/150\n",
            "2188/2188 [==============================] - 13s 6ms/step - loss: 1.4784e-05 - root_mean_squared_error: 0.0038 - val_loss: 4.9628e-06 - val_root_mean_squared_error: 0.0022\n",
            "Epoch 146/150\n",
            "2188/2188 [==============================] - 12s 6ms/step - loss: 1.4828e-05 - root_mean_squared_error: 0.0039 - val_loss: 1.4231e-05 - val_root_mean_squared_error: 0.0038\n",
            "Epoch 147/150\n",
            "2188/2188 [==============================] - 13s 6ms/step - loss: 1.4738e-05 - root_mean_squared_error: 0.0038 - val_loss: 4.7800e-05 - val_root_mean_squared_error: 0.0069\n",
            "Epoch 148/150\n",
            "2188/2188 [==============================] - 12s 6ms/step - loss: 1.4693e-05 - root_mean_squared_error: 0.0038 - val_loss: 1.0189e-05 - val_root_mean_squared_error: 0.0032\n",
            "Epoch 149/150\n",
            "2188/2188 [==============================] - 13s 6ms/step - loss: 1.4454e-05 - root_mean_squared_error: 0.0038 - val_loss: 1.6068e-05 - val_root_mean_squared_error: 0.0040\n",
            "Epoch 150/150\n",
            "2188/2188 [==============================] - 13s 6ms/step - loss: 1.4424e-05 - root_mean_squared_error: 0.0038 - val_loss: 1.8259e-05 - val_root_mean_squared_error: 0.0043\n"
          ]
        }
      ],
      "source": [
        "history = model.fit(X_train, y_train,\n",
        "                    batch_size=32,                # Training of Model along with Validation data\n",
        "                    epochs=150,\n",
        "                    validation_data=(X_valid, y_valid))"
      ]
    },
    {
      "cell_type": "code",
      "execution_count": null,
      "metadata": {
        "outputId": "d0e0bb2c-846b-47b5-cd44-458bfd21268c",
        "colab": {
          "base_uri": "https://localhost:8080/",
          "height": 282
        },
        "id": "V-UibL1rXfPI"
      },
      "outputs": [
        {
          "output_type": "display_data",
          "data": {
            "text/plain": [
              "<Figure size 432x288 with 1 Axes>"
            ],
            "image/png": "[encoded data removed]"
          },
          "metadata": {}
        }
      ],
      "source": [
        "plot_history(['root_mean_squared_error', 'val_root_mean_squared_error'])   "
      ]
    },
    {
      "cell_type": "code",
      "execution_count": null,
      "metadata": {
        "outputId": "9c5a3fc0-bdad-4109-afb9-e38e9d07bff4",
        "colab": {
          "base_uri": "https://localhost:8080/"
        },
        "id": "_VaYWSDUXfPI"
      },
      "outputs": [
        {
          "output_type": "stream",
          "name": "stdout",
          "text": [
            "the R2 score for training set of the RMSprop model case 4 is : 0.9971369822209761\n"
          ]
        }
      ],
      "source": [
        "from sklearn.metrics import r2_score\n",
        "r2_score_training_set_for_RMSprop_model_case_4= r2_score(y_train, y_train_predicted)\n",
        "print(\"the R2 score for training set of the RMSprop model case 4 is :\", r2_score_training_set_for_RMSprop_model_case_4)"
      ]
    },
    {
      "cell_type": "code",
      "execution_count": null,
      "metadata": {
        "outputId": "345d22f3-8fb3-44c2-b9bd-b03e8ff28551",
        "colab": {
          "base_uri": "https://localhost:8080/"
        },
        "id": "c4U6fUdUXfPJ"
      },
      "outputs": [
        {
          "output_type": "stream",
          "name": "stdout",
          "text": [
            "the r2 score for testing set of RMSprop model case 4 is: 0.9972246320763583\n"
          ]
        }
      ],
      "source": [
        "r2_score_testing_set_RMSprop_model_case_4= r2_score(y_test, y_test_predicted)\n",
        "print(\"the r2 score for testing set of RMSprop model case 4 is:\", r2_score_testing_set_RMSprop_model_case_4)"
      ]
    },
    {
      "cell_type": "code",
      "source": [],
      "metadata": {
        "id": "l3A8zNG3qjp7"
      },
      "execution_count": null,
      "outputs": []
    }
  ],
  "metadata": {
    "kernelspec": {
      "display_name": "base",
      "language": "python",
      "name": "python3"
    },
    "language_info": {
      "codemirror_mode": {
        "name": "ipython",
        "version": 3
      },
      "file_extension": ".py",
      "mimetype": "text/x-python",
      "name": "python",
      "nbconvert_exporter": "python",
      "pygments_lexer": "ipython3",
      "version": "3.9.13"
    },
    "orig_nbformat": 4,
    "vscode": {
      "interpreter": {
        "hash": "7758e92e9a61d7a3490898707f7eeb937c85e9d1e8d4e877cc6c187218f226d5"
      }
    },
    "colab": {
      "provenance": []
    },
    "accelerator": "GPU",
    "gpuClass": "standard"
  },
  "nbformat": 4,
  "nbformat_minor": 0
}