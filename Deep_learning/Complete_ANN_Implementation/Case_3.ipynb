{
  "nbformat": 4,
  "nbformat_minor": 0,
  "metadata": {
    "colab": {
      "provenance": []
    },
    "kernelspec": {
      "name": "python3",
      "display_name": "Python 3"
    },
    "language_info": {
      "name": "python"
    }
  },
  "cells": [
    {
      "cell_type": "code",
      "execution_count": null,
      "metadata": {
        "id": "Q54yI-P9xe9h"
      },
      "outputs": [],
      "source": [
        "import pandas as pd\n",
        "import numpy as np\n",
        "import matplotlib.pyplot as plt\n",
        "import seaborn as sns\n",
        "%matplotlib inline\n",
        "import plotly"
      ]
    },
    {
      "cell_type": "code",
      "execution_count": null,
      "metadata": {
        "id": "fNW0VvSVL7pP"
      },
      "outputs": [],
      "source": [
        "data= pd.read_excel(\"/content/Data_for_ANN_using_linspace_generalized_data.xlsx\")    # reading the dataset"
      ]
    },
    {
      "cell_type": "code",
      "execution_count": null,
      "metadata": {
        "id": "d-yauR-sL7pP"
      },
      "outputs": [],
      "source": [
        "data.columns=[\"x1\", \"x2\", \"x3\", \"x4\", \"Y\"]     # assigning of column names"
      ]
    },
    {
      "cell_type": "code",
      "execution_count": null,
      "metadata": {
        "id": "H6ige5OrL7pQ",
        "outputId": "01a94296-6dac-4e06-f06f-e3fd8db7db18",
        "colab": {
          "base_uri": "https://localhost:8080/",
          "height": 423
        }
      },
      "outputs": [
        {
          "output_type": "execute_result",
          "data": {
            "text/plain": [
              "            x1       x2       x3       x4              Y\n",
              "0     -20.0000 -19.9999 -19.9998 -19.9997 -124675.752602\n",
              "1     -19.9996 -19.9995 -19.9994 -19.9993 -124670.883061\n",
              "2     -19.9992 -19.9991 -19.9990 -19.9989 -124666.013615\n",
              "3     -19.9988 -19.9987 -19.9986 -19.9985 -124661.144264\n",
              "4     -19.9984 -19.9983 -19.9982 -19.9981 -124656.275008\n",
              "...        ...      ...      ...      ...            ...\n",
              "99995  19.9981  19.9982  19.9983  19.9984 -112896.116112\n",
              "99996  19.9985  19.9986  19.9987  19.9988 -112900.750143\n",
              "99997  19.9989  19.9990  19.9991  19.9992 -112905.384270\n",
              "99998  19.9993  19.9994  19.9995  19.9996 -112910.018491\n",
              "99999  19.9997  19.9998  19.9999  20.0000 -112914.652808\n",
              "\n",
              "[100000 rows x 5 columns]"
            ],
            "text/html": [
              "\n",
              "  <div id=\"df-39ca8760-40b6-4c4c-9ef5-decb9bb600c4\">\n",
              "    <div class=\"colab-df-container\">\n",
              "      <div>\n",
              "<style scoped>\n",
              "    .dataframe tbody tr th:only-of-type {\n",
              "        vertical-align: middle;\n",
              "    }\n",
              "\n",
              "    .dataframe tbody tr th {\n",
              "        vertical-align: top;\n",
              "    }\n",
              "\n",
              "    .dataframe thead th {\n",
              "        text-align: right;\n",
              "    }\n",
              "</style>\n",
              "<table border=\"1\" class=\"dataframe\">\n",
              "  <thead>\n",
              "    <tr style=\"text-align: right;\">\n",
              "      <th></th>\n",
              "      <th>x1</th>\n",
              "      <th>x2</th>\n",
              "      <th>x3</th>\n",
              "      <th>x4</th>\n",
              "      <th>Y</th>\n",
              "    </tr>\n",
              "  </thead>\n",
              "  <tbody>\n",
              "    <tr>\n",
              "      <th>0</th>\n",
              "      <td>-20.0000</td>\n",
              "      <td>-19.9999</td>\n",
              "      <td>-19.9998</td>\n",
              "      <td>-19.9997</td>\n",
              "      <td>-124675.752602</td>\n",
              "    </tr>\n",
              "    <tr>\n",
              "      <th>1</th>\n",
              "      <td>-19.9996</td>\n",
              "      <td>-19.9995</td>\n",
              "      <td>-19.9994</td>\n",
              "      <td>-19.9993</td>\n",
              "      <td>-124670.883061</td>\n",
              "    </tr>\n",
              "    <tr>\n",
              "      <th>2</th>\n",
              "      <td>-19.9992</td>\n",
              "      <td>-19.9991</td>\n",
              "      <td>-19.9990</td>\n",
              "      <td>-19.9989</td>\n",
              "      <td>-124666.013615</td>\n",
              "    </tr>\n",
              "    <tr>\n",
              "      <th>3</th>\n",
              "      <td>-19.9988</td>\n",
              "      <td>-19.9987</td>\n",
              "      <td>-19.9986</td>\n",
              "      <td>-19.9985</td>\n",
              "      <td>-124661.144264</td>\n",
              "    </tr>\n",
              "    <tr>\n",
              "      <th>4</th>\n",
              "      <td>-19.9984</td>\n",
              "      <td>-19.9983</td>\n",
              "      <td>-19.9982</td>\n",
              "      <td>-19.9981</td>\n",
              "      <td>-124656.275008</td>\n",
              "    </tr>\n",
              "    <tr>\n",
              "      <th>...</th>\n",
              "      <td>...</td>\n",
              "      <td>...</td>\n",
              "      <td>...</td>\n",
              "      <td>...</td>\n",
              "      <td>...</td>\n",
              "    </tr>\n",
              "    <tr>\n",
              "      <th>99995</th>\n",
              "      <td>19.9981</td>\n",
              "      <td>19.9982</td>\n",
              "      <td>19.9983</td>\n",
              "      <td>19.9984</td>\n",
              "      <td>-112896.116112</td>\n",
              "    </tr>\n",
              "    <tr>\n",
              "      <th>99996</th>\n",
              "      <td>19.9985</td>\n",
              "      <td>19.9986</td>\n",
              "      <td>19.9987</td>\n",
              "      <td>19.9988</td>\n",
              "      <td>-112900.750143</td>\n",
              "    </tr>\n",
              "    <tr>\n",
              "      <th>99997</th>\n",
              "      <td>19.9989</td>\n",
              "      <td>19.9990</td>\n",
              "      <td>19.9991</td>\n",
              "      <td>19.9992</td>\n",
              "      <td>-112905.384270</td>\n",
              "    </tr>\n",
              "    <tr>\n",
              "      <th>99998</th>\n",
              "      <td>19.9993</td>\n",
              "      <td>19.9994</td>\n",
              "      <td>19.9995</td>\n",
              "      <td>19.9996</td>\n",
              "      <td>-112910.018491</td>\n",
              "    </tr>\n",
              "    <tr>\n",
              "      <th>99999</th>\n",
              "      <td>19.9997</td>\n",
              "      <td>19.9998</td>\n",
              "      <td>19.9999</td>\n",
              "      <td>20.0000</td>\n",
              "      <td>-112914.652808</td>\n",
              "    </tr>\n",
              "  </tbody>\n",
              "</table>\n",
              "<p>100000 rows × 5 columns</p>\n",
              "</div>\n",
              "      <button class=\"colab-df-convert\" onclick=\"convertToInteractive('df-39ca8760-40b6-4c4c-9ef5-decb9bb600c4')\"\n",
              "              title=\"Convert this dataframe to an interactive table.\"\n",
              "              style=\"display:none;\">\n",
              "        \n",
              "  <svg xmlns=\"http://www.w3.org/2000/svg\" height=\"24px\"viewBox=\"0 0 24 24\"\n",
              "       width=\"24px\">\n",
              "    <path d=\"M0 0h24v24H0V0z\" fill=\"none\"/>\n",
              "    <path d=\"M18.56 5.44l.94 2.06.94-2.06 2.06-.94-2.06-.94-.94-2.06-.94 2.06-2.06.94zm-11 1L8.5 8.5l.94-2.06 2.06-.94-2.06-.94L8.5 2.5l-.94 2.06-2.06.94zm10 10l.94 2.06.94-2.06 2.06-.94-2.06-.94-.94-2.06-.94 2.06-2.06.94z\"/><path d=\"M17.41 7.96l-1.37-1.37c-.4-.4-.92-.59-1.43-.59-.52 0-1.04.2-1.43.59L10.3 9.45l-7.72 7.72c-.78.78-.78 2.05 0 2.83L4 21.41c.39.39.9.59 1.41.59.51 0 1.02-.2 1.41-.59l7.78-7.78 2.81-2.81c.8-.78.8-2.07 0-2.86zM5.41 20L4 18.59l7.72-7.72 1.47 1.35L5.41 20z\"/>\n",
              "  </svg>\n",
              "      </button>\n",
              "      \n",
              "  <style>\n",
              "    .colab-df-container {\n",
              "      display:flex;\n",
              "      flex-wrap:wrap;\n",
              "      gap: 12px;\n",
              "    }\n",
              "\n",
              "    .colab-df-convert {\n",
              "      background-color: #E8F0FE;\n",
              "      border: none;\n",
              "      border-radius: 50%;\n",
              "      cursor: pointer;\n",
              "      display: none;\n",
              "      fill: #1967D2;\n",
              "      height: 32px;\n",
              "      padding: 0 0 0 0;\n",
              "      width: 32px;\n",
              "    }\n",
              "\n",
              "    .colab-df-convert:hover {\n",
              "      background-color: #E2EBFA;\n",
              "      box-shadow: 0px 1px 2px rgba(60, 64, 67, 0.3), 0px 1px 3px 1px rgba(60, 64, 67, 0.15);\n",
              "      fill: #174EA6;\n",
              "    }\n",
              "\n",
              "    [theme=dark] .colab-df-convert {\n",
              "      background-color: #3B4455;\n",
              "      fill: #D2E3FC;\n",
              "    }\n",
              "\n",
              "    [theme=dark] .colab-df-convert:hover {\n",
              "      background-color: #434B5C;\n",
              "      box-shadow: 0px 1px 3px 1px rgba(0, 0, 0, 0.15);\n",
              "      filter: drop-shadow(0px 1px 2px rgba(0, 0, 0, 0.3));\n",
              "      fill: #FFFFFF;\n",
              "    }\n",
              "  </style>\n",
              "\n",
              "      <script>\n",
              "        const buttonEl =\n",
              "          document.querySelector('#df-39ca8760-40b6-4c4c-9ef5-decb9bb600c4 button.colab-df-convert');\n",
              "        buttonEl.style.display =\n",
              "          google.colab.kernel.accessAllowed ? 'block' : 'none';\n",
              "\n",
              "        async function convertToInteractive(key) {\n",
              "          const element = document.querySelector('#df-39ca8760-40b6-4c4c-9ef5-decb9bb600c4');\n",
              "          const dataTable =\n",
              "            await google.colab.kernel.invokeFunction('convertToInteractive',\n",
              "                                                     [key], {});\n",
              "          if (!dataTable) return;\n",
              "\n",
              "          const docLinkHtml = 'Like what you see? Visit the ' +\n",
              "            '<a target=\"_blank\" href=https://colab.research.google.com/notebooks/data_table.ipynb>data table notebook</a>'\n",
              "            + ' to learn more about interactive tables.';\n",
              "          element.innerHTML = '';\n",
              "          dataTable['output_type'] = 'display_data';\n",
              "          await google.colab.output.renderOutput(dataTable, element);\n",
              "          const docLink = document.createElement('div');\n",
              "          docLink.innerHTML = docLinkHtml;\n",
              "          element.appendChild(docLink);\n",
              "        }\n",
              "      </script>\n",
              "    </div>\n",
              "  </div>\n",
              "  "
            ]
          },
          "metadata": {},
          "execution_count": 6
        }
      ],
      "source": [
        "data"
      ]
    },
    {
      "cell_type": "code",
      "execution_count": null,
      "metadata": {
        "id": "gMwcE7q9L7pQ"
      },
      "outputs": [],
      "source": [
        "from sklearn.preprocessing import MinMaxScaler\n",
        "scaler= MinMaxScaler()        # Here minmaxscaler is one of technique which can be used for Normalizing the data to same scale\n",
        "scaled_data= scaler.fit_transform(data.values) # output form: array"
      ]
    },
    {
      "cell_type": "code",
      "execution_count": null,
      "metadata": {
        "id": "Bi-GLzEyL7pQ",
        "outputId": "b96f11f4-e949-4f41-ab4b-16b97403152f",
        "colab": {
          "base_uri": "https://localhost:8080/"
        }
      },
      "outputs": [
        {
          "output_type": "execute_result",
          "data": {
            "text/plain": [
              "array([[0.00000000e+00, 0.00000000e+00, 0.00000000e+00, 0.00000000e+00,\n",
              "        0.00000000e+00],\n",
              "       [1.00001000e-05, 1.00001000e-05, 1.00001000e-05, 1.00001000e-05,\n",
              "        3.90339140e-05],\n",
              "       [2.00002000e-05, 2.00002000e-05, 2.00002000e-05, 2.00002000e-05,\n",
              "        7.80670662e-05],\n",
              "       ...,\n",
              "       [9.99980000e-01, 9.99980000e-01, 9.99980000e-01, 9.99980000e-01,\n",
              "        9.43504851e-02],\n",
              "       [9.99990000e-01, 9.99990000e-01, 9.99990000e-01, 9.99990000e-01,\n",
              "        9.43133375e-02],\n",
              "       [1.00000000e+00, 1.00000000e+00, 1.00000000e+00, 1.00000000e+00,\n",
              "        9.42761891e-02]])"
            ]
          },
          "metadata": {},
          "execution_count": 8
        }
      ],
      "source": [
        "scaled_data"
      ]
    },
    {
      "cell_type": "code",
      "execution_count": null,
      "metadata": {
        "id": "6GBLCnpvL7pQ",
        "outputId": "0b94a004-be36-4929-ab45-798b10badc68",
        "colab": {
          "base_uri": "https://localhost:8080/"
        }
      },
      "outputs": [
        {
          "output_type": "execute_result",
          "data": {
            "text/plain": [
              "(100000, 5)"
            ]
          },
          "metadata": {},
          "execution_count": 9
        }
      ],
      "source": [
        "scaled_data.shape"
      ]
    },
    {
      "cell_type": "code",
      "execution_count": null,
      "metadata": {
        "id": "uJfvj7kzL7pR"
      },
      "outputs": [],
      "source": [
        "X= scaled_data[:, 0:4]\n",
        "Y= scaled_data[:, 4]          # slicing of required input and output"
      ]
    },
    {
      "cell_type": "code",
      "execution_count": null,
      "metadata": {
        "id": "PE26nC40L7pR",
        "outputId": "9c688951-8041-4de3-aabf-2cf32c673e6b",
        "colab": {
          "base_uri": "https://localhost:8080/"
        }
      },
      "outputs": [
        {
          "output_type": "execute_result",
          "data": {
            "text/plain": [
              "array([[0.00000e+00, 0.00000e+00, 0.00000e+00, 0.00000e+00],\n",
              "       [1.00001e-05, 1.00001e-05, 1.00001e-05, 1.00001e-05],\n",
              "       [2.00002e-05, 2.00002e-05, 2.00002e-05, 2.00002e-05],\n",
              "       ...,\n",
              "       [9.99980e-01, 9.99980e-01, 9.99980e-01, 9.99980e-01],\n",
              "       [9.99990e-01, 9.99990e-01, 9.99990e-01, 9.99990e-01],\n",
              "       [1.00000e+00, 1.00000e+00, 1.00000e+00, 1.00000e+00]])"
            ]
          },
          "metadata": {},
          "execution_count": 11
        }
      ],
      "source": [
        "X"
      ]
    },
    {
      "cell_type": "code",
      "execution_count": null,
      "metadata": {
        "id": "BlZl8CGYL7pR",
        "outputId": "c8d640cd-0da5-48ec-edbf-0b5600e47398",
        "colab": {
          "base_uri": "https://localhost:8080/"
        }
      },
      "outputs": [
        {
          "output_type": "execute_result",
          "data": {
            "text/plain": [
              "array([0.00000000e+00, 3.90339140e-05, 7.80670662e-05, ...,\n",
              "       9.43504851e-02, 9.43133375e-02, 9.42761891e-02])"
            ]
          },
          "metadata": {},
          "execution_count": 12
        }
      ],
      "source": [
        "Y"
      ]
    },
    {
      "cell_type": "code",
      "execution_count": null,
      "metadata": {
        "id": "pk_G09WnL7pR"
      },
      "outputs": [],
      "source": [
        "from sklearn.model_selection import train_test_split    # import of train_test_split"
      ]
    },
    {
      "cell_type": "code",
      "execution_count": null,
      "metadata": {
        "id": "qpofZkm8L7pS"
      },
      "outputs": [],
      "source": [
        "# In the first step we will split the data in training and remaining dataset\n",
        "X_train, X_rem, y_train, y_rem = train_test_split(X,Y, train_size=0.2)     # train_size= 70%----->7000 training samples\n"
      ]
    },
    {
      "cell_type": "code",
      "execution_count": null,
      "metadata": {
        "id": "uZsQheJqL7pS"
      },
      "outputs": [],
      "source": [
        "X_valid, X_test, y_valid, y_test = train_test_split(X_rem,y_rem, test_size= 0.5)    # test_size==15% ----> 2550 training samples"
      ]
    },
    {
      "cell_type": "code",
      "execution_count": null,
      "metadata": {
        "id": "YMTNSDrdL7pS",
        "outputId": "58875a8d-d926-445c-d30a-2b95b65330b3",
        "colab": {
          "base_uri": "https://localhost:8080/"
        }
      },
      "outputs": [
        {
          "output_type": "stream",
          "name": "stdout",
          "text": [
            "(20000, 4)\n",
            "(20000,)\n",
            "(40000, 4)\n",
            "(40000,)\n",
            "(40000, 4)\n",
            "(40000,)\n"
          ]
        },
        {
          "output_type": "execute_result",
          "data": {
            "text/plain": [
              "(None, None)"
            ]
          },
          "metadata": {},
          "execution_count": 16
        }
      ],
      "source": [
        "print(X_train.shape), print(y_train.shape)\n",
        "print(X_valid.shape), print(y_valid.shape)          # shapes of each set of splitted data\n",
        "print(X_test.shape), print(y_test.shape)"
      ]
    },
    {
      "cell_type": "markdown",
      "metadata": {
        "id": "gR893t1jL7pa"
      },
      "source": [
        "# Adam Model case 3"
      ]
    },
    {
      "cell_type": "code",
      "execution_count": null,
      "metadata": {
        "id": "ulZ-1Tg_L7pa"
      },
      "outputs": [],
      "source": [
        "from tensorflow import keras    \n",
        "\n",
        "def create_nn():     #function of NN model creation\n",
        "    # Input layer\n",
        "    inputs = keras.Input(shape=(X.shape[1],), name='input')      # Since n= 4,  in input layer shape= 4--->X.shape[1]\n",
        "\n",
        "    # Dense layers                                              # hidden layers\n",
        "    layers_dense = keras.layers.Dense(64, 'linear')(inputs)          # here 20(nodes) --->units    # Activation_function -->sigmoid\n",
        "    layers_dense = keras.layers.Dense(128, 'sigmoid')(layers_dense)\n",
        "    layers_dense = keras.layers.Dense(128, 'relu')(layers_dense)\n",
        "    layers_dense = keras.layers.Dense(128, 'sigmoid')(layers_dense)  \n",
        "    layers_dense = keras.layers.Dense(1, 'linear')(layers_dense)                                                              # here 50(nodes) --->units    # Activation_function---->linear\n",
        "\n",
        "    # Output layer\n",
        "    outputs = keras.layers.Dense(1)(layers_dense)              # only one node for output layer\n",
        "\n",
        "    return keras.Model(inputs=inputs, outputs=outputs, name=\"Prediction\")\n",
        "\n",
        "model = create_nn()"
      ]
    },
    {
      "cell_type": "code",
      "execution_count": null,
      "metadata": {
        "id": "G_3xrLumL7pa",
        "outputId": "b269b3d3-1330-4e89-b0fd-e04a830609b5",
        "colab": {
          "base_uri": "https://localhost:8080/"
        }
      },
      "outputs": [
        {
          "output_type": "stream",
          "name": "stdout",
          "text": [
            "Model: \"Prediction\"\n",
            "_________________________________________________________________\n",
            " Layer (type)                Output Shape              Param #   \n",
            "=================================================================\n",
            " input (InputLayer)          [(None, 4)]               0         \n",
            "                                                                 \n",
            " dense (Dense)               (None, 64)                320       \n",
            "                                                                 \n",
            " dense_1 (Dense)             (None, 128)               8320      \n",
            "                                                                 \n",
            " dense_2 (Dense)             (None, 128)               16512     \n",
            "                                                                 \n",
            " dense_3 (Dense)             (None, 128)               16512     \n",
            "                                                                 \n",
            " dense_4 (Dense)             (None, 1)                 129       \n",
            "                                                                 \n",
            " dense_5 (Dense)             (None, 1)                 2         \n",
            "                                                                 \n",
            "=================================================================\n",
            "Total params: 41,795\n",
            "Trainable params: 41,795\n",
            "Non-trainable params: 0\n",
            "_________________________________________________________________\n"
          ]
        }
      ],
      "source": [
        "model.summary()      # return the summary of all layers of model"
      ]
    },
    {
      "cell_type": "code",
      "execution_count": null,
      "metadata": {
        "id": "Gp4PJQEQL7pa"
      },
      "outputs": [],
      "source": [
        "def compile_model(model):\n",
        "    model.compile(optimizer='adam',\n",
        "                  loss='mse',      #mse---> mean square error\n",
        "                  metrics=[keras.metrics.RootMeanSquaredError()])\n",
        "compile_model(model)"
      ]
    },
    {
      "cell_type": "code",
      "execution_count": null,
      "metadata": {
        "id": "YLHP-HU4L7pb",
        "outputId": "8b500be1-0f8b-460e-a4c1-c572ec125fb9",
        "colab": {
          "base_uri": "https://localhost:8080/"
        }
      },
      "outputs": [
        {
          "output_type": "stream",
          "name": "stdout",
          "text": [
            "Epoch 1/75\n",
            "625/625 [==============================] - 2s 2ms/step - loss: 0.0157 - root_mean_squared_error: 0.1254\n",
            "Epoch 2/75\n",
            "625/625 [==============================] - 1s 2ms/step - loss: 1.2944e-04 - root_mean_squared_error: 0.0114\n",
            "Epoch 3/75\n",
            "625/625 [==============================] - 1s 2ms/step - loss: 6.0993e-05 - root_mean_squared_error: 0.0078\n",
            "Epoch 4/75\n",
            "625/625 [==============================] - 2s 3ms/step - loss: 9.2315e-05 - root_mean_squared_error: 0.0096\n",
            "Epoch 5/75\n",
            "625/625 [==============================] - 2s 3ms/step - loss: 1.2955e-04 - root_mean_squared_error: 0.0114\n",
            "Epoch 6/75\n",
            "625/625 [==============================] - 1s 2ms/step - loss: 1.8399e-04 - root_mean_squared_error: 0.0136\n",
            "Epoch 7/75\n",
            "625/625 [==============================] - 1s 2ms/step - loss: 1.3847e-04 - root_mean_squared_error: 0.0118\n",
            "Epoch 8/75\n",
            "625/625 [==============================] - 1s 2ms/step - loss: 6.9823e-05 - root_mean_squared_error: 0.0084\n",
            "Epoch 9/75\n",
            "625/625 [==============================] - 1s 2ms/step - loss: 1.0348e-04 - root_mean_squared_error: 0.0102\n",
            "Epoch 10/75\n",
            "625/625 [==============================] - 1s 2ms/step - loss: 7.9276e-05 - root_mean_squared_error: 0.0089\n",
            "Epoch 11/75\n",
            "625/625 [==============================] - 1s 2ms/step - loss: 9.0712e-05 - root_mean_squared_error: 0.0095\n",
            "Epoch 12/75\n",
            "625/625 [==============================] - 2s 2ms/step - loss: 7.1537e-05 - root_mean_squared_error: 0.0085\n",
            "Epoch 13/75\n",
            "625/625 [==============================] - 2s 4ms/step - loss: 1.2608e-04 - root_mean_squared_error: 0.0112\n",
            "Epoch 14/75\n",
            "625/625 [==============================] - 1s 2ms/step - loss: 1.0100e-04 - root_mean_squared_error: 0.0100\n",
            "Epoch 15/75\n",
            "625/625 [==============================] - 1s 2ms/step - loss: 1.1596e-04 - root_mean_squared_error: 0.0108\n",
            "Epoch 16/75\n",
            "625/625 [==============================] - 1s 2ms/step - loss: 9.0007e-05 - root_mean_squared_error: 0.0095\n",
            "Epoch 17/75\n",
            "625/625 [==============================] - 1s 2ms/step - loss: 6.6578e-05 - root_mean_squared_error: 0.0082\n",
            "Epoch 18/75\n",
            "625/625 [==============================] - 1s 2ms/step - loss: 8.0308e-05 - root_mean_squared_error: 0.0090\n",
            "Epoch 19/75\n",
            "625/625 [==============================] - 1s 2ms/step - loss: 7.6562e-05 - root_mean_squared_error: 0.0087\n",
            "Epoch 20/75\n",
            "625/625 [==============================] - 1s 2ms/step - loss: 8.6092e-05 - root_mean_squared_error: 0.0093\n",
            "Epoch 21/75\n",
            "625/625 [==============================] - 2s 3ms/step - loss: 7.1412e-05 - root_mean_squared_error: 0.0085\n",
            "Epoch 22/75\n",
            "625/625 [==============================] - 2s 3ms/step - loss: 8.9763e-05 - root_mean_squared_error: 0.0095\n",
            "Epoch 23/75\n",
            "625/625 [==============================] - 1s 2ms/step - loss: 1.9463e-04 - root_mean_squared_error: 0.0140\n",
            "Epoch 24/75\n",
            "625/625 [==============================] - 1s 2ms/step - loss: 3.8905e-05 - root_mean_squared_error: 0.0062\n",
            "Epoch 25/75\n",
            "625/625 [==============================] - 1s 2ms/step - loss: 5.9795e-05 - root_mean_squared_error: 0.0077\n",
            "Epoch 26/75\n",
            "625/625 [==============================] - 1s 2ms/step - loss: 7.4623e-05 - root_mean_squared_error: 0.0086\n",
            "Epoch 27/75\n",
            "625/625 [==============================] - 1s 2ms/step - loss: 5.9482e-05 - root_mean_squared_error: 0.0077\n",
            "Epoch 28/75\n",
            "625/625 [==============================] - 1s 2ms/step - loss: 1.0394e-04 - root_mean_squared_error: 0.0102\n",
            "Epoch 29/75\n",
            "625/625 [==============================] - 2s 2ms/step - loss: 6.3917e-05 - root_mean_squared_error: 0.0080\n",
            "Epoch 30/75\n",
            "625/625 [==============================] - 2s 4ms/step - loss: 1.5931e-04 - root_mean_squared_error: 0.0126\n",
            "Epoch 31/75\n",
            "625/625 [==============================] - 1s 2ms/step - loss: 3.6200e-05 - root_mean_squared_error: 0.0060\n",
            "Epoch 32/75\n",
            "625/625 [==============================] - 1s 2ms/step - loss: 6.5946e-05 - root_mean_squared_error: 0.0081\n",
            "Epoch 33/75\n",
            "625/625 [==============================] - 1s 2ms/step - loss: 7.9582e-05 - root_mean_squared_error: 0.0089\n",
            "Epoch 34/75\n",
            "625/625 [==============================] - 2s 2ms/step - loss: 5.5744e-05 - root_mean_squared_error: 0.0075\n",
            "Epoch 35/75\n",
            "625/625 [==============================] - 1s 2ms/step - loss: 5.7806e-05 - root_mean_squared_error: 0.0076\n",
            "Epoch 36/75\n",
            "625/625 [==============================] - 2s 3ms/step - loss: 7.8714e-05 - root_mean_squared_error: 0.0089\n",
            "Epoch 37/75\n",
            "625/625 [==============================] - 2s 3ms/step - loss: 6.7195e-05 - root_mean_squared_error: 0.0082\n",
            "Epoch 38/75\n",
            "625/625 [==============================] - 2s 4ms/step - loss: 6.8680e-05 - root_mean_squared_error: 0.0083\n",
            "Epoch 39/75\n",
            "625/625 [==============================] - 1s 2ms/step - loss: 6.6397e-05 - root_mean_squared_error: 0.0081\n",
            "Epoch 40/75\n",
            "625/625 [==============================] - 1s 2ms/step - loss: 7.8017e-05 - root_mean_squared_error: 0.0088\n",
            "Epoch 41/75\n",
            "625/625 [==============================] - 1s 2ms/step - loss: 4.7442e-05 - root_mean_squared_error: 0.0069\n",
            "Epoch 42/75\n",
            "625/625 [==============================] - 1s 2ms/step - loss: 6.3151e-05 - root_mean_squared_error: 0.0079\n",
            "Epoch 43/75\n",
            "625/625 [==============================] - 1s 2ms/step - loss: 5.4957e-05 - root_mean_squared_error: 0.0074\n",
            "Epoch 44/75\n",
            "625/625 [==============================] - 1s 2ms/step - loss: 7.2613e-05 - root_mean_squared_error: 0.0085\n",
            "Epoch 45/75\n",
            "625/625 [==============================] - 1s 2ms/step - loss: 4.9039e-05 - root_mean_squared_error: 0.0070\n",
            "Epoch 46/75\n",
            "625/625 [==============================] - 2s 4ms/step - loss: 6.8707e-05 - root_mean_squared_error: 0.0083\n",
            "Epoch 47/75\n",
            "625/625 [==============================] - 2s 3ms/step - loss: 5.0495e-05 - root_mean_squared_error: 0.0071\n",
            "Epoch 48/75\n",
            "625/625 [==============================] - 1s 2ms/step - loss: 7.9881e-05 - root_mean_squared_error: 0.0089\n",
            "Epoch 49/75\n",
            "625/625 [==============================] - 1s 2ms/step - loss: 6.7867e-05 - root_mean_squared_error: 0.0082\n",
            "Epoch 50/75\n",
            "625/625 [==============================] - 1s 2ms/step - loss: 5.2284e-05 - root_mean_squared_error: 0.0072\n",
            "Epoch 51/75\n",
            "625/625 [==============================] - 1s 2ms/step - loss: 4.7763e-05 - root_mean_squared_error: 0.0069\n",
            "Epoch 52/75\n",
            "625/625 [==============================] - 1s 2ms/step - loss: 5.1881e-05 - root_mean_squared_error: 0.0072\n",
            "Epoch 53/75\n",
            "625/625 [==============================] - 1s 2ms/step - loss: 8.5237e-05 - root_mean_squared_error: 0.0092\n",
            "Epoch 54/75\n",
            "625/625 [==============================] - 2s 3ms/step - loss: 4.4429e-05 - root_mean_squared_error: 0.0067\n",
            "Epoch 55/75\n",
            "625/625 [==============================] - 2s 3ms/step - loss: 6.0353e-05 - root_mean_squared_error: 0.0078\n",
            "Epoch 56/75\n",
            "625/625 [==============================] - 1s 2ms/step - loss: 6.0264e-05 - root_mean_squared_error: 0.0078\n",
            "Epoch 57/75\n",
            "625/625 [==============================] - 1s 2ms/step - loss: 6.1731e-05 - root_mean_squared_error: 0.0079\n",
            "Epoch 58/75\n",
            "625/625 [==============================] - 1s 2ms/step - loss: 4.2939e-05 - root_mean_squared_error: 0.0066\n",
            "Epoch 59/75\n",
            "625/625 [==============================] - 1s 2ms/step - loss: 8.8830e-05 - root_mean_squared_error: 0.0094\n",
            "Epoch 60/75\n",
            "625/625 [==============================] - 1s 2ms/step - loss: 3.5193e-05 - root_mean_squared_error: 0.0059\n",
            "Epoch 61/75\n",
            "625/625 [==============================] - 1s 2ms/step - loss: 7.0205e-05 - root_mean_squared_error: 0.0084\n",
            "Epoch 62/75\n",
            "625/625 [==============================] - 1s 2ms/step - loss: 5.3397e-05 - root_mean_squared_error: 0.0073\n",
            "Epoch 63/75\n",
            "625/625 [==============================] - 2s 3ms/step - loss: 5.1284e-05 - root_mean_squared_error: 0.0072\n",
            "Epoch 64/75\n",
            "625/625 [==============================] - 2s 3ms/step - loss: 4.6804e-05 - root_mean_squared_error: 0.0068\n",
            "Epoch 65/75\n",
            "625/625 [==============================] - 1s 2ms/step - loss: 6.1260e-05 - root_mean_squared_error: 0.0078\n",
            "Epoch 66/75\n",
            "625/625 [==============================] - 1s 2ms/step - loss: 5.4281e-05 - root_mean_squared_error: 0.0074\n",
            "Epoch 67/75\n",
            "625/625 [==============================] - 1s 2ms/step - loss: 4.5433e-05 - root_mean_squared_error: 0.0067\n",
            "Epoch 68/75\n",
            "625/625 [==============================] - 1s 2ms/step - loss: 5.6027e-05 - root_mean_squared_error: 0.0075\n",
            "Epoch 69/75\n",
            "625/625 [==============================] - 1s 2ms/step - loss: 4.3118e-05 - root_mean_squared_error: 0.0066\n",
            "Epoch 70/75\n",
            "625/625 [==============================] - 1s 2ms/step - loss: 5.2579e-05 - root_mean_squared_error: 0.0073\n",
            "Epoch 71/75\n",
            "625/625 [==============================] - 2s 3ms/step - loss: 4.9106e-05 - root_mean_squared_error: 0.0070\n",
            "Epoch 72/75\n",
            "625/625 [==============================] - 2s 4ms/step - loss: 5.3232e-05 - root_mean_squared_error: 0.0073\n",
            "Epoch 73/75\n",
            "625/625 [==============================] - 1s 2ms/step - loss: 4.0142e-05 - root_mean_squared_error: 0.0063\n",
            "Epoch 74/75\n",
            "625/625 [==============================] - 1s 2ms/step - loss: 4.9300e-05 - root_mean_squared_error: 0.0070\n",
            "Epoch 75/75\n",
            "625/625 [==============================] - 1s 2ms/step - loss: 4.6681e-05 - root_mean_squared_error: 0.0068\n"
          ]
        }
      ],
      "source": [
        "history = model.fit(X_train, y_train, batch_size=32, epochs=75)    # epochs--->iteration"
      ]
    },
    {
      "cell_type": "code",
      "execution_count": null,
      "metadata": {
        "id": "v76hMwcqL7pb",
        "outputId": "236d52c3-e891-4f27-ff46-741adb454d9e",
        "colab": {
          "base_uri": "https://localhost:8080/",
          "height": 279
        }
      },
      "outputs": [
        {
          "output_type": "display_data",
          "data": {
            "text/plain": [
              "<Figure size 432x288 with 1 Axes>"
            ],
            "image/png": "[encoded data removed]"
          },
          "metadata": {
            "needs_background": "light"
          }
        }
      ],
      "source": [
        "def plot_history(metrics):\n",
        "    history_df = pd.DataFrame.from_dict(history.history)\n",
        "    sns.lineplot(data=history_df[metrics], color= \"r\")\n",
        "    plt.xlabel(\"epochs\")\n",
        "    plt.ylabel(\"RMSE\")\n",
        "plot_history('root_mean_squared_error')"
      ]
    },
    {
      "cell_type": "code",
      "execution_count": null,
      "metadata": {
        "id": "yYJjhyu6L7pb",
        "outputId": "5b3c7958-d59d-4eba-8215-f2b3557aad3b",
        "colab": {
          "base_uri": "https://localhost:8080/"
        }
      },
      "outputs": [
        {
          "output_type": "stream",
          "name": "stdout",
          "text": [
            "625/625 [==============================] - 1s 1ms/step\n",
            "1250/1250 [==============================] - 2s 1ms/step\n"
          ]
        }
      ],
      "source": [
        "y_train_predicted = model.predict(X_train)     # y_train predicted\n",
        "y_test_predicted = model.predict(X_test)      #  y_test_predicted"
      ]
    },
    {
      "cell_type": "code",
      "execution_count": null,
      "metadata": {
        "id": "WawNUAo1L7pb",
        "outputId": "e7b56432-9ef4-4b60-c9f3-7474168505b6",
        "colab": {
          "base_uri": "https://localhost:8080/",
          "height": 299
        }
      },
      "outputs": [
        {
          "output_type": "display_data",
          "data": {
            "text/plain": [
              "<Figure size 432x288 with 1 Axes>"
            ],
            "image/png": "[encoded data removed]"
          },
          "metadata": {}
        }
      ],
      "source": [
        "def plot_predictions(y_pred, y_true, title):\n",
        "    plt.style.use('ggplot') \n",
        "    plt.scatter(y_pred, y_true, s=10, alpha=0.5)\n",
        "    plt.xlabel(\"Y_predicted\")\n",
        "    plt.ylabel(\"Y_train\")                          # sactter plot for Y_train_predicted and True_Y_train\n",
        "    plt.title(title)\n",
        "\n",
        "plot_predictions(y_train_predicted, y_train, title='Predictions on the training set')"
      ]
    },
    {
      "cell_type": "code",
      "execution_count": null,
      "metadata": {
        "id": "MQA9RAm0L7pb",
        "outputId": "260bbc88-7e8c-44e5-e98b-ad008eacf492",
        "colab": {
          "base_uri": "https://localhost:8080/",
          "height": 299
        }
      },
      "outputs": [
        {
          "output_type": "display_data",
          "data": {
            "text/plain": [
              "<Figure size 432x288 with 1 Axes>"
            ],
            "image/png": "[encoded data removed]"
          },
          "metadata": {}
        }
      ],
      "source": [
        "plot_predictions(y_test_predicted, y_test, title='Predictions on the test set')    # Plot between Y_test_predicted and True_Y_test_predicted"
      ]
    },
    {
      "cell_type": "code",
      "execution_count": null,
      "metadata": {
        "id": "r5cS0JKNL7pf",
        "outputId": "822d9925-b962-4bdd-9d1d-9506c912e3dc",
        "colab": {
          "base_uri": "https://localhost:8080/"
        }
      },
      "outputs": [
        {
          "output_type": "stream",
          "name": "stdout",
          "text": [
            "625/625 [==============================] - 1s 1ms/step - loss: 1.9704e-05 - root_mean_squared_error: 0.0044\n",
            "1250/1250 [==============================] - 2s 1ms/step - loss: 2.0016e-05 - root_mean_squared_error: 0.0045\n",
            "Train RMSE: 0.00, Test RMSE: 0.00\n"
          ]
        }
      ],
      "source": [
        "train_metrics = model.evaluate(X_train, y_train, return_dict=True)\n",
        "test_metrics = model.evaluate(X_test, y_test, return_dict=True)\n",
        "print('Train RMSE: {:.2f}, Test RMSE: {:.2f}'.format(train_metrics['root_mean_squared_error'], test_metrics['root_mean_squared_error']))"
      ]
    },
    {
      "cell_type": "code",
      "execution_count": null,
      "metadata": {
        "id": "_Cyk7APLL7pf",
        "outputId": "17ec9458-8582-4743-a502-b1257d04aef5",
        "colab": {
          "base_uri": "https://localhost:8080/"
        }
      },
      "outputs": [
        {
          "output_type": "stream",
          "name": "stdout",
          "text": [
            "Epoch 1/75\n",
            "625/625 [==============================] - 4s 6ms/step - loss: 1.5082e-05 - root_mean_squared_error: 0.0039 - val_loss: 2.5397e-05 - val_root_mean_squared_error: 0.0050\n",
            "Epoch 2/75\n",
            "625/625 [==============================] - 4s 6ms/step - loss: 2.1500e-05 - root_mean_squared_error: 0.0046 - val_loss: 1.8380e-05 - val_root_mean_squared_error: 0.0043\n",
            "Epoch 3/75\n",
            "625/625 [==============================] - 3s 5ms/step - loss: 4.5342e-05 - root_mean_squared_error: 0.0067 - val_loss: 5.6645e-06 - val_root_mean_squared_error: 0.0024\n",
            "Epoch 4/75\n",
            "625/625 [==============================] - 3s 5ms/step - loss: 1.7770e-05 - root_mean_squared_error: 0.0042 - val_loss: 1.0520e-05 - val_root_mean_squared_error: 0.0032\n",
            "Epoch 5/75\n",
            "625/625 [==============================] - 4s 6ms/step - loss: 2.1350e-05 - root_mean_squared_error: 0.0046 - val_loss: 8.1499e-06 - val_root_mean_squared_error: 0.0029\n",
            "Epoch 6/75\n",
            "625/625 [==============================] - 4s 6ms/step - loss: 5.5388e-05 - root_mean_squared_error: 0.0074 - val_loss: 4.3958e-05 - val_root_mean_squared_error: 0.0066\n",
            "Epoch 7/75\n",
            "625/625 [==============================] - 3s 5ms/step - loss: 1.1767e-05 - root_mean_squared_error: 0.0034 - val_loss: 2.4234e-05 - val_root_mean_squared_error: 0.0049\n",
            "Epoch 8/75\n",
            "625/625 [==============================] - 4s 6ms/step - loss: 1.3117e-05 - root_mean_squared_error: 0.0036 - val_loss: 5.9792e-06 - val_root_mean_squared_error: 0.0024\n",
            "Epoch 9/75\n",
            "625/625 [==============================] - 4s 6ms/step - loss: 2.6909e-05 - root_mean_squared_error: 0.0052 - val_loss: 1.2363e-05 - val_root_mean_squared_error: 0.0035\n",
            "Epoch 10/75\n",
            "625/625 [==============================] - 3s 5ms/step - loss: 1.6069e-05 - root_mean_squared_error: 0.0040 - val_loss: 1.2286e-05 - val_root_mean_squared_error: 0.0035\n",
            "Epoch 11/75\n",
            "625/625 [==============================] - 3s 5ms/step - loss: 2.2663e-05 - root_mean_squared_error: 0.0048 - val_loss: 7.4291e-06 - val_root_mean_squared_error: 0.0027\n",
            "Epoch 12/75\n",
            "625/625 [==============================] - 3s 5ms/step - loss: 2.4413e-05 - root_mean_squared_error: 0.0049 - val_loss: 2.3132e-05 - val_root_mean_squared_error: 0.0048\n",
            "Epoch 13/75\n",
            "625/625 [==============================] - 4s 6ms/step - loss: 1.8600e-05 - root_mean_squared_error: 0.0043 - val_loss: 8.7226e-06 - val_root_mean_squared_error: 0.0030\n",
            "Epoch 14/75\n",
            "625/625 [==============================] - 3s 5ms/step - loss: 1.6381e-05 - root_mean_squared_error: 0.0040 - val_loss: 7.0377e-06 - val_root_mean_squared_error: 0.0027\n",
            "Epoch 15/75\n",
            "625/625 [==============================] - 3s 5ms/step - loss: 2.7791e-05 - root_mean_squared_error: 0.0053 - val_loss: 5.2574e-06 - val_root_mean_squared_error: 0.0023\n",
            "Epoch 16/75\n",
            "625/625 [==============================] - 3s 5ms/step - loss: 1.3593e-05 - root_mean_squared_error: 0.0037 - val_loss: 7.5423e-06 - val_root_mean_squared_error: 0.0027\n",
            "Epoch 17/75\n",
            "625/625 [==============================] - 4s 7ms/step - loss: 2.8338e-05 - root_mean_squared_error: 0.0053 - val_loss: 1.0400e-05 - val_root_mean_squared_error: 0.0032\n",
            "Epoch 18/75\n",
            "625/625 [==============================] - 4s 6ms/step - loss: 1.7852e-05 - root_mean_squared_error: 0.0042 - val_loss: 1.2664e-05 - val_root_mean_squared_error: 0.0036\n",
            "Epoch 19/75\n",
            "625/625 [==============================] - 4s 6ms/step - loss: 2.5996e-05 - root_mean_squared_error: 0.0051 - val_loss: 3.9282e-06 - val_root_mean_squared_error: 0.0020\n",
            "Epoch 20/75\n",
            "625/625 [==============================] - 4s 6ms/step - loss: 2.3118e-05 - root_mean_squared_error: 0.0048 - val_loss: 6.5390e-06 - val_root_mean_squared_error: 0.0026\n",
            "Epoch 21/75\n",
            "625/625 [==============================] - 4s 6ms/step - loss: 1.6535e-05 - root_mean_squared_error: 0.0041 - val_loss: 3.1590e-06 - val_root_mean_squared_error: 0.0018\n",
            "Epoch 22/75\n",
            "625/625 [==============================] - 3s 5ms/step - loss: 1.8281e-05 - root_mean_squared_error: 0.0043 - val_loss: 4.2164e-06 - val_root_mean_squared_error: 0.0021\n",
            "Epoch 23/75\n",
            "625/625 [==============================] - 3s 5ms/step - loss: 2.1425e-05 - root_mean_squared_error: 0.0046 - val_loss: 8.4990e-06 - val_root_mean_squared_error: 0.0029\n",
            "Epoch 24/75\n",
            "625/625 [==============================] - 4s 7ms/step - loss: 2.3946e-05 - root_mean_squared_error: 0.0049 - val_loss: 3.4625e-04 - val_root_mean_squared_error: 0.0186\n",
            "Epoch 25/75\n",
            "625/625 [==============================] - 4s 6ms/step - loss: 2.3895e-05 - root_mean_squared_error: 0.0049 - val_loss: 4.0629e-05 - val_root_mean_squared_error: 0.0064\n",
            "Epoch 26/75\n",
            "625/625 [==============================] - 3s 5ms/step - loss: 2.4737e-05 - root_mean_squared_error: 0.0050 - val_loss: 1.7455e-05 - val_root_mean_squared_error: 0.0042\n",
            "Epoch 27/75\n",
            "625/625 [==============================] - 4s 6ms/step - loss: 1.1833e-05 - root_mean_squared_error: 0.0034 - val_loss: 5.7512e-06 - val_root_mean_squared_error: 0.0024\n",
            "Epoch 28/75\n",
            "625/625 [==============================] - 3s 5ms/step - loss: 2.1692e-05 - root_mean_squared_error: 0.0047 - val_loss: 8.2031e-06 - val_root_mean_squared_error: 0.0029\n",
            "Epoch 29/75\n",
            "625/625 [==============================] - 3s 5ms/step - loss: 1.2338e-05 - root_mean_squared_error: 0.0035 - val_loss: 3.0348e-06 - val_root_mean_squared_error: 0.0017\n",
            "Epoch 30/75\n",
            "625/625 [==============================] - 4s 6ms/step - loss: 1.9622e-05 - root_mean_squared_error: 0.0044 - val_loss: 3.2428e-05 - val_root_mean_squared_error: 0.0057\n",
            "Epoch 31/75\n",
            "625/625 [==============================] - 5s 8ms/step - loss: 1.4546e-05 - root_mean_squared_error: 0.0038 - val_loss: 4.6584e-05 - val_root_mean_squared_error: 0.0068\n",
            "Epoch 32/75\n",
            "625/625 [==============================] - 3s 5ms/step - loss: 1.8333e-05 - root_mean_squared_error: 0.0043 - val_loss: 4.1466e-06 - val_root_mean_squared_error: 0.0020\n",
            "Epoch 33/75\n",
            "625/625 [==============================] - 4s 6ms/step - loss: 2.2222e-05 - root_mean_squared_error: 0.0047 - val_loss: 1.7620e-05 - val_root_mean_squared_error: 0.0042\n",
            "Epoch 34/75\n",
            "625/625 [==============================] - 4s 6ms/step - loss: 1.5973e-05 - root_mean_squared_error: 0.0040 - val_loss: 4.3224e-06 - val_root_mean_squared_error: 0.0021\n",
            "Epoch 35/75\n",
            "625/625 [==============================] - 4s 6ms/step - loss: 1.2646e-05 - root_mean_squared_error: 0.0036 - val_loss: 1.7360e-05 - val_root_mean_squared_error: 0.0042\n",
            "Epoch 36/75\n",
            "625/625 [==============================] - 3s 5ms/step - loss: 1.7940e-05 - root_mean_squared_error: 0.0042 - val_loss: 3.0568e-06 - val_root_mean_squared_error: 0.0017\n",
            "Epoch 37/75\n",
            "625/625 [==============================] - 4s 6ms/step - loss: 2.8761e-05 - root_mean_squared_error: 0.0054 - val_loss: 3.4149e-05 - val_root_mean_squared_error: 0.0058\n",
            "Epoch 38/75\n",
            "625/625 [==============================] - 4s 7ms/step - loss: 1.0925e-05 - root_mean_squared_error: 0.0033 - val_loss: 5.9483e-06 - val_root_mean_squared_error: 0.0024\n",
            "Epoch 39/75\n",
            "625/625 [==============================] - 4s 6ms/step - loss: 2.6836e-05 - root_mean_squared_error: 0.0052 - val_loss: 4.0143e-05 - val_root_mean_squared_error: 0.0063\n",
            "Epoch 40/75\n",
            "625/625 [==============================] - 4s 6ms/step - loss: 1.5099e-05 - root_mean_squared_error: 0.0039 - val_loss: 5.7704e-06 - val_root_mean_squared_error: 0.0024\n",
            "Epoch 41/75\n",
            "625/625 [==============================] - 3s 5ms/step - loss: 3.2232e-05 - root_mean_squared_error: 0.0057 - val_loss: 3.9456e-06 - val_root_mean_squared_error: 0.0020\n",
            "Epoch 42/75\n",
            "625/625 [==============================] - 4s 6ms/step - loss: 2.0569e-05 - root_mean_squared_error: 0.0045 - val_loss: 2.3092e-05 - val_root_mean_squared_error: 0.0048\n",
            "Epoch 43/75\n",
            "625/625 [==============================] - 4s 6ms/step - loss: 1.4138e-05 - root_mean_squared_error: 0.0038 - val_loss: 3.5886e-06 - val_root_mean_squared_error: 0.0019\n",
            "Epoch 44/75\n",
            "625/625 [==============================] - 4s 6ms/step - loss: 1.5009e-05 - root_mean_squared_error: 0.0039 - val_loss: 4.2952e-05 - val_root_mean_squared_error: 0.0066\n",
            "Epoch 45/75\n",
            "625/625 [==============================] - 4s 6ms/step - loss: 1.7334e-05 - root_mean_squared_error: 0.0042 - val_loss: 2.1810e-05 - val_root_mean_squared_error: 0.0047\n",
            "Epoch 46/75\n",
            "625/625 [==============================] - 3s 5ms/step - loss: 1.7679e-05 - root_mean_squared_error: 0.0042 - val_loss: 2.4527e-05 - val_root_mean_squared_error: 0.0050\n",
            "Epoch 47/75\n",
            "625/625 [==============================] - 4s 6ms/step - loss: 1.3344e-05 - root_mean_squared_error: 0.0037 - val_loss: 8.9694e-06 - val_root_mean_squared_error: 0.0030\n",
            "Epoch 48/75\n",
            "625/625 [==============================] - 4s 6ms/step - loss: 1.8008e-05 - root_mean_squared_error: 0.0042 - val_loss: 5.7821e-05 - val_root_mean_squared_error: 0.0076\n",
            "Epoch 49/75\n",
            "625/625 [==============================] - 3s 5ms/step - loss: 1.8153e-05 - root_mean_squared_error: 0.0043 - val_loss: 8.2918e-06 - val_root_mean_squared_error: 0.0029\n",
            "Epoch 50/75\n",
            "625/625 [==============================] - 3s 5ms/step - loss: 4.4979e-05 - root_mean_squared_error: 0.0067 - val_loss: 3.3072e-06 - val_root_mean_squared_error: 0.0018\n",
            "Epoch 51/75\n",
            "625/625 [==============================] - 4s 6ms/step - loss: 1.2588e-05 - root_mean_squared_error: 0.0035 - val_loss: 3.1721e-06 - val_root_mean_squared_error: 0.0018\n",
            "Epoch 52/75\n",
            "625/625 [==============================] - 3s 5ms/step - loss: 1.0190e-05 - root_mean_squared_error: 0.0032 - val_loss: 5.1049e-06 - val_root_mean_squared_error: 0.0023\n",
            "Epoch 53/75\n",
            "625/625 [==============================] - 4s 6ms/step - loss: 1.6644e-05 - root_mean_squared_error: 0.0041 - val_loss: 3.3558e-05 - val_root_mean_squared_error: 0.0058\n",
            "Epoch 54/75\n",
            "625/625 [==============================] - 4s 6ms/step - loss: 2.0192e-05 - root_mean_squared_error: 0.0045 - val_loss: 1.2619e-05 - val_root_mean_squared_error: 0.0036\n",
            "Epoch 55/75\n",
            "625/625 [==============================] - 4s 6ms/step - loss: 1.5464e-05 - root_mean_squared_error: 0.0039 - val_loss: 9.5737e-06 - val_root_mean_squared_error: 0.0031\n",
            "Epoch 56/75\n",
            "625/625 [==============================] - 3s 5ms/step - loss: 1.7103e-05 - root_mean_squared_error: 0.0041 - val_loss: 1.0860e-05 - val_root_mean_squared_error: 0.0033\n",
            "Epoch 57/75\n",
            "625/625 [==============================] - 4s 6ms/step - loss: 1.0800e-05 - root_mean_squared_error: 0.0033 - val_loss: 2.1364e-05 - val_root_mean_squared_error: 0.0046\n",
            "Epoch 58/75\n",
            "625/625 [==============================] - 5s 7ms/step - loss: 2.3012e-05 - root_mean_squared_error: 0.0048 - val_loss: 4.0224e-06 - val_root_mean_squared_error: 0.0020\n",
            "Epoch 59/75\n",
            "625/625 [==============================] - 4s 6ms/step - loss: 1.3623e-05 - root_mean_squared_error: 0.0037 - val_loss: 6.2608e-06 - val_root_mean_squared_error: 0.0025\n",
            "Epoch 60/75\n",
            "625/625 [==============================] - 3s 5ms/step - loss: 1.4124e-05 - root_mean_squared_error: 0.0038 - val_loss: 4.6407e-06 - val_root_mean_squared_error: 0.0022\n",
            "Epoch 61/75\n",
            "625/625 [==============================] - 5s 8ms/step - loss: 1.9794e-05 - root_mean_squared_error: 0.0044 - val_loss: 4.1198e-06 - val_root_mean_squared_error: 0.0020\n",
            "Epoch 62/75\n",
            "625/625 [==============================] - 4s 6ms/step - loss: 1.6564e-05 - root_mean_squared_error: 0.0041 - val_loss: 2.2299e-05 - val_root_mean_squared_error: 0.0047\n",
            "Epoch 63/75\n",
            "625/625 [==============================] - 3s 5ms/step - loss: 1.6540e-05 - root_mean_squared_error: 0.0041 - val_loss: 1.2770e-05 - val_root_mean_squared_error: 0.0036\n",
            "Epoch 64/75\n",
            "625/625 [==============================] - 4s 7ms/step - loss: 1.8182e-05 - root_mean_squared_error: 0.0043 - val_loss: 4.2801e-06 - val_root_mean_squared_error: 0.0021\n",
            "Epoch 65/75\n",
            "625/625 [==============================] - 4s 6ms/step - loss: 8.6169e-06 - root_mean_squared_error: 0.0029 - val_loss: 5.1841e-06 - val_root_mean_squared_error: 0.0023\n",
            "Epoch 66/75\n",
            "625/625 [==============================] - 3s 5ms/step - loss: 1.6502e-05 - root_mean_squared_error: 0.0041 - val_loss: 2.1904e-05 - val_root_mean_squared_error: 0.0047\n",
            "Epoch 67/75\n",
            "625/625 [==============================] - 5s 7ms/step - loss: 1.9666e-05 - root_mean_squared_error: 0.0044 - val_loss: 2.9515e-05 - val_root_mean_squared_error: 0.0054\n",
            "Epoch 68/75\n",
            "625/625 [==============================] - 5s 7ms/step - loss: 1.0056e-05 - root_mean_squared_error: 0.0032 - val_loss: 2.8806e-06 - val_root_mean_squared_error: 0.0017\n",
            "Epoch 69/75\n",
            "625/625 [==============================] - 4s 6ms/step - loss: 1.8044e-05 - root_mean_squared_error: 0.0042 - val_loss: 1.4530e-04 - val_root_mean_squared_error: 0.0121\n",
            "Epoch 70/75\n",
            "625/625 [==============================] - 4s 6ms/step - loss: 3.3795e-05 - root_mean_squared_error: 0.0058 - val_loss: 8.2342e-06 - val_root_mean_squared_error: 0.0029\n",
            "Epoch 71/75\n",
            "625/625 [==============================] - 3s 5ms/step - loss: 7.7913e-06 - root_mean_squared_error: 0.0028 - val_loss: 1.1996e-05 - val_root_mean_squared_error: 0.0035\n",
            "Epoch 72/75\n",
            "625/625 [==============================] - 4s 6ms/step - loss: 1.8299e-05 - root_mean_squared_error: 0.0043 - val_loss: 4.6477e-05 - val_root_mean_squared_error: 0.0068\n",
            "Epoch 73/75\n",
            "625/625 [==============================] - 3s 5ms/step - loss: 3.9939e-05 - root_mean_squared_error: 0.0063 - val_loss: 1.0541e-05 - val_root_mean_squared_error: 0.0032\n",
            "Epoch 74/75\n",
            "625/625 [==============================] - 4s 6ms/step - loss: 7.7414e-06 - root_mean_squared_error: 0.0028 - val_loss: 1.0219e-05 - val_root_mean_squared_error: 0.0032\n",
            "Epoch 75/75\n",
            "625/625 [==============================] - 4s 6ms/step - loss: 8.7338e-06 - root_mean_squared_error: 0.0030 - val_loss: 7.6485e-06 - val_root_mean_squared_error: 0.0028\n"
          ]
        }
      ],
      "source": [
        "history = model.fit(X_train, y_train,\n",
        "                    batch_size=32,                # Training of Model along with Validation data\n",
        "                    epochs=75,\n",
        "                    validation_data=(X_valid, y_valid))"
      ]
    },
    {
      "cell_type": "code",
      "execution_count": null,
      "metadata": {
        "id": "sqyA-7xnL7pf",
        "outputId": "63535752-94b8-4c46-f91c-a9add83dc0f6",
        "colab": {
          "base_uri": "https://localhost:8080/",
          "height": 282
        }
      },
      "outputs": [
        {
          "output_type": "display_data",
          "data": {
            "text/plain": [
              "<Figure size 432x288 with 1 Axes>"
            ],
            "image/png": "[encoded data removed]"
          },
          "metadata": {}
        }
      ],
      "source": [
        "plot_history(['root_mean_squared_error', 'val_root_mean_squared_error'])   "
      ]
    },
    {
      "cell_type": "code",
      "execution_count": null,
      "metadata": {
        "id": "bT-rIqaFL7pf",
        "outputId": "da9d7753-baec-487a-a111-2ff5e71cf966",
        "colab": {
          "base_uri": "https://localhost:8080/"
        }
      },
      "outputs": [
        {
          "output_type": "stream",
          "name": "stdout",
          "text": [
            "the R2 score for training set of the adam model case 3 is : 0.9997561307327238\n"
          ]
        }
      ],
      "source": [
        "from sklearn.metrics import r2_score\n",
        "r2_score_training_set_for_adam_model_case_3= r2_score(y_train, y_train_predicted)\n",
        "print(\"the R2 score for training set of the adam model case 3 is :\", r2_score_training_set_for_adam_model_case_3)"
      ]
    },
    {
      "cell_type": "code",
      "execution_count": null,
      "metadata": {
        "id": "MqE9bVyUL7pf",
        "outputId": "6287353e-efa9-4d36-b7cc-49c95c061250",
        "colab": {
          "base_uri": "https://localhost:8080/"
        }
      },
      "outputs": [
        {
          "output_type": "stream",
          "name": "stdout",
          "text": [
            "the r2 score for testing set of adam model case 3 is: 0.9997556081204099\n"
          ]
        }
      ],
      "source": [
        "r2_score_testing_set_adam_model_case_3= r2_score(y_test, y_test_predicted)\n",
        "print(\"the r2 score for testing set of adam model case 3 is:\", r2_score_testing_set_adam_model_case_3)"
      ]
    },
    {
      "cell_type": "markdown",
      "metadata": {
        "id": "4QqvjkVmXfPJ"
      },
      "source": [
        "# RMSprop Model Case 3"
      ]
    },
    {
      "cell_type": "code",
      "execution_count": null,
      "metadata": {
        "id": "2atvNZmfXfPJ"
      },
      "outputs": [],
      "source": [
        "from tensorflow import keras    \n",
        "\n",
        "def create_nn():     #function of NN model creation\n",
        "    # Input layer\n",
        "    inputs = keras.Input(shape=(X.shape[1],), name='input')      # Since n= 4,  in input layer shape= 4--->X.shape[1]\n",
        "\n",
        "    # Dense layers                                              # hidden layers\n",
        "    layers_dense = keras.layers.Dense(64, 'linear')(inputs)          # here 20(nodes) --->units    # Activation_function -->sigmoid\n",
        "    layers_dense = keras.layers.Dense(128, 'sigmoid')(layers_dense)\n",
        "    layers_dense = keras.layers.Dense(128, 'relu')(layers_dense)\n",
        "    layers_dense = keras.layers.Dense(128, 'sigmoid')(layers_dense)\n",
        "    layers_dense = keras.layers.Dense(1, 'linear')(layers_dense)\n",
        "    # here 50(nodes) --->units    # Activation_function---->linear\n",
        "\n",
        "    # Output layer\n",
        "    outputs = keras.layers.Dense(1)(layers_dense)              # only one node for output layer\n",
        "\n",
        "    return keras.Model(inputs=inputs, outputs=outputs, name=\"Prediction\")\n",
        "\n",
        "model = create_nn()"
      ]
    },
    {
      "cell_type": "code",
      "execution_count": null,
      "metadata": {
        "outputId": "658e5cf2-45b4-44c7-9253-50f219fd1046",
        "colab": {
          "base_uri": "https://localhost:8080/"
        },
        "id": "05ZklSRVXfPJ"
      },
      "outputs": [
        {
          "output_type": "stream",
          "name": "stdout",
          "text": [
            "Model: \"Prediction\"\n",
            "_________________________________________________________________\n",
            " Layer (type)                Output Shape              Param #   \n",
            "=================================================================\n",
            " input (InputLayer)          [(None, 4)]               0         \n",
            "                                                                 \n",
            " dense_6 (Dense)             (None, 64)                320       \n",
            "                                                                 \n",
            " dense_7 (Dense)             (None, 128)               8320      \n",
            "                                                                 \n",
            " dense_8 (Dense)             (None, 128)               16512     \n",
            "                                                                 \n",
            " dense_9 (Dense)             (None, 128)               16512     \n",
            "                                                                 \n",
            " dense_10 (Dense)            (None, 1)                 129       \n",
            "                                                                 \n",
            " dense_11 (Dense)            (None, 1)                 2         \n",
            "                                                                 \n",
            "=================================================================\n",
            "Total params: 41,795\n",
            "Trainable params: 41,795\n",
            "Non-trainable params: 0\n",
            "_________________________________________________________________\n"
          ]
        }
      ],
      "source": [
        "model.summary()      # return the summary of all layers of model"
      ]
    },
    {
      "cell_type": "code",
      "execution_count": null,
      "metadata": {
        "id": "AlKBcYzEXfPJ"
      },
      "outputs": [],
      "source": [
        "def compile_model(model):\n",
        "    model.compile(optimizer='RMSprop',\n",
        "                  loss='mse',      #mse---> mean square error\n",
        "                  metrics=[keras.metrics.RootMeanSquaredError()])\n",
        "compile_model(model)"
      ]
    },
    {
      "cell_type": "code",
      "execution_count": null,
      "metadata": {
        "outputId": "c9549412-c0e3-4979-c616-e890b8d712b7",
        "colab": {
          "base_uri": "https://localhost:8080/"
        },
        "id": "GxzUaK8gXfPJ"
      },
      "outputs": [
        {
          "output_type": "stream",
          "name": "stdout",
          "text": [
            "Epoch 1/75\n",
            "625/625 [==============================] - 3s 4ms/step - loss: 0.0356 - root_mean_squared_error: 0.1887\n",
            "Epoch 2/75\n",
            "625/625 [==============================] - 2s 3ms/step - loss: 0.0066 - root_mean_squared_error: 0.0812\n",
            "Epoch 3/75\n",
            "625/625 [==============================] - 2s 2ms/step - loss: 0.0041 - root_mean_squared_error: 0.0637\n",
            "Epoch 4/75\n",
            "625/625 [==============================] - 2s 2ms/step - loss: 0.0035 - root_mean_squared_error: 0.0589\n",
            "Epoch 5/75\n",
            "625/625 [==============================] - 2s 3ms/step - loss: 0.0031 - root_mean_squared_error: 0.0558\n",
            "Epoch 6/75\n",
            "625/625 [==============================] - 3s 4ms/step - loss: 0.0029 - root_mean_squared_error: 0.0536\n",
            "Epoch 7/75\n",
            "625/625 [==============================] - 5s 8ms/step - loss: 0.0026 - root_mean_squared_error: 0.0514\n",
            "Epoch 8/75\n",
            "625/625 [==============================] - 4s 7ms/step - loss: 0.0025 - root_mean_squared_error: 0.0496\n",
            "Epoch 9/75\n",
            "625/625 [==============================] - 2s 2ms/step - loss: 0.0023 - root_mean_squared_error: 0.0477\n",
            "Epoch 10/75\n",
            "625/625 [==============================] - 2s 2ms/step - loss: 0.0022 - root_mean_squared_error: 0.0464\n",
            "Epoch 11/75\n",
            "625/625 [==============================] - 2s 3ms/step - loss: 0.0020 - root_mean_squared_error: 0.0452\n",
            "Epoch 12/75\n",
            "625/625 [==============================] - 2s 2ms/step - loss: 0.0019 - root_mean_squared_error: 0.0434\n",
            "Epoch 13/75\n",
            "625/625 [==============================] - 2s 3ms/step - loss: 0.0017 - root_mean_squared_error: 0.0418\n",
            "Epoch 14/75\n",
            "625/625 [==============================] - 3s 4ms/step - loss: 0.0016 - root_mean_squared_error: 0.0404\n",
            "Epoch 15/75\n",
            "625/625 [==============================] - 2s 4ms/step - loss: 0.0016 - root_mean_squared_error: 0.0396\n",
            "Epoch 16/75\n",
            "625/625 [==============================] - 2s 3ms/step - loss: 0.0014 - root_mean_squared_error: 0.0379\n",
            "Epoch 17/75\n",
            "625/625 [==============================] - 2s 3ms/step - loss: 0.0014 - root_mean_squared_error: 0.0369\n",
            "Epoch 18/75\n",
            "625/625 [==============================] - 2s 2ms/step - loss: 0.0013 - root_mean_squared_error: 0.0362\n",
            "Epoch 19/75\n",
            "625/625 [==============================] - 2s 3ms/step - loss: 0.0012 - root_mean_squared_error: 0.0353\n",
            "Epoch 20/75\n",
            "625/625 [==============================] - 2s 3ms/step - loss: 0.0012 - root_mean_squared_error: 0.0343\n",
            "Epoch 21/75\n",
            "625/625 [==============================] - 3s 4ms/step - loss: 0.0011 - root_mean_squared_error: 0.0333\n",
            "Epoch 22/75\n",
            "625/625 [==============================] - 2s 3ms/step - loss: 0.0010 - root_mean_squared_error: 0.0323\n",
            "Epoch 23/75\n",
            "625/625 [==============================] - 2s 3ms/step - loss: 0.0010 - root_mean_squared_error: 0.0319\n",
            "Epoch 24/75\n",
            "625/625 [==============================] - 2s 2ms/step - loss: 9.5968e-04 - root_mean_squared_error: 0.0310\n",
            "Epoch 25/75\n",
            "625/625 [==============================] - 1s 2ms/step - loss: 9.2444e-04 - root_mean_squared_error: 0.0304\n",
            "Epoch 26/75\n",
            "625/625 [==============================] - 2s 2ms/step - loss: 8.6096e-04 - root_mean_squared_error: 0.0293\n",
            "Epoch 27/75\n",
            "625/625 [==============================] - 2s 2ms/step - loss: 8.4147e-04 - root_mean_squared_error: 0.0290\n",
            "Epoch 28/75\n",
            "625/625 [==============================] - 2s 3ms/step - loss: 7.9736e-04 - root_mean_squared_error: 0.0282\n",
            "Epoch 29/75\n",
            "625/625 [==============================] - 2s 4ms/step - loss: 7.7013e-04 - root_mean_squared_error: 0.0278\n",
            "Epoch 30/75\n",
            "625/625 [==============================] - 1s 2ms/step - loss: 7.3479e-04 - root_mean_squared_error: 0.0271\n",
            "Epoch 31/75\n",
            "625/625 [==============================] - 2s 2ms/step - loss: 7.0826e-04 - root_mean_squared_error: 0.0266\n",
            "Epoch 32/75\n",
            "625/625 [==============================] - 2s 3ms/step - loss: 6.7234e-04 - root_mean_squared_error: 0.0259\n",
            "Epoch 33/75\n",
            "625/625 [==============================] - 2s 2ms/step - loss: 6.4793e-04 - root_mean_squared_error: 0.0255\n",
            "Epoch 34/75\n",
            "625/625 [==============================] - 1s 2ms/step - loss: 6.2373e-04 - root_mean_squared_error: 0.0250\n",
            "Epoch 35/75\n",
            "625/625 [==============================] - 2s 2ms/step - loss: 6.1369e-04 - root_mean_squared_error: 0.0248\n",
            "Epoch 36/75\n",
            "625/625 [==============================] - 2s 4ms/step - loss: 5.8127e-04 - root_mean_squared_error: 0.0241\n",
            "Epoch 37/75\n",
            "625/625 [==============================] - 2s 3ms/step - loss: 5.7000e-04 - root_mean_squared_error: 0.0239\n",
            "Epoch 38/75\n",
            "625/625 [==============================] - 2s 2ms/step - loss: 5.4835e-04 - root_mean_squared_error: 0.0234\n",
            "Epoch 39/75\n",
            "625/625 [==============================] - 2s 2ms/step - loss: 5.1602e-04 - root_mean_squared_error: 0.0227\n",
            "Epoch 40/75\n",
            "625/625 [==============================] - 2s 3ms/step - loss: 5.1117e-04 - root_mean_squared_error: 0.0226\n",
            "Epoch 41/75\n",
            "625/625 [==============================] - 2s 2ms/step - loss: 4.8959e-04 - root_mean_squared_error: 0.0221\n",
            "Epoch 42/75\n",
            "625/625 [==============================] - 2s 2ms/step - loss: 4.8167e-04 - root_mean_squared_error: 0.0219\n",
            "Epoch 43/75\n",
            "625/625 [==============================] - 2s 3ms/step - loss: 4.5449e-04 - root_mean_squared_error: 0.0213\n",
            "Epoch 44/75\n",
            "625/625 [==============================] - 2s 4ms/step - loss: 4.3994e-04 - root_mean_squared_error: 0.0210\n",
            "Epoch 45/75\n",
            "625/625 [==============================] - 2s 2ms/step - loss: 4.3513e-04 - root_mean_squared_error: 0.0209\n",
            "Epoch 46/75\n",
            "625/625 [==============================] - 1s 2ms/step - loss: 4.1500e-04 - root_mean_squared_error: 0.0204\n",
            "Epoch 47/75\n",
            "625/625 [==============================] - 2s 2ms/step - loss: 4.0704e-04 - root_mean_squared_error: 0.0202\n",
            "Epoch 48/75\n",
            "625/625 [==============================] - 1s 2ms/step - loss: 3.8967e-04 - root_mean_squared_error: 0.0197\n",
            "Epoch 49/75\n",
            "625/625 [==============================] - 2s 3ms/step - loss: 3.8932e-04 - root_mean_squared_error: 0.0197\n",
            "Epoch 50/75\n",
            "625/625 [==============================] - 2s 3ms/step - loss: 3.6850e-04 - root_mean_squared_error: 0.0192\n",
            "Epoch 51/75\n",
            "625/625 [==============================] - 2s 4ms/step - loss: 3.6472e-04 - root_mean_squared_error: 0.0191\n",
            "Epoch 52/75\n",
            "625/625 [==============================] - 2s 3ms/step - loss: 3.4951e-04 - root_mean_squared_error: 0.0187\n",
            "Epoch 53/75\n",
            "625/625 [==============================] - 2s 2ms/step - loss: 3.4561e-04 - root_mean_squared_error: 0.0186\n",
            "Epoch 54/75\n",
            "625/625 [==============================] - 2s 3ms/step - loss: 3.3922e-04 - root_mean_squared_error: 0.0184\n",
            "Epoch 55/75\n",
            "625/625 [==============================] - 2s 3ms/step - loss: 3.2528e-04 - root_mean_squared_error: 0.0180\n",
            "Epoch 56/75\n",
            "625/625 [==============================] - 2s 3ms/step - loss: 3.2518e-04 - root_mean_squared_error: 0.0180\n",
            "Epoch 57/75\n",
            "625/625 [==============================] - 2s 3ms/step - loss: 3.1165e-04 - root_mean_squared_error: 0.0177\n",
            "Epoch 58/75\n",
            "625/625 [==============================] - 2s 3ms/step - loss: 3.1142e-04 - root_mean_squared_error: 0.0176\n",
            "Epoch 59/75\n",
            "625/625 [==============================] - 2s 4ms/step - loss: 2.9743e-04 - root_mean_squared_error: 0.0172\n",
            "Epoch 60/75\n",
            "625/625 [==============================] - 2s 3ms/step - loss: 2.9621e-04 - root_mean_squared_error: 0.0172\n",
            "Epoch 61/75\n",
            "625/625 [==============================] - 2s 3ms/step - loss: 2.8858e-04 - root_mean_squared_error: 0.0170\n",
            "Epoch 62/75\n",
            "625/625 [==============================] - 2s 3ms/step - loss: 2.8597e-04 - root_mean_squared_error: 0.0169\n",
            "Epoch 63/75\n",
            "625/625 [==============================] - 2s 3ms/step - loss: 2.8392e-04 - root_mean_squared_error: 0.0168\n",
            "Epoch 64/75\n",
            "625/625 [==============================] - 2s 4ms/step - loss: 2.7158e-04 - root_mean_squared_error: 0.0165\n",
            "Epoch 65/75\n",
            "625/625 [==============================] - 3s 4ms/step - loss: 2.7311e-04 - root_mean_squared_error: 0.0165\n",
            "Epoch 66/75\n",
            "625/625 [==============================] - 2s 3ms/step - loss: 2.6624e-04 - root_mean_squared_error: 0.0163\n",
            "Epoch 67/75\n",
            "625/625 [==============================] - 2s 3ms/step - loss: 2.6143e-04 - root_mean_squared_error: 0.0162\n",
            "Epoch 68/75\n",
            "625/625 [==============================] - 2s 3ms/step - loss: 2.5878e-04 - root_mean_squared_error: 0.0161\n",
            "Epoch 69/75\n",
            "625/625 [==============================] - 2s 3ms/step - loss: 2.5690e-04 - root_mean_squared_error: 0.0160\n",
            "Epoch 70/75\n",
            "625/625 [==============================] - 2s 3ms/step - loss: 2.5054e-04 - root_mean_squared_error: 0.0158\n",
            "Epoch 71/75\n",
            "625/625 [==============================] - 2s 3ms/step - loss: 2.4539e-04 - root_mean_squared_error: 0.0157\n",
            "Epoch 72/75\n",
            "625/625 [==============================] - 3s 4ms/step - loss: 2.4112e-04 - root_mean_squared_error: 0.0155\n",
            "Epoch 73/75\n",
            "625/625 [==============================] - 2s 4ms/step - loss: 2.4434e-04 - root_mean_squared_error: 0.0156\n",
            "Epoch 74/75\n",
            "625/625 [==============================] - 2s 3ms/step - loss: 2.3259e-04 - root_mean_squared_error: 0.0153\n",
            "Epoch 75/75\n",
            "625/625 [==============================] - 2s 3ms/step - loss: 2.3589e-04 - root_mean_squared_error: 0.0154\n"
          ]
        }
      ],
      "source": [
        "history = model.fit(X_train, y_train, batch_size=32, epochs=75)    # epochs--->iteration"
      ]
    },
    {
      "cell_type": "code",
      "execution_count": null,
      "metadata": {
        "outputId": "4e166f38-3b2e-42f3-bd2d-babf3bd8677e",
        "colab": {
          "base_uri": "https://localhost:8080/",
          "height": 282
        },
        "id": "q9o2Y8mMXfPK"
      },
      "outputs": [
        {
          "output_type": "display_data",
          "data": {
            "text/plain": [
              "<Figure size 432x288 with 1 Axes>"
            ],
            "image/png": "[encoded data removed]"
          },
          "metadata": {}
        }
      ],
      "source": [
        "def plot_history(metrics):\n",
        "    history_df = pd.DataFrame.from_dict(history.history)\n",
        "    sns.lineplot(data=history_df[metrics], color= \"r\")\n",
        "    plt.xlabel(\"epochs\")\n",
        "    plt.ylabel(\"RMSE\")\n",
        "plot_history('root_mean_squared_error')"
      ]
    },
    {
      "cell_type": "code",
      "execution_count": null,
      "metadata": {
        "outputId": "ecbb0582-9cc8-4fc0-8262-1fc50ccee602",
        "colab": {
          "base_uri": "https://localhost:8080/"
        },
        "id": "CqEjB6wlXfPK"
      },
      "outputs": [
        {
          "output_type": "stream",
          "name": "stdout",
          "text": [
            "625/625 [==============================] - 1s 2ms/step\n",
            "1250/1250 [==============================] - 2s 2ms/step\n"
          ]
        }
      ],
      "source": [
        "y_train_predicted = model.predict(X_train)     # y_train predicted\n",
        "y_test_predicted = model.predict(X_test)      #  y_test_predicted"
      ]
    },
    {
      "cell_type": "code",
      "execution_count": null,
      "metadata": {
        "outputId": "ed2d23ce-853f-48cd-869c-888a0725e04c",
        "colab": {
          "base_uri": "https://localhost:8080/"
        },
        "id": "rwBDAsz0XfPK"
      },
      "outputs": [
        {
          "output_type": "stream",
          "name": "stdout",
          "text": [
            "The r2 score of training set for RMSprop model case 3 is: 0.9989618274285231\n"
          ]
        }
      ],
      "source": [
        "from sklearn.metrics import r2_score\n",
        "r2_score_train_set_RMSprop_model_case_3= r2_score(y_train, y_train_predicted)\n",
        "print(\"The r2 score of training set for RMSprop model case 3 is:\", r2_score_train_set_RMSprop_model_case_3)"
      ]
    },
    {
      "cell_type": "code",
      "execution_count": null,
      "metadata": {
        "outputId": "570114e1-eec1-464b-c872-7cf93f15cefa",
        "colab": {
          "base_uri": "https://localhost:8080/"
        },
        "id": "5Qi2pSB4XfPK"
      },
      "outputs": [
        {
          "output_type": "stream",
          "name": "stdout",
          "text": [
            "The r2 score of testing set for RMSprop model case 3 is: 0.9989618274285231\n"
          ]
        }
      ],
      "source": [
        "r2_score_testing_set_RMSprop_model_case_3= r2_score(y_test, y_test_predicted)\n",
        "print(\"The r2 score of testing set for RMSprop model case 3 is:\", r2_score_train_set_RMSprop_model_case_3)"
      ]
    },
    {
      "cell_type": "code",
      "execution_count": null,
      "metadata": {
        "outputId": "721e7beb-5e7f-4397-ff1c-2cfab541bdbc",
        "colab": {
          "base_uri": "https://localhost:8080/",
          "height": 299
        },
        "id": "V4vepSJ-XfPK"
      },
      "outputs": [
        {
          "output_type": "display_data",
          "data": {
            "text/plain": [
              "<Figure size 432x288 with 1 Axes>"
            ],
            "image/png": "[encoded data removed]"
          },
          "metadata": {}
        }
      ],
      "source": [
        "def plot_predictions(y_pred, y_true, title):\n",
        "    plt.style.use('ggplot') \n",
        "    plt.scatter(y_pred, y_true, s=10, alpha=0.5)\n",
        "    plt.xlabel(\"Y_predicted\")\n",
        "    plt.ylabel(\"Y_train\")                          # sactter plot for Y_train_predicted and True_Y_train\n",
        "    plt.title(title)\n",
        "\n",
        "plot_predictions(y_train_predicted, y_train, title='Predictions on the training set')"
      ]
    },
    {
      "cell_type": "code",
      "execution_count": null,
      "metadata": {
        "outputId": "6752d7d4-627a-4991-c740-58ecbe3fe10c",
        "colab": {
          "base_uri": "https://localhost:8080/",
          "height": 299
        },
        "id": "5zNiHQftXfPK"
      },
      "outputs": [
        {
          "output_type": "display_data",
          "data": {
            "text/plain": [
              "<Figure size 432x288 with 1 Axes>"
            ],
            "image/png": "[encoded data removed]"
          },
          "metadata": {}
        }
      ],
      "source": [
        "plot_predictions(y_test_predicted, y_test, title='Predictions on the test set')    # Plot between Y_test_predicted and True_Y_test_predicted"
      ]
    },
    {
      "cell_type": "code",
      "execution_count": null,
      "metadata": {
        "outputId": "3fcc3653-74aa-47be-ad4f-2b4b65281213",
        "colab": {
          "base_uri": "https://localhost:8080/"
        },
        "id": "NKUi4JpvXfPL"
      },
      "outputs": [
        {
          "output_type": "stream",
          "name": "stdout",
          "text": [
            "625/625 [==============================] - 1s 2ms/step - loss: 8.3880e-05 - root_mean_squared_error: 0.0092\n",
            "1250/1250 [==============================] - 2s 2ms/step - loss: 8.5645e-05 - root_mean_squared_error: 0.0093\n",
            "Train RMSE: 0.01, Test RMSE: 0.01\n"
          ]
        }
      ],
      "source": [
        "train_metrics = model.evaluate(X_train, y_train, return_dict=True)\n",
        "test_metrics = model.evaluate(X_test, y_test, return_dict=True)\n",
        "print('Train RMSE: {:.2f}, Test RMSE: {:.2f}'.format(train_metrics['root_mean_squared_error'], test_metrics['root_mean_squared_error']))"
      ]
    },
    {
      "cell_type": "code",
      "execution_count": null,
      "metadata": {
        "outputId": "0353789a-5117-4586-f516-ee15aee2b5f4",
        "colab": {
          "base_uri": "https://localhost:8080/"
        },
        "id": "C2v8BbjsXfPL"
      },
      "outputs": [
        {
          "output_type": "stream",
          "name": "stdout",
          "text": [
            "Epoch 1/75\n",
            "625/625 [==============================] - 5s 8ms/step - loss: 2.2910e-04 - root_mean_squared_error: 0.0151 - val_loss: 4.7592e-04 - val_root_mean_squared_error: 0.0218\n",
            "Epoch 2/75\n",
            "625/625 [==============================] - 5s 8ms/step - loss: 2.2575e-04 - root_mean_squared_error: 0.0150 - val_loss: 8.0221e-05 - val_root_mean_squared_error: 0.0090\n",
            "Epoch 3/75\n",
            "625/625 [==============================] - 6s 9ms/step - loss: 2.2415e-04 - root_mean_squared_error: 0.0150 - val_loss: 4.6224e-05 - val_root_mean_squared_error: 0.0068\n",
            "Epoch 4/75\n",
            "625/625 [==============================] - 5s 7ms/step - loss: 2.1975e-04 - root_mean_squared_error: 0.0148 - val_loss: 3.0520e-05 - val_root_mean_squared_error: 0.0055\n",
            "Epoch 5/75\n",
            "625/625 [==============================] - 7s 12ms/step - loss: 2.1057e-04 - root_mean_squared_error: 0.0145 - val_loss: 3.2975e-04 - val_root_mean_squared_error: 0.0182\n",
            "Epoch 6/75\n",
            "625/625 [==============================] - 7s 12ms/step - loss: 2.1299e-04 - root_mean_squared_error: 0.0146 - val_loss: 3.5004e-04 - val_root_mean_squared_error: 0.0187\n",
            "Epoch 7/75\n",
            "625/625 [==============================] - 5s 8ms/step - loss: 2.1229e-04 - root_mean_squared_error: 0.0146 - val_loss: 1.4150e-04 - val_root_mean_squared_error: 0.0119\n",
            "Epoch 8/75\n",
            "625/625 [==============================] - 5s 7ms/step - loss: 2.1219e-04 - root_mean_squared_error: 0.0146 - val_loss: 6.0129e-05 - val_root_mean_squared_error: 0.0078\n",
            "Epoch 9/75\n",
            "625/625 [==============================] - 7s 11ms/step - loss: 2.0533e-04 - root_mean_squared_error: 0.0143 - val_loss: 8.8775e-05 - val_root_mean_squared_error: 0.0094\n",
            "Epoch 10/75\n",
            "625/625 [==============================] - 4s 7ms/step - loss: 2.0793e-04 - root_mean_squared_error: 0.0144 - val_loss: 1.6450e-04 - val_root_mean_squared_error: 0.0128\n",
            "Epoch 11/75\n",
            "625/625 [==============================] - 3s 6ms/step - loss: 2.0116e-04 - root_mean_squared_error: 0.0142 - val_loss: 3.3884e-05 - val_root_mean_squared_error: 0.0058\n",
            "Epoch 12/75\n",
            "625/625 [==============================] - 5s 9ms/step - loss: 1.9878e-04 - root_mean_squared_error: 0.0141 - val_loss: 2.1607e-04 - val_root_mean_squared_error: 0.0147\n",
            "Epoch 13/75\n",
            "625/625 [==============================] - 4s 7ms/step - loss: 2.0072e-04 - root_mean_squared_error: 0.0142 - val_loss: 2.8738e-05 - val_root_mean_squared_error: 0.0054\n",
            "Epoch 14/75\n",
            "625/625 [==============================] - 7s 11ms/step - loss: 1.9281e-04 - root_mean_squared_error: 0.0139 - val_loss: 7.4377e-05 - val_root_mean_squared_error: 0.0086\n",
            "Epoch 15/75\n",
            "625/625 [==============================] - 4s 7ms/step - loss: 1.9521e-04 - root_mean_squared_error: 0.0140 - val_loss: 2.4739e-04 - val_root_mean_squared_error: 0.0157\n",
            "Epoch 16/75\n",
            "625/625 [==============================] - 4s 7ms/step - loss: 1.9403e-04 - root_mean_squared_error: 0.0139 - val_loss: 2.8390e-04 - val_root_mean_squared_error: 0.0168\n",
            "Epoch 17/75\n",
            "625/625 [==============================] - 5s 8ms/step - loss: 1.9141e-04 - root_mean_squared_error: 0.0138 - val_loss: 1.8057e-04 - val_root_mean_squared_error: 0.0134\n",
            "Epoch 18/75\n",
            "625/625 [==============================] - 4s 7ms/step - loss: 1.8712e-04 - root_mean_squared_error: 0.0137 - val_loss: 4.5116e-04 - val_root_mean_squared_error: 0.0212\n",
            "Epoch 19/75\n",
            "625/625 [==============================] - 5s 9ms/step - loss: 1.8872e-04 - root_mean_squared_error: 0.0137 - val_loss: 1.7954e-04 - val_root_mean_squared_error: 0.0134\n",
            "Epoch 20/75\n",
            "625/625 [==============================] - 4s 6ms/step - loss: 1.8512e-04 - root_mean_squared_error: 0.0136 - val_loss: 2.6901e-04 - val_root_mean_squared_error: 0.0164\n",
            "Epoch 21/75\n",
            "625/625 [==============================] - 4s 7ms/step - loss: 1.8598e-04 - root_mean_squared_error: 0.0136 - val_loss: 2.5490e-05 - val_root_mean_squared_error: 0.0050\n",
            "Epoch 22/75\n",
            "625/625 [==============================] - 4s 7ms/step - loss: 1.8231e-04 - root_mean_squared_error: 0.0135 - val_loss: 1.4270e-04 - val_root_mean_squared_error: 0.0119\n",
            "Epoch 23/75\n",
            "625/625 [==============================] - 5s 8ms/step - loss: 1.8347e-04 - root_mean_squared_error: 0.0135 - val_loss: 9.0134e-04 - val_root_mean_squared_error: 0.0300\n",
            "Epoch 24/75\n",
            "625/625 [==============================] - 3s 5ms/step - loss: 1.8211e-04 - root_mean_squared_error: 0.0135 - val_loss: 2.2661e-04 - val_root_mean_squared_error: 0.0151\n",
            "Epoch 25/75\n",
            "625/625 [==============================] - 4s 7ms/step - loss: 1.7791e-04 - root_mean_squared_error: 0.0133 - val_loss: 3.1597e-05 - val_root_mean_squared_error: 0.0056\n",
            "Epoch 26/75\n",
            "625/625 [==============================] - 5s 8ms/step - loss: 1.8043e-04 - root_mean_squared_error: 0.0134 - val_loss: 6.0259e-05 - val_root_mean_squared_error: 0.0078\n",
            "Epoch 27/75\n",
            "625/625 [==============================] - 4s 7ms/step - loss: 1.7542e-04 - root_mean_squared_error: 0.0132 - val_loss: 9.4672e-05 - val_root_mean_squared_error: 0.0097\n",
            "Epoch 28/75\n",
            "625/625 [==============================] - 7s 11ms/step - loss: 1.7593e-04 - root_mean_squared_error: 0.0133 - val_loss: 1.2167e-04 - val_root_mean_squared_error: 0.0110\n",
            "Epoch 29/75\n",
            "625/625 [==============================] - 3s 6ms/step - loss: 1.7412e-04 - root_mean_squared_error: 0.0132 - val_loss: 1.1909e-04 - val_root_mean_squared_error: 0.0109\n",
            "Epoch 30/75\n",
            "625/625 [==============================] - 4s 6ms/step - loss: 1.6977e-04 - root_mean_squared_error: 0.0130 - val_loss: 4.3365e-05 - val_root_mean_squared_error: 0.0066\n",
            "Epoch 31/75\n",
            "625/625 [==============================] - 5s 7ms/step - loss: 1.7410e-04 - root_mean_squared_error: 0.0132 - val_loss: 2.9025e-05 - val_root_mean_squared_error: 0.0054\n",
            "Epoch 32/75\n",
            "625/625 [==============================] - 4s 7ms/step - loss: 1.7016e-04 - root_mean_squared_error: 0.0130 - val_loss: 8.0124e-05 - val_root_mean_squared_error: 0.0090\n",
            "Epoch 33/75\n",
            "625/625 [==============================] - 5s 7ms/step - loss: 1.7071e-04 - root_mean_squared_error: 0.0131 - val_loss: 1.7779e-04 - val_root_mean_squared_error: 0.0133\n",
            "Epoch 34/75\n",
            "625/625 [==============================] - 5s 8ms/step - loss: 1.6705e-04 - root_mean_squared_error: 0.0129 - val_loss: 7.4644e-04 - val_root_mean_squared_error: 0.0273\n",
            "Epoch 35/75\n",
            "625/625 [==============================] - 4s 7ms/step - loss: 1.6932e-04 - root_mean_squared_error: 0.0130 - val_loss: 3.3644e-05 - val_root_mean_squared_error: 0.0058\n",
            "Epoch 36/75\n",
            "625/625 [==============================] - 7s 11ms/step - loss: 1.6474e-04 - root_mean_squared_error: 0.0128 - val_loss: 2.8285e-05 - val_root_mean_squared_error: 0.0053\n",
            "Epoch 37/75\n",
            "625/625 [==============================] - 4s 7ms/step - loss: 1.6343e-04 - root_mean_squared_error: 0.0128 - val_loss: 5.5105e-05 - val_root_mean_squared_error: 0.0074\n",
            "Epoch 38/75\n",
            "625/625 [==============================] - 4s 6ms/step - loss: 1.6379e-04 - root_mean_squared_error: 0.0128 - val_loss: 5.9851e-05 - val_root_mean_squared_error: 0.0077\n",
            "Epoch 39/75\n",
            "625/625 [==============================] - 4s 7ms/step - loss: 1.5861e-04 - root_mean_squared_error: 0.0126 - val_loss: 4.2685e-04 - val_root_mean_squared_error: 0.0207\n",
            "Epoch 40/75\n",
            "625/625 [==============================] - 5s 7ms/step - loss: 1.6085e-04 - root_mean_squared_error: 0.0127 - val_loss: 1.5551e-04 - val_root_mean_squared_error: 0.0125\n",
            "Epoch 41/75\n",
            "625/625 [==============================] - 4s 7ms/step - loss: 1.5942e-04 - root_mean_squared_error: 0.0126 - val_loss: 3.5932e-04 - val_root_mean_squared_error: 0.0190\n",
            "Epoch 42/75\n",
            "625/625 [==============================] - 5s 8ms/step - loss: 1.5904e-04 - root_mean_squared_error: 0.0126 - val_loss: 3.9669e-05 - val_root_mean_squared_error: 0.0063\n",
            "Epoch 43/75\n",
            "625/625 [==============================] - 4s 7ms/step - loss: 1.5673e-04 - root_mean_squared_error: 0.0125 - val_loss: 3.9109e-05 - val_root_mean_squared_error: 0.0063\n",
            "Epoch 44/75\n",
            "625/625 [==============================] - 7s 11ms/step - loss: 1.5706e-04 - root_mean_squared_error: 0.0125 - val_loss: 2.5085e-04 - val_root_mean_squared_error: 0.0158\n",
            "Epoch 45/75\n",
            "625/625 [==============================] - 4s 7ms/step - loss: 1.5480e-04 - root_mean_squared_error: 0.0124 - val_loss: 2.1406e-04 - val_root_mean_squared_error: 0.0146\n",
            "Epoch 46/75\n",
            "625/625 [==============================] - 4s 6ms/step - loss: 1.5280e-04 - root_mean_squared_error: 0.0124 - val_loss: 6.9054e-05 - val_root_mean_squared_error: 0.0083\n",
            "Epoch 47/75\n",
            "625/625 [==============================] - 5s 8ms/step - loss: 1.5308e-04 - root_mean_squared_error: 0.0124 - val_loss: 3.4503e-05 - val_root_mean_squared_error: 0.0059\n",
            "Epoch 48/75\n",
            "625/625 [==============================] - 4s 7ms/step - loss: 1.5302e-04 - root_mean_squared_error: 0.0124 - val_loss: 1.1525e-04 - val_root_mean_squared_error: 0.0107\n",
            "Epoch 49/75\n",
            "625/625 [==============================] - 4s 7ms/step - loss: 1.4888e-04 - root_mean_squared_error: 0.0122 - val_loss: 1.6274e-04 - val_root_mean_squared_error: 0.0128\n",
            "Epoch 50/75\n",
            "625/625 [==============================] - 5s 7ms/step - loss: 1.5009e-04 - root_mean_squared_error: 0.0123 - val_loss: 1.0412e-04 - val_root_mean_squared_error: 0.0102\n",
            "Epoch 51/75\n",
            "625/625 [==============================] - 4s 6ms/step - loss: 1.4572e-04 - root_mean_squared_error: 0.0121 - val_loss: 2.7978e-04 - val_root_mean_squared_error: 0.0167\n",
            "Epoch 52/75\n",
            "625/625 [==============================] - 7s 11ms/step - loss: 1.4467e-04 - root_mean_squared_error: 0.0120 - val_loss: 1.3846e-04 - val_root_mean_squared_error: 0.0118\n",
            "Epoch 53/75\n",
            "625/625 [==============================] - 4s 7ms/step - loss: 1.4643e-04 - root_mean_squared_error: 0.0121 - val_loss: 1.2465e-04 - val_root_mean_squared_error: 0.0112\n",
            "Epoch 54/75\n",
            "625/625 [==============================] - 4s 7ms/step - loss: 1.4321e-04 - root_mean_squared_error: 0.0120 - val_loss: 4.1570e-05 - val_root_mean_squared_error: 0.0064\n",
            "Epoch 55/75\n",
            "625/625 [==============================] - 4s 7ms/step - loss: 1.4172e-04 - root_mean_squared_error: 0.0119 - val_loss: 2.0080e-05 - val_root_mean_squared_error: 0.0045\n",
            "Epoch 56/75\n",
            "625/625 [==============================] - 4s 7ms/step - loss: 1.4414e-04 - root_mean_squared_error: 0.0120 - val_loss: 2.6424e-05 - val_root_mean_squared_error: 0.0051\n",
            "Epoch 57/75\n",
            "625/625 [==============================] - 4s 7ms/step - loss: 1.3967e-04 - root_mean_squared_error: 0.0118 - val_loss: 1.9426e-05 - val_root_mean_squared_error: 0.0044\n",
            "Epoch 58/75\n",
            "625/625 [==============================] - 5s 7ms/step - loss: 1.3979e-04 - root_mean_squared_error: 0.0118 - val_loss: 3.8780e-05 - val_root_mean_squared_error: 0.0062\n",
            "Epoch 59/75\n",
            "625/625 [==============================] - 3s 5ms/step - loss: 1.3614e-04 - root_mean_squared_error: 0.0117 - val_loss: 1.1971e-04 - val_root_mean_squared_error: 0.0109\n",
            "Epoch 60/75\n",
            "625/625 [==============================] - 4s 7ms/step - loss: 1.3354e-04 - root_mean_squared_error: 0.0116 - val_loss: 3.1473e-04 - val_root_mean_squared_error: 0.0177\n",
            "Epoch 61/75\n",
            "625/625 [==============================] - 5s 8ms/step - loss: 1.3468e-04 - root_mean_squared_error: 0.0116 - val_loss: 2.3755e-05 - val_root_mean_squared_error: 0.0049\n",
            "Epoch 62/75\n",
            "625/625 [==============================] - 4s 7ms/step - loss: 1.3410e-04 - root_mean_squared_error: 0.0116 - val_loss: 7.8695e-05 - val_root_mean_squared_error: 0.0089\n",
            "Epoch 63/75\n",
            "625/625 [==============================] - 7s 11ms/step - loss: 1.3401e-04 - root_mean_squared_error: 0.0116 - val_loss: 1.3883e-04 - val_root_mean_squared_error: 0.0118\n",
            "Epoch 64/75\n",
            "625/625 [==============================] - 8s 12ms/step - loss: 1.2976e-04 - root_mean_squared_error: 0.0114 - val_loss: 6.9704e-05 - val_root_mean_squared_error: 0.0083\n",
            "Epoch 65/75\n",
            "625/625 [==============================] - 7s 11ms/step - loss: 1.2911e-04 - root_mean_squared_error: 0.0114 - val_loss: 4.9768e-04 - val_root_mean_squared_error: 0.0223\n",
            "Epoch 66/75\n",
            "625/625 [==============================] - 4s 6ms/step - loss: 1.3043e-04 - root_mean_squared_error: 0.0114 - val_loss: 4.7668e-05 - val_root_mean_squared_error: 0.0069\n",
            "Epoch 67/75\n",
            "625/625 [==============================] - 3s 6ms/step - loss: 1.2733e-04 - root_mean_squared_error: 0.0113 - val_loss: 3.9085e-05 - val_root_mean_squared_error: 0.0063\n",
            "Epoch 68/75\n",
            "625/625 [==============================] - 5s 8ms/step - loss: 1.2601e-04 - root_mean_squared_error: 0.0112 - val_loss: 1.5618e-04 - val_root_mean_squared_error: 0.0125\n",
            "Epoch 69/75\n",
            "625/625 [==============================] - 3s 6ms/step - loss: 1.2588e-04 - root_mean_squared_error: 0.0112 - val_loss: 1.1105e-04 - val_root_mean_squared_error: 0.0105\n",
            "Epoch 70/75\n",
            "625/625 [==============================] - 3s 5ms/step - loss: 1.2423e-04 - root_mean_squared_error: 0.0111 - val_loss: 6.9408e-05 - val_root_mean_squared_error: 0.0083\n",
            "Epoch 71/75\n",
            "625/625 [==============================] - 5s 8ms/step - loss: 1.2431e-04 - root_mean_squared_error: 0.0111 - val_loss: 1.0610e-04 - val_root_mean_squared_error: 0.0103\n",
            "Epoch 72/75\n",
            "625/625 [==============================] - 4s 6ms/step - loss: 1.2204e-04 - root_mean_squared_error: 0.0110 - val_loss: 7.5064e-05 - val_root_mean_squared_error: 0.0087\n",
            "Epoch 73/75\n",
            "625/625 [==============================] - 4s 7ms/step - loss: 1.2047e-04 - root_mean_squared_error: 0.0110 - val_loss: 9.5307e-05 - val_root_mean_squared_error: 0.0098\n",
            "Epoch 74/75\n",
            "625/625 [==============================] - 5s 7ms/step - loss: 1.1608e-04 - root_mean_squared_error: 0.0108 - val_loss: 3.0770e-05 - val_root_mean_squared_error: 0.0055\n",
            "Epoch 75/75\n",
            "625/625 [==============================] - 3s 5ms/step - loss: 1.2115e-04 - root_mean_squared_error: 0.0110 - val_loss: 8.9248e-05 - val_root_mean_squared_error: 0.0094\n"
          ]
        }
      ],
      "source": [
        "history = model.fit(X_train, y_train,\n",
        "                    batch_size=32,                # Training of Model along with Validation data\n",
        "                    epochs=75,\n",
        "                    validation_data=(X_valid, y_valid))"
      ]
    },
    {
      "cell_type": "code",
      "execution_count": null,
      "metadata": {
        "outputId": "823f3346-b361-4c07-c1ef-bce2ac0f9256",
        "colab": {
          "base_uri": "https://localhost:8080/",
          "height": 282
        },
        "id": "RX271K-NXfPL"
      },
      "outputs": [
        {
          "output_type": "display_data",
          "data": {
            "text/plain": [
              "<Figure size 432x288 with 1 Axes>"
            ],
            "image/png": "[encoded data removed]"
          },
          "metadata": {}
        }
      ],
      "source": [
        "plot_history(['root_mean_squared_error', 'val_root_mean_squared_error'])   "
      ]
    },
    {
      "cell_type": "code",
      "source": [],
      "metadata": {
        "id": "X5lD2By_9JAU"
      },
      "execution_count": null,
      "outputs": []
    }
  ]
}